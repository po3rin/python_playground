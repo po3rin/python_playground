{
 "cells": [
  {
   "cell_type": "code",
   "execution_count": 1,
   "source": [
    "import numpy as np\n",
    "from matplotlib import pyplot as plt\n",
    "import pymc3 as pm\n",
    "\n",
    "plt.style.use('grayscale')\n",
    "plt.style.use('seaborn-whitegrid')\n",
    "np.random.seed(0)"
   ],
   "outputs": [
    {
     "output_type": "stream",
     "name": "stderr",
     "text": [
      "/Users/hiromu.nakamura/.pyenv/versions/3.9.0/lib/python3.9/site-packages/pandas/compat/__init__.py:124: UserWarning: Could not import the lzma module. Your installed Python is incomplete. Attempting to use lzma compression will result in a RuntimeError.\n",
      "  warnings.warn(msg)\n"
     ]
    }
   ],
   "metadata": {}
  },
  {
   "cell_type": "code",
   "execution_count": 2,
   "source": [
    "n_arms = 4\n",
    "\n",
    "class Env(object):\n",
    "  thetas = [0.1, 0.1, 0.2, 0.3]\n",
    "\n",
    "  def react(arm):\n",
    "    return 1 if np.random.random() < Env.thetas[arm] else 0\n",
    "\n",
    "  def opt():\n",
    "    return np.argmax(Env.thetas)"
   ],
   "outputs": [],
   "metadata": {}
  },
  {
   "cell_type": "code",
   "execution_count": 3,
   "source": [
    "class OracleAgent(object):\n",
    "  def __init__(self):\n",
    "    self.arm = Env.opt()\n",
    "\n",
    "  def get_arm(self):\n",
    "    return self.arm\n",
    "\n",
    "  def sample(self, arm, reward):\n",
    "    pass"
   ],
   "outputs": [],
   "metadata": {}
  },
  {
   "cell_type": "code",
   "execution_count": 4,
   "source": [
    "def sim(Agent, N=1000, T=1000, **kwargs):\n",
    "  selected_arms = [[0 for _ in range(T)] for _ in range(N)]\n",
    "  earned_rewards = [[0 for _ in range(T)] for _ in range(N)]\n",
    "\n",
    "  for n in range(N):\n",
    "    agent = Agent(**kwargs)\n",
    "    for t in range(T):\n",
    "      arm = agent.get_arm()\n",
    "      reward = Env.react(arm)\n",
    "      agent.sample(arm, reward)\n",
    "      selected_arms[n][t] = arm\n",
    "      earned_rewards[n][t] = reward\n",
    "  return np.array(selected_arms), np.array(earned_rewards)"
   ],
   "outputs": [],
   "metadata": {}
  },
  {
   "cell_type": "code",
   "execution_count": 5,
   "source": [
    "class UCBAgent(object):\n",
    "\n",
    "  def __init__(self):\n",
    "    self.counts = [0 for _ in range(n_arms)]\n",
    "    self.values = [0 for _ in range(n_arms)]\n",
    "\n",
    "  def calc_ucb(self, arm):\n",
    "    ucb = self.values[arm]\n",
    "    ucb += np.sqrt(np.log(sum(self.counts)) / (2 * self.counts[arm]))\n",
    "    return ucb\n",
    "\n",
    "  def get_arm(self):\n",
    "    if 0 in self.counts:\n",
    "      arm = self.counts.index(0)\n",
    "    else:\n",
    "      ucb = [self.calc_ucb(arm) for arm in range(n_arms)]\n",
    "      arm = ucb.index(max(ucb))\n",
    "    return arm\n",
    "\n",
    "  def sample(self, arm, reward):\n",
    "    self.counts[arm] = self.counts[arm] + 1\n",
    "    self.values[arm] = (\n",
    "        (self.counts[arm] - 1) * self.values[arm] + reward\n",
    "        ) / self.counts[arm]"
   ],
   "outputs": [],
   "metadata": {}
  },
  {
   "cell_type": "code",
   "execution_count": 6,
   "source": [
    "arms_ucb, rewards_ucb = sim(UCBAgent)\n",
    "\n",
    "plt.plot(np.mean(arms_ucb == Env.opt(), axis=0), label='UCB')\n",
    "# plt.plot(np.mean(arms_ts == Env.opt(), axis=0),\n",
    "#           label='Thompson Sampling')\n",
    "plt.xlabel(r'$t$')\n",
    "plt.ylabel(r'$\\mathbb{E}[x(t) = x^*]$')\n",
    "plt.legend()\n",
    "plt.show()"
   ],
   "outputs": [
    {
     "output_type": "stream",
     "name": "stderr",
     "text": [
      "Matplotlib is building the font cache; this may take a moment.\n"
     ]
    },
    {
     "output_type": "display_data",
     "data": {
      "image/png": "[encoded data removed]",
      "text/plain": [
       "<Figure size 432x288 with 1 Axes>"
      ]
     },
     "metadata": {}
    }
   ],
   "metadata": {}
  }
 ],
 "metadata": {
  "orig_nbformat": 4,
  "language_info": {
   "name": "python",
   "version": "3.9.0",
   "mimetype": "text/x-python",
   "codemirror_mode": {
    "name": "ipython",
    "version": 3
   },
   "pygments_lexer": "ipython3",
   "nbconvert_exporter": "python",
   "file_extension": ".py"
  },
  "kernelspec": {
   "name": "python3",
   "display_name": "Python 3.9.0 64-bit ('3.9.0': pyenv)"
  },
  "interpreter": {
   "hash": "40b74fe4b278afccf8b2d6ce54a01944ba7d1e96e76649ff315d52430c807b2e"
  }
 },
 "nbformat": 4,
 "nbformat_minor": 2
}