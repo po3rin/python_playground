{
 "cells": [
  {
   "cell_type": "code",
   "execution_count": 1,
   "source": [
    "import numpy as np\n",
    "from matplotlib import pyplot as plt\n",
    "import pymc3 as pm\n",
    "\n",
    "plt.style.use('grayscale')\n",
    "plt.style.use('seaborn-whitegrid')\n",
    "np.random.seed(0)"
   ],
   "outputs": [
    {
     "output_type": "stream",
     "name": "stderr",
     "text": [
      "/Users/hiromu.nakamura/.pyenv/versions/3.9.0/lib/python3.9/site-packages/pandas/compat/__init__.py:124: UserWarning: Could not import the lzma module. Your installed Python is incomplete. Attempting to use lzma compression will result in a RuntimeError.\n",
      "  warnings.warn(msg)\n"
     ]
    }
   ],
   "metadata": {}
  },
  {
   "cell_type": "code",
   "execution_count": 2,
   "source": [
    "arms = [[0, 0], [0, 1], [1, 0], [1, 1]]"
   ],
   "outputs": [],
   "metadata": {}
  },
  {
   "cell_type": "code",
   "execution_count": 3,
   "source": [
    "class Env(object):\n",
    "  def p(arm):\n",
    "    x = arm[0] * 0.2 + arm[1] * 0.8 - 4\n",
    "    p = 1 / (1 + np.exp(-x))\n",
    "    return p\n",
    "\n",
    "  def react(arm):\n",
    "    return 1 if np.random.random() < Env.p(arm) else 0\n",
    "\n",
    "  def opt():\n",
    "    return np.argmax([Env.p(arm) for arm in arms])"
   ],
   "outputs": [],
   "metadata": {}
  },
  {
   "cell_type": "code",
   "execution_count": 4,
   "source": [
    "class OracleAgent(object):\n",
    "  def __init__(self):\n",
    "    self.arm = Env.opt()\n",
    "\n",
    "  def get_arm(self):\n",
    "    return self.arm\n",
    "\n",
    "  def sample(self, arm, reward):\n",
    "    pass"
   ],
   "outputs": [],
   "metadata": {}
  },
  {
   "cell_type": "code",
   "execution_count": 5,
   "source": [
    "class LinUCBAgent(object):\n",
    "  def __init__(self):\n",
    "    self.phis = np.array([[arm[0], arm[1], 1] for arm in arms]).T\n",
    "    self.alpha = 1\n",
    "    self.sigma = 1\n",
    "    self.A = np.identity(self.phis.shape[0])\n",
    "    self.b = np.zeros((self.phis.shape[0], 1))\n",
    "\n",
    "  def get_arm(self):\n",
    "    inv_A = np.linalg.inv(self.A)\n",
    "    mu = inv_A.dot(self.b)\n",
    "    S = inv_A\n",
    "    pred_mean = self.phis.T.dot(mu)\n",
    "    pred_var = self.phis.T.dot(S).dot(self.phis)\n",
    "    ucb = pred_mean.T + self.alpha * np.sqrt(np.diag(pred_var))\n",
    "    return np.argmax(ucb)\n",
    "\n",
    "  def sample(self, arm_index, reward):\n",
    "    phi = self.phis[:, [arm_index]]\n",
    "    self.b = self.b + phi * reward / (self.sigma ** 2)\n",
    "    self.A = self.A + phi.dot(phi.T) / (self.sigma ** 2)"
   ],
   "outputs": [],
   "metadata": {}
  }
 ],
 "metadata": {
  "orig_nbformat": 4,
  "language_info": {
   "name": "python",
   "version": "3.9.0",
   "mimetype": "text/x-python",
   "codemirror_mode": {
    "name": "ipython",
    "version": 3
   },
   "pygments_lexer": "ipython3",
   "nbconvert_exporter": "python",
   "file_extension": ".py"
  },
  "kernelspec": {
   "name": "python3",
   "display_name": "Python 3.9.0 64-bit ('3.9.0': pyenv)"
  },
  "interpreter": {
   "hash": "40b74fe4b278afccf8b2d6ce54a01944ba7d1e96e76649ff315d52430c807b2e"
  }
 },
 "nbformat": 4,
 "nbformat_minor": 2
}