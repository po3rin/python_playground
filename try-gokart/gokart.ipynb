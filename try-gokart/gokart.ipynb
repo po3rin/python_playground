{
 "cells": [
  {
   "cell_type": "code",
   "execution_count": 11,
   "source": [
    "import gokart\n",
    "import pandas as pd\n",
    "\n",
    "\n",
    "class TaskA(gokart.TaskOnKart):\n",
    "\tdef run(self):\n",
    "\t\tdf = pd.DataFrame([\n",
    "\t\t\tdict(id=111, title='aaa', content='111'),\n",
    "\t\t])\n",
    "\t\tself.dump(df)\n",
    "\n",
    "\n",
    "class TaskB(gokart.TaskOnKart):\n",
    "\tdef run(self):\n",
    "\t\tdf = pd.DataFrame([\n",
    "\t\t\tdict(id=222, title='bbb', content='222'),\n",
    "\t\t])\n",
    "\t\tself.dump(df)\n",
    "\n",
    "class TaskC(gokart.TaskOnKart):\n",
    "    task_list = gokart.ListTaskInstanceParameter()\n",
    "\n",
    "    def run(self):\n",
    "        df = self.load_data_frame('task_list')\n",
    "        self.dump(df)\n",
    "\n",
    "\n",
    "task = TaskC(task_list=[TaskA(), TaskB()])\n",
    "gokart.build(task)"
   ],
   "outputs": [
    {
     "output_type": "execute_result",
     "data": {
      "text/html": [
       "<div>\n",
       "<style scoped>\n",
       "    .dataframe tbody tr th:only-of-type {\n",
       "        vertical-align: middle;\n",
       "    }\n",
       "\n",
       "    .dataframe tbody tr th {\n",
       "        vertical-align: top;\n",
       "    }\n",
       "\n",
       "    .dataframe thead th {\n",
       "        text-align: right;\n",
       "    }\n",
       "</style>\n",
       "<table border=\"1\" class=\"dataframe\">\n",
       "  <thead>\n",
       "    <tr style=\"text-align: right;\">\n",
       "      <th></th>\n",
       "      <th>id</th>\n",
       "      <th>title</th>\n",
       "      <th>content</th>\n",
       "    </tr>\n",
       "  </thead>\n",
       "  <tbody>\n",
       "    <tr>\n",
       "      <th>0</th>\n",
       "      <td>111</td>\n",
       "      <td>aaa</td>\n",
       "      <td>111</td>\n",
       "    </tr>\n",
       "    <tr>\n",
       "      <th>0</th>\n",
       "      <td>222</td>\n",
       "      <td>bbb</td>\n",
       "      <td>222</td>\n",
       "    </tr>\n",
       "  </tbody>\n",
       "</table>\n",
       "</div>"
      ],
      "text/plain": [
       "    id title content\n",
       "0  111   aaa     111\n",
       "0  222   bbb     222"
      ]
     },
     "metadata": {},
     "execution_count": 11
    }
   ],
   "metadata": {}
  }
 ],
 "metadata": {
  "orig_nbformat": 4,
  "language_info": {
   "name": "python",
   "version": "3.9.0",
   "mimetype": "text/x-python",
   "codemirror_mode": {
    "name": "ipython",
    "version": 3
   },
   "pygments_lexer": "ipython3",
   "nbconvert_exporter": "python",
   "file_extension": ".py"
  },
  "kernelspec": {
   "name": "python3",
   "display_name": "Python 3.9.0 64-bit ('.venv': poetry)"
  },
  "interpreter": {
   "hash": "cc05f330fd211886cdb8b68fa6c8b24b37de2aa55e4fb20d8f171d24fd3b0ad4"
  }
 },
 "nbformat": 4,
 "nbformat_minor": 2
}