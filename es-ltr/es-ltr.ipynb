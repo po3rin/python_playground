{
 "cells": [
  {
   "cell_type": "code",
   "execution_count": null,
   "source": [
    "import requests\n",
    "from os import path\n",
    "from es_client import ElasticClient\n",
    "# import ltr\n",
    "# import ltr.client as client\n",
    "# import ltr.index as index\n",
    "# import ltr.helpers.movies as helpers"
   ],
   "outputs": [],
   "metadata": {}
  },
  {
   "cell_type": "code",
   "execution_count": null,
   "source": [
    "def download_one(uri, dest='data/', force=False):\n",
    "    import os\n",
    "\n",
    "    if not os.path.exists(dest):\n",
    "        os.makedirs(dest)\n",
    "\n",
    "    if not os.path.isdir(dest):\n",
    "        raise ValueError(\"dest {} is not a directory\".format(dest))\n",
    "\n",
    "    filename = uri[uri.rfind('/') + 1:]\n",
    "    filepath = os.path.join(dest, filename)\n",
    "    if path.exists(filepath):\n",
    "        if not force:\n",
    "            print(filepath + ' already exists')\n",
    "            return\n",
    "        print(\"exists but force=True, Downloading anyway\")\n",
    "\n",
    "    with open(filepath, 'wb') as out:\n",
    "        print('GET {}'.format(uri))\n",
    "        resp = requests.get(uri, stream=True)\n",
    "        for chunk in resp.iter_content(chunk_size=1024):\n",
    "            if chunk:\n",
    "                out.write(chunk)\n",
    "\n",
    "def download(uris, dest='data/', force=False):\n",
    "    for uri in uris:\n",
    "        download_one(uri=uri, dest=dest, force=force)"
   ],
   "outputs": [],
   "metadata": {}
  },
  {
   "cell_type": "code",
   "execution_count": null,
   "source": [
    "corpus = 'http://es-learn-to-rank.labs.o19s.com/tmdb.json'\n",
    "download([corpus], dest='data/')"
   ],
   "outputs": [],
   "metadata": {}
  },
  {
   "cell_type": "code",
   "execution_count": null,
   "source": [
    "client = ElasticClient()"
   ],
   "outputs": [],
   "metadata": {}
  },
  {
   "cell_type": "code",
   "execution_count": null,
   "source": [
    "import json\n",
    "from tqdm import tqdm\n",
    "\n",
    "class Memoize:\n",
    "    \"\"\" Adapted from\n",
    "        https://stackoverflow.com/questions/1988804/what-is-memoization-and-how-can-i-use-it-in-python\"\"\"\n",
    "    def __init__(self, f):\n",
    "        self.f = f\n",
    "        self.memo = {}\n",
    "    def __call__(self, *args):\n",
    "        if not args in self.memo:\n",
    "            self.memo[args] = self.f(*args)\n",
    "        #Warning: You may wish to do a deepcopy here if returning objects\n",
    "        return self.memo[args]\n",
    "\n",
    "@Memoize\n",
    "def load_movies(json_path):\n",
    "    return json.load(open(json_path))\n",
    "\n",
    "def get_movie(tmdb_id, movies='data/tmdb.json'):\n",
    "    movies = load_movies(movies)\n",
    "    tmdb_id=str(tmdb_id)\n",
    "    return movies[tmdb_id]\n",
    "\n",
    "def noop(src_movie, base_doc):\n",
    "    return base_doc\n",
    "\n",
    "\n",
    "def indexable_movies(enrich=noop, movies='data/tmdb.json'):\n",
    "    \"\"\" Generates TMDB movies, similar to how ES Bulk indexing\n",
    "    uses a generator to generate bulk index/update actions\"\"\"\n",
    "    movies = load_movies(movies)\n",
    "    idx = 0\n",
    "    for movieId, tmdbMovie in tqdm(movies.items(),total=len(movies)):\n",
    "        try:\n",
    "            releaseDate = None\n",
    "            if 'release_date' in tmdbMovie and len(tmdbMovie['release_date']) > 0:\n",
    "                releaseDate = tmdbMovie['release_date']\n",
    "                releaseYear = releaseDate[0:4]\n",
    "\n",
    "            full_poster_path = ''\n",
    "            if 'poster_path' in tmdbMovie and tmdbMovie['poster_path'] is not None and len(tmdbMovie['poster_path']) > 0:\n",
    "                full_poster_path = 'https://image.tmdb.org/t/p/w185' + tmdbMovie['poster_path']\n",
    "\n",
    "            base_doc = {'id': movieId,\n",
    "                        'title': tmdbMovie['title'],\n",
    "                        'overview': tmdbMovie['overview'],\n",
    "                        'tagline': tmdbMovie['tagline'],\n",
    "                        'directors': [director['name'] for director in tmdbMovie['directors']],\n",
    "                        'cast': \" \".join([castMember['name'] for castMember in tmdbMovie['cast']]),\n",
    "                        'genres': [genre['name'] for genre in tmdbMovie['genres']],\n",
    "                        'release_date': releaseDate,\n",
    "                        'release_year': releaseYear,\n",
    "                        'poster_path': full_poster_path,\n",
    "                        'vote_average': float(tmdbMovie['vote_average']) if 'vote_average' in tmdbMovie else None,\n",
    "                        'vote_count': int(tmdbMovie['vote_count']) if 'vote_count' in tmdbMovie else 0,\n",
    "                      }\n",
    "            yield enrich(tmdbMovie, base_doc)\n",
    "            idx += 1\n",
    "        except KeyError as k: # Ignore any movies missing these attributes\n",
    "            continue"
   ],
   "outputs": [],
   "metadata": {}
  },
  {
   "cell_type": "code",
   "execution_count": null,
   "source": [
    "def rebuild(client, index, doc_src, force = False):\n",
    "    \"\"\" Reload a configuration on disk for each search engine\n",
    "        (Solr a configset, Elasticsearch a json file)\n",
    "        and reindex\n",
    "    \"\"\"\n",
    "\n",
    "    if client.check_index_exists(index):\n",
    "        if (force):\n",
    "            client.delete_index(index)\n",
    "            client.create_index(index)\n",
    "            client.index_documents(index, doc_src=doc_src)\n",
    "        else:\n",
    "            print(\"Index {} already exists. Use `force = True` to delete and recreate\".format(index))\n",
    "            return None\n",
    "    else:\n",
    "        client.create_index(index)\n",
    "        client.index_documents(index, doc_src=doc_src)"
   ],
   "outputs": [],
   "metadata": {}
  },
  {
   "cell_type": "code",
   "execution_count": null,
   "source": [
    "movies = indexable_movies(movies='data/tmdb.json')\n",
    "rebuild(client, index='tmdb', doc_src=movies)"
   ],
   "outputs": [],
   "metadata": {}
  }
 ],
 "metadata": {
  "orig_nbformat": 4,
  "language_info": {
   "name": "python"
  }
 },
 "nbformat": 4,
 "nbformat_minor": 2
}