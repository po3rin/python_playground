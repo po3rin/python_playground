{
 "cells": [
  {
   "cell_type": "code",
   "execution_count": 1,
   "source": [
    "import gokart\n",
    "\n",
    "from util.data_loader import MovieLens\n",
    "from util.metric_calculator import MetricCalculator"
   ],
   "outputs": [],
   "metadata": {}
  },
  {
   "cell_type": "code",
   "execution_count": 2,
   "source": [
    "movielens = gokart.build(MovieLens())"
   ],
   "outputs": [],
   "metadata": {}
  },
  {
   "cell_type": "code",
   "execution_count": 3,
   "source": [
    "# # ランダムレコメンド\n",
    "# from src.random import RandomRecommender\n",
    "\n",
    "# recommender = RandomRecommender()\n",
    "# recommend_result = recommender.recommend(movielens)"
   ],
   "outputs": [],
   "metadata": {}
  },
  {
   "cell_type": "code",
   "execution_count": 4,
   "source": [
    "# # most popular\n",
    "# from src.popular_recommender import PopularityRecommender\n",
    "\n",
    "# recommender = PopularityRecommender()\n",
    "# recommend_result = recommender.recommend(movielens)"
   ],
   "outputs": [],
   "metadata": {}
  },
  {
   "cell_type": "code",
   "execution_count": 5,
   "source": [
    "# # association\n",
    "\n",
    "# from src.association_recommender import AssociationRecommender\n",
    "# recommender = AssociationRecommender()\n",
    "# recommend_result = recommender.recommend(movielens)"
   ],
   "outputs": [],
   "metadata": {}
  },
  {
   "cell_type": "code",
   "execution_count": 6,
   "source": [
    "# # imf\n",
    "\n",
    "# from src.imf import IMFRecommender\n",
    "# recommender = IMFRecommender()\n",
    "# recommend_result = recommender.recommend(movielens)"
   ],
   "outputs": [],
   "metadata": {}
  },
  {
   "cell_type": "code",
   "execution_count": 7,
   "source": [
    "# bpr\n",
    "\n",
    "from src.bpr import BPRRecommender\n",
    "recommender = BPRRecommender()\n",
    "recommend_result = recommender.recommend(movielens)"
   ],
   "outputs": [
    {
     "output_type": "stream",
     "name": "stderr",
     "text": [
      "/Users/hiromu.nakamura/ghq/github.com/po3rin/python_playground/.venv/lib/python3.9/site-packages/tqdm/auto.py:22: TqdmWarning: IProgress not found. Please update jupyter and ipywidgets. See https://ipywidgets.readthedocs.io/en/stable/user_install.html\n",
      "  from .autonotebook import tqdm as notebook_tqdm\n",
      "100%|██████████| 50/50 [00:00<00:00, 62.49it/s, train_auc=83.01%, skipped=17.19%]\n",
      "100%|██████████| 997/997 [00:00<00:00, 27230.95it/s]\n"
     ]
    }
   ],
   "metadata": {}
  },
  {
   "cell_type": "code",
   "execution_count": 8,
   "source": [
    "#  評価\n",
    "metric_calculator = MetricCalculator()\n",
    "metrics = metric_calculator.calc(\n",
    "    movielens.test.rating.tolist(), recommend_result.rating.tolist(),\n",
    "    movielens.test_user2items, recommend_result.user2items, k=10)\n",
    "print(metrics)"
   ],
   "outputs": [
    {
     "output_type": "stream",
     "name": "stdout",
     "text": [
      "rmse=0.000, Precision@K=0.024, Recall@K=0.072\n"
     ]
    }
   ],
   "metadata": {}
  }
 ],
 "metadata": {
  "orig_nbformat": 4,
  "language_info": {
   "name": "python",
   "version": "3.9.0",
   "mimetype": "text/x-python",
   "codemirror_mode": {
    "name": "ipython",
    "version": 3
   },
   "pygments_lexer": "ipython3",
   "nbconvert_exporter": "python",
   "file_extension": ".py"
  },
  "kernelspec": {
   "name": "python3",
   "display_name": "Python 3.9.0 64-bit ('.venv': poetry)"
  },
  "interpreter": {
   "hash": "cc05f330fd211886cdb8b68fa6c8b24b37de2aa55e4fb20d8f171d24fd3b0ad4"
  }
 },
 "nbformat": 4,
 "nbformat_minor": 2
}