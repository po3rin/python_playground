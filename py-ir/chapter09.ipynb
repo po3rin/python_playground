{
 "cells": [
  {
   "cell_type": "markdown",
   "metadata": {},
   "source": [
    "# 第9章 トピック"
   ]
  },
  {
   "cell_type": "code",
   "execution_count": 1,
   "metadata": {},
   "outputs": [],
   "source": [
    "# これまでに定義した関数の読み込み\n",
    "\n",
    "from chapter01 import get_string_from_file\n",
    "from chapter02 import get_words_from_file, configure_fonts_for_japanese\n",
    "from chapter03 import get_words, bows_to_cfs, load_aozora_corpus, get_bows,  add_to_corpus,\\\n",
    "    get_weights, translate_bows, get_tfidfmodel_and_weights\n",
    "from chapter04 import vsm_search, get_list_from_file\n",
    "from chapter05 import top_n, get_pr_curve, get_average_precision"
   ]
  },
  {
   "cell_type": "markdown",
   "metadata": {},
   "source": [
    "## 9.2 潜在的意味インデキシング"
   ]
  },
  {
   "cell_type": "code",
   "execution_count": 2,
   "metadata": {},
   "outputs": [],
   "source": [
    "# Listing 9.1 #\n",
    "\n",
    "# data/ch05にある各文書から文書ベクトルを作成\n",
    "book_texts = [get_string_from_file('data/ch05/%d.txt' % i) for i in range(10)]\n",
    "tfidf_model, dic, tfidf_weights = get_tfidfmodel_and_weights(book_texts)"
   ]
  },
  {
   "cell_type": "code",
   "execution_count": 3,
   "metadata": {},
   "outputs": [],
   "source": [
    "# Listing 9.2 #\n",
    "\n",
    "from gensim.models import LsiModel\n",
    "\n",
    "# トピックの数\n",
    "num_topics = 5\n",
    "\n",
    "# モデルの生成\n",
    "lsi_model = LsiModel(corpus=tfidf_weights, id2word=dic, num_topics=num_topics)"
   ]
  },
  {
   "cell_type": "code",
   "execution_count": 4,
   "metadata": {},
   "outputs": [
    {
     "name": "stdout",
     "output_type": "stream",
     "text": [
      "-0.624*\"知能\" + -0.484*\"人工\" + -0.204*\"マービン・ミンスキー\"\n"
     ]
    }
   ],
   "source": [
    "# Listing 9.3 #\n",
    "\n",
    "print(lsi_model.print_topic(0, 3))"
   ]
  },
  {
   "cell_type": "code",
   "execution_count": 5,
   "metadata": {},
   "outputs": [],
   "source": [
    "# Listing 9.4 #\n",
    "\n",
    "from gensim.similarities import MatrixSimilarity\n",
    "\n",
    "def lsi_search(texts, query, num_topics):\n",
    "    # tfidfに基づいて語の重みを計算\n",
    "    tfidf_model, dic, text_tfidf_weights = get_tfidfmodel_and_weights(texts)\n",
    "\n",
    "    # LSIモデルを生成し，トピックの重みを計算\n",
    "    lsi_model = LsiModel(corpus=text_tfidf_weights, id2word=dic,\n",
    "                         num_topics=num_topics)\n",
    "    lsi_weights = lsi_model[text_tfidf_weights]\n",
    "    index = MatrixSimilarity(lsi_weights, num_features=len(dic))\n",
    "\n",
    "    # queryのbag-of-wordsを作成し，重みを計算\n",
    "    query_bows = get_bows([query], dic)\n",
    "    query_tfidf_weights = get_weights(query_bows, dic, tfidf_model)\n",
    "    query_lsi_weights = lsi_model[query_tfidf_weights]\n",
    "\n",
    "    # 類似度計算\n",
    "    sims = index[query_lsi_weights[0]]\n",
    "\n",
    "    # 類似度で降順にソート\n",
    "    return sorted(enumerate(sims), key=lambda x: x[1], reverse=True)"
   ]
  },
  {
   "cell_type": "code",
   "execution_count": 6,
   "metadata": {},
   "outputs": [
    {
     "name": "stdout",
     "output_type": "stream",
     "text": [
      "[(1, 0.7481151),\n",
      " (8, 0.6076249),\n",
      " (5, 0.31722325),\n",
      " (0, 0.21160641),\n",
      " (2, 0.18004589),\n",
      " (3, 0.0),\n",
      " (4, 0.0),\n",
      " (6, 0.0),\n",
      " (7, 0.0),\n",
      " (9, 0.0)]\n"
     ]
    }
   ],
   "source": [
    "# Listing 9.5 #\n",
    "\n",
    "from pprint import pprint\n",
    "\n",
    "query = '人工知能'\n",
    "\n",
    "# tfidfモデルに基づく検索（Listing 5.2と同じ）\n",
    "# 検索結果は関連度の高さで順位づけされている．\n",
    "tfidf_result = vsm_search(book_texts, query)\n",
    "\n",
    "# 文書番号と関連度の組を出力\n",
    "pprint(tfidf_result)"
   ]
  },
  {
   "cell_type": "code",
   "execution_count": 7,
   "metadata": {},
   "outputs": [
    {
     "name": "stdout",
     "output_type": "stream",
     "text": [
      "[(8, 0.99998426),\n",
      " (1, 0.99996907),\n",
      " (5, 0.9991018),\n",
      " (0, 0.5014957),\n",
      " (2, 0.40058395),\n",
      " (9, 0.0017561095),\n",
      " (3, 0.0),\n",
      " (6, 0.0),\n",
      " (7, 0.0),\n",
      " (4, -0.0029632207)]\n"
     ]
    }
   ],
   "source": [
    "# Listing 9.6 #\n",
    "\n",
    "num_topics = 5\n",
    "\n",
    "lsi_result = lsi_search(book_texts, query, num_topics)\n",
    "pprint(lsi_result)"
   ]
  },
  {
   "cell_type": "code",
   "execution_count": 8,
   "metadata": {},
   "outputs": [
    {
     "name": "stdout",
     "output_type": "stream",
     "text": [
      "TFIDF: 0.8211\n",
      "LSI:   0.8648\n"
     ]
    }
   ],
   "source": [
    "# Listing 9.7 #\n",
    "\n",
    "# '人工知能' をクエリとする検索の正解（5.2節）\n",
    "right_answer = [0, 1, 0, 1, 0, 1, 0, 0, 1, 1]\n",
    "\n",
    "# ランキングの計算（5.3節）\n",
    "tfidf_ranking = tuple([x[0] for x in tfidf_result])\n",
    "lsi_ranking = tuple([x[0] for x in lsi_result])\n",
    "\n",
    "# 平均適合率（5.3節）による検索性能評価の比較\n",
    "print('TFIDF: %.4f' % get_average_precision(tfidf_ranking, right_answer))\n",
    "print('LSI:   %.4f' % get_average_precision(lsi_ranking, right_answer))"
   ]
  },
  {
   "cell_type": "markdown",
   "metadata": {},
   "source": [
    "## 9.3 非負値行列因子分解"
   ]
  },
  {
   "cell_type": "code",
   "execution_count": 9,
   "metadata": {},
   "outputs": [],
   "source": [
    "# Listing 9.8 #\n",
    "\n",
    "from gensim.models.nmf import Nmf\n",
    "\n",
    "def nmf_search(texts, query, num_topics, passes=20, random_state=None):\n",
    "    tfidf_model, dic, text_tfidf_weights = get_tfidfmodel_and_weights(texts)\n",
    "\n",
    "    # NMFモデルを作成\n",
    "    nmf_model = Nmf(corpus=text_tfidf_weights, id2word=dic, \n",
    "                    num_topics=num_topics, passes=passes, random_state=random_state)\n",
    "\n",
    "    # TF・IDFによる文書ベクトルをトピックベースのベクトルに変換\n",
    "    nmf_weights = nmf_model[text_tfidf_weights]\n",
    "\n",
    "    index = MatrixSimilarity(nmf_weights, num_features=len(dic))\n",
    "\n",
    "    # クエリのトピックベースのベクトルを作成\n",
    "    query_bows = get_bows([query], dic)\n",
    "    query_tfidf_weights = get_weights(query_bows, dic, tfidf_model)\n",
    "    query_nmf_weights = nmf_model[query_tfidf_weights]\n",
    "\n",
    "    # クエリとの類似性で文書をランキング\n",
    "    sims = index[query_nmf_weights[0]]\n",
    "    return sorted(enumerate(sims), key=lambda x: x[1], reverse=True)"
   ]
  },
  {
   "cell_type": "code",
   "execution_count": 10,
   "metadata": {
    "scrolled": true
   },
   "outputs": [
    {
     "name": "stdout",
     "output_type": "stream",
     "text": [
      "[(5, 0.98998123),\n",
      " (1, 0.987107),\n",
      " (8, 0.9571822),\n",
      " (9, 0.75527954),\n",
      " (0, 0.14077142),\n",
      " (7, 0.14077142),\n",
      " (2, 0.07617857),\n",
      " (4, 0.009192428),\n",
      " (6, 0.0014736673),\n",
      " (3, 0.0)]\n"
     ]
    }
   ],
   "source": [
    "# Listing 9.9 #\n",
    "\n",
    "# トピック数を5に設定\n",
    "num_topics = 5\n",
    "\n",
    "# book_texts, queryはこれまでと同じ\n",
    "# 結果を再現するために random_state を設定\n",
    "nmf_result = nmf_search(book_texts, query, num_topics, random_state=7)\n",
    "pprint(nmf_result)"
   ]
  },
  {
   "cell_type": "code",
   "execution_count": 11,
   "metadata": {},
   "outputs": [
    {
     "name": "stdout",
     "output_type": "stream",
     "text": [
      "0.8944\n"
     ]
    }
   ],
   "source": [
    "# Listing 9.10 #\n",
    "\n",
    "nmf_ranking = tuple([x[0] for x in nmf_result])\n",
    "print('%.4f' % get_average_precision(nmf_ranking, right_answer))"
   ]
  },
  {
   "cell_type": "markdown",
   "metadata": {},
   "source": [
    "## 9.4 潜在的ディリクレ配分法"
   ]
  },
  {
   "cell_type": "code",
   "execution_count": 12,
   "metadata": {},
   "outputs": [],
   "source": [
    "# Listing 9.11 #\n",
    "\n",
    "from gensim.models import LdaModel\n",
    "\n",
    "# LDAモデルの作成(この処理の中でトピックが計算される)．\n",
    "# dic, tfidf_weights などは Listing 9.1 で定義されたもの．\n",
    "# 再現性を持たせるため random_state に特定の値(6)を設定．\n",
    "lda_model = LdaModel(corpus=tfidf_weights, id2word=dic, num_topics=5,\n",
    "                     passes=20, random_state=6)"
   ]
  },
  {
   "cell_type": "code",
   "execution_count": 13,
   "metadata": {},
   "outputs": [
    {
     "name": "stdout",
     "output_type": "stream",
     "text": [
      "マービン・ミンスキーは，人工知能という分野の黎明期に活躍した研究者で，「人工知能の父」と呼ばれています．\n",
      "\n",
      "[(0, 0.77690285),\n",
      " (1, 0.055816952),\n",
      " (2, 0.055802517),\n",
      " (3, 0.055735476),\n",
      " (4, 0.055742186)]\n"
     ]
    }
   ],
   "source": [
    "# Listing 9.12 #\n",
    "\n",
    "# 文書ベクトルからトピックの分布を計算\n",
    "lda_weights = lda_model[tfidf_weights]\n",
    "\n",
    "# 1番文書の内容を表示\n",
    "print(book_texts[1])\n",
    "\n",
    "# 1番文書のトピックの確率分布を表示\n",
    "pprint(lda_weights[1])"
   ]
  },
  {
   "cell_type": "code",
   "execution_count": 14,
   "metadata": {},
   "outputs": [
    {
     "name": "stdout",
     "output_type": "stream",
     "text": [
      "0.041*\"知能\" + 0.030*\"人工\" + 0.021*\"ネットワーク\" + 0.017*\"マービン・ミンスキー\"\n"
     ]
    }
   ],
   "source": [
    "# Listing 9.14 #\n",
    "\n",
    "# 0番トピックの確率分布のうち上位4語を表示\n",
    "print(lda_model.print_topic(0, 4))"
   ]
  },
  {
   "cell_type": "code",
   "execution_count": 15,
   "metadata": {},
   "outputs": [],
   "source": [
    "# Listing 9.14 #\n",
    "\n",
    "def lda_search(texts, query, num_topics, passes=20, random_state=None):\n",
    "    tfidf_model, dic, text_tfidf_weights = get_tfidfmodel_and_weights(texts)\n",
    "\n",
    "    # LDAモデルを作成\n",
    "    lda_model = LdaModel(corpus=text_tfidf_weights, id2word=dic,\n",
    "                 num_topics=num_topics, passes=passes, random_state=random_state)\n",
    "\n",
    "    lda_weights = lda_model[text_tfidf_weights]\n",
    "    index = MatrixSimilarity(lda_weights, num_features=len(dic))\n",
    "\n",
    "    query_bows = get_bows([query], dic)\n",
    "    query_tfidf_weights = get_weights(query_bows, dic, tfidf_model)\n",
    "    query_lda_weights = lda_model[query_tfidf_weights]\n",
    "\n",
    "    sims = index[query_lda_weights[0]]\n",
    "    return sorted(enumerate(sims), key=lambda x: x[1], reverse=True)"
   ]
  },
  {
   "cell_type": "code",
   "execution_count": 16,
   "metadata": {},
   "outputs": [
    {
     "name": "stdout",
     "output_type": "stream",
     "text": [
      "0.9633\n"
     ]
    }
   ],
   "source": [
    "# Listing 9.15 #\n",
    "\n",
    "num_topics = 5\n",
    "\n",
    "lda_result = lda_search(book_texts, query, num_topics, random_state=6)\n",
    "lda_ranking = tuple([x[0] for x in lda_result])\n",
    "print('%.4f' % get_average_precision(lda_ranking, right_answer))"
   ]
  },
  {
   "cell_type": "code",
   "execution_count": 17,
   "metadata": {},
   "outputs": [
    {
     "name": "stdout",
     "output_type": "stream",
     "text": [
      "0: 0.5677\n",
      "1: 0.8463\n",
      "2: 0.5230\n",
      "3: 0.9183\n",
      "4: 0.8648\n",
      "平均: 0.7440\n"
     ]
    }
   ],
   "source": [
    "# Listing 9.16 #\n",
    "\n",
    "# トピック数を5に設定\n",
    "num_topics = 5\n",
    "# 検索の試行回数を5に設定\n",
    "num_trials = 5\n",
    "sum_of_ap = 0.0\n",
    "for i in range(num_trials):\n",
    "    lda_result = lda_search(book_texts, query, num_topics)\n",
    "    lda_ranking = tuple([x[0] for x in lda_result])\n",
    "    ap = get_average_precision(lda_ranking, right_answer)\n",
    "    print('%d: %.4f' % (i, ap))                                                 \n",
    "    sum_of_ap += ap\n",
    "print('平均: %.4f' %  (sum_of_ap/num_trials))"
   ]
  },
  {
   "cell_type": "code",
   "execution_count": null,
   "metadata": {},
   "outputs": [],
   "source": []
  }
 ],
 "metadata": {
  "kernelspec": {
   "display_name": "Python 3",
   "language": "python",
   "name": "python3"
  },
  "language_info": {
   "codemirror_mode": {
    "name": "ipython",
    "version": 3
   },
   "file_extension": ".py",
   "mimetype": "text/x-python",
   "name": "python",
   "nbconvert_exporter": "python",
   "pygments_lexer": "ipython3",
   "version": "3.6.5"
  }
 },
 "nbformat": 4,
 "nbformat_minor": 2
}
