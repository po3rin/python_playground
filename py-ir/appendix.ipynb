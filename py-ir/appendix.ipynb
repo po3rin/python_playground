{
 "cells": [
  {
   "cell_type": "markdown",
   "metadata": {},
   "source": [
    "## A.2.1 インデント"
   ]
  },
  {
   "cell_type": "code",
   "execution_count": 1,
   "metadata": {},
   "outputs": [],
   "source": [
    "x = 3"
   ]
  },
  {
   "cell_type": "code",
   "execution_count": 2,
   "metadata": {},
   "outputs": [],
   "source": [
    "if x > 5:\n",
    "    print('A') # この行は x > 5 が満たされた時に実行される\n",
    "    print('B') # この行も x > 5 が満たされた時に実行される"
   ]
  },
  {
   "cell_type": "code",
   "execution_count": 3,
   "metadata": {},
   "outputs": [
    {
     "name": "stdout",
     "output_type": "stream",
     "text": [
      "B\n"
     ]
    }
   ],
   "source": [
    "if x > 5:\n",
    "    print('A') # この行は x > 5 が満たされた時に実行される\n",
    "print('B')     # この行は条件判断に関係なく実行される"
   ]
  },
  {
   "cell_type": "code",
   "execution_count": 4,
   "metadata": {},
   "outputs": [
    {
     "name": "stdout",
     "output_type": "stream",
     "text": [
      "x[2] = 3\n",
      "x = [1, 2, 10, 4, 5]\n",
      "m[1] = [4, 5, 6]\n",
      "m[1][0] = 4\n"
     ]
    }
   ],
   "source": [
    "x = [1, 2, 3, 4, 5]\n",
    "\n",
    "# インデックスが2の要素の参照\n",
    "print('x[2] =', x[2])\n",
    "\n",
    "# インデックスが2の要素の置き換え\n",
    "x[2] = 10\n",
    "print('x =', x)\n",
    "\n",
    "m = [[1, 2, 3],\n",
    "     [4, 5, 6]]\n",
    "print('m[1] =', m[1])\n",
    "print('m[1][0] =', m[1][0])"
   ]
  },
  {
   "cell_type": "code",
   "execution_count": 5,
   "metadata": {},
   "outputs": [
    {
     "name": "stdout",
     "output_type": "stream",
     "text": [
      "x = [1, 2, 3, 4, 5]\n",
      "x[1:4] = [2, 3, 4]\n",
      "x[::2] = [1, 3, 5]\n"
     ]
    }
   ],
   "source": [
    "x = [1,\t2, 3, 4, 5]\n",
    "print('x =', x)\n",
    "\n",
    "# インデックスが1から3までの要素\n",
    "# すなわち，x[1], x[2], x[3]\n",
    "print('x[1:4] =', x[1:4])\n",
    "\n",
    "# インデックスが0, 2, 4の要素\n",
    "print('x[::2] =', x[::2])"
   ]
  },
  {
   "cell_type": "code",
   "execution_count": 6,
   "metadata": {},
   "outputs": [
    {
     "name": "stdout",
     "output_type": "stream",
     "text": [
      "y = ['2', '4', '6', '8', '10']\n"
     ]
    }
   ],
   "source": [
    "y = [str(2*i) for i in x]\n",
    "print('y =', y)"
   ]
  },
  {
   "cell_type": "code",
   "execution_count": 7,
   "metadata": {},
   "outputs": [
    {
     "name": "stdout",
     "output_type": "stream",
     "text": [
      "y = ['2', '4', '6', '8', '10']\n"
     ]
    }
   ],
   "source": [
    "y = [str(2*i) for i in range(1, 6)]\n",
    "print('y =', y)"
   ]
  },
  {
   "cell_type": "code",
   "execution_count": 8,
   "metadata": {},
   "outputs": [
    {
     "ename": "TypeError",
     "evalue": "'tuple' object does not support item assignment",
     "output_type": "error",
     "traceback": [
      "\u001b[0;31m---------------------------------------------------------------------------\u001b[0m",
      "\u001b[0;31mTypeError\u001b[0m                                 Traceback (most recent call last)",
      "\u001b[0;32m<ipython-input-8-aacdba3844a5>\u001b[0m in \u001b[0;36m<module>\u001b[0;34m\u001b[0m\n\u001b[1;32m      3\u001b[0m \u001b[0;34m\u001b[0m\u001b[0m\n\u001b[1;32m      4\u001b[0m \u001b[0;31m# 要素の書き換え\u001b[0m\u001b[0;34m\u001b[0m\u001b[0;34m\u001b[0m\u001b[0m\n\u001b[0;32m----> 5\u001b[0;31m \u001b[0mx\u001b[0m\u001b[0;34m[\u001b[0m\u001b[0;36m2\u001b[0m\u001b[0;34m]\u001b[0m \u001b[0;34m=\u001b[0m \u001b[0;36m10\u001b[0m\u001b[0;34m\u001b[0m\u001b[0m\n\u001b[0m",
      "\u001b[0;31mTypeError\u001b[0m: 'tuple' object does not support item assignment"
     ]
    }
   ],
   "source": [
    "# 1, 2, 3を要素とするタプル\n",
    "x = (1, 2, 3)\n",
    "\n",
    "# 要素の書き換え\n",
    "x[2] = 10"
   ]
  },
  {
   "cell_type": "code",
   "execution_count": 9,
   "metadata": {},
   "outputs": [
    {
     "name": "stdout",
     "output_type": "stream",
     "text": [
      "x[2] = B\n",
      "x = {1: 'A', 2: 'B', 3: 'C'}\n"
     ]
    }
   ],
   "source": [
    "# 1にA, 2にBを対応させる\n",
    "x = { 1 : 'A', 2 : 'B' }\n",
    "\n",
    "# 2に対応している要素の参照\n",
    "print('x[2] =', x[2])\n",
    "\n",
    "# Cを3に対応づける\n",
    "x[3] = 'C'\n",
    "\n",
    "print('x =', x)"
   ]
  },
  {
   "cell_type": "markdown",
   "metadata": {},
   "source": [
    "## A.2.4 オブジェクト指向"
   ]
  },
  {
   "cell_type": "code",
   "execution_count": 10,
   "metadata": {},
   "outputs": [
    {
     "name": "stdout",
     "output_type": "stream",
     "text": [
      "[2, 3, 5, 7, 10]\n",
      "[2, 10, 5, 7, 3]\n"
     ]
    }
   ],
   "source": [
    "x = [2, 10, 5, 7, 3]\n",
    "# xの値をソートした結果を出力\n",
    "print(sorted(x))\n",
    "# xの値は変わっていないことを確認\n",
    "print(x)"
   ]
  },
  {
   "cell_type": "code",
   "execution_count": 11,
   "metadata": {},
   "outputs": [
    {
     "name": "stdout",
     "output_type": "stream",
     "text": [
      "None\n",
      "[2, 3, 5, 7, 10]\n"
     ]
    }
   ],
   "source": [
    "x = [2, 10, 5, 7, 3]\n",
    "# xに「値をソートせよ」と指示．この返り値はNone．\n",
    "print(x.sort())\n",
    "# xの値はソートされている\n",
    "print(x)"
   ]
  },
  {
   "cell_type": "markdown",
   "metadata": {},
   "source": [
    "## A.2.5 NumPy の ndarray"
   ]
  },
  {
   "cell_type": "code",
   "execution_count": 12,
   "metadata": {},
   "outputs": [
    {
     "name": "stdout",
     "output_type": "stream",
     "text": [
      "a = [1, 2, 3, 4]\n",
      "aの型 = <class 'list'>\n",
      "2 * a = [1, 2, 3, 4, 1, 2, 3, 4]\n"
     ]
    }
   ],
   "source": [
    "a = [1, 2, 3, 4]\n",
    "print('a =', a)\n",
    "print('aの型 =', type(a))\n",
    "print('2 * a =', 2 * a)\n",
    "# a * a は計算できない(TypeErrorになる)"
   ]
  },
  {
   "cell_type": "code",
   "execution_count": 13,
   "metadata": {},
   "outputs": [
    {
     "name": "stdout",
     "output_type": "stream",
     "text": [
      "b = [1 2 3 4]\n",
      "bの型 = <class 'numpy.ndarray'>\n",
      "2 * b = [2 4 6 8]\n",
      "b * b = [ 1  4  9 16]\n",
      "ベクトルbの大きさ = 5.477225575051661\n",
      "ベクトルbの大きさ = 5.477225575051661\n"
     ]
    }
   ],
   "source": [
    "import numpy as np\n",
    "\n",
    "# ndarrayをリストから作成\n",
    "b = np.array(a)\n",
    "\n",
    "print('b =', b)\n",
    "print('bの型 =', type(b))\n",
    "print('2 * b =', 2 * b)\n",
    "print('b * b =', b* b)\n",
    "print('ベクトルbの大きさ =', np.sqrt(np.sum(b*b)))\n",
    "# もう一つの計算方法\n",
    "print('ベクトルbの大きさ =', np.linalg.norm(b))"
   ]
  },
  {
   "cell_type": "code",
   "execution_count": 14,
   "metadata": {},
   "outputs": [
    {
     "name": "stdout",
     "output_type": "stream",
     "text": [
      "[[1 2]\n",
      " [3 4]]\n"
     ]
    }
   ],
   "source": [
    "# ベクトルbを2x2の行列に変換\n",
    "print(b.reshape(2, 2))"
   ]
  },
  {
   "cell_type": "code",
   "execution_count": 15,
   "metadata": {},
   "outputs": [],
   "source": [
    "# データ数\n",
    "num_data = 50\n",
    "\n",
    "# 乱数のシード値を設定\n",
    "np.random.seed(seed=1)\n",
    "# num_data個の2次元ベクトルをランダムに生成\n",
    "vectors = np.random.rand(num_data, 2)\n",
    "\n",
    "# 各ベクトルの大きさ(ノルム)を計算\n",
    "vector_norms = np.apply_along_axis(np.linalg.norm, 1, vectors)\n",
    "# vectorsにあわせてreshape\n",
    "vector_norms = vector_norms.reshape(num_data, 1)\n",
    "# 各ベクトルをノルムで割り正規化\n",
    "normalized_vectors = vectors/vector_norms"
   ]
  },
  {
   "cell_type": "code",
   "execution_count": 16,
   "metadata": {},
   "outputs": [
    {
     "data": {
      "image/png": "[encoded data removed]",
      "text/plain": [
       "<Figure size 360x360 with 1 Axes>"
      ]
     },
     "metadata": {
      "needs_background": "light"
     },
     "output_type": "display_data"
    }
   ],
   "source": [
    "import matplotlib.pyplot as plt\n",
    "%matplotlib inline\n",
    "\n",
    "# グラフのサイズを設定\n",
    "plt.figure(figsize=(5,5))\n",
    "\n",
    "# vectorsの要素のx軸成分を取り出す\n",
    "x = vectors[:,0].flatten()\n",
    "# vectorsの要素のy軸成分を取り出す\n",
    "y = vectors[:,1].flatten()\n",
    "# 正規化前のデータのプロット\n",
    "plt.scatter(x, y)\n",
    "\n",
    "# 正規化したデータのプロット\n",
    "nx = normalized_vectors[:,0].flatten()\n",
    "ny = normalized_vectors[:,1].flatten()\n",
    "plt.scatter(nx, ny)\n",
    "\n",
    "# いくつかのデータに対して正規化の前後を矢印で結ぶ\n",
    "for i in [2, 4, 12]:\n",
    "    plt.quiver(x[i], y[i], nx[i]-x[i], ny[i]-y[i], color='red', angles='xy', scale_units='xy', scale=1)\n",
    "plt.show()"
   ]
  },
  {
   "cell_type": "code",
   "execution_count": 17,
   "metadata": {},
   "outputs": [
    {
     "data": {
      "image/png": "[encoded data removed]",
      "text/plain": [
       "<Figure size 432x288 with 1 Axes>"
      ]
     },
     "metadata": {
      "needs_background": "light"
     },
     "output_type": "display_data"
    }
   ],
   "source": [
    "import scipy.spatial.distance as distance\n",
    "\n",
    "## 正規化されていないベクトルの場合 ##\n",
    "\n",
    "# vectorsから順に2つずつベクトルを取り出しコサイン距離を計算\n",
    "c = [distance.cosine(v1, v2) for v1, v2 in vectors.reshape(int(num_data/2), 2, 2)]\n",
    "# 同様にユークリッド距離を計算\n",
    "e = [distance.euclidean(v1, v2) for v1, v2 in vectors.reshape(int(num_data/2), 2, 2)]\n",
    "\n",
    "# コサイン距離とユークリッド距離の関係を散布図で確認\n",
    "plt.xlabel('Cosine')\n",
    "plt.ylabel('Euclidean')\n",
    "plt.scatter(c, e)\n",
    "plt.show()"
   ]
  },
  {
   "cell_type": "code",
   "execution_count": 18,
   "metadata": {},
   "outputs": [
    {
     "data": {
      "image/png": "[encoded data removed]",
      "text/plain": [
       "<Figure size 432x288 with 1 Axes>"
      ]
     },
     "metadata": {
      "needs_background": "light"
     },
     "output_type": "display_data"
    }
   ],
   "source": [
    "## 正規化されたベクトルの場合 ##\n",
    "\n",
    "# コサイン距離を計算\n",
    "c = [distance.cosine(v1, v2) for v1, v2 in normalized_vectors.reshape(int(num_data/2), 2, 2)]\n",
    "# ユークリッド距離を計算\n",
    "e = [distance.euclidean(v1, v2) for v1, v2 in normalized_vectors.reshape(int(num_data/2), 2, 2)]\n",
    "\n",
    "# コサイン距離とユークリッド距離の関係を散布図で確認\n",
    "plt.xlabel('Cosine')\n",
    "plt.ylabel('Euclidean')\n",
    "plt.scatter(c, e)\n",
    "plt.show()"
   ]
  },
  {
   "cell_type": "markdown",
   "metadata": {},
   "source": [
    "## A.2.6 with構文"
   ]
  },
  {
   "cell_type": "code",
   "execution_count": 19,
   "metadata": {},
   "outputs": [
    {
     "name": "stdout",
     "output_type": "stream",
     "text": [
      "ブロックの中: f.closed =  False\n",
      "ブロックの外: f.closed =  True\n"
     ]
    }
   ],
   "source": [
    "with open('chapter00.py', 'r') as f:\n",
    "    # ファイルが閉じられているとf.closedがTrueになる\n",
    "    print('ブロックの中: f.closed = ', f.closed)\n",
    "print('ブロックの外: f.closed = ', f.closed)"
   ]
  },
  {
   "cell_type": "markdown",
   "metadata": {},
   "source": [
    "## A.2.7 出力の書式"
   ]
  },
  {
   "cell_type": "code",
   "execution_count": 20,
   "metadata": {},
   "outputs": [
    {
     "name": "stdout",
     "output_type": "stream",
     "text": [
      "pi = 3.1416\n",
      "我輩は猫である\n"
     ]
    }
   ],
   "source": [
    "# 小数点第4位まで表示\n",
    "print('pi = %.4f' % 3.14159265358979)                                          \n",
    "\n",
    "print('{}は{}である'.format('我輩', '猫'))"
   ]
  },
  {
   "cell_type": "markdown",
   "metadata": {},
   "source": [
    "## A.2.8 関数の引数"
   ]
  },
  {
   "cell_type": "code",
   "execution_count": 21,
   "metadata": {},
   "outputs": [
    {
     "name": "stdout",
     "output_type": "stream",
     "text": [
      "f() = (2, 10)\n",
      "f(y=1) = (2, 1)\n"
     ]
    }
   ],
   "source": [
    "# 引数の組みを返す関数の定義\n",
    "def f(x=2,y=10):\n",
    "    return x, y\n",
    "\n",
    "# 引数がないので既定値が採用される\n",
    "print('f() =', f())\n",
    "\n",
    "# キーワード引数でyの値を指定\n",
    "print('f(y=1) =', f(y=1))"
   ]
  },
  {
   "cell_type": "markdown",
   "metadata": {},
   "source": [
    "## A.2.9 イテレータとジェネレータ"
   ]
  },
  {
   "cell_type": "code",
   "execution_count": 22,
   "metadata": {},
   "outputs": [
    {
     "name": "stdout",
     "output_type": "stream",
     "text": [
      "12\n",
      "23\n",
      "36\n",
      "Total: 71\n"
     ]
    }
   ],
   "source": [
    "# リストの要素の和を計算\n",
    "data = [12, 23, 36]\n",
    "\n",
    "s = 0\n",
    "for i in data:\n",
    "    print(i)\n",
    "    s += i\n",
    "print('Total: %d' % s)"
   ]
  },
  {
   "cell_type": "code",
   "execution_count": 23,
   "metadata": {},
   "outputs": [],
   "source": [
    "def yield_data_in_file(filename):\n",
    "    with open(filename, 'r') as f:\n",
    "        while (True):\n",
    "            # 1行読み込む\n",
    "            l = f.readline()\n",
    "            if l == '': break\n",
    "            # 文字列を整数に変換した値をyield(産出)する\n",
    "            yield int(l)"
   ]
  },
  {
   "cell_type": "code",
   "execution_count": 24,
   "metadata": {},
   "outputs": [
    {
     "name": "stdout",
     "output_type": "stream",
     "text": [
      "<class 'generator'>\n"
     ]
    }
   ],
   "source": [
    "g = yield_data_in_file('data/appendix/num.dat')\n",
    "print(type(g))"
   ]
  },
  {
   "cell_type": "code",
   "execution_count": 25,
   "metadata": {},
   "outputs": [
    {
     "name": "stdout",
     "output_type": "stream",
     "text": [
      "12\n",
      "23\n",
      "36\n",
      "Total: 71\n"
     ]
    }
   ],
   "source": [
    "# ジェネレータを使用したバージョン\n",
    "data = yield_data_in_file('data/appendix/num.dat')\n",
    "\n",
    "s = 0\n",
    "for i in data:\n",
    "    print(i)\n",
    "    s += i\n",
    "print('Total: %d' % s)"
   ]
  },
  {
   "cell_type": "markdown",
   "metadata": {},
   "source": [
    "# A.3 トラブルシューティング"
   ]
  },
  {
   "cell_type": "markdown",
   "metadata": {},
   "source": [
    "### SyntaxError"
   ]
  },
  {
   "cell_type": "code",
   "execution_count": 26,
   "metadata": {},
   "outputs": [
    {
     "ename": "SyntaxError",
     "evalue": "invalid syntax (<ipython-input-26-9035e6b43c38>, line 1)",
     "output_type": "error",
     "traceback": [
      "\u001b[0;36m  File \u001b[0;32m\"<ipython-input-26-9035e6b43c38>\"\u001b[0;36m, line \u001b[0;32m1\u001b[0m\n\u001b[0;31m    if x == 0\u001b[0m\n\u001b[0m             ^\u001b[0m\n\u001b[0;31mSyntaxError\u001b[0m\u001b[0;31m:\u001b[0m invalid syntax\n"
     ]
    }
   ],
   "source": [
    "if x == 0\n",
    "    print('Zero')"
   ]
  },
  {
   "cell_type": "markdown",
   "metadata": {},
   "source": [
    "### ModuleNotFoundError"
   ]
  },
  {
   "cell_type": "code",
   "execution_count": 27,
   "metadata": {},
   "outputs": [
    {
     "ename": "ModuleNotFoundError",
     "evalue": "No module named 'nampy'",
     "output_type": "error",
     "traceback": [
      "\u001b[0;31m---------------------------------------------------------------------------\u001b[0m",
      "\u001b[0;31mModuleNotFoundError\u001b[0m                       Traceback (most recent call last)",
      "\u001b[0;32m<ipython-input-27-047c1207d0ef>\u001b[0m in \u001b[0;36m<module>\u001b[0;34m\u001b[0m\n\u001b[0;32m----> 1\u001b[0;31m \u001b[0;32mimport\u001b[0m \u001b[0mnampy\u001b[0m \u001b[0;32mas\u001b[0m \u001b[0mnp\u001b[0m\u001b[0;34m\u001b[0m\u001b[0m\n\u001b[0m",
      "\u001b[0;31mModuleNotFoundError\u001b[0m: No module named 'nampy'"
     ]
    }
   ],
   "source": [
    "import nampy as np"
   ]
  },
  {
   "cell_type": "markdown",
   "metadata": {},
   "source": [
    "### FileNotFoundError"
   ]
  },
  {
   "cell_type": "code",
   "execution_count": 28,
   "metadata": {},
   "outputs": [
    {
     "ename": "FileNotFoundError",
     "evalue": "[Errno 2] No such file or directory: 'chapter00.py'",
     "output_type": "error",
     "traceback": [
      "\u001b[0;31m---------------------------------------------------------------------------\u001b[0m",
      "\u001b[0;31mFileNotFoundError\u001b[0m                         Traceback (most recent call last)",
      "\u001b[0;32m<ipython-input-28-2d49d70c4038>\u001b[0m in \u001b[0;36m<module>\u001b[0;34m\u001b[0m\n\u001b[1;32m      4\u001b[0m \u001b[0mos\u001b[0m\u001b[0;34m.\u001b[0m\u001b[0mchdir\u001b[0m\u001b[0;34m(\u001b[0m\u001b[0;34m'data'\u001b[0m\u001b[0;34m)\u001b[0m\u001b[0;34m\u001b[0m\u001b[0m\n\u001b[1;32m      5\u001b[0m \u001b[0;34m\u001b[0m\u001b[0m\n\u001b[0;32m----> 6\u001b[0;31m \u001b[0;32mwith\u001b[0m \u001b[0mopen\u001b[0m\u001b[0;34m(\u001b[0m\u001b[0;34m'chapter00.py'\u001b[0m\u001b[0;34m,\u001b[0m \u001b[0;34m'r'\u001b[0m\u001b[0;34m)\u001b[0m \u001b[0;32mas\u001b[0m \u001b[0mf\u001b[0m\u001b[0;34m:\u001b[0m\u001b[0;34m\u001b[0m\u001b[0m\n\u001b[0m\u001b[1;32m      7\u001b[0m     \u001b[0md\u001b[0m \u001b[0;34m=\u001b[0m \u001b[0mf\u001b[0m\u001b[0;34m.\u001b[0m\u001b[0mread\u001b[0m\u001b[0;34m(\u001b[0m\u001b[0;34m)\u001b[0m\u001b[0;34m\u001b[0m\u001b[0m\n",
      "\u001b[0;31mFileNotFoundError\u001b[0m: [Errno 2] No such file or directory: 'chapter00.py'"
     ]
    }
   ],
   "source": [
    "# わざとエラーを発生させる\n",
    "import os\n",
    "\n",
    "os.chdir('data')\n",
    "\n",
    "with open('chapter00.py', 'r') as f:\n",
    "    d = f.read()"
   ]
  },
  {
   "cell_type": "code",
   "execution_count": 29,
   "metadata": {},
   "outputs": [
    {
     "name": "stdout",
     "output_type": "stream",
     "text": [
      "/Users/sato/python/c_2/irpb-files/data\n"
     ]
    }
   ],
   "source": [
    "# カレントディレクトリを確認\n",
    "print(os.getcwd())"
   ]
  },
  {
   "cell_type": "code",
   "execution_count": 30,
   "metadata": {},
   "outputs": [
    {
     "name": "stdout",
     "output_type": "stream",
     "text": [
      "True\n"
     ]
    }
   ],
   "source": [
    "# サンプルデータアーカイブのディレクトリに移動\n",
    "os.chdir('..')\n",
    "\n",
    "# ファイルの存在を確認\n",
    "print(os.path.exists('chapter00.py'))"
   ]
  },
  {
   "cell_type": "markdown",
   "metadata": {},
   "source": [
    "## A.5.1 特異値分解"
   ]
  },
  {
   "cell_type": "code",
   "execution_count": 31,
   "metadata": {},
   "outputs": [],
   "source": [
    "import numpy as np\n",
    "\n",
    "X = np.loadtxt('data/ch09/sample.csv', delimiter=',')"
   ]
  },
  {
   "cell_type": "code",
   "execution_count": 32,
   "metadata": {},
   "outputs": [],
   "source": [
    "from scipy import linalg\n",
    "\n",
    "# X = U*S*V と3つの行列の積に特異値分解\n",
    "U, S, V = linalg.svd(X)"
   ]
  },
  {
   "cell_type": "code",
   "execution_count": 33,
   "metadata": {},
   "outputs": [],
   "source": [
    "# 取り出す成分の次元数\n",
    "r = 1\n",
    "\n",
    "# Uのはじめのr列を取り出す\n",
    "UR = U[:, :r]\n",
    "\n",
    "# SのR個の対角成分をもつR×R行列を作る\n",
    "SR = linalg.diagsvd(S[:r], r, r)\n",
    "\n",
    "# VのはじめのR行を取り出す\n",
    "VR = V[:r, :]\n",
    "\n",
    "# UR, SR, VRを掛け合わせ次元削減したデータXRを作成\n",
    "XR = UR * SR * VR"
   ]
  },
  {
   "cell_type": "code",
   "execution_count": 34,
   "metadata": {},
   "outputs": [
    {
     "data": {
      "image/png": "[encoded data removed]",
      "text/plain": [
       "<Figure size 432x288 with 1 Axes>"
      ]
     },
     "metadata": {
      "needs_background": "light"
     },
     "output_type": "display_data"
    }
   ],
   "source": [
    "import matplotlib.pyplot as plt\n",
    "%matplotlib inline                                                              \n",
    "\n",
    "# オリジナルデータ(X[0][i], X[1][i])をプロット\n",
    "plt.scatter(X[0], X[1], label='X')\n",
    "\n",
    "# 次元削減でXから抜き出した成分を示す直線を引く\n",
    "plt.plot([min(XR[0]), max(XR[0])], [min(XR[1]), max(XR[1])],\n",
    "         '--', color='orange', zorder=1)\n",
    "\n",
    "# 次元削減で得られたデータ(XR[0][i], XR[1][i])をプロット\n",
    "plt.scatter(XR[0], XR[1], label='XR', zorder=2)\n",
    "\n",
    "# 凡例を追加\n",
    "plt.legend()\n",
    "\n",
    "# 図を表示\n",
    "plt.show()"
   ]
  },
  {
   "cell_type": "markdown",
   "metadata": {},
   "source": [
    "## A.5.2 語の相互関係の可視化"
   ]
  },
  {
   "cell_type": "code",
   "execution_count": 35,
   "metadata": {},
   "outputs": [
    {
     "data": {
      "image/png": "[encoded data removed]",
      "text/plain": [
       "<Figure size 432x288 with 1 Axes>"
      ]
     },
     "metadata": {},
     "output_type": "display_data"
    }
   ],
   "source": [
    "from chapter02 import configure_fonts_for_japanese\n",
    "import random\n",
    "from gensim.models import Word2Vec\n",
    "\n",
    "# 青空文庫で学習済みのモデルの読込\n",
    "model = Word2Vec.load('data/aozora/w2v-03.model')\n",
    "\n",
    "# 100語を無作為に抽出\n",
    "id_list = random.sample(range(len(model.wv.vectors)), 100)\n",
    "\n",
    "# 表示対象の語\n",
    "W = ['数学', '哲学', '工学', '化学', '文学']\n",
    "# 各語をidに変換\n",
    "W_id = [model.wv.vocab[k].index for k in W]\n",
    "# 表示対象の語をid_listに追加\n",
    "id_list.extend(W_id)\n",
    "\n",
    "# word2vecモデルで語をベクトルに変換\n",
    "vectors = model.wv.vectors[id_list]\n",
    "\n",
    "# モジュールの読み込み\n",
    "from sklearn.manifold import TSNE\n",
    "\n",
    "# t-SNEで2次元に次元削減\n",
    "vectors_reduced = TSNE(n_components=2).fit_transform(vectors)\n",
    "\n",
    "# 表示対象の語(最後の5要素)を抜き出す\n",
    "W_vectors_reduced = vectors_reduced[-5:]\n",
    "\n",
    "%matplotlib inline                                                              \n",
    "import matplotlib.pyplot as plt\n",
    "\n",
    "# グラフの目盛りを非表示に設定\n",
    "plt.tick_params(bottom=False, labelbottom=False, left=False, labelleft=False)\n",
    "\n",
    "# フォントの設定(2章)\n",
    "configure_fonts_for_japanese()\n",
    "\n",
    "# 各語をプロット\n",
    "plt.scatter(W_vectors_reduced[:, 0], W_vectors_reduced[:, 1])\n",
    "\n",
    "# プロットした位置に語を表示\n",
    "for i, (x, y) in enumerate(W_vectors_reduced):\n",
    "    plt.annotate(W[i], xy=(x, y), size=15)"
   ]
  },
  {
   "cell_type": "code",
   "execution_count": null,
   "metadata": {},
   "outputs": [],
   "source": []
  }
 ],
 "metadata": {
  "kernelspec": {
   "display_name": "Python 3",
   "language": "python",
   "name": "python3"
  },
  "language_info": {
   "codemirror_mode": {
    "name": "ipython",
    "version": 3
   },
   "file_extension": ".py",
   "mimetype": "text/x-python",
   "name": "python",
   "nbconvert_exporter": "python",
   "pygments_lexer": "ipython3",
   "version": "3.6.5"
  }
 },
 "nbformat": 4,
 "nbformat_minor": 2
}
