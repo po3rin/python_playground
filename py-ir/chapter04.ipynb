{
 "cells": [
  {
   "cell_type": "markdown",
   "metadata": {},
   "source": [
    "# 第4章 文書のランキング"
   ]
  },
  {
   "cell_type": "code",
   "execution_count": 1,
   "metadata": {},
   "outputs": [],
   "source": [
    "# これまでに定義した関数の読み込み\n",
    "\n",
    "from chapter01 import get_string_from_file\n",
    "from chapter02 import get_words_from_file\n",
    "from chapter03 import get_words, bows_to_cfs, load_aozora_corpus, get_bows,\\\n",
    "    add_to_corpus, get_weights, translate_bows, get_tfidfmodel_and_weights"
   ]
  },
  {
   "cell_type": "code",
   "execution_count": 2,
   "metadata": {},
   "outputs": [],
   "source": [
    "# Listing 4.1 #\n",
    "\n",
    "def jaccard(X, Y):\n",
    "    x = set(X)\n",
    "    y = set(Y)\n",
    "    a = len(x.intersection(y))\n",
    "    b = len(x.union(y))\n",
    "    if b == 0:\n",
    "        return 0\n",
    "    else:\n",
    "        return a/b"
   ]
  },
  {
   "cell_type": "code",
   "execution_count": 3,
   "metadata": {},
   "outputs": [
    {
     "name": "stdout",
     "output_type": "stream",
     "text": [
      "ブラックホールと時空の方程式 0.1111\n",
      "逆数学 0.1111\n",
      "64の事例からわかる金属腐食の対策 0.0526\n",
      "Coq/SSReflect/MathCompによる定理証明 0.0526\n",
      "基礎からわかる高分子材料 0.0000\n",
      "ゼロからはじめるVisual_C#入門 0.0000\n",
      "実践_地域・まちづくりワーク 0.0000\n",
      "応用数学問題集 0.0000\n",
      "生態系生態学(第2版) 0.0000\n"
     ]
    }
   ],
   "source": [
    "# Listing 4.2 #\n",
    "\n",
    "# 紹介文を読み込む．i番目の書籍の紹介文はtexts[i]\n",
    "book_texts = [get_string_from_file('data/ch04/%d.txt' % i) for i in range(10)]          \n",
    "\n",
    "# 各文書の重みを計算\n",
    "# 補助的なコーパスとして青空文庫を利用\n",
    "tfidf_model, dic, book_weights = get_tfidfmodel_and_weights(book_texts)\n",
    "\n",
    "# 書籍ごとに上位10 の特徴語(のID) のリストを作成\n",
    "# book_weights にはID とTF・IDFの値が組になっている\n",
    "# そこからID だけを抜き出す\n",
    "keyword_lists = [[x[0] for x in w[:10]] for w in book_weights]\n",
    "\n",
    "# results の要素は(i, i 番目の書籍との類似度)\n",
    "#『定理のつくりかた』の番号は9(9.txt)\n",
    "results = [(x, jaccard(keyword_lists[9], keyword_lists[x])) for x in range(9)]\n",
    "\n",
    "# 類似度で降順にソート\n",
    "results.sort(key=lambda x: x[1], reverse=True)\n",
    "\n",
    "# 書籍のタイトルを読み込む．i番目の書籍のタイトルはtitles[i]\n",
    "with open('data/ch04/book-titles.txt', encoding='UTF-8') as f:\n",
    "    titles = f.read().strip().split('\\n')\n",
    "\n",
    "# ランキング結果を表示\n",
    "for x in range(9):\n",
    "    print('%s %.4f'% (titles[results[x][0]], results[x][1]))"
   ]
  },
  {
   "cell_type": "code",
   "execution_count": 4,
   "metadata": {},
   "outputs": [
    {
     "name": "stdout",
     "output_type": "stream",
     "text": [
      "dic[0] = 団子\n",
      "dic[1] = 花\n",
      "dic[2] = あんこ\n",
      "dic[3] = みたらし\n",
      "weights =  [(0, 0.8944), (1, 0.4472)]\n"
     ]
    }
   ],
   "source": [
    "# Listing 4.3 #\n",
    "\n",
    "from gensim import corpora, models\n",
    "\n",
    "texts = ['花より団子．とにかく団子．', 'みたらしよりあんこ']\n",
    "words = [get_words(text, keep_pos=['名詞']) for text in texts]\n",
    "dic = corpora.Dictionary(words)\n",
    "\n",
    "# 辞書の中身を列挙\n",
    "for i in range(len(dic)):\n",
    "    print('dic[%d] = %s' % (i, dic[i]))                                              \n",
    "\n",
    "bows = [dic.doc2bow(w) for w in words]\n",
    "tfidf = models.TfidfModel(bows)\n",
    "\n",
    "# 1番目の文書の語とその重みを取得\n",
    "weights =  tfidf[bows[0]]\n",
    "\n",
    "# 説明の都合上，小数点以下4位より下の桁を省略\n",
    "weights = [(i, round(j, 4)) for i, j in weights]\n",
    "\n",
    "# 1番目の文書の語とその重みを表示\n",
    "print('weights = ',  weights)"
   ]
  },
  {
   "cell_type": "code",
   "execution_count": 5,
   "metadata": {},
   "outputs": [],
   "source": [
    "#  Listing 4.4 #\n",
    "\n",
    "from gensim.similarities import MatrixSimilarity\n",
    "\n",
    "def vsm_search(texts, query):\n",
    "    tfidf_model, dic, text_weights = get_tfidfmodel_and_weights(texts)\n",
    "\n",
    "    index = MatrixSimilarity(text_weights,  num_features=len(dic))\n",
    "\n",
    "    # queryのbag-of-wordsを作成し，重みを計算\n",
    "    query_bows = get_bows([query], dic)\n",
    "    query_weights = get_weights(query_bows, dic, tfidf_model)\n",
    "\n",
    "    # 類似度計算\n",
    "    sims = index[query_weights[0]]\n",
    "\n",
    "    # 類似度で降順にソート\n",
    "    return sorted(enumerate(sims), key=lambda x: x[1], reverse=True)\n",
    "\n",
    "def get_list_from_file(file_name):\n",
    "    with open(file_name, 'r', encoding='UTF-8') as f:\n",
    "        return f.read().split()"
   ]
  },
  {
   "cell_type": "code",
   "execution_count": 6,
   "metadata": {},
   "outputs": [
    {
     "name": "stdout",
     "output_type": "stream",
     "text": [
      "逆数学 0.4204\n",
      "ブラックホールと時空の方程式 0.2737\n",
      "Coq/SSReflect/MathCompによる定理証明 0.1746\n",
      "応用数学問題集 0.1195\n",
      "64の事例からわかる金属腐食の対策 0.0660\n",
      "実践_地域・まちづくりワーク 0.0381\n",
      "ゼロからはじめるVisual_C#入門 0.0262\n",
      "生態系生態学(第2版) 0.0259\n",
      "基礎からわかる高分子材料 0.0243\n"
     ]
    }
   ],
   "source": [
    "# Listing 4.5 #\n",
    "\n",
    "# 書籍紹介のデータを読み込む\n",
    "book_texts = [get_string_from_file('data/ch04/%d.txt' % i) for i in range(0,10)]\n",
    "\n",
    "# 書籍のタイトルを読み込む\n",
    "titles = get_list_from_file('data/ch04/book-titles.txt')\n",
    "\n",
    "# 類似度の計算とランキング\n",
    "# book_texts[9]は「定理のつくりかた」．book_texts[:-1]はそれ以外\n",
    "result = vsm_search(book_texts[:-1], book_texts[9])\n",
    "\n",
    "# 文書番号をタイトルに変換して出力\n",
    "for x in range(9):\n",
    "    print('%s %.4f' % (titles[result[x][0]], result[x][1]))                       "
   ]
  },
  {
   "cell_type": "code",
   "execution_count": 7,
   "metadata": {},
   "outputs": [
    {
     "name": "stdout",
     "output_type": "stream",
     "text": [
      "定理のつくりかた 0.6793\n",
      "逆数学 0.4038\n",
      "ブラックホールと時空の方程式 0.2001\n",
      "Coq/SSReflect/MathCompによる定理証明 0.1457\n",
      "応用数学問題集 0.0807\n",
      "64の事例からわかる金属腐食の対策 0.0000\n",
      "基礎からわかる高分子材料 0.0000\n",
      "ゼロからはじめるVisual_C#入門 0.0000\n",
      "実践_地域・まちづくりワーク 0.0000\n",
      "生態系生態学(第2版) 0.0000\n"
     ]
    }
   ],
   "source": [
    "# Listing 4.6 #\n",
    "\n",
    "texts = [get_string_from_file('data/ch04/%d.txt' % i) for i in range(10)]\n",
    "titles = get_list_from_file('data/ch04/book-titles.txt')\n",
    "query = '数学'\n",
    "result = vsm_search(texts, query)\n",
    "for x in range(len(result)):\n",
    "    print('%s %.4f' % (titles[result[x][0]], result[x][1]))"
   ]
  },
  {
   "cell_type": "code",
   "execution_count": null,
   "metadata": {},
   "outputs": [],
   "source": []
  }
 ],
 "metadata": {
  "kernelspec": {
   "display_name": "Python 3",
   "language": "python",
   "name": "python3"
  },
  "language_info": {
   "codemirror_mode": {
    "name": "ipython",
    "version": 3
   },
   "file_extension": ".py",
   "mimetype": "text/x-python",
   "name": "python",
   "nbconvert_exporter": "python",
   "pygments_lexer": "ipython3",
   "version": "3.6.12"
  }
 },
 "nbformat": 4,
 "nbformat_minor": 2
}
