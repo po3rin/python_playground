{
 "cells": [
  {
   "cell_type": "markdown",
   "metadata": {},
   "source": [
    "# 第7章 文書のクラス分類"
   ]
  },
  {
   "cell_type": "code",
   "execution_count": 1,
   "metadata": {},
   "outputs": [],
   "source": [
    "# これまでに定義した関数の読み込み\n",
    "\n",
    "from chapter01 import get_string_from_file\n",
    "from chapter02 import get_words_from_file, configure_fonts_for_japanese\n",
    "from chapter03 import get_words, bows_to_cfs, load_aozora_corpus, get_bows,  add_to_corpus,\\\n",
    "    get_weights, translate_bows, get_tfidfmodel_and_weights\n",
    "from chapter04 import vsm_search, get_list_from_file"
   ]
  },
  {
   "cell_type": "markdown",
   "metadata": {},
   "source": [
    "## 7.3 ナイーブベイズ"
   ]
  },
  {
   "cell_type": "code",
   "execution_count": 2,
   "metadata": {},
   "outputs": [],
   "source": [
    "# Listing 7.1 #\n",
    "\n",
    "from gensim import matutils\n",
    "\n",
    "# 書籍紹介文のデータから訓練データ用の文書ベクトルを作成\n",
    "# TF・IDFの計算は青空文庫のデータを利用\n",
    "book_texts = [get_string_from_file('data/ch07/%d.txt' % i) for i in range(15)]\n",
    "tfidf_model, dic, vectors = get_tfidfmodel_and_weights(book_texts)\n",
    "\n",
    "# denseな文書ベクトルに変換\n",
    "vectors = matutils.corpus2dense(vectors, len(dic)).T\n",
    "\n",
    "# 書籍のタイトル，クラス番号をそれぞれbook-titles.txtとclass.txtから読み込む\n",
    "titles = get_list_from_file('data/ch07/book-titles.txt')\n",
    "classes = get_list_from_file('data/ch07/class.txt')"
   ]
  },
  {
   "cell_type": "code",
   "execution_count": 3,
   "metadata": {},
   "outputs": [
    {
     "data": {
      "text/plain": [
       "MultinomialNB(alpha=1.0, class_prior=None, fit_prior=True)"
      ]
     },
     "execution_count": 3,
     "metadata": {},
     "output_type": "execute_result"
    }
   ],
   "source": [
    "# Listing 7.2 #\n",
    "\n",
    "from sklearn.naive_bayes import MultinomialNB\n",
    "\n",
    "# 多項分布モデルの分類器を生成\n",
    "mnb = MultinomialNB()\n",
    "# 分類器にデータと正解を与え学習させる\n",
    "mnb.fit(vectors, classes)"
   ]
  },
  {
   "cell_type": "code",
   "execution_count": 4,
   "metadata": {},
   "outputs": [
    {
     "name": "stdout",
     "output_type": "stream",
     "text": [
      "Pythonで実装: 3\n",
      "微分方程式を解く: 2\n",
      "規格に準拠: 1\n",
      "アナログからデジタルへ: 1\n",
      "人工知能: 3\n"
     ]
    }
   ],
   "source": [
    "# Listing 7.3 #\n",
    "\n",
    "# 分類対象のフレーズ\n",
    "test_texts = ['Pythonで実装',\n",
    "              '微分方程式を解く',\n",
    "              '規格に準拠',\n",
    "              'アナログからデジタルへ',\n",
    "              '人工知能']\n",
    "\n",
    "# フレーズの文書ベクトルを作成\n",
    "test_bows = get_bows(test_texts, dic)\n",
    "test_vectors = get_weights(test_bows, dic, tfidf_model)\n",
    "test_vectors = matutils.corpus2dense(test_vectors, len(dic)).T\n",
    "\n",
    "# クラスを推定\n",
    "predicted_classes = mnb.predict(test_vectors)\n",
    "\n",
    "# フレーズと推定結果を並べて表示\n",
    "for i, j in zip(test_texts, predicted_classes):\n",
    "    print('{}: {}'.format(i, j))"
   ]
  },
  {
   "cell_type": "markdown",
   "metadata": {},
   "source": [
    "## 分類器の評価"
   ]
  },
  {
   "cell_type": "code",
   "execution_count": 5,
   "metadata": {},
   "outputs": [],
   "source": [
    "# Listing 7.4 #\n",
    "\n",
    "cv_texts = [get_string_from_file('data/ch07/cv/%d.txt' % i) for i in range(90)]\n",
    "tfidf_model, dic, vectors = get_tfidfmodel_and_weights(cv_texts)\n",
    "vectors = matutils.corpus2dense(vectors, len(dic)).T\n",
    "\n",
    "# 書籍のクラスを読み込む．\n",
    "classes = get_list_from_file('data/ch07/cv/class.txt')"
   ]
  },
  {
   "cell_type": "code",
   "execution_count": 6,
   "metadata": {},
   "outputs": [
    {
     "name": "stdout",
     "output_type": "stream",
     "text": [
      "Test 1/3:\t0.4667\n",
      "Test 2/3:\t0.5333\n",
      "Test 3/3:\t0.5667\n",
      "Average:\t0.5222\n"
     ]
    }
   ],
   "source": [
    "# Listing 7.5 #\n",
    "\n",
    "from sklearn.model_selection import cross_val_score\n",
    "from sklearn.model_selection import StratifiedKFold\n",
    "from sklearn.naive_bayes import MultinomialNB\n",
    "\n",
    "# 分割数が3の層化K分割交差検証のオブジェクトを生成\n",
    "K = 3\n",
    "skf = StratifiedKFold(n_splits=K)\n",
    "\n",
    "# 分類器にはナイーブベイズを使用\n",
    "classifier = MultinomialNB()\n",
    "\n",
    "# 交差検証を実行\n",
    "scores = cross_val_score(classifier, vectors, classes, cv=skf)\n",
    "\n",
    "# 各回のスコアと平均を表示\n",
    "for i in range(K):\n",
    "    print('Test %d/%d:\\t%.4f' % (i+1, K, scores[i]))\n",
    "print('Average:\\t%.4f' % (sum(scores)/K))"
   ]
  },
  {
   "cell_type": "code",
   "execution_count": 7,
   "metadata": {},
   "outputs": [
    {
     "name": "stdout",
     "output_type": "stream",
     "text": [
      "Test 1/3:\t0.6333\n",
      "Test 2/3:\t0.6333\n",
      "Test 3/3:\t0.6333\n",
      "Average:\t0.6333\n"
     ]
    }
   ],
   "source": [
    "# Listing 7.6 #\n",
    "\n",
    "from sklearn import svm\n",
    "\n",
    "K = 3\n",
    "skf = StratifiedKFold(n_splits=K)\n",
    "\n",
    "# 分類器にサポートベクトルマシンを使用\n",
    "classifier = svm.SVC(kernel='rbf', C=1, gamma=1)\n",
    "\n",
    "# 交差検証を実行\n",
    "scores = cross_val_score(classifier, vectors, classes, cv=skf)\n",
    "\n",
    "# 結果の表示\n",
    "for i in range(K):\n",
    "    print('Test %d/%d:\\t%.4f' % (i+1, K, scores[i]))\n",
    "print('Average:\\t%.4f' % (sum(scores)/K))"
   ]
  },
  {
   "cell_type": "code",
   "execution_count": 8,
   "metadata": {},
   "outputs": [
    {
     "name": "stdout",
     "output_type": "stream",
     "text": [
      " 9\t 2\t 0\t 3\t 1\t 0\t 経営工学\n",
      " 5\t 3\t 0\t 3\t 4\t 0\t 土木\n",
      " 0\t 1\t13\t 1\t 0\t 0\t 建築\n",
      " 2\t 0\t 0\t12\t 1\t 0\t 機械\n",
      " 1\t 2\t 1\t 1\t10\t 0\t 電気\n",
      " 0\t 2\t 0\t 3\t 0\t10\t 情報\n"
     ]
    }
   ],
   "source": [
    "# Listing 7.7 #\n",
    "\n",
    "from sklearn.model_selection import cross_val_predict\n",
    "from sklearn.metrics import confusion_matrix\n",
    "\n",
    "classifier = svm.SVC(kernel='rbf', C=1, gamma=1)\n",
    "\n",
    "# 交差検証を行い，分類結果を取得\n",
    "prediction = cross_val_predict(classifier, vectors, classes, cv=skf)\n",
    "# 分類結果から混同行列を生成\n",
    "cm = confusion_matrix(classes, prediction)\n",
    "\n",
    "# classesの重複を取り除いてクラス名のリストを作成\n",
    "class_names = [j for i, j in enumerate(classes) if not j in classes[:i]]\n",
    "\n",
    "# '%2d' + タブ が6個(クラスの数)並んだ書式の作成                                   \n",
    "fmt = '%2d\\t'*6                                                                    \n",
    "\n",
    "# 混同行列の各行とクラス名を並べて表示\n",
    "for i, j in enumerate(cm):\n",
    "    print(fmt % tuple(j), class_names[i])"
   ]
  },
  {
   "cell_type": "code",
   "execution_count": 9,
   "metadata": {},
   "outputs": [
    {
     "name": "stdout",
     "output_type": "stream",
     "text": [
      "{'C': 1, 'gamma': 1, 'kernel': 'rbf'}\n"
     ]
    }
   ],
   "source": [
    "# Listing 7.8 #\n",
    "\n",
    "from sklearn.model_selection import GridSearchCV\n",
    "\n",
    "# パラメータの選択肢\n",
    "params = {\n",
    "    'kernel': ['rbf'],\n",
    "    'C': [0.1, 1, 10, 100],\n",
    "    'gamma': [0.1, 1, 10, 100]\n",
    "}\n",
    "\n",
    "classifier = svm.SVC()\n",
    "\n",
    "# グリッドサーチを行う．分割数3の交差検証で評価．\n",
    "gs = GridSearchCV(classifier, params, cv=3)\n",
    "gs.fit(vectors, classes)\n",
    "\n",
    "# 最もよい性能を与えるものを出力\n",
    "print(gs.best_params_)"
   ]
  },
  {
   "cell_type": "code",
   "execution_count": null,
   "metadata": {},
   "outputs": [],
   "source": []
  }
 ],
 "metadata": {
  "kernelspec": {
   "display_name": "Python 3",
   "language": "python",
   "name": "python3"
  },
  "language_info": {
   "codemirror_mode": {
    "name": "ipython",
    "version": 3
   },
   "file_extension": ".py",
   "mimetype": "text/x-python",
   "name": "python",
   "nbconvert_exporter": "python",
   "pygments_lexer": "ipython3",
   "version": "3.6.5"
  }
 },
 "nbformat": 4,
 "nbformat_minor": 2
}
