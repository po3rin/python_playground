{
 "cells": [
  {
   "cell_type": "markdown",
   "metadata": {},
   "source": [
    "# 第5章 検索システムの評価"
   ]
  },
  {
   "cell_type": "code",
   "execution_count": 1,
   "metadata": {},
   "outputs": [],
   "source": [
    "# これまでに定義した関数の読み込み\n",
    "\n",
    "from chapter01 import get_string_from_file\n",
    "from chapter02 import get_words_from_file\n",
    "from chapter03 import get_words, bows_to_cfs, load_aozora_corpus, get_bows,\\\n",
    "    add_to_corpus, get_weights, translate_bows, get_tfidfmodel_and_weights\n",
    "from chapter04 import vsm_search\n",
    "\n",
    "%matplotlib inline"
   ]
  },
  {
   "cell_type": "markdown",
   "metadata": {},
   "source": [
    "## 5.2 適合率と再現率"
   ]
  },
  {
   "cell_type": "code",
   "execution_count": 2,
   "metadata": {},
   "outputs": [],
   "source": [
    "# Listing 5.1 #\n",
    "\n",
    "right_answer = [0, 1, 0, 1, 0, 1, 0, 0, 1, 1]"
   ]
  },
  {
   "cell_type": "code",
   "execution_count": 3,
   "metadata": {},
   "outputs": [
    {
     "name": "stdout",
     "output_type": "stream",
     "text": [
      "[(1, 0.7481151),\n",
      " (8, 0.6076249),\n",
      " (5, 0.31722325),\n",
      " (0, 0.21160641),\n",
      " (2, 0.18004589),\n",
      " (3, 0.0),\n",
      " (4, 0.0),\n",
      " (6, 0.0),\n",
      " (7, 0.0),\n",
      " (9, 0.0)]\n"
     ]
    }
   ],
   "source": [
    "# Listing 5.2 #\n",
    "\n",
    "from pprint import pprint\n",
    "\n",
    "# 書籍紹介のデータを読み込む\n",
    "book_texts = [get_string_from_file('data/ch05/%d.txt' % i) for i in range(0,10)]        \n",
    "query = '人工知能'\n",
    "\n",
    "result = vsm_search(book_texts, query)\n",
    "pprint(result)"
   ]
  },
  {
   "cell_type": "code",
   "execution_count": 4,
   "metadata": {},
   "outputs": [],
   "source": [
    "# Listing 5.3 #\n",
    "\n",
    "def select_by_threshold(r, threshold=0.0):\n",
    "    # rの長さ分の0を要素とするリストを作成\n",
    "    answer = [0]*len(r)\n",
    "    for i in r:\n",
    "        # 類似度がthresholdより大きいときr[文書番号]を1にする\n",
    "        if i[1] > threshold: answer[i[0]] = 1\n",
    "    return answer"
   ]
  },
  {
   "cell_type": "code",
   "execution_count": 5,
   "metadata": {},
   "outputs": [
    {
     "name": "stdout",
     "output_type": "stream",
     "text": [
      "right_answer = [0, 1, 0, 1, 0, 1, 0, 0, 1, 1]\n",
      "my_answer    = [1, 1, 1, 0, 0, 1, 0, 0, 1, 0]\n"
     ]
    }
   ],
   "source": [
    "# Listing 5.4 #\n",
    "\n",
    "# デフォルト値0.0を閾値として採否を判断\n",
    "my_answer = select_by_threshold(result, threshold=0)\n",
    "# 正解と並べて表示\n",
    "print('right_answer = {}'.format(right_answer))\n",
    "print('my_answer    = {}'.format(my_answer))"
   ]
  },
  {
   "cell_type": "code",
   "execution_count": 6,
   "metadata": {},
   "outputs": [],
   "source": [
    "# Listing 5.5 #\n",
    "\n",
    "from sklearn.metrics import precision_score, recall_score, f1_score\n",
    "\n",
    "def print_scores(right_answer, my_answer):\n",
    "    print('precision %.4f' % precision_score(right_answer, my_answer))\n",
    "    print('recall %.4f' % recall_score(right_answer, my_answer))   \n",
    "    print('f-measure %.4f' % f1_score(right_answer, my_answer))"
   ]
  },
  {
   "cell_type": "code",
   "execution_count": 7,
   "metadata": {},
   "outputs": [
    {
     "name": "stdout",
     "output_type": "stream",
     "text": [
      "precision 0.6000\n",
      "recall 0.6000\n",
      "f-measure 0.6000\n"
     ]
    }
   ],
   "source": [
    "# Listing 5.6 #\n",
    "\n",
    "print_scores(right_answer, my_answer)"
   ]
  },
  {
   "cell_type": "code",
   "execution_count": 8,
   "metadata": {},
   "outputs": [
    {
     "name": "stdout",
     "output_type": "stream",
     "text": [
      "my_answer = [0, 1, 0, 0, 0, 1, 0, 0, 1, 0]\n",
      "precision 1.0000\n",
      "recall 0.6000\n",
      "f-measure 0.7500\n"
     ]
    }
   ],
   "source": [
    "# Listing 5.7 #\n",
    "\n",
    "my_answer = select_by_threshold(result, threshold=0.3)\n",
    "print('my_answer = {}'.format(my_answer))\n",
    "print_scores(right_answer, my_answer)"
   ]
  },
  {
   "cell_type": "code",
   "execution_count": 9,
   "metadata": {},
   "outputs": [
    {
     "name": "stdout",
     "output_type": "stream",
     "text": [
      "['人工', '知能']\n"
     ]
    }
   ],
   "source": [
    "# Listing 5.8 #\n",
    "\n",
    "print(get_words(query))"
   ]
  },
  {
   "cell_type": "markdown",
   "metadata": {},
   "source": [
    "## 5.3 適合率-再現率曲線"
   ]
  },
  {
   "cell_type": "code",
   "execution_count": 10,
   "metadata": {},
   "outputs": [
    {
     "name": "stdout",
     "output_type": "stream",
     "text": [
      "(1, 8, 5, 0, 2, 3, 4, 6, 7, 9)\n"
     ]
    }
   ],
   "source": [
    "# Listing 5.9 #\n",
    "\n",
    "my_ranking = tuple([x[0] for x in result])\n",
    "print(my_ranking)"
   ]
  },
  {
   "cell_type": "code",
   "execution_count": 11,
   "metadata": {},
   "outputs": [
    {
     "name": "stdout",
     "output_type": "stream",
     "text": [
      "1110010001\n"
     ]
    }
   ],
   "source": [
    "# Listing 5.10 #\n",
    "\n",
    "# str()で数値を文字列に変換し，''.join()で結合する\n",
    "print(''.join([str(right_answer[i]) for i in my_ranking]))"
   ]
  },
  {
   "cell_type": "code",
   "execution_count": 12,
   "metadata": {},
   "outputs": [
    {
     "name": "stdout",
     "output_type": "stream",
     "text": [
      "(1, 3, 5, 8, 9, 0, 2, 4, 6, 7)\n",
      "1111100000\n"
     ]
    }
   ],
   "source": [
    "# Listing 5.11 #\n",
    "\n",
    "# クエリに適合する文書のリスト\n",
    "matching = [i for i, x in enumerate(right_answer) if x == 1]\n",
    "# 適合しない文書のリスト\n",
    "non_matching = [i for i, x in enumerate(right_answer) if x == 0]\n",
    "\n",
    "# 理想的なランキング\n",
    "good_ranking = tuple(matching + non_matching)\n",
    "print(good_ranking)\n",
    "print(''.join([str(right_answer[i]) for i in good_ranking]))"
   ]
  },
  {
   "cell_type": "code",
   "execution_count": 13,
   "metadata": {},
   "outputs": [],
   "source": [
    "# Listing 5.12 #\n",
    "\n",
    "def top_n(r, n):\n",
    "    answer = [0]*len(r)\n",
    "    for i in range(n):\n",
    "        answer[r[i]] = 1\n",
    "    return answer"
   ]
  },
  {
   "cell_type": "code",
   "execution_count": 14,
   "metadata": {},
   "outputs": [
    {
     "name": "stdout",
     "output_type": "stream",
     "text": [
      "[0, 1, 0, 0, 0, 0, 0, 0, 1, 0]\n",
      "0.4\n",
      "1.0\n"
     ]
    }
   ],
   "source": [
    "# Listing 5.13 #\n",
    "\n",
    "n = 2\n",
    "my_answer_n = top_n(my_ranking, n)\n",
    "print(my_answer_n)\n",
    "print(recall_score(right_answer, my_answer_n))\n",
    "print(precision_score(right_answer, my_answer_n))"
   ]
  },
  {
   "cell_type": "code",
   "execution_count": 15,
   "metadata": {},
   "outputs": [],
   "source": [
    "# Listing 5.14 #\n",
    "\n",
    "def get_pr_curve(ranking, answer):\n",
    "    # top_n(ranking, i)の適合率と再現率をそれぞれprecision[i]とrecall[i]へ\n",
    "    # precision[0] = 1, recall[0] = 0とする\n",
    "    precision = [1]\n",
    "    recall = [0]\n",
    "    for i in range(1, len(ranking) + 1):\n",
    "        x = top_n(ranking, i)\n",
    "        precision.append(precision_score(answer, x))\n",
    "        recall.append(recall_score(answer, x))\n",
    "    return precision, recall"
   ]
  },
  {
   "cell_type": "code",
   "execution_count": 16,
   "metadata": {},
   "outputs": [],
   "source": [
    "# Listing 5.15 #\n",
    "                                                             \n",
    "import matplotlib.pyplot as plt\n",
    "%matplotlib inline\n",
    "\n",
    "def draw_pr_curve(ranking, answer):\n",
    "    precision, recall = get_pr_curve(ranking, answer)\n",
    "    # グラフの描画範囲を設定\n",
    "    plt.xlim(-0.05, 1.05)\n",
    "    plt.ylim(0.0, 1.1)\n",
    "    # 各軸のラベルを設定．x軸に再現率，Y軸に適合率\n",
    "    plt.xlabel('recall')\n",
    "    plt.ylabel('precision')\n",
    "    # 曲線の下を塗りつぶす\n",
    "    plt.fill_between(recall, precision, 0, facecolor='#FFFFCC')\n",
    "    # 曲線を点と線で描く\n",
    "    plt.plot(recall, precision, 'o-')"
   ]
  },
  {
   "cell_type": "code",
   "execution_count": 17,
   "metadata": {},
   "outputs": [
    {
     "data": {
      "image/png": "[encoded data removed]",
      "text/plain": [
       "<Figure size 432x288 with 1 Axes>"
      ]
     },
     "metadata": {
      "needs_background": "light"
     },
     "output_type": "display_data"
    }
   ],
   "source": [
    "# Listing 5.16 #\n",
    "\n",
    "draw_pr_curve(my_ranking, right_answer)"
   ]
  },
  {
   "cell_type": "code",
   "execution_count": 18,
   "metadata": {},
   "outputs": [
    {
     "data": {
      "image/png": "[encoded data removed]",
      "text/plain": [
       "<Figure size 432x288 with 1 Axes>"
      ]
     },
     "metadata": {
      "needs_background": "light"
     },
     "output_type": "display_data"
    }
   ],
   "source": [
    "# Listing 5.17 #\n",
    "\n",
    "draw_pr_curve(good_ranking, right_answer)"
   ]
  },
  {
   "cell_type": "code",
   "execution_count": 19,
   "metadata": {},
   "outputs": [],
   "source": [
    "# Listing 5.18 #\n",
    "\n",
    "def get_average_precision(ranking, answer):\n",
    "    precision, recall = get_pr_curve(ranking, answer)\n",
    "    ap = 0.0\n",
    "    # (r[i-1], 0), (r[i-1], p[i-1]), (r[i], 0), (r[i], p[i]) で\n",
    "    # 囲まれる面積をそれぞれap に加算\n",
    "    for i in range(1, len(precision)):\n",
    "        ap += (recall[i] - recall[i -1])*(precision[i -1] + precision[i])/2.0\n",
    "    return ap"
   ]
  },
  {
   "cell_type": "code",
   "execution_count": 20,
   "metadata": {},
   "outputs": [
    {
     "name": "stdout",
     "output_type": "stream",
     "text": [
      "my_ranking   0.8211\n",
      "good_ranking 1.0000\n"
     ]
    }
   ],
   "source": [
    "# Listing 5.19 #\n",
    "\n",
    "print('my_ranking   %.4f' % get_average_precision(my_ranking, right_answer))\n",
    "print('good_ranking %.4f' % get_average_precision(good_ranking, right_answer))"
   ]
  },
  {
   "cell_type": "code",
   "execution_count": null,
   "metadata": {},
   "outputs": [],
   "source": []
  }
 ],
 "metadata": {
  "kernelspec": {
   "display_name": "Python 3",
   "language": "python",
   "name": "python3"
  },
  "language_info": {
   "codemirror_mode": {
    "name": "ipython",
    "version": 3
   },
   "file_extension": ".py",
   "mimetype": "text/x-python",
   "name": "python",
   "nbconvert_exporter": "python",
   "pygments_lexer": "ipython3",
   "version": "3.6.5"
  }
 },
 "nbformat": 4,
 "nbformat_minor": 2
}
