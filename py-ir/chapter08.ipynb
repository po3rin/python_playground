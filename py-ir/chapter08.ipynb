{
 "cells": [
  {
   "cell_type": "markdown",
   "metadata": {},
   "source": [
    "# 第8章 クエリの修正"
   ]
  },
  {
   "cell_type": "code",
   "execution_count": 1,
   "metadata": {},
   "outputs": [],
   "source": [
    "# これまでに定義した関数の読み込み\n",
    "\n",
    "from chapter01 import get_string_from_file\n",
    "from chapter02 import get_words_from_file, configure_fonts_for_japanese\n",
    "from chapter03 import get_words, bows_to_cfs, load_aozora_corpus, get_bows,  add_to_corpus,\\\n",
    "    get_weights, translate_bows, get_tfidfmodel_and_weights\n",
    "from chapter04 import vsm_search, get_list_from_file"
   ]
  },
  {
   "cell_type": "markdown",
   "metadata": {},
   "source": [
    "## 8.2 適合性フィードバック"
   ]
  },
  {
   "cell_type": "code",
   "execution_count": 2,
   "metadata": {},
   "outputs": [
    {
     "name": "stdout",
     "output_type": "stream",
     "text": [
      "[(11, '都市環境から考えるこれからのまちづくり'),\n",
      " (6, '植物と微気象'),\n",
      " (7, '生態系生態学'),\n",
      " (10, '都市景観の環境デザイン'),\n",
      " (2, '地球と都市の温暖化'),\n",
      " (5, '森林水文学'),\n",
      " (0, 'これからの強化学習'),\n",
      " (1, 'ブラックホールと時空の方程式'),\n",
      " (3, '基礎からわかる高分子材料'),\n",
      " (4, '定理のつくりかた'),\n",
      " (8, '逆数学'),\n",
      " (9, '通信ネットワーク概論')]\n"
     ]
    }
   ],
   "source": [
    "# Listing 8.1 #\n",
    "\n",
    "from pprint import pprint\n",
    "\n",
    "# 書籍の紹介文，タイトルの読み込み(再掲)\n",
    "texts = [get_string_from_file('data/ch08/%d.txt' % i) for i in range(12)]     \n",
    "titles = get_list_from_file('data/ch08/book-titles.txt')\n",
    "\n",
    "# vsm_searchにより「環境」で検索した結果をランキング\n",
    "r = vsm_search(texts, '環境')\n",
    "# ランキング順に文書番号とタイトルを表示\n",
    "pprint([(i, titles[i]) for i, _ in r])"
   ]
  },
  {
   "cell_type": "code",
   "execution_count": 3,
   "metadata": {},
   "outputs": [],
   "source": [
    "# Listing 8.2 #\n",
    "\n",
    "# weightで重み付けしたvecの値をdicに加算\n",
    "# 例えば，vec = [(id1, val1)] なら dic[id1] += weight*val1\n",
    "def add_weights(dic, vec, weight=1.0):\n",
    "    for (id, val) in vec:\n",
    "        if not id in dic:\n",
    "            dic[id] = 0\n",
    "        dic[id] += weight*val\n",
    "\n",
    "def Rocchio(query_vec, R_plus_vecs, R_minus_vecs,\n",
    "    alpha=1.0, beta=0.75, gamma=0.15):\n",
    "\n",
    "    # query_vec = [(id1, val1), (id2, val2), ...] から\n",
    "    # { id1 : alpha*val1, id2 : alpha*val2, ,...} を計算 (8.1式の第1項)\n",
    "    q = { id : alpha*val for (id, val) in query_vec }\n",
    "\n",
    "    # 適合文書の文書ベクトルをqに反映させる (8.1式の第2項)\n",
    "    n = len(R_plus_vecs)\n",
    "    if n > 0:\n",
    "        w = beta/n\n",
    "        # R_plus_vecsの要素にwをかけて加算\n",
    "        for v in R_plus_vecs:\n",
    "            add_weights(q, v, weight=w)\n",
    "\n",
    "    # 不適合文書の文書ベクトルをqに反映させる (8.1式の第3項)\n",
    "    n = len(R_minus_vecs)\n",
    "    if n > 0:\n",
    "        w = -gamma/n\n",
    "        for v in R_minus_vecs:\n",
    "            add_weights(q, v, weight=w)\n",
    "\n",
    "    # 辞書型のデータをbag-of-wordsフォーマットに変換\n",
    "    return list(q.items())"
   ]
  },
  {
   "cell_type": "code",
   "execution_count": 4,
   "metadata": {},
   "outputs": [],
   "source": [
    "# Listing 8.3 #\n",
    "\n",
    "from gensim.similarities import MatrixSimilarity\n",
    "\n",
    "# 適合文書のidリストをR_plusに，不適合文書のidリストをR_minusに指定\n",
    "def vsm_search_with_feedback(texts, query, R_plus, R_minus):\n",
    "    tfidf_model, dic, text_weights = get_tfidfmodel_and_weights(texts)\n",
    "\n",
    "    index = MatrixSimilarity(text_weights,  num_features=len(dic))\n",
    "    query_bows = get_bows([query], dic)\n",
    "    query_weights = get_weights(query_bows, dic, tfidf_model)\n",
    "\n",
    "    # 適合/不適合文書のベクトルのリストを作成\n",
    "    R_plus_vecs = [text_weights[i] for i in R_plus]\n",
    "    R_minus_vecs = [text_weights[i] for i in R_minus]\n",
    "\n",
    "    # Rocchioのアルゴリズムでクエリのベクトルquery_weights[0]を修正\n",
    "    feedback_query = Rocchio(query_weights[0], R_plus_vecs, R_minus_vecs)\n",
    "\n",
    "    # 修正したクエリとの類似度を計算\n",
    "    sims = index[feedback_query]\n",
    "\n",
    "    return sorted(enumerate(sims), key=lambda x: x[1], reverse=True)"
   ]
  },
  {
   "cell_type": "code",
   "execution_count": 5,
   "metadata": {},
   "outputs": [
    {
     "name": "stdout",
     "output_type": "stream",
     "text": [
      "[(6, '植物と微気象'),\n",
      " (7, '生態系生態学'),\n",
      " (5, '森林水文学'),\n",
      " (11, '都市環境から考えるこれからのまちづくり'),\n",
      " (10, '都市景観の環境デザイン'),\n",
      " (2, '地球と都市の温暖化'),\n",
      " (1, 'ブラックホールと時空の方程式'),\n",
      " (4, '定理のつくりかた'),\n",
      " (3, '基礎からわかる高分子材料'),\n",
      " (8, '逆数学'),\n",
      " (0, 'これからの強化学習'),\n",
      " (9, '通信ネットワーク概論')]\n"
     ]
    }
   ],
   "source": [
    "# Listing 8.4 #\n",
    "\n",
    "# id=6を適合，id=11を不適合な文書に指定し，適合性フィードバックを行う\n",
    "r = vsm_search_with_feedback(texts, '環境', [6], [11])\n",
    "pprint([(i, titles[i]) for i, _ in r])"
   ]
  },
  {
   "cell_type": "code",
   "execution_count": null,
   "metadata": {},
   "outputs": [],
   "source": []
  }
 ],
 "metadata": {
  "kernelspec": {
   "display_name": "Python 3",
   "language": "python",
   "name": "python3"
  },
  "language_info": {
   "codemirror_mode": {
    "name": "ipython",
    "version": 3
   },
   "file_extension": ".py",
   "mimetype": "text/x-python",
   "name": "python",
   "nbconvert_exporter": "python",
   "pygments_lexer": "ipython3",
   "version": "3.6.5"
  }
 },
 "nbformat": 4,
 "nbformat_minor": 2
}
