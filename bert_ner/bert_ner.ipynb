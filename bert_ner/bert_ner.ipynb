{
  "nbformat": 4,
  "nbformat_minor": 0,
  "metadata": {
    "colab": {
      "name": "bert ner",
      "provenance": [],
      "authorship_tag": "ABX9TyM0a8utYWh/mTUdZYAOszcQ",
      "include_colab_link": true
    },
    "kernelspec": {
      "name": "python3",
      "display_name": "Python 3"
    },
    "widgets": {
      "application/vnd.jupyter.widget-state+json": {
        "6fbbe92951c847c29e8a32517ac96662": {
          "model_module": "@jupyter-widgets/controls",
          "model_name": "HBoxModel",
          "state": {
            "_view_name": "HBoxView",
            "_dom_classes": [],
            "_model_name": "HBoxModel",
            "_view_module": "@jupyter-widgets/controls",
            "_model_module_version": "1.5.0",
            "_view_count": null,
            "_view_module_version": "1.5.0",
            "box_style": "",
            "layout": "IPY_MODEL_908a4d7b3ad54eefb5e3d783ae16e40d",
            "_model_module": "@jupyter-widgets/controls",
            "children": [
              "IPY_MODEL_fff1d23f12b3479f99b445aa8fc7789d",
              "IPY_MODEL_7953cc2e29cc41cdbca4f113422da1f2"
            ]
          }
        },
        "908a4d7b3ad54eefb5e3d783ae16e40d": {
          "model_module": "@jupyter-widgets/base",
          "model_name": "LayoutModel",
          "state": {
            "_view_name": "LayoutView",
            "grid_template_rows": null,
            "right": null,
            "justify_content": null,
            "_view_module": "@jupyter-widgets/base",
            "overflow": null,
            "_model_module_version": "1.2.0",
            "_view_count": null,
            "flex_flow": null,
            "width": null,
            "min_width": null,
            "border": null,
            "align_items": null,
            "bottom": null,
            "_model_module": "@jupyter-widgets/base",
            "top": null,
            "grid_column": null,
            "overflow_y": null,
            "overflow_x": null,
            "grid_auto_flow": null,
            "grid_area": null,
            "grid_template_columns": null,
            "flex": null,
            "_model_name": "LayoutModel",
            "justify_items": null,
            "grid_row": null,
            "max_height": null,
            "align_content": null,
            "visibility": null,
            "align_self": null,
            "height": null,
            "min_height": null,
            "padding": null,
            "grid_auto_rows": null,
            "grid_gap": null,
            "max_width": null,
            "order": null,
            "_view_module_version": "1.2.0",
            "grid_template_areas": null,
            "object_position": null,
            "object_fit": null,
            "grid_auto_columns": null,
            "margin": null,
            "display": null,
            "left": null
          }
        },
        "fff1d23f12b3479f99b445aa8fc7789d": {
          "model_module": "@jupyter-widgets/controls",
          "model_name": "FloatProgressModel",
          "state": {
            "_view_name": "ProgressView",
            "style": "IPY_MODEL_33d490ce62134318a4754d7c46df28e9",
            "_dom_classes": [],
            "description": "Downloading: 100%",
            "_model_name": "FloatProgressModel",
            "bar_style": "success",
            "max": 257706,
            "_view_module": "@jupyter-widgets/controls",
            "_model_module_version": "1.5.0",
            "value": 257706,
            "_view_count": null,
            "_view_module_version": "1.5.0",
            "orientation": "horizontal",
            "min": 0,
            "description_tooltip": null,
            "_model_module": "@jupyter-widgets/controls",
            "layout": "IPY_MODEL_1202ba1f82ca45d588a6cd32fc53fcdd"
          }
        },
        "7953cc2e29cc41cdbca4f113422da1f2": {
          "model_module": "@jupyter-widgets/controls",
          "model_name": "HTMLModel",
          "state": {
            "_view_name": "HTMLView",
            "style": "IPY_MODEL_e91cceec3db04c68905d3a97bb57fdfb",
            "_dom_classes": [],
            "description": "",
            "_model_name": "HTMLModel",
            "placeholder": "​",
            "_view_module": "@jupyter-widgets/controls",
            "_model_module_version": "1.5.0",
            "value": " 258k/258k [00:00&lt;00:00, 903kB/s]",
            "_view_count": null,
            "_view_module_version": "1.5.0",
            "description_tooltip": null,
            "_model_module": "@jupyter-widgets/controls",
            "layout": "IPY_MODEL_1c3460a1764f41df9fcd0156cf297886"
          }
        },
        "33d490ce62134318a4754d7c46df28e9": {
          "model_module": "@jupyter-widgets/controls",
          "model_name": "ProgressStyleModel",
          "state": {
            "_view_name": "StyleView",
            "_model_name": "ProgressStyleModel",
            "description_width": "initial",
            "_view_module": "@jupyter-widgets/base",
            "_model_module_version": "1.5.0",
            "_view_count": null,
            "_view_module_version": "1.2.0",
            "bar_color": null,
            "_model_module": "@jupyter-widgets/controls"
          }
        },
        "1202ba1f82ca45d588a6cd32fc53fcdd": {
          "model_module": "@jupyter-widgets/base",
          "model_name": "LayoutModel",
          "state": {
            "_view_name": "LayoutView",
            "grid_template_rows": null,
            "right": null,
            "justify_content": null,
            "_view_module": "@jupyter-widgets/base",
            "overflow": null,
            "_model_module_version": "1.2.0",
            "_view_count": null,
            "flex_flow": null,
            "width": null,
            "min_width": null,
            "border": null,
            "align_items": null,
            "bottom": null,
            "_model_module": "@jupyter-widgets/base",
            "top": null,
            "grid_column": null,
            "overflow_y": null,
            "overflow_x": null,
            "grid_auto_flow": null,
            "grid_area": null,
            "grid_template_columns": null,
            "flex": null,
            "_model_name": "LayoutModel",
            "justify_items": null,
            "grid_row": null,
            "max_height": null,
            "align_content": null,
            "visibility": null,
            "align_self": null,
            "height": null,
            "min_height": null,
            "padding": null,
            "grid_auto_rows": null,
            "grid_gap": null,
            "max_width": null,
            "order": null,
            "_view_module_version": "1.2.0",
            "grid_template_areas": null,
            "object_position": null,
            "object_fit": null,
            "grid_auto_columns": null,
            "margin": null,
            "display": null,
            "left": null
          }
        },
        "e91cceec3db04c68905d3a97bb57fdfb": {
          "model_module": "@jupyter-widgets/controls",
          "model_name": "DescriptionStyleModel",
          "state": {
            "_view_name": "StyleView",
            "_model_name": "DescriptionStyleModel",
            "description_width": "",
            "_view_module": "@jupyter-widgets/base",
            "_model_module_version": "1.5.0",
            "_view_count": null,
            "_view_module_version": "1.2.0",
            "_model_module": "@jupyter-widgets/controls"
          }
        },
        "1c3460a1764f41df9fcd0156cf297886": {
          "model_module": "@jupyter-widgets/base",
          "model_name": "LayoutModel",
          "state": {
            "_view_name": "LayoutView",
            "grid_template_rows": null,
            "right": null,
            "justify_content": null,
            "_view_module": "@jupyter-widgets/base",
            "overflow": null,
            "_model_module_version": "1.2.0",
            "_view_count": null,
            "flex_flow": null,
            "width": null,
            "min_width": null,
            "border": null,
            "align_items": null,
            "bottom": null,
            "_model_module": "@jupyter-widgets/base",
            "top": null,
            "grid_column": null,
            "overflow_y": null,
            "overflow_x": null,
            "grid_auto_flow": null,
            "grid_area": null,
            "grid_template_columns": null,
            "flex": null,
            "_model_name": "LayoutModel",
            "justify_items": null,
            "grid_row": null,
            "max_height": null,
            "align_content": null,
            "visibility": null,
            "align_self": null,
            "height": null,
            "min_height": null,
            "padding": null,
            "grid_auto_rows": null,
            "grid_gap": null,
            "max_width": null,
            "order": null,
            "_view_module_version": "1.2.0",
            "grid_template_areas": null,
            "object_position": null,
            "object_fit": null,
            "grid_auto_columns": null,
            "margin": null,
            "display": null,
            "left": null
          }
        },
        "cd9676a3f1614a0b978760365462b6c5": {
          "model_module": "@jupyter-widgets/controls",
          "model_name": "HBoxModel",
          "state": {
            "_view_name": "HBoxView",
            "_dom_classes": [],
            "_model_name": "HBoxModel",
            "_view_module": "@jupyter-widgets/controls",
            "_model_module_version": "1.5.0",
            "_view_count": null,
            "_view_module_version": "1.5.0",
            "box_style": "",
            "layout": "IPY_MODEL_9275f44e421d4ae095232a5397236ab1",
            "_model_module": "@jupyter-widgets/controls",
            "children": [
              "IPY_MODEL_1edbc05809e94f798f6fab7f575684d9",
              "IPY_MODEL_dd85bf1ee1dc4b30950f43a7766a9f34"
            ]
          }
        },
        "9275f44e421d4ae095232a5397236ab1": {
          "model_module": "@jupyter-widgets/base",
          "model_name": "LayoutModel",
          "state": {
            "_view_name": "LayoutView",
            "grid_template_rows": null,
            "right": null,
            "justify_content": null,
            "_view_module": "@jupyter-widgets/base",
            "overflow": null,
            "_model_module_version": "1.2.0",
            "_view_count": null,
            "flex_flow": null,
            "width": null,
            "min_width": null,
            "border": null,
            "align_items": null,
            "bottom": null,
            "_model_module": "@jupyter-widgets/base",
            "top": null,
            "grid_column": null,
            "overflow_y": null,
            "overflow_x": null,
            "grid_auto_flow": null,
            "grid_area": null,
            "grid_template_columns": null,
            "flex": null,
            "_model_name": "LayoutModel",
            "justify_items": null,
            "grid_row": null,
            "max_height": null,
            "align_content": null,
            "visibility": null,
            "align_self": null,
            "height": null,
            "min_height": null,
            "padding": null,
            "grid_auto_rows": null,
            "grid_gap": null,
            "max_width": null,
            "order": null,
            "_view_module_version": "1.2.0",
            "grid_template_areas": null,
            "object_position": null,
            "object_fit": null,
            "grid_auto_columns": null,
            "margin": null,
            "display": null,
            "left": null
          }
        },
        "1edbc05809e94f798f6fab7f575684d9": {
          "model_module": "@jupyter-widgets/controls",
          "model_name": "FloatProgressModel",
          "state": {
            "_view_name": "ProgressView",
            "style": "IPY_MODEL_a69eb141d56242f49146c2c559b38ab7",
            "_dom_classes": [],
            "description": "Downloading: 100%",
            "_model_name": "FloatProgressModel",
            "bar_style": "success",
            "max": 479,
            "_view_module": "@jupyter-widgets/controls",
            "_model_module_version": "1.5.0",
            "value": 479,
            "_view_count": null,
            "_view_module_version": "1.5.0",
            "orientation": "horizontal",
            "min": 0,
            "description_tooltip": null,
            "_model_module": "@jupyter-widgets/controls",
            "layout": "IPY_MODEL_34493f45c075433796ad396790c2e44a"
          }
        },
        "dd85bf1ee1dc4b30950f43a7766a9f34": {
          "model_module": "@jupyter-widgets/controls",
          "model_name": "HTMLModel",
          "state": {
            "_view_name": "HTMLView",
            "style": "IPY_MODEL_b4353acde9d14fd2a2296f8289f6fae1",
            "_dom_classes": [],
            "description": "",
            "_model_name": "HTMLModel",
            "placeholder": "​",
            "_view_module": "@jupyter-widgets/controls",
            "_model_module_version": "1.5.0",
            "value": " 479/479 [00:11&lt;00:00, 41.7B/s]",
            "_view_count": null,
            "_view_module_version": "1.5.0",
            "description_tooltip": null,
            "_model_module": "@jupyter-widgets/controls",
            "layout": "IPY_MODEL_2ff31ac770244545a0c61be3bbad20ad"
          }
        },
        "a69eb141d56242f49146c2c559b38ab7": {
          "model_module": "@jupyter-widgets/controls",
          "model_name": "ProgressStyleModel",
          "state": {
            "_view_name": "StyleView",
            "_model_name": "ProgressStyleModel",
            "description_width": "initial",
            "_view_module": "@jupyter-widgets/base",
            "_model_module_version": "1.5.0",
            "_view_count": null,
            "_view_module_version": "1.2.0",
            "bar_color": null,
            "_model_module": "@jupyter-widgets/controls"
          }
        },
        "34493f45c075433796ad396790c2e44a": {
          "model_module": "@jupyter-widgets/base",
          "model_name": "LayoutModel",
          "state": {
            "_view_name": "LayoutView",
            "grid_template_rows": null,
            "right": null,
            "justify_content": null,
            "_view_module": "@jupyter-widgets/base",
            "overflow": null,
            "_model_module_version": "1.2.0",
            "_view_count": null,
            "flex_flow": null,
            "width": null,
            "min_width": null,
            "border": null,
            "align_items": null,
            "bottom": null,
            "_model_module": "@jupyter-widgets/base",
            "top": null,
            "grid_column": null,
            "overflow_y": null,
            "overflow_x": null,
            "grid_auto_flow": null,
            "grid_area": null,
            "grid_template_columns": null,
            "flex": null,
            "_model_name": "LayoutModel",
            "justify_items": null,
            "grid_row": null,
            "max_height": null,
            "align_content": null,
            "visibility": null,
            "align_self": null,
            "height": null,
            "min_height": null,
            "padding": null,
            "grid_auto_rows": null,
            "grid_gap": null,
            "max_width": null,
            "order": null,
            "_view_module_version": "1.2.0",
            "grid_template_areas": null,
            "object_position": null,
            "object_fit": null,
            "grid_auto_columns": null,
            "margin": null,
            "display": null,
            "left": null
          }
        },
        "b4353acde9d14fd2a2296f8289f6fae1": {
          "model_module": "@jupyter-widgets/controls",
          "model_name": "DescriptionStyleModel",
          "state": {
            "_view_name": "StyleView",
            "_model_name": "DescriptionStyleModel",
            "description_width": "",
            "_view_module": "@jupyter-widgets/base",
            "_model_module_version": "1.5.0",
            "_view_count": null,
            "_view_module_version": "1.2.0",
            "_model_module": "@jupyter-widgets/controls"
          }
        },
        "2ff31ac770244545a0c61be3bbad20ad": {
          "model_module": "@jupyter-widgets/base",
          "model_name": "LayoutModel",
          "state": {
            "_view_name": "LayoutView",
            "grid_template_rows": null,
            "right": null,
            "justify_content": null,
            "_view_module": "@jupyter-widgets/base",
            "overflow": null,
            "_model_module_version": "1.2.0",
            "_view_count": null,
            "flex_flow": null,
            "width": null,
            "min_width": null,
            "border": null,
            "align_items": null,
            "bottom": null,
            "_model_module": "@jupyter-widgets/base",
            "top": null,
            "grid_column": null,
            "overflow_y": null,
            "overflow_x": null,
            "grid_auto_flow": null,
            "grid_area": null,
            "grid_template_columns": null,
            "flex": null,
            "_model_name": "LayoutModel",
            "justify_items": null,
            "grid_row": null,
            "max_height": null,
            "align_content": null,
            "visibility": null,
            "align_self": null,
            "height": null,
            "min_height": null,
            "padding": null,
            "grid_auto_rows": null,
            "grid_gap": null,
            "max_width": null,
            "order": null,
            "_view_module_version": "1.2.0",
            "grid_template_areas": null,
            "object_position": null,
            "object_fit": null,
            "grid_auto_columns": null,
            "margin": null,
            "display": null,
            "left": null
          }
        },
        "c16be5255ce0488db0cb83f137fcb922": {
          "model_module": "@jupyter-widgets/controls",
          "model_name": "HBoxModel",
          "state": {
            "_view_name": "HBoxView",
            "_dom_classes": [],
            "_model_name": "HBoxModel",
            "_view_module": "@jupyter-widgets/controls",
            "_model_module_version": "1.5.0",
            "_view_count": null,
            "_view_module_version": "1.5.0",
            "box_style": "",
            "layout": "IPY_MODEL_f0a0171df8bf404b81069e4cce37ee43",
            "_model_module": "@jupyter-widgets/controls",
            "children": [
              "IPY_MODEL_b4daea7d483243499c151d7e537b2034",
              "IPY_MODEL_e589a259a7524cb996d54a1cbb7d6896"
            ]
          }
        },
        "f0a0171df8bf404b81069e4cce37ee43": {
          "model_module": "@jupyter-widgets/base",
          "model_name": "LayoutModel",
          "state": {
            "_view_name": "LayoutView",
            "grid_template_rows": null,
            "right": null,
            "justify_content": null,
            "_view_module": "@jupyter-widgets/base",
            "overflow": null,
            "_model_module_version": "1.2.0",
            "_view_count": null,
            "flex_flow": null,
            "width": null,
            "min_width": null,
            "border": null,
            "align_items": null,
            "bottom": null,
            "_model_module": "@jupyter-widgets/base",
            "top": null,
            "grid_column": null,
            "overflow_y": null,
            "overflow_x": null,
            "grid_auto_flow": null,
            "grid_area": null,
            "grid_template_columns": null,
            "flex": null,
            "_model_name": "LayoutModel",
            "justify_items": null,
            "grid_row": null,
            "max_height": null,
            "align_content": null,
            "visibility": null,
            "align_self": null,
            "height": null,
            "min_height": null,
            "padding": null,
            "grid_auto_rows": null,
            "grid_gap": null,
            "max_width": null,
            "order": null,
            "_view_module_version": "1.2.0",
            "grid_template_areas": null,
            "object_position": null,
            "object_fit": null,
            "grid_auto_columns": null,
            "margin": null,
            "display": null,
            "left": null
          }
        },
        "b4daea7d483243499c151d7e537b2034": {
          "model_module": "@jupyter-widgets/controls",
          "model_name": "FloatProgressModel",
          "state": {
            "_view_name": "ProgressView",
            "style": "IPY_MODEL_3628a12bffec425981e9a8f06021e116",
            "_dom_classes": [],
            "description": "Downloading: 100%",
            "_model_name": "FloatProgressModel",
            "bar_style": "success",
            "max": 545149952,
            "_view_module": "@jupyter-widgets/controls",
            "_model_module_version": "1.5.0",
            "value": 545149952,
            "_view_count": null,
            "_view_module_version": "1.5.0",
            "orientation": "horizontal",
            "min": 0,
            "description_tooltip": null,
            "_model_module": "@jupyter-widgets/controls",
            "layout": "IPY_MODEL_1bdec6caff1445c18217ca4156d7cf56"
          }
        },
        "e589a259a7524cb996d54a1cbb7d6896": {
          "model_module": "@jupyter-widgets/controls",
          "model_name": "HTMLModel",
          "state": {
            "_view_name": "HTMLView",
            "style": "IPY_MODEL_1f548039f53840b78bea52afd87cde12",
            "_dom_classes": [],
            "description": "",
            "_model_name": "HTMLModel",
            "placeholder": "​",
            "_view_module": "@jupyter-widgets/controls",
            "_model_module_version": "1.5.0",
            "value": " 545M/545M [00:10&lt;00:00, 50.3MB/s]",
            "_view_count": null,
            "_view_module_version": "1.5.0",
            "description_tooltip": null,
            "_model_module": "@jupyter-widgets/controls",
            "layout": "IPY_MODEL_69fcbbb27d9145b8ade49fed0873b411"
          }
        },
        "3628a12bffec425981e9a8f06021e116": {
          "model_module": "@jupyter-widgets/controls",
          "model_name": "ProgressStyleModel",
          "state": {
            "_view_name": "StyleView",
            "_model_name": "ProgressStyleModel",
            "description_width": "initial",
            "_view_module": "@jupyter-widgets/base",
            "_model_module_version": "1.5.0",
            "_view_count": null,
            "_view_module_version": "1.2.0",
            "bar_color": null,
            "_model_module": "@jupyter-widgets/controls"
          }
        },
        "1bdec6caff1445c18217ca4156d7cf56": {
          "model_module": "@jupyter-widgets/base",
          "model_name": "LayoutModel",
          "state": {
            "_view_name": "LayoutView",
            "grid_template_rows": null,
            "right": null,
            "justify_content": null,
            "_view_module": "@jupyter-widgets/base",
            "overflow": null,
            "_model_module_version": "1.2.0",
            "_view_count": null,
            "flex_flow": null,
            "width": null,
            "min_width": null,
            "border": null,
            "align_items": null,
            "bottom": null,
            "_model_module": "@jupyter-widgets/base",
            "top": null,
            "grid_column": null,
            "overflow_y": null,
            "overflow_x": null,
            "grid_auto_flow": null,
            "grid_area": null,
            "grid_template_columns": null,
            "flex": null,
            "_model_name": "LayoutModel",
            "justify_items": null,
            "grid_row": null,
            "max_height": null,
            "align_content": null,
            "visibility": null,
            "align_self": null,
            "height": null,
            "min_height": null,
            "padding": null,
            "grid_auto_rows": null,
            "grid_gap": null,
            "max_width": null,
            "order": null,
            "_view_module_version": "1.2.0",
            "grid_template_areas": null,
            "object_position": null,
            "object_fit": null,
            "grid_auto_columns": null,
            "margin": null,
            "display": null,
            "left": null
          }
        },
        "1f548039f53840b78bea52afd87cde12": {
          "model_module": "@jupyter-widgets/controls",
          "model_name": "DescriptionStyleModel",
          "state": {
            "_view_name": "StyleView",
            "_model_name": "DescriptionStyleModel",
            "description_width": "",
            "_view_module": "@jupyter-widgets/base",
            "_model_module_version": "1.5.0",
            "_view_count": null,
            "_view_module_version": "1.2.0",
            "_model_module": "@jupyter-widgets/controls"
          }
        },
        "69fcbbb27d9145b8ade49fed0873b411": {
          "model_module": "@jupyter-widgets/base",
          "model_name": "LayoutModel",
          "state": {
            "_view_name": "LayoutView",
            "grid_template_rows": null,
            "right": null,
            "justify_content": null,
            "_view_module": "@jupyter-widgets/base",
            "overflow": null,
            "_model_module_version": "1.2.0",
            "_view_count": null,
            "flex_flow": null,
            "width": null,
            "min_width": null,
            "border": null,
            "align_items": null,
            "bottom": null,
            "_model_module": "@jupyter-widgets/base",
            "top": null,
            "grid_column": null,
            "overflow_y": null,
            "overflow_x": null,
            "grid_auto_flow": null,
            "grid_area": null,
            "grid_template_columns": null,
            "flex": null,
            "_model_name": "LayoutModel",
            "justify_items": null,
            "grid_row": null,
            "max_height": null,
            "align_content": null,
            "visibility": null,
            "align_self": null,
            "height": null,
            "min_height": null,
            "padding": null,
            "grid_auto_rows": null,
            "grid_gap": null,
            "max_width": null,
            "order": null,
            "_view_module_version": "1.2.0",
            "grid_template_areas": null,
            "object_position": null,
            "object_fit": null,
            "grid_auto_columns": null,
            "margin": null,
            "display": null,
            "left": null
          }
        }
      }
    }
  },
  "cells": [
    {
      "cell_type": "markdown",
      "metadata": {
        "id": "view-in-github",
        "colab_type": "text"
      },
      "source": [
        "<a href=\"https://colab.research.google.com/github/po3rin/python_playground/blob/master/bert_ner/bert_ner.ipynb\" target=\"_parent\"><img src=\"https://colab.research.google.com/assets/colab-badge.svg\" alt=\"Open In Colab\"/></a>"
      ]
    },
    {
      "cell_type": "code",
      "metadata": {
        "colab": {
          "base_uri": "https://localhost:8080/"
        },
        "id": "WNltaYIRYR5e",
        "outputId": "2f679ed6-e193-4ef4-dd69-db5dfb968a66"
      },
      "source": [
        "%tensorflow_version 2."
      ],
      "execution_count": 1,
      "outputs": [
        {
          "output_type": "stream",
          "text": [
            "`%tensorflow_version` only switches the major version: 1.x or 2.x.\n",
            "You set: `2.`. This will be interpreted as: `2.x`.\n",
            "\n",
            "\n",
            "TensorFlow 2.x selected.\n"
          ],
          "name": "stdout"
        }
      ]
    },
    {
      "cell_type": "code",
      "metadata": {
        "colab": {
          "base_uri": "https://localhost:8080/"
        },
        "id": "eScNpBFfYjFC",
        "outputId": "aed32814-fc6a-4a90-bd8c-3c66a3f3be03"
      },
      "source": [
        "!pip install seqeval transformers==3.1.0"
      ],
      "execution_count": 2,
      "outputs": [
        {
          "output_type": "stream",
          "text": [
            "Collecting seqeval\n",
            "\u001b[?25l  Downloading https://files.pythonhosted.org/packages/9d/2d/233c79d5b4e5ab1dbf111242299153f3caddddbb691219f363ad55ce783d/seqeval-1.2.2.tar.gz (43kB)\n",
            "\u001b[K     |████████████████████████████████| 51kB 4.2MB/s \n",
            "\u001b[?25hCollecting transformers==3.1.0\n",
            "\u001b[?25l  Downloading https://files.pythonhosted.org/packages/ae/05/c8c55b600308dc04e95100dc8ad8a244dd800fe75dfafcf1d6348c6f6209/transformers-3.1.0-py3-none-any.whl (884kB)\n",
            "\u001b[K     |████████████████████████████████| 890kB 10.4MB/s \n",
            "\u001b[?25hRequirement already satisfied: numpy>=1.14.0 in /usr/local/lib/python3.7/dist-packages (from seqeval) (1.19.5)\n",
            "Requirement already satisfied: scikit-learn>=0.21.3 in /usr/local/lib/python3.7/dist-packages (from seqeval) (0.22.2.post1)\n",
            "Requirement already satisfied: tqdm>=4.27 in /usr/local/lib/python3.7/dist-packages (from transformers==3.1.0) (4.41.1)\n",
            "Requirement already satisfied: filelock in /usr/local/lib/python3.7/dist-packages (from transformers==3.1.0) (3.0.12)\n",
            "Collecting sentencepiece!=0.1.92\n",
            "\u001b[?25l  Downloading https://files.pythonhosted.org/packages/f5/99/e0808cb947ba10f575839c43e8fafc9cc44e4a7a2c8f79c60db48220a577/sentencepiece-0.1.95-cp37-cp37m-manylinux2014_x86_64.whl (1.2MB)\n",
            "\u001b[K     |████████████████████████████████| 1.2MB 27.6MB/s \n",
            "\u001b[?25hCollecting tokenizers==0.8.1.rc2\n",
            "\u001b[?25l  Downloading https://files.pythonhosted.org/packages/75/26/c02ba92ecb8b780bdae4a862d351433c2912fe49469dac7f87a5c85ccca6/tokenizers-0.8.1rc2-cp37-cp37m-manylinux1_x86_64.whl (3.0MB)\n",
            "\u001b[K     |████████████████████████████████| 3.0MB 34.4MB/s \n",
            "\u001b[?25hRequirement already satisfied: regex!=2019.12.17 in /usr/local/lib/python3.7/dist-packages (from transformers==3.1.0) (2019.12.20)\n",
            "Requirement already satisfied: packaging in /usr/local/lib/python3.7/dist-packages (from transformers==3.1.0) (20.9)\n",
            "Collecting sacremoses\n",
            "\u001b[?25l  Downloading https://files.pythonhosted.org/packages/7d/34/09d19aff26edcc8eb2a01bed8e98f13a1537005d31e95233fd48216eed10/sacremoses-0.0.43.tar.gz (883kB)\n",
            "\u001b[K     |████████████████████████████████| 890kB 44.2MB/s \n",
            "\u001b[?25hRequirement already satisfied: requests in /usr/local/lib/python3.7/dist-packages (from transformers==3.1.0) (2.23.0)\n",
            "Requirement already satisfied: scipy>=0.17.0 in /usr/local/lib/python3.7/dist-packages (from scikit-learn>=0.21.3->seqeval) (1.4.1)\n",
            "Requirement already satisfied: joblib>=0.11 in /usr/local/lib/python3.7/dist-packages (from scikit-learn>=0.21.3->seqeval) (1.0.1)\n",
            "Requirement already satisfied: pyparsing>=2.0.2 in /usr/local/lib/python3.7/dist-packages (from packaging->transformers==3.1.0) (2.4.7)\n",
            "Requirement already satisfied: six in /usr/local/lib/python3.7/dist-packages (from sacremoses->transformers==3.1.0) (1.15.0)\n",
            "Requirement already satisfied: click in /usr/local/lib/python3.7/dist-packages (from sacremoses->transformers==3.1.0) (7.1.2)\n",
            "Requirement already satisfied: chardet<4,>=3.0.2 in /usr/local/lib/python3.7/dist-packages (from requests->transformers==3.1.0) (3.0.4)\n",
            "Requirement already satisfied: certifi>=2017.4.17 in /usr/local/lib/python3.7/dist-packages (from requests->transformers==3.1.0) (2020.12.5)\n",
            "Requirement already satisfied: urllib3!=1.25.0,!=1.25.1,<1.26,>=1.21.1 in /usr/local/lib/python3.7/dist-packages (from requests->transformers==3.1.0) (1.24.3)\n",
            "Requirement already satisfied: idna<3,>=2.5 in /usr/local/lib/python3.7/dist-packages (from requests->transformers==3.1.0) (2.10)\n",
            "Building wheels for collected packages: seqeval, sacremoses\n",
            "  Building wheel for seqeval (setup.py) ... \u001b[?25l\u001b[?25hdone\n",
            "  Created wheel for seqeval: filename=seqeval-1.2.2-cp37-none-any.whl size=16172 sha256=88087fc320f76bd6835d9d295ff2b20acd3e24cc540be0f23930b1c0512c574c\n",
            "  Stored in directory: /root/.cache/pip/wheels/52/df/1b/45d75646c37428f7e626214704a0e35bd3cfc32eda37e59e5f\n",
            "  Building wheel for sacremoses (setup.py) ... \u001b[?25l\u001b[?25hdone\n",
            "  Created wheel for sacremoses: filename=sacremoses-0.0.43-cp37-none-any.whl size=893262 sha256=bc2d532a8c7bf66aaa9dc21684d1c5b12d01e4c52bc0eb581dfe5562bfc9d35e\n",
            "  Stored in directory: /root/.cache/pip/wheels/29/3c/fd/7ce5c3f0666dab31a50123635e6fb5e19ceb42ce38d4e58f45\n",
            "Successfully built seqeval sacremoses\n",
            "Installing collected packages: seqeval, sentencepiece, tokenizers, sacremoses, transformers\n",
            "Successfully installed sacremoses-0.0.43 sentencepiece-0.1.95 seqeval-1.2.2 tokenizers-0.8.1rc2 transformers-3.1.0\n"
          ],
          "name": "stdout"
        }
      ]
    },
    {
      "cell_type": "code",
      "metadata": {
        "colab": {
          "base_uri": "https://localhost:8080/"
        },
        "id": "dyD8SbLaYm9G",
        "outputId": "02aa8aa7-abe8-46c6-da60-cab19a855378"
      },
      "source": [
        "!mkdir data\n",
        "!mkdir models\n",
        "!wget https://raw.githubusercontent.com/Hironsan/IOB2Corpus/master/ja.wikipedia.conll -P data/"
      ],
      "execution_count": 3,
      "outputs": [
        {
          "output_type": "stream",
          "text": [
            "--2021-02-28 13:46:10--  https://raw.githubusercontent.com/Hironsan/IOB2Corpus/master/ja.wikipedia.conll\n",
            "Resolving raw.githubusercontent.com (raw.githubusercontent.com)... 185.199.108.133, 185.199.109.133, 185.199.110.133, ...\n",
            "Connecting to raw.githubusercontent.com (raw.githubusercontent.com)|185.199.108.133|:443... connected.\n",
            "HTTP request sent, awaiting response... 200 OK\n",
            "Length: 1297592 (1.2M) [text/plain]\n",
            "Saving to: ‘data/ja.wikipedia.conll’\n",
            "\n",
            "ja.wikipedia.conll  100%[===================>]   1.24M  --.-KB/s    in 0.05s   \n",
            "\n",
            "2021-02-28 13:46:10 (26.2 MB/s) - ‘data/ja.wikipedia.conll’ saved [1297592/1297592]\n",
            "\n"
          ],
          "name": "stdout"
        }
      ]
    },
    {
      "cell_type": "code",
      "metadata": {
        "id": "FLYNLUE4Yw41"
      },
      "source": [
        "batch_size = 32\n",
        "epochs = 100\n",
        "num_words = 15000"
      ],
      "execution_count": 4,
      "outputs": []
    },
    {
      "cell_type": "code",
      "metadata": {
        "id": "Cb11IshZZGRc"
      },
      "source": [
        "import re\n",
        "\n",
        "import numpy as np\n",
        "import tensorflow as tf\n",
        "from seqeval.metrics import classification_report\n",
        "from sklearn.model_selection import train_test_split\n",
        "from tensorflow.keras.callbacks import EarlyStopping, ModelCheckpoint\n",
        "from tensorflow.keras.models import Model, load_model\n",
        "from tensorflow.keras.preprocessing.sequence import pad_sequences\n",
        "from transformers import BertJapaneseTokenizer"
      ],
      "execution_count": 5,
      "outputs": []
    },
    {
      "cell_type": "code",
      "metadata": {
        "id": "jnrVXgVfY0va"
      },
      "source": [
        "def evaluate(model, target_vocab, features, labels):\n",
        "    label_ids = model.predict(features)[0]\n",
        "    label_ids = np.argmax(label_ids, axis=-1)\n",
        "    y_pred = [[] for _ in range(label_ids.shape[0])]\n",
        "    y_true = [[] for _ in range(label_ids.shape[0])]\n",
        "    for i in range(label_ids.shape[0]):\n",
        "        for j in range(label_ids.shape[1]):\n",
        "            if labels[i][j] == 0:\n",
        "                continue\n",
        "            y_pred[i].append(label_ids[i][j])\n",
        "            y_true[i].append(labels[i][j])\n",
        "    y_pred = target_vocab.decode(y_pred)\n",
        "    y_true = target_vocab.decode(y_true)\n",
        "    print(classification_report(y_true, y_pred, digits=4))"
      ],
      "execution_count": 6,
      "outputs": []
    },
    {
      "cell_type": "code",
      "metadata": {
        "id": "5beYuiAQZyc5"
      },
      "source": [
        "import tensorflow as tf\n",
        "from tensorflow.keras.preprocessing.sequence import pad_sequences\n",
        "\n",
        "\n",
        "def convert_examples_to_features(x, y,\n",
        "                                 vocab,\n",
        "                                 max_seq_length,\n",
        "                                 tokenizer):\n",
        "    pad_token = 0\n",
        "    features = {\n",
        "        'input_ids': [],\n",
        "        'attention_mask': [],\n",
        "        'token_type_ids': [],\n",
        "        'label_ids': []\n",
        "    }\n",
        "    for words, labels in zip(x, y):\n",
        "        tokens = [tokenizer.cls_token]\n",
        "        label_ids = [pad_token]\n",
        "        for word, label in zip(words, labels):\n",
        "            word_tokens = tokenizer.tokenize(word)\n",
        "            tokens.extend(word_tokens)\n",
        "            label_id = vocab.get_index(label)\n",
        "            label_ids.extend([label_id] + [pad_token] * (len(word_tokens) - 1))\n",
        "        tokens += [tokenizer.sep_token]\n",
        "\n",
        "        input_ids = tokenizer.convert_tokens_to_ids(tokens)\n",
        "        attention_mask = [1] * len(input_ids)\n",
        "        token_type_ids = [pad_token] * max_seq_length\n",
        "\n",
        "        features['input_ids'].append(input_ids)\n",
        "        features['attention_mask'].append(attention_mask)\n",
        "        features['token_type_ids'].append(token_type_ids)\n",
        "        features['label_ids'].append(label_ids)\n",
        "\n",
        "    for name in features:\n",
        "        features[name] = pad_sequences(features[name], padding='post', maxlen=max_seq_length)\n",
        "\n",
        "    x = [features['input_ids'], features['attention_mask'], features['token_type_ids']]\n",
        "    y = features['label_ids']\n",
        "    return x, y"
      ],
      "execution_count": 8,
      "outputs": []
    },
    {
      "cell_type": "code",
      "metadata": {
        "id": "B4menfPiZ51N"
      },
      "source": [
        "import tensorflow as tf\n",
        "from transformers import TFBertForTokenClassification, BertConfig\n",
        "\n",
        "\n",
        "def build_model(pretrained_model_name_or_path, num_labels):\n",
        "    config = BertConfig.from_pretrained(\n",
        "        pretrained_model_name_or_path,\n",
        "        num_labels=num_labels\n",
        "    )\n",
        "    model = TFBertForTokenClassification.from_pretrained(\n",
        "        pretrained_model_name_or_path,\n",
        "        config=config\n",
        "    )\n",
        "    model.layers[-1].activation = tf.keras.activations.softmax\n",
        "    return model\n",
        "\n",
        "\n",
        "def loss_func(num_labels):\n",
        "    loss_fct = tf.keras.losses.SparseCategoricalCrossentropy(reduction=tf.keras.losses.Reduction.NONE)\n",
        "\n",
        "    def loss(y_true, y_pred):\n",
        "        input_mask = tf.not_equal(y_true, 0)\n",
        "        logits = tf.reshape(y_pred, (-1, num_labels))\n",
        "        active_loss = tf.reshape(input_mask, (-1,))\n",
        "        active_logits = tf.boolean_mask(logits, active_loss)\n",
        "        train_labels = tf.reshape(y_true, (-1,))\n",
        "        active_labels = tf.boolean_mask(train_labels, active_loss)\n",
        "        cross_entropy = loss_fct(active_labels, active_logits)\n",
        "        return cross_entropy\n",
        "    return loss"
      ],
      "execution_count": 9,
      "outputs": []
    },
    {
      "cell_type": "code",
      "metadata": {
        "id": "Q8j8arKVaRtd"
      },
      "source": [
        "def load_dataset(filename, encoding='utf-8'):\n",
        "    \"\"\"Loads data and label from a file.\n",
        "    Args:\n",
        "        filename (str): path to the file.\n",
        "        encoding (str): file encoding format.\n",
        "        The file format is tab-separated values.\n",
        "        A blank line is required at the end of a sentence.\n",
        "        For example:\n",
        "        ```\n",
        "        EU\tB-ORG\n",
        "        rejects\tO\n",
        "        German\tB-MISC\n",
        "        call\tO\n",
        "        to\tO\n",
        "        boycott\tO\n",
        "        British\tB-MISC\n",
        "        lamb\tO\n",
        "        .\tO\n",
        "        Peter\tB-PER\n",
        "        Blackburn\tI-PER\n",
        "        ...\n",
        "        ```\n",
        "    Returns:\n",
        "        tuple(numpy array, numpy array): data and labels.\n",
        "    Example:\n",
        "        >>> filename = 'conll2003/en/ner/train.txt'\n",
        "        >>> data, labels = load_data_and_labels(filename)\n",
        "    \"\"\"\n",
        "    sents, labels = [], []\n",
        "    words, tags = [], []\n",
        "    with open(filename, encoding=encoding) as f:\n",
        "        for line in f:\n",
        "            line = line.rstrip()\n",
        "            if line:\n",
        "                word, tag = line.split('\\t')\n",
        "                words.append(word)\n",
        "                tags.append(tag)\n",
        "            else:\n",
        "                sents.append(words)\n",
        "                labels.append(tags)\n",
        "                words, tags = [], []\n",
        "        if words:\n",
        "            sents.append(words)\n",
        "            labels.append(tags)\n",
        "\n",
        "    return sents, labels"
      ],
      "execution_count": 10,
      "outputs": []
    },
    {
      "cell_type": "code",
      "metadata": {
        "id": "WmgO0Mi6aheR"
      },
      "source": [
        "class Vocab:\n",
        "\n",
        "    def __init__(self, num_words=None, lower=True, oov_token=None):\n",
        "        self.tokenizer = tf.keras.preprocessing.text.Tokenizer(\n",
        "            num_words=num_words,\n",
        "            oov_token=oov_token,\n",
        "            filters='',\n",
        "            lower=lower,\n",
        "            split='\\t'\n",
        "        )\n",
        "\n",
        "    def fit(self, sequences):\n",
        "        texts = self._texts(sequences)\n",
        "        self.tokenizer.fit_on_texts(texts)\n",
        "        return self\n",
        "\n",
        "    def encode(self, sequences):\n",
        "        texts = self._texts(sequences)\n",
        "        return self.tokenizer.texts_to_sequences(texts)\n",
        "\n",
        "    def decode(self, sequences):\n",
        "        texts = self.tokenizer.sequences_to_texts(sequences)\n",
        "        return [text.split(' ') for text in texts]\n",
        "\n",
        "    def _texts(self, sequences):\n",
        "        return ['\\t'.join(words) for words in sequences]\n",
        "\n",
        "    def get_index(self, word):\n",
        "        return self.tokenizer.word_index.get(word)\n",
        "\n",
        "    @property\n",
        "    def size(self):\n",
        "        \"\"\"Return vocabulary size.\"\"\"\n",
        "        return len(self.tokenizer.word_index) + 1\n",
        "\n",
        "    def save(self, file_path):\n",
        "        with open(file_path, 'w') as f:\n",
        "            config = self.tokenizer.to_json()\n",
        "            f.write(config)\n",
        "\n",
        "    @classmethod\n",
        "    def load(cls, file_path):\n",
        "        with open(file_path) as f:\n",
        "            tokenizer = tf.keras.preprocessing.text.tokenizer_from_json(f.read())\n",
        "            vocab = cls()\n",
        "            vocab.tokenizer = tokenizer\n",
        "        return vocab\n",
        "\n",
        "\n",
        "def normalize_number(text, reduce=True):\n",
        "    if reduce:\n",
        "        normalized_text = re.sub(r'\\d+', '0', text)\n",
        "    else:\n",
        "        normalized_text = re.sub(r'\\d', '0', text)\n",
        "    return normalized_text\n",
        "\n",
        "\n",
        "def preprocess_dataset(sequences):\n",
        "    sequences = [[normalize_number(w) for w in words] for words in sequences]\n",
        "    return sequences\n",
        "\n",
        "\n",
        "def create_dataset(sequences, vocab):\n",
        "    sequences = vocab.encode(sequences)\n",
        "    sequences = pad_sequences(sequences, padding='post')\n",
        "    return sequences"
      ],
      "execution_count": 11,
      "outputs": []
    },
    {
      "cell_type": "code",
      "metadata": {
        "colab": {
          "base_uri": "https://localhost:8080/",
          "height": 366,
          "referenced_widgets": [
            "6fbbe92951c847c29e8a32517ac96662",
            "908a4d7b3ad54eefb5e3d783ae16e40d",
            "fff1d23f12b3479f99b445aa8fc7789d",
            "7953cc2e29cc41cdbca4f113422da1f2",
            "33d490ce62134318a4754d7c46df28e9",
            "1202ba1f82ca45d588a6cd32fc53fcdd",
            "e91cceec3db04c68905d3a97bb57fdfb",
            "1c3460a1764f41df9fcd0156cf297886",
            "cd9676a3f1614a0b978760365462b6c5",
            "9275f44e421d4ae095232a5397236ab1",
            "1edbc05809e94f798f6fab7f575684d9",
            "dd85bf1ee1dc4b30950f43a7766a9f34",
            "a69eb141d56242f49146c2c559b38ab7",
            "34493f45c075433796ad396790c2e44a",
            "b4353acde9d14fd2a2296f8289f6fae1",
            "2ff31ac770244545a0c61be3bbad20ad",
            "c16be5255ce0488db0cb83f137fcb922",
            "f0a0171df8bf404b81069e4cce37ee43",
            "b4daea7d483243499c151d7e537b2034",
            "e589a259a7524cb996d54a1cbb7d6896",
            "3628a12bffec425981e9a8f06021e116",
            "1bdec6caff1445c18217ca4156d7cf56",
            "1f548039f53840b78bea52afd87cde12",
            "69fcbbb27d9145b8ade49fed0873b411"
          ]
        },
        "id": "p-s0KQvTaHyN",
        "outputId": "b3645b2a-9f96-4b66-8b0f-f770266d295f"
      },
      "source": [
        "def main():\n",
        "    # Set hyper-parameters.\n",
        "    batch_size = 16\n",
        "    epochs = 100\n",
        "    model_path = 'models/'\n",
        "    pretrained_model_name_or_path = 'cl-tohoku/bert-base-japanese-whole-word-masking'\n",
        "    maxlen = 250\n",
        "\n",
        "    # Data loading.\n",
        "    x, y = load_dataset('./data/ja.wikipedia.conll')\n",
        "    tokenizer = BertJapaneseTokenizer.from_pretrained(pretrained_model_name_or_path, do_word_tokenize=False)\n",
        "\n",
        "    # Pre-processing.\n",
        "    x = preprocess_dataset(x)\n",
        "    x_train, x_test, y_train, y_test = train_test_split(x, y, test_size=0.2, random_state=42)\n",
        "    target_vocab = Vocab(lower=False).fit(y_train)\n",
        "    features_train, labels_train = convert_examples_to_features(\n",
        "        x_train,\n",
        "        y_train,\n",
        "        target_vocab,\n",
        "        max_seq_length=maxlen,\n",
        "        tokenizer=tokenizer\n",
        "    )\n",
        "    features_test, labels_test = convert_examples_to_features(\n",
        "        x_test,\n",
        "        y_test,\n",
        "        target_vocab,\n",
        "        max_seq_length=maxlen,\n",
        "        tokenizer=tokenizer\n",
        "    )\n",
        "\n",
        "    # Build model.\n",
        "    model = build_model(pretrained_model_name_or_path, target_vocab.size)\n",
        "    model.compile(optimizer='sgd', loss=loss_func(target_vocab.size))\n",
        "\n",
        "    # Preparing callbacks.\n",
        "    callbacks = [\n",
        "        EarlyStopping(patience=3),\n",
        "    ]\n",
        "\n",
        "    # Train the model.\n",
        "    model.fit(x=features_train,\n",
        "              y=labels_train,\n",
        "              batch_size=batch_size,\n",
        "              epochs=epochs,\n",
        "              validation_split=0.1,\n",
        "              callbacks=callbacks,\n",
        "              shuffle=True)\n",
        "    model.save_pretrained(model_path)\n",
        "\n",
        "    # Evaluation.\n",
        "    evaluate(model, target_vocab, features_test, labels_test)\n",
        "\n",
        "\n",
        "if __name__ == '__main__':\n",
        "    main()"
      ],
      "execution_count": null,
      "outputs": [
        {
          "output_type": "display_data",
          "data": {
            "application/vnd.jupyter.widget-view+json": {
              "model_id": "6fbbe92951c847c29e8a32517ac96662",
              "version_minor": 0,
              "version_major": 2
            },
            "text/plain": [
              "HBox(children=(FloatProgress(value=0.0, description='Downloading', max=257706.0, style=ProgressStyle(descripti…"
            ]
          },
          "metadata": {
            "tags": []
          }
        },
        {
          "output_type": "stream",
          "text": [
            "\n"
          ],
          "name": "stdout"
        },
        {
          "output_type": "display_data",
          "data": {
            "application/vnd.jupyter.widget-view+json": {
              "model_id": "cd9676a3f1614a0b978760365462b6c5",
              "version_minor": 0,
              "version_major": 2
            },
            "text/plain": [
              "HBox(children=(FloatProgress(value=0.0, description='Downloading', max=479.0, style=ProgressStyle(description_…"
            ]
          },
          "metadata": {
            "tags": []
          }
        },
        {
          "output_type": "stream",
          "text": [
            "\n"
          ],
          "name": "stdout"
        },
        {
          "output_type": "display_data",
          "data": {
            "application/vnd.jupyter.widget-view+json": {
              "model_id": "c16be5255ce0488db0cb83f137fcb922",
              "version_minor": 0,
              "version_major": 2
            },
            "text/plain": [
              "HBox(children=(FloatProgress(value=0.0, description='Downloading', max=545149952.0, style=ProgressStyle(descri…"
            ]
          },
          "metadata": {
            "tags": []
          }
        },
        {
          "output_type": "stream",
          "text": [
            "\n"
          ],
          "name": "stdout"
        },
        {
          "output_type": "stream",
          "text": [
            "Some weights of the model checkpoint at cl-tohoku/bert-base-japanese-whole-word-masking were not used when initializing TFBertForTokenClassification: ['mlm___cls', 'nsp___cls']\n",
            "- This IS expected if you are initializing TFBertForTokenClassification from the checkpoint of a model trained on another task or with another architecture (e.g. initializing a BertForSequenceClassification model from a BertForPretraining model).\n",
            "- This IS NOT expected if you are initializing TFBertForTokenClassification from the checkpoint of a model that you expect to be exactly identical (initializing a BertForSequenceClassification model from a BertForSequenceClassification model).\n",
            "Some weights of TFBertForTokenClassification were not initialized from the model checkpoint at cl-tohoku/bert-base-japanese-whole-word-masking and are newly initialized: ['classifier', 'dropout_37']\n",
            "You should probably TRAIN this model on a down-stream task to be able to use it for predictions and inference.\n"
          ],
          "name": "stderr"
        },
        {
          "output_type": "stream",
          "text": [
            "Epoch 1/100\n",
            "WARNING:tensorflow:Gradients do not exist for variables ['tf_bert_for_token_classification/bert/pooler/dense/kernel:0', 'tf_bert_for_token_classification/bert/pooler/dense/bias:0'] when minimizing the loss.\n",
            "WARNING:tensorflow:Gradients do not exist for variables ['tf_bert_for_token_classification/bert/pooler/dense/kernel:0', 'tf_bert_for_token_classification/bert/pooler/dense/bias:0'] when minimizing the loss.\n",
            "45/45 [==============================] - 2015s 45s/step - loss: 1.1680 - val_loss: 0.6656\n",
            "Epoch 2/100\n",
            "22/45 [=============>................] - ETA: 16:43 - loss: 0.6537"
          ],
          "name": "stdout"
        }
      ]
    },
    {
      "cell_type": "code",
      "metadata": {
        "id": "S-HWTjSg6644"
      },
      "source": [
        "! ls models"
      ],
      "execution_count": null,
      "outputs": []
    },
    {
      "cell_type": "code",
      "metadata": {
        "id": "7cWOTdP1as5n"
      },
      "source": [
        "model = load_model(model_path)\n",
        "label_ids = model.predict(features)[0]\n",
        "label_ids = np.argmax(label_ids, axis=-1)\n",
        "y_pred = [[] for _ in range(label_ids.shape[0])]\n",
        "print(y_pred)"
      ],
      "execution_count": null,
      "outputs": []
    }
  ]
}