{
  "nbformat": 4,
  "nbformat_minor": 0,
  "metadata": {
    "colab": {
      "name": "try-sentence-bert-1.ipynb",
      "provenance": [],
      "mount_file_id": "19bMVJ6S-EvMbNdGHf-MMpDDs73TJl6BH",
      "authorship_tag": "ABX9TyOpKr+tUUtqbUh3ZYF8TIaf",
      "include_colab_link": true
    },
    "kernelspec": {
      "name": "python3",
      "display_name": "Python 3"
    },
    "language_info": {
      "name": "python"
    }
  },
  "cells": [
    {
      "cell_type": "markdown",
      "metadata": {
        "id": "view-in-github",
        "colab_type": "text"
      },
      "source": [
        "<a href=\"https://colab.research.google.com/github/po3rin/python_playground/blob/master/torchnlp/try_sentence_bert_1.ipynb\" target=\"_parent\"><img src=\"https://colab.research.google.com/assets/colab-badge.svg\" alt=\"Open In Colab\"/></a>"
      ]
    },
    {
      "cell_type": "code",
      "metadata": {
        "id": "9FfPqBzXZUHV"
      },
      "source": [
        "%%capture\n",
        "!pip install transformers\n",
        "\n",
        "!pip install tensorboard\n",
        "\n",
        "!apt install aptitude\n",
        "!aptitude install mecab libmecab-dev mecab-ipadic-utf8 git make curl xz-utils file -y\n",
        "!pip install mecab-python3==0.7\n",
        "!pip install fugashi ipadic"
      ],
      "execution_count": 9,
      "outputs": []
    },
    {
      "cell_type": "code",
      "metadata": {
        "id": "Scf8MGEUYkdj"
      },
      "source": [
        "import torch\n",
        "from transformers import BertJapaneseTokenizer\n",
        "from transformers.models.bert_japanese import tokenization_bert_japanese\n",
        "from transformers import BertModel, BertConfig"
      ],
      "execution_count": 14,
      "outputs": []
    },
    {
      "cell_type": "code",
      "metadata": {
        "id": "fXtWannzZmuV"
      },
      "source": [
        "tknz = BertJapaneseTokenizer(vocab_file=\"drive/MyDrive/resources/sentence-bert/vocab.txt\", do_lower_case=False, do_basic_tokenize=False)\n",
        "tknz.word_tokenizer = tokenization_bert_japanese.MecabTokenizer()"
      ],
      "execution_count": 11,
      "outputs": []
    },
    {
      "cell_type": "code",
      "metadata": {
        "id": "duzBI2vXbFnL"
      },
      "source": [
        "config = BertConfig.from_json_file(\"drive/MyDrive/resources/sentence-bert/config.json\")\n",
        "net = BertModel.from_pretrained(\"drive/MyDrive/resources/sentence-bert/pytorch_model.bin\", config=config)"
      ],
      "execution_count": 12,
      "outputs": []
    },
    {
      "cell_type": "code",
      "metadata": {
        "colab": {
          "base_uri": "https://localhost:8080/"
        },
        "id": "_poP_5E0cCw8",
        "outputId": "681476e9-40fc-46a2-b39e-42c18a2ee032"
      },
      "source": [
        "ids = tknz.encode(\"私は犬が好き。\")\n",
        "x = torch.LongTensor(ids).unsqueeze(0)\n",
        "a = net(x)\n",
        "\n",
        "bs, wc, dm = a[0].shape\n",
        "sum_vec = a[0][0][0]\n",
        "for i in range(1, wc):\n",
        "  sum_vec += a[0][0][i]\n",
        "mv = sum_vec /wc\n",
        "mv.shape"
      ],
      "execution_count": 18,
      "outputs": [
        {
          "output_type": "execute_result",
          "data": {
            "text/plain": [
              "torch.Size([768])"
            ]
          },
          "metadata": {
            "tags": []
          },
          "execution_count": 18
        }
      ]
    },
    {
      "cell_type": "code",
      "metadata": {
        "id": "RlDMKwqhdRnN"
      },
      "source": [
        ""
      ],
      "execution_count": null,
      "outputs": []
    }
  ]
}