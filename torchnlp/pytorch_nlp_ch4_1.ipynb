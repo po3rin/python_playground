{
  "nbformat": 4,
  "nbformat_minor": 0,
  "metadata": {
    "colab": {
      "name": "pytorch-nlp-ch4_1.ipynb",
      "provenance": [],
      "mount_file_id": "1xAjPzjSZ1qoyQw163GCqpGaD3gYaSKDM",
      "authorship_tag": "ABX9TyPB6oTqqMV7Qg84fPQpvr72",
      "include_colab_link": true
    },
    "kernelspec": {
      "name": "python3",
      "display_name": "Python 3"
    },
    "language_info": {
      "name": "python"
    }
  },
  "cells": [
    {
      "cell_type": "markdown",
      "metadata": {
        "id": "view-in-github",
        "colab_type": "text"
      },
      "source": [
        "<a href=\"https://colab.research.google.com/github/po3rin/python_playground/blob/master/torchnlp/pytorch_nlp_ch4_1.ipynb\" target=\"_parent\"><img src=\"https://colab.research.google.com/assets/colab-badge.svg\" alt=\"Open In Colab\"/></a>"
      ]
    },
    {
      "cell_type": "code",
      "metadata": {
        "colab": {
          "base_uri": "https://localhost:8080/"
        },
        "id": "8dy9CdZhzGBb",
        "outputId": "150defc8-a436-4f90-dbc6-00da1f30ca62"
      },
      "source": [
        "!pip install transformers"
      ],
      "execution_count": 7,
      "outputs": [
        {
          "output_type": "stream",
          "text": [
            "Collecting transformers\n",
            "\u001b[?25l  Downloading https://files.pythonhosted.org/packages/d8/b2/57495b5309f09fa501866e225c84532d1fd89536ea62406b2181933fb418/transformers-4.5.1-py3-none-any.whl (2.1MB)\n",
            "\u001b[K     |████████████████████████████████| 2.1MB 4.1MB/s \n",
            "\u001b[?25hCollecting sacremoses\n",
            "\u001b[?25l  Downloading https://files.pythonhosted.org/packages/08/cd/342e584ee544d044fb573ae697404ce22ede086c9e87ce5960772084cad0/sacremoses-0.0.44.tar.gz (862kB)\n",
            "\u001b[K     |████████████████████████████████| 870kB 17.3MB/s \n",
            "\u001b[?25hRequirement already satisfied: importlib-metadata; python_version < \"3.8\" in /usr/local/lib/python3.7/dist-packages (from transformers) (3.10.1)\n",
            "Requirement already satisfied: numpy>=1.17 in /usr/local/lib/python3.7/dist-packages (from transformers) (1.19.5)\n",
            "Requirement already satisfied: regex!=2019.12.17 in /usr/local/lib/python3.7/dist-packages (from transformers) (2019.12.20)\n",
            "Collecting tokenizers<0.11,>=0.10.1\n",
            "\u001b[?25l  Downloading https://files.pythonhosted.org/packages/ae/04/5b870f26a858552025a62f1649c20d29d2672c02ff3c3fb4c688ca46467a/tokenizers-0.10.2-cp37-cp37m-manylinux2010_x86_64.whl (3.3MB)\n",
            "\u001b[K     |████████████████████████████████| 3.3MB 25.0MB/s \n",
            "\u001b[?25hRequirement already satisfied: requests in /usr/local/lib/python3.7/dist-packages (from transformers) (2.23.0)\n",
            "Requirement already satisfied: filelock in /usr/local/lib/python3.7/dist-packages (from transformers) (3.0.12)\n",
            "Requirement already satisfied: tqdm>=4.27 in /usr/local/lib/python3.7/dist-packages (from transformers) (4.41.1)\n",
            "Requirement already satisfied: packaging in /usr/local/lib/python3.7/dist-packages (from transformers) (20.9)\n",
            "Requirement already satisfied: six in /usr/local/lib/python3.7/dist-packages (from sacremoses->transformers) (1.15.0)\n",
            "Requirement already satisfied: click in /usr/local/lib/python3.7/dist-packages (from sacremoses->transformers) (7.1.2)\n",
            "Requirement already satisfied: joblib in /usr/local/lib/python3.7/dist-packages (from sacremoses->transformers) (1.0.1)\n",
            "Requirement already satisfied: typing-extensions>=3.6.4; python_version < \"3.8\" in /usr/local/lib/python3.7/dist-packages (from importlib-metadata; python_version < \"3.8\"->transformers) (3.7.4.3)\n",
            "Requirement already satisfied: zipp>=0.5 in /usr/local/lib/python3.7/dist-packages (from importlib-metadata; python_version < \"3.8\"->transformers) (3.4.1)\n",
            "Requirement already satisfied: chardet<4,>=3.0.2 in /usr/local/lib/python3.7/dist-packages (from requests->transformers) (3.0.4)\n",
            "Requirement already satisfied: urllib3!=1.25.0,!=1.25.1,<1.26,>=1.21.1 in /usr/local/lib/python3.7/dist-packages (from requests->transformers) (1.24.3)\n",
            "Requirement already satisfied: certifi>=2017.4.17 in /usr/local/lib/python3.7/dist-packages (from requests->transformers) (2020.12.5)\n",
            "Requirement already satisfied: idna<3,>=2.5 in /usr/local/lib/python3.7/dist-packages (from requests->transformers) (2.10)\n",
            "Requirement already satisfied: pyparsing>=2.0.2 in /usr/local/lib/python3.7/dist-packages (from packaging->transformers) (2.4.7)\n",
            "Building wheels for collected packages: sacremoses\n",
            "  Building wheel for sacremoses (setup.py) ... \u001b[?25l\u001b[?25hdone\n",
            "  Created wheel for sacremoses: filename=sacremoses-0.0.44-cp37-none-any.whl size=886084 sha256=d289d5ca5286e3ca8348a321c235bd68e79b1447b4a93ccdfc823358138d30eb\n",
            "  Stored in directory: /root/.cache/pip/wheels/3e/fb/c0/13ab4d63d537658f448366744654323077c4d90069b6512f3c\n",
            "Successfully built sacremoses\n",
            "Installing collected packages: sacremoses, tokenizers, transformers\n",
            "Successfully installed sacremoses-0.0.44 tokenizers-0.10.2 transformers-4.5.1\n"
          ],
          "name": "stdout"
        }
      ]
    },
    {
      "cell_type": "code",
      "metadata": {
        "id": "mJWAMRQOy51r"
      },
      "source": [
        "from transformers import BertModel\n",
        "from transformers import BertForMaskedLM\n",
        "import torch"
      ],
      "execution_count": 39,
      "outputs": []
    },
    {
      "cell_type": "code",
      "metadata": {
        "colab": {
          "base_uri": "https://localhost:8080/"
        },
        "id": "yDVLyWDwt0fy",
        "outputId": "16fdd773-1635-48c6-9a47-c5c2ab226494"
      },
      "source": [
        "dic = {}\n",
        "with open(\"/content/drive/MyDrive/resources/tohoku-bert/vocab.txt\",\"r\",encoding=\"utf-8\") as f:\n",
        "  vocab = f.read()\n",
        "  for id , word in enumerate(vocab.split(\"\\n\")):\n",
        "    dic[word] = id\n",
        "\n",
        "text = \"[CLS] 私 は 犬 が 好き 。 [SEP]\"\n",
        "x = [ dic[w] for w in text.split() ]\n",
        "x"
      ],
      "execution_count": 9,
      "outputs": [
        {
          "output_type": "execute_result",
          "data": {
            "text/plain": [
              "[2, 1325, 9, 2928, 14, 3596, 8, 3]"
            ]
          },
          "metadata": {
            "tags": []
          },
          "execution_count": 9
        }
      ]
    },
    {
      "cell_type": "code",
      "metadata": {
        "colab": {
          "base_uri": "https://localhost:8080/"
        },
        "id": "1zmT7VYMwosJ",
        "outputId": "613617b2-fa33-411e-a4a4-c9004b69a724"
      },
      "source": [
        "\n",
        "x = torch.LongTensor(x).unsqueeze(0)\n",
        "x"
      ],
      "execution_count": 10,
      "outputs": [
        {
          "output_type": "execute_result",
          "data": {
            "text/plain": [
              "tensor([[   2, 1325,    9, 2928,   14, 3596,    8,    3]])"
            ]
          },
          "metadata": {
            "tags": []
          },
          "execution_count": 10
        }
      ]
    },
    {
      "cell_type": "code",
      "metadata": {
        "id": "W8hJWDAuy3bJ"
      },
      "source": [
        "model = BertModel.from_pretrained(\"cl-tohoku/bert-base-japanese\")\n",
        "a = model(x)\n"
      ],
      "execution_count": 13,
      "outputs": []
    },
    {
      "cell_type": "code",
      "metadata": {
        "colab": {
          "base_uri": "https://localhost:8080/"
        },
        "id": "c5SUva-Zz81G",
        "outputId": "0314a7f5-01bc-42ef-eb21-07ddae424d5d"
      },
      "source": [
        "a[0].shape"
      ],
      "execution_count": 14,
      "outputs": [
        {
          "output_type": "execute_result",
          "data": {
            "text/plain": [
              "torch.Size([1, 8, 768])"
            ]
          },
          "metadata": {
            "tags": []
          },
          "execution_count": 14
        }
      ]
    },
    {
      "cell_type": "code",
      "metadata": {
        "colab": {
          "base_uri": "https://localhost:8080/"
        },
        "id": "EmIa5PL60VNz",
        "outputId": "be9fc6c8-3e2c-4e63-f52d-609478e0afa6"
      },
      "source": [
        "a[0][0][3]"
      ],
      "execution_count": 15,
      "outputs": [
        {
          "output_type": "execute_result",
          "data": {
            "text/plain": [
              "tensor([-1.2636e-01, -1.2734e-01,  4.1125e-01, -3.7946e-02,  3.5671e-01,\n",
              "         5.9472e-01, -1.2080e-02, -2.0193e-01,  6.1377e-01,  2.1312e-01,\n",
              "        -7.4530e-02,  2.0608e-02, -4.5949e-01,  2.5509e-01, -2.4717e-01,\n",
              "        -9.4191e-02,  1.1410e-01, -2.2248e-01,  3.5165e-01,  4.6572e-01,\n",
              "        -3.8768e-01, -8.5532e-02,  2.5526e-01,  2.6166e-01, -3.1824e-01,\n",
              "         8.1794e-02, -2.4993e-01,  2.9269e-01,  7.9955e-01,  3.5923e-01,\n",
              "        -1.2338e-01,  6.5811e-03,  3.8730e-01,  2.3091e-01,  1.4636e-01,\n",
              "         4.6668e-01,  2.6290e-01,  1.6373e-01,  6.9316e-02,  1.4958e-01,\n",
              "        -5.9775e-01,  2.1966e-01, -1.5152e-01, -7.7536e-03,  2.8760e-02,\n",
              "         8.2232e-01, -2.1874e-01,  4.2410e-02,  8.8731e-01,  9.9789e-02,\n",
              "        -6.2738e-01, -4.2279e-01,  9.3125e-03, -3.0431e-01, -2.4775e-01,\n",
              "        -9.0133e-02,  1.4442e+00,  2.2802e-01,  4.4458e-01, -3.1874e-01,\n",
              "        -6.9717e-01,  6.2764e-01, -3.7872e-02, -6.9396e-02,  1.3187e-01,\n",
              "        -1.4630e-01, -9.5384e-02, -4.0134e-02, -1.1419e+00,  5.0267e-01,\n",
              "        -5.0180e-01,  6.6902e-01, -8.6004e-01, -2.8318e-02,  2.4716e-01,\n",
              "         5.5095e-01, -2.2537e-01,  1.9594e-01,  2.7266e-01, -3.5039e-01,\n",
              "        -2.2121e-01, -4.8057e-02,  2.1614e-01,  3.7493e-01,  1.5255e-01,\n",
              "        -2.2028e-02, -7.3651e-01,  5.6596e-01, -1.2990e-01, -2.1525e-01,\n",
              "         4.9725e-01,  3.2755e-01,  1.4070e-01, -1.4203e-01, -3.0324e-01,\n",
              "         4.9558e-01, -2.0771e-01, -4.6211e-01,  1.1700e-01,  4.6136e-03,\n",
              "        -7.4607e-01, -7.8644e-01,  4.3173e-01, -7.4613e-01,  5.7458e-02,\n",
              "        -6.4750e-03, -5.6369e-01,  3.6449e-01,  2.7439e-01,  4.5760e-01,\n",
              "         1.3098e-01,  7.3430e-01,  3.4693e-01, -9.2957e-02,  2.2157e-01,\n",
              "        -5.9410e-01, -3.3102e-01,  4.8621e-02,  3.9111e-01,  2.0070e-01,\n",
              "         1.2561e-01,  2.8281e-01,  5.6432e-01,  2.8840e-01, -1.3205e-01,\n",
              "        -1.6940e-01,  1.1061e+00, -4.8166e-01, -7.7945e-02, -4.8893e-01,\n",
              "        -4.7354e-02, -7.6424e-01, -9.1521e-01,  4.7544e-01, -3.2645e-01,\n",
              "         2.8502e-01, -3.3783e-02,  7.2673e-01, -3.5925e-01, -2.1302e-01,\n",
              "         3.1164e-01,  2.7859e-01,  9.4417e-01,  4.2333e-01,  8.9327e-01,\n",
              "        -2.9452e-01,  6.2696e-01, -6.7386e-02,  1.7236e-01, -4.0853e-01,\n",
              "         4.3754e-01,  2.2073e-01, -7.0428e-01, -1.1578e-01, -2.6477e-01,\n",
              "        -4.3494e-01, -6.9601e-01, -5.0656e-01,  5.9983e-01,  1.0477e+00,\n",
              "        -7.3032e-01,  3.4891e-01, -1.9410e-01,  5.7066e-02,  4.9292e-01,\n",
              "        -3.2191e-01, -3.6206e-01,  6.9024e-01, -1.8361e-01,  8.5708e-02,\n",
              "         9.0006e-02,  4.2827e-01, -1.7562e-01, -1.1233e-02, -4.9506e-01,\n",
              "         3.5904e-01,  2.4320e-01,  1.8439e-01, -1.8764e-01, -1.9291e-01,\n",
              "        -4.6769e-01,  3.3823e-02,  1.7553e-01, -5.8764e-01, -2.7029e-01,\n",
              "         4.9463e-01, -7.9573e-01,  4.0490e-01, -1.6254e-01,  2.5074e-01,\n",
              "         4.5026e-01,  5.9887e-01,  4.5802e-01, -6.8991e-01, -1.1518e-01,\n",
              "        -7.1103e-02,  4.3074e-01,  1.2597e-01, -1.7786e-02,  1.3623e-01,\n",
              "         1.4732e-01, -1.4807e-02,  1.8128e-01,  1.3673e-01,  4.8054e-02,\n",
              "         9.2967e-01,  5.2011e-02, -1.2880e-01, -5.5237e-02,  2.6225e-01,\n",
              "         5.6227e-02, -7.2471e-03,  3.8972e-02, -8.8315e-02,  8.3572e-02,\n",
              "        -4.1377e-01, -5.0237e-03,  2.6995e-01, -8.7080e-02,  2.5820e-01,\n",
              "         8.8450e-02,  4.4651e-01,  7.7217e-01,  5.7546e-03,  4.0472e-01,\n",
              "         5.5931e-02,  8.5115e-01, -5.7391e-01,  1.6231e-01, -4.9490e-02,\n",
              "        -2.2377e-01, -4.7706e-01,  5.2504e-01, -1.6769e-01, -9.1922e-02,\n",
              "         3.7336e-01, -3.5309e-01,  7.0598e-01,  3.9674e-01, -5.3772e-02,\n",
              "         6.9892e-01, -1.5170e-01, -1.9310e-01,  3.7981e-01, -7.6653e-01,\n",
              "        -3.5357e-01, -1.2882e-02, -3.1287e-02, -5.5400e-01,  3.6271e-01,\n",
              "         1.2920e-01,  2.1026e-01, -3.9403e-01, -4.6997e-02, -4.6301e-01,\n",
              "        -5.4901e-01,  3.6518e-01, -1.3955e+00,  5.5822e-02,  6.5063e-01,\n",
              "        -3.1004e-03,  3.7067e-02, -3.9735e-01,  7.0079e-02, -7.7613e-01,\n",
              "        -1.8507e-01, -2.9915e-01,  6.3105e-01, -2.1384e-01,  4.7937e-01,\n",
              "        -3.0145e-02, -1.0823e-01,  3.3522e-01,  5.3279e-01, -3.9141e-01,\n",
              "        -2.5561e-01, -6.2588e-01, -3.5809e-01,  6.3247e-01,  1.7020e-01,\n",
              "        -5.3736e-03, -1.5626e-01, -1.5021e+00, -4.9895e-01, -4.2467e-02,\n",
              "         8.3843e-01,  4.7990e-02, -5.1288e-02, -2.7274e-01, -6.2329e-01,\n",
              "        -8.6088e-02,  4.1608e-01,  1.1139e-01,  3.4601e-01,  9.7202e-01,\n",
              "         2.0434e-01, -2.3330e-01,  8.2591e-03, -1.0363e-01,  8.6864e-02,\n",
              "         1.7144e-01, -4.5554e-03,  2.9243e-02,  1.4029e-01,  1.9651e-01,\n",
              "         1.3922e-02, -8.1708e-01,  4.2241e-01,  7.6434e-01,  8.5447e-02,\n",
              "        -2.4554e-01,  6.1175e-01,  3.1224e-01,  7.4442e-01,  2.6618e-01,\n",
              "        -3.2915e-01,  1.9511e-01,  2.8974e-01,  4.1188e-01,  1.0091e-01,\n",
              "        -5.6285e-01, -3.0537e-01, -4.6778e-01,  2.2863e-01,  9.7888e-04,\n",
              "        -5.3482e-01,  1.9482e-01, -1.4910e-02, -2.8754e-01,  1.5458e-01,\n",
              "        -1.9697e-01,  2.3194e-01, -4.5634e-01, -9.4692e-02, -4.7934e-01,\n",
              "        -4.4342e-01,  1.3820e-01,  2.7414e-01, -1.8712e-02, -1.9631e-01,\n",
              "         1.0009e-01,  7.8175e-01, -3.9912e-02,  9.0097e-01, -4.5911e-01,\n",
              "        -1.5239e-01, -3.2153e-02,  1.9477e-01, -2.3704e-01,  1.0201e-03,\n",
              "         6.4125e-01,  2.5652e-01,  1.1754e-01, -6.6058e-01, -1.4489e-01,\n",
              "         5.1765e-02,  5.1428e-01, -4.5977e-01,  1.3868e-01,  1.0421e-01,\n",
              "        -2.9658e-02,  2.8779e-01,  6.9075e-01,  5.4622e-01, -6.3122e-01,\n",
              "        -7.2606e-02, -7.9440e-01, -2.0620e-01, -4.2225e-01, -1.6070e-01,\n",
              "        -8.6650e-02,  1.4101e-01, -7.5491e-01,  1.0600e-01,  2.4214e-01,\n",
              "        -5.3326e-01, -6.1988e-01, -3.4620e-01,  1.5708e-01, -1.4970e-01,\n",
              "         3.6526e-01, -1.8333e-01, -5.9828e-01, -3.4726e-01, -2.9197e-01,\n",
              "        -3.8246e-01,  2.4109e-01,  8.2283e-02,  1.8602e-01,  3.7789e-01,\n",
              "        -6.1797e-02,  3.6414e-02, -4.1763e-01, -1.1590e-01,  2.4209e-01,\n",
              "         3.5159e-01, -2.3424e-01, -2.0255e-01,  2.8956e-01,  7.0933e-03,\n",
              "        -4.4297e-01, -4.4249e-02, -3.1908e-01,  3.1051e-02,  4.8135e-01,\n",
              "         2.4680e-01,  2.7877e-01, -3.7734e-01, -1.0593e-01,  1.6187e-01,\n",
              "         5.0757e-01, -1.0019e+00, -8.7184e-02,  2.9606e-01,  1.3530e-02,\n",
              "         8.6629e-02,  3.3357e-01, -7.5095e-01, -2.1432e-02, -5.4963e-01,\n",
              "         3.1206e-01, -5.5403e-02, -1.0946e+00,  1.3473e-01,  3.9708e-01,\n",
              "         2.7739e-01, -4.6436e-01, -5.4644e-02, -3.9295e-01, -1.2051e-01,\n",
              "        -3.2665e-01, -1.0661e-03,  5.2600e-02,  3.5859e-01, -2.0447e-01,\n",
              "         1.0261e+00,  6.0770e-01, -6.9690e-01, -4.3956e-01,  8.3881e-01,\n",
              "         7.7650e-01,  1.4149e-01, -1.2465e-01,  4.8639e-01, -3.6845e-01,\n",
              "        -3.9505e-01, -2.2520e-01,  7.1529e-01, -1.2594e-01, -3.9724e-01,\n",
              "        -2.9168e-01, -6.2677e-01, -3.3448e-01,  5.9854e-01,  2.0486e-01,\n",
              "         3.9802e-01,  1.2763e-01, -5.7305e-01,  2.1901e-01,  1.2301e-01,\n",
              "        -4.7575e-01,  4.0336e-01,  2.2059e-01, -3.4848e-02, -3.1772e-01,\n",
              "         7.4034e-02, -9.9276e-02, -6.3303e-02,  6.7730e-01, -7.9260e-01,\n",
              "        -4.5202e-02,  5.2365e-01, -2.7718e-02,  5.9218e-03, -9.1440e-02,\n",
              "         6.5027e-01,  5.0534e-01,  3.6669e-02,  6.4551e-01,  1.9200e-03,\n",
              "        -8.6308e-02, -7.2769e-02, -2.6181e-01,  2.8473e-01, -8.0327e-01,\n",
              "         1.6735e-01,  7.1643e-01,  3.0394e-01, -4.1841e-01,  4.9319e-01,\n",
              "         4.9865e-01,  4.2977e-01,  2.0655e-01, -6.0212e-01, -1.8473e-01,\n",
              "         1.1200e-02,  1.9169e-01, -3.7922e-01,  5.0830e-02,  1.4850e-01,\n",
              "         5.5978e-01,  3.6470e-01,  7.7678e-02, -3.8389e-01, -4.8850e-01,\n",
              "         2.3830e-01,  3.9645e-01, -8.9931e-01, -1.8844e-01, -2.7444e-01,\n",
              "         1.8547e-01,  2.4568e-01, -2.1540e-01, -2.8981e-02,  5.0126e-01,\n",
              "        -5.6360e-01, -2.7866e-01, -1.9295e-01,  9.1583e-01, -3.0396e-01,\n",
              "        -1.7067e-01, -1.2645e-01, -4.1039e-01, -9.2601e-02, -2.6981e-01,\n",
              "         1.2651e-01,  5.6678e-01,  1.9600e-01, -2.8665e-01,  4.0650e-01,\n",
              "         1.2173e-01, -1.7194e-01,  8.4419e-01,  3.3347e-01,  4.3319e-02,\n",
              "         1.3786e-02, -1.6547e-01, -5.3772e-01,  2.0879e-01,  2.2129e-01,\n",
              "         6.6415e-02, -1.2108e-01,  6.2374e-01, -5.7487e-01,  9.1839e-01,\n",
              "        -6.1932e-01, -8.0079e-02, -2.3511e-01,  3.1379e-01,  4.0686e-01,\n",
              "         2.8223e-01, -5.3857e-01, -2.6997e-01, -7.6706e-02, -2.8245e-01,\n",
              "        -2.6830e-01, -4.4252e-01,  2.3550e-01, -8.6242e-01,  2.1785e-02,\n",
              "        -1.3134e-01,  9.0185e-02, -1.0116e-01,  2.9397e-01, -6.3962e-03,\n",
              "        -5.5898e-01,  1.2330e-01, -6.4213e-01,  2.6501e-01, -1.6842e-02,\n",
              "        -4.7033e-01,  1.7309e-01, -5.6419e-02,  5.7463e-01, -7.6251e-01,\n",
              "         1.6844e-01, -1.1225e-01,  3.3626e-01,  4.9026e-02, -2.5254e-01,\n",
              "         1.6437e-01,  5.5116e-01, -5.1896e-01,  5.4748e-02, -5.2932e-01,\n",
              "         3.6159e-01,  7.1701e-01, -1.7432e-01, -4.3881e-01, -3.2366e-01,\n",
              "        -5.0767e-01, -2.0115e-01, -2.2987e-01, -4.9926e-01,  5.8573e-01,\n",
              "         3.9168e-01,  2.9184e-01, -7.7926e-01,  2.4396e-01, -2.0216e-01,\n",
              "        -4.8349e-01,  1.2666e-01,  5.7137e-01,  3.6593e-01,  2.5444e-01,\n",
              "        -3.8959e-01,  1.4999e-01, -7.0352e-01,  2.5381e-01,  1.3579e-01,\n",
              "         4.2275e-01, -6.3476e-01, -1.6673e-01, -7.6727e-02,  5.0017e-01,\n",
              "        -1.3614e+00,  1.7419e-01, -1.1971e-01,  3.5219e-01,  2.5904e-01,\n",
              "         9.0094e-02,  8.5214e-01, -2.4464e-01,  3.9044e-01,  9.1599e-01,\n",
              "         2.2390e-01,  2.3598e-02, -9.1799e-01, -3.8023e-02, -1.1525e-01,\n",
              "         9.5775e-02, -4.0080e-02,  5.8575e-01, -5.8251e-01,  3.8502e-03,\n",
              "        -7.6208e-01, -7.1315e-02, -2.6048e-01,  3.2383e-01, -7.0393e-01,\n",
              "         5.1572e-01, -1.7971e-01, -1.0781e-01, -2.4707e-01, -4.3959e-02,\n",
              "        -5.0989e-02,  5.9210e-01, -1.5463e-02, -1.4231e-01, -2.3543e-01,\n",
              "         2.3660e-01, -3.6423e-01, -6.1306e-02, -4.9595e-01,  1.1677e-01,\n",
              "        -6.2470e-03, -4.6197e-02,  8.3986e-02,  7.9944e-02,  2.1710e-01,\n",
              "         6.3772e-01,  1.9252e-01,  1.1059e-01,  1.2271e-01, -2.7933e-01,\n",
              "         2.7812e-01, -3.0458e-01, -3.6237e-01, -9.9733e+00,  5.3445e-01,\n",
              "        -6.1084e-01,  3.5478e-01, -4.4430e-01,  2.0473e-01,  4.9335e-01,\n",
              "         3.0226e-01,  4.9448e-01,  1.9301e-01,  1.4200e-01, -6.0790e-02,\n",
              "        -6.7130e-02, -2.9199e-01, -5.6819e-01,  8.4747e-01, -4.0862e-01,\n",
              "        -2.3701e-01,  8.0204e-01, -4.0005e-01, -8.3642e-01, -3.4560e-01,\n",
              "        -3.7893e-01,  3.7334e-01,  8.7733e-02,  8.1780e-02, -9.3863e-01,\n",
              "        -8.8667e-02, -2.5217e-01,  1.8868e-01, -3.3601e-01,  2.4337e-01,\n",
              "        -9.0584e-01, -2.7559e-01, -2.9569e-01, -1.2442e-01,  2.8073e-01,\n",
              "         4.0143e-01,  2.0874e-01,  4.8844e-01, -3.7374e-01, -1.7950e-01,\n",
              "        -6.7643e-02, -1.0630e+00,  6.5236e-01, -2.8368e-01,  4.4323e-01,\n",
              "         6.4191e-02,  2.3429e-01, -3.6649e-02, -1.5684e-01, -2.6421e-01,\n",
              "        -3.6368e-01, -6.9880e-01, -1.6153e-01, -1.8823e-01,  4.6617e-02,\n",
              "         9.3143e-02,  1.0431e-02,  6.0366e-01,  2.8327e-01,  1.1565e-01,\n",
              "        -8.7768e-02,  4.7500e-01, -2.3949e-01,  5.8169e-01,  2.5403e-01,\n",
              "         4.1323e-01, -7.0600e-01,  4.1934e-01,  1.0501e-01,  9.9605e-02,\n",
              "         7.5673e-02,  5.1302e-01, -2.6561e-01, -5.4856e-01, -7.2084e-01,\n",
              "        -3.3494e-01,  8.0041e-01,  9.5123e-02, -4.3697e-01, -2.6048e-01,\n",
              "        -7.0522e-01,  2.9933e-01,  2.2629e-01, -9.8538e-02,  3.0781e-01,\n",
              "        -2.2554e-01,  5.4424e-01, -3.6351e-01,  1.6985e-01,  4.8340e-01,\n",
              "        -3.1554e-01,  5.9462e-02, -5.6606e-01,  1.9571e-01,  3.2333e-01,\n",
              "         3.6122e-01, -2.9694e-01, -3.1038e-01], grad_fn=<SelectBackward>)"
            ]
          },
          "metadata": {
            "tags": []
          },
          "execution_count": 15
        }
      ]
    },
    {
      "cell_type": "code",
      "metadata": {
        "id": "3a3QWhfg0cUJ"
      },
      "source": [
        "!apt install aptitude\n",
        "!aptitude install mecab libmecab-dev mecab-ipadic-utf8 git make curl xz-utils file -y\n",
        "!pip install mecab-python3==0.7\n",
        "!pip install fugashi ipadic"
      ],
      "execution_count": null,
      "outputs": []
    },
    {
      "cell_type": "code",
      "metadata": {
        "colab": {
          "base_uri": "https://localhost:8080/"
        },
        "id": "DyWQXPRf2P6e",
        "outputId": "778090ef-48f1-417e-c1e9-a4d3aa90bc7b"
      },
      "source": [
        "from transformers import BertJapaneseTokenizer\n",
        "tknz = BertJapaneseTokenizer.from_pretrained(\"cl-tohoku/bert-base-japanese\")\n",
        "print(tknz.tokenize(\"私は犬が好き。\"))\n",
        "tknz.encode(\"私は犬が好き。\")"
      ],
      "execution_count": 18,
      "outputs": [
        {
          "output_type": "execute_result",
          "data": {
            "text/plain": [
              "['私', 'は', '犬', 'が', '好き', '。']"
            ]
          },
          "metadata": {
            "tags": []
          },
          "execution_count": 18
        }
      ]
    },
    {
      "cell_type": "code",
      "metadata": {
        "colab": {
          "base_uri": "https://localhost:8080/"
        },
        "id": "nM1giLev2saA",
        "outputId": "7af82744-ce1d-4e36-b86c-7fa1ce21d1ec"
      },
      "source": [
        "model = BertForMaskedLM.from_pretrained(\"cl-tohoku/bert-base-japanese\")"
      ],
      "execution_count": 40,
      "outputs": [
        {
          "output_type": "stream",
          "text": [
            "Some weights of the model checkpoint at cl-tohoku/bert-base-japanese were not used when initializing BertForMaskedLM: ['cls.seq_relationship.weight', 'cls.seq_relationship.bias']\n",
            "- This IS expected if you are initializing BertForMaskedLM from the checkpoint of a model trained on another task or with another architecture (e.g. initializing a BertForSequenceClassification model from a BertForPreTraining model).\n",
            "- This IS NOT expected if you are initializing BertForMaskedLM from the checkpoint of a model that you expect to be exactly identical (initializing a BertForSequenceClassification model from a BertForSequenceClassification model).\n"
          ],
          "name": "stderr"
        }
      ]
    },
    {
      "cell_type": "code",
      "metadata": {
        "colab": {
          "base_uri": "https://localhost:8080/"
        },
        "id": "BYCjhLgB3tzb",
        "outputId": "6316db99-1f04-4485-c2e0-f0184ca02e4f"
      },
      "source": [
        "# tokens = tknz.tokenize(\"私 は [MASK] が 好き 。\")\n",
        "# print(tokens)\n",
        "# ids = tknz.encode(\"私 は [MASK] が 好き 。\")\n",
        "# print(ids)\n",
        "\n",
        "ids = tknz.encode(\"胃がん [MASK] 直す\")\n",
        "\n",
        "mskpos = ids.index(tknz.mask_token_id)\n",
        "mskpos"
      ],
      "execution_count": 50,
      "outputs": [
        {
          "output_type": "execute_result",
          "data": {
            "text/plain": [
              "3"
            ]
          },
          "metadata": {
            "tags": []
          },
          "execution_count": 50
        }
      ]
    },
    {
      "cell_type": "code",
      "metadata": {
        "colab": {
          "base_uri": "https://localhost:8080/"
        },
        "id": "U3ySaME45IRr",
        "outputId": "ade2708a-3c4e-49b4-82f1-5f4378ba118b"
      },
      "source": [
        "print(tknz.vocab_size)\n",
        "x = torch.LongTensor(ids).unsqueeze(0)\n",
        "a = model(x)\n",
        "\n",
        "b = torch.topk(a[0][0][mskpos], k=5)\n",
        "tknz.convert_ids_to_tokens(b[1])"
      ],
      "execution_count": 51,
      "outputs": [
        {
          "output_type": "stream",
          "text": [
            "32000\n"
          ],
          "name": "stdout"
        },
        {
          "output_type": "execute_result",
          "data": {
            "text/plain": [
              "['を', 'やり', 'で', 'に', '起こし']"
            ]
          },
          "metadata": {
            "tags": []
          },
          "execution_count": 51
        }
      ]
    }
  ]
}