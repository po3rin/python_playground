{
  "nbformat": 4,
  "nbformat_minor": 0,
  "metadata": {
    "colab": {
      "name": "pytorch-nlp-ch3",
      "provenance": [],
      "mount_file_id": "1hrYf1_XOodwdH9oMyXr87CqdwUU39ZSo",
      "authorship_tag": "ABX9TyOcqYsNfa8HNwStI9pQ9/vU",
      "include_colab_link": true
    },
    "kernelspec": {
      "name": "python3",
      "display_name": "Python 3"
    },
    "language_info": {
      "name": "python"
    }
  },
  "cells": [
    {
      "cell_type": "markdown",
      "metadata": {
        "id": "view-in-github",
        "colab_type": "text"
      },
      "source": [
        "<a href=\"https://colab.research.google.com/github/po3rin/python_playground/blob/master/torchnlp/pytorch_nlp_ch3_1.ipynb\" target=\"_parent\"><img src=\"https://colab.research.google.com/assets/colab-badge.svg\" alt=\"Open In Colab\"/></a>"
      ]
    },
    {
      "cell_type": "code",
      "metadata": {
        "colab": {
          "base_uri": "https://localhost:8080/"
        },
        "id": "yAtLbQXxFiGO",
        "outputId": "7ba62750-a489-4808-ce60-2ab6cd55bf9d"
      },
      "source": [
        "!pip install janome"
      ],
      "execution_count": 9,
      "outputs": [
        {
          "output_type": "stream",
          "text": [
            "Requirement already satisfied: janome in /usr/local/lib/python3.7/dist-packages (0.4.1)\n"
          ],
          "name": "stdout"
        }
      ]
    },
    {
      "cell_type": "code",
      "metadata": {
        "id": "_Sy0dBYTEVa8"
      },
      "source": [
        "#!/usr/bin/python\n",
        "# -*- coding: sjis -*\n",
        "\n",
        "from janome.tokenizer import Tokenizer\n",
        "import numpy as np\n",
        "import torch\n",
        "import torch.nn as nn"
      ],
      "execution_count": 11,
      "outputs": []
    },
    {
      "cell_type": "code",
      "metadata": {
        "colab": {
          "base_uri": "https://localhost:8080/"
        },
        "id": "VCGCpu9GEo0S",
        "outputId": "84f631e4-b57f-48ba-f9bf-5c8e2c15abdf"
      },
      "source": [
        "tkz = Tokenizer()\n",
        "s = \"私は犬が好き\"\n",
        "ws = [w for w in tkz.tokenize(s,wakati=True)]\n",
        "print(ws)"
      ],
      "execution_count": 13,
      "outputs": [
        {
          "output_type": "stream",
          "text": [
            "['私', 'は', '犬', 'が', '好き']\n"
          ],
          "name": "stdout"
        }
      ]
    },
    {
      "cell_type": "code",
      "metadata": {
        "colab": {
          "base_uri": "https://localhost:8080/"
        },
        "id": "ZFDXgjYoKjQD",
        "outputId": "e4f89422-05ef-4ff7-97e9-9cfdf4263a81"
      },
      "source": [
        "from gensim.models.keyedvectors import KeyedVectors\n",
        "w2v = KeyedVectors.load_word2vec_format(\"drive/MyDrive/resources/entity_vector.model.bin\", binary=True)\n",
        "\n",
        "xn=torch.tensor([ w2v[w] for w in ws])\n",
        "print(xn.shape)\n",
        "\n",
        "xn = xn.unsqueeze(0)\n",
        "print(xn.shape)"
      ],
      "execution_count": 14,
      "outputs": [
        {
          "output_type": "stream",
          "text": [
            "torch.Size([5, 200])\n",
            "torch.Size([1, 5, 200])\n"
          ],
          "name": "stdout"
        }
      ]
    },
    {
      "cell_type": "code",
      "metadata": {
        "colab": {
          "base_uri": "https://localhost:8080/"
        },
        "id": "ANes0mM0Izmr",
        "outputId": "e1bb2ebe-4834-43d5-d14c-6ad8621a7cbc"
      },
      "source": [
        "lstm = nn.LSTM(200,200,batch_first=True)\n",
        "h0 = torch.randn(1,1,200)\n",
        "c0 = torch.randn(1,1,200)\n",
        "yn, (hn, cn) = lstm(xn, (h0,c0))\n",
        "\n",
        "print(yn.shape)\n",
        "print(hn.shape)\n",
        "print(cn.shape)"
      ],
      "execution_count": 15,
      "outputs": [
        {
          "output_type": "stream",
          "text": [
            "torch.Size([1, 5, 200])\n",
            "torch.Size([1, 1, 200])\n",
            "torch.Size([1, 1, 200])\n"
          ],
          "name": "stdout"
        }
      ]
    },
    {
      "cell_type": "code",
      "metadata": {
        "id": "fTLjVh51LJyk"
      },
      "source": [
        ""
      ],
      "execution_count": null,
      "outputs": []
    }
  ]
}