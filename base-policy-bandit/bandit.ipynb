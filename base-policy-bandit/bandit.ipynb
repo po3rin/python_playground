{
 "cells": [
  {
   "cell_type": "markdown",
   "metadata": {},
   "source": [
    "# Batched Successive Elimination"
   ]
  },
  {
   "cell_type": "code",
   "execution_count": null,
   "metadata": {},
   "outputs": [
    {
     "ename": "",
     "evalue": "",
     "output_type": "error",
     "traceback": [
      "\u001b[1;31m'Python 3.11.1 64-bit' を使用した実行中のセルには ipykernel パッケージが必要です。\n",
      "\u001b[1;31m次のコマンドを実行して、'ipykernel' を Python 環境にインストールします。\n",
      "\u001b[1;31mコマンド: '/Users/hiromu.nakamura/homebrew/bin/python3.11 -m pip install ipykernel -U --user --force-reinstall'"
     ]
    }
   ],
   "source": [
    "import numpy as np\n",
    "from matplotlib import pyplot as plt\n",
    "# import pymc3 as pm"
   ]
  },
  {
   "cell_type": "code",
   "execution_count": null,
   "metadata": {},
   "outputs": [
    {
     "ename": "",
     "evalue": "",
     "output_type": "error",
     "traceback": [
      "\u001b[1;31m'Python 3.11.1 64-bit' を使用した実行中のセルには ipykernel パッケージが必要です。\n",
      "\u001b[1;31m次のコマンドを実行して、'ipykernel' を Python 環境にインストールします。\n",
      "\u001b[1;31mコマンド: '/Users/hiromu.nakamura/homebrew/bin/python3.11 -m pip install ipykernel -U --user --force-reinstall'"
     ]
    }
   ],
   "source": [
    "n_arms = 4\n",
    "\n",
    "class Env(object):\n",
    "  thetas = [0.1, 0.1, 0.2, 0.3]\n",
    "\n",
    "  def react(arm):\n",
    "    return 1 if np.random.random() < Env.thetas[arm] else 0\n",
    "\n",
    "  def opt():\n",
    "    return np.argmax(Env.thetas)"
   ]
  },
  {
   "cell_type": "code",
   "execution_count": null,
   "metadata": {},
   "outputs": [
    {
     "ename": "",
     "evalue": "",
     "output_type": "error",
     "traceback": [
      "\u001b[1;31m'Python 3.11.1 64-bit' を使用した実行中のセルには ipykernel パッケージが必要です。\n",
      "\u001b[1;31m次のコマンドを実行して、'ipykernel' を Python 環境にインストールします。\n",
      "\u001b[1;31mコマンド: '/Users/hiromu.nakamura/homebrew/bin/python3.11 -m pip install ipykernel -U --user --force-reinstall'"
     ]
    }
   ],
   "source": [
    "class UCBAgent(object):\n",
    "\n",
    "  def __init__(self):\n",
    "    self.counts = [0 for _ in range(n_arms)]\n",
    "    self.values = [0 for _ in range(n_arms)]\n",
    "\n",
    "  def calc_ucb(self, arm):\n",
    "    ucb = self.values[arm]\n",
    "    ucb += np.sqrt(np.log(sum(self.counts)) / (2 * self.counts[arm]))\n",
    "    return ucb\n",
    "\n",
    "  def get_arm(self):\n",
    "    if 0 in self.counts:\n",
    "      arm = self.counts.index(0)\n",
    "    else:\n",
    "      ucb = [self.calc_ucb(arm) for arm in range(n_arms)]\n",
    "      arm = ucb.index(max(ucb))\n",
    "    return arm\n",
    "\n",
    "  def sample(self, arm, reward):\n",
    "    self.counts[arm] = self.counts[arm] + 1\n",
    "    self.values[arm] = (\n",
    "        (self.counts[arm] - 1) * self.values[arm] + reward\n",
    "        ) / self.counts[arm]"
   ]
  }
 ],
 "metadata": {
  "kernelspec": {
   "display_name": "Python 3.11.1 64-bit",
   "language": "python",
   "name": "python3"
  },
  "language_info": {
   "name": "python",
   "version": "3.11.1"
  },
  "orig_nbformat": 4,
  "vscode": {
   "interpreter": {
    "hash": "a41c9c3f2f3fd295996ef3bebed29fb1d8c7974f1dea89e69eeeb9cb5906e6b3"
   }
  }
 },
 "nbformat": 4,
 "nbformat_minor": 2
}
