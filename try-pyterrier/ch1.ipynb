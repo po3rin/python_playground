{
 "cells": [
  {
   "cell_type": "code",
   "execution_count": 47,
   "source": [
    "import os\n",
    "\n",
    "import pyterrier as pt\n",
    "import pandas as pd\n",
    "from sklearn.model_selection import train_test_split"
   ],
   "outputs": [],
   "metadata": {}
  },
  {
   "cell_type": "code",
   "execution_count": 48,
   "source": [
    "if not pt.started():\n",
    "  pt.init()"
   ],
   "outputs": [],
   "metadata": {}
  },
  {
   "cell_type": "code",
   "execution_count": 49,
   "source": [
    "# lets not truncate output too much\n",
    "pd.set_option('display.max_colwidth', 150)\n",
    "\n",
    "docs_df = pd.DataFrame([\n",
    "        [\"d1\", \"this is the first document of many documents\"],\n",
    "        [\"d2\", \"this is another document\"],\n",
    "        [\"d3\", \"the topic of this document is unknown\"]\n",
    "    ], columns=[\"docno\", \"text\"])\n",
    "\n",
    "docs_df"
   ],
   "outputs": [
    {
     "output_type": "execute_result",
     "data": {
      "text/html": [
       "<div>\n",
       "<style scoped>\n",
       "    .dataframe tbody tr th:only-of-type {\n",
       "        vertical-align: middle;\n",
       "    }\n",
       "\n",
       "    .dataframe tbody tr th {\n",
       "        vertical-align: top;\n",
       "    }\n",
       "\n",
       "    .dataframe thead th {\n",
       "        text-align: right;\n",
       "    }\n",
       "</style>\n",
       "<table border=\"1\" class=\"dataframe\">\n",
       "  <thead>\n",
       "    <tr style=\"text-align: right;\">\n",
       "      <th></th>\n",
       "      <th>docno</th>\n",
       "      <th>text</th>\n",
       "    </tr>\n",
       "  </thead>\n",
       "  <tbody>\n",
       "    <tr>\n",
       "      <th>0</th>\n",
       "      <td>d1</td>\n",
       "      <td>this is the first document of many documents</td>\n",
       "    </tr>\n",
       "    <tr>\n",
       "      <th>1</th>\n",
       "      <td>d2</td>\n",
       "      <td>this is another document</td>\n",
       "    </tr>\n",
       "    <tr>\n",
       "      <th>2</th>\n",
       "      <td>d3</td>\n",
       "      <td>the topic of this document is unknown</td>\n",
       "    </tr>\n",
       "  </tbody>\n",
       "</table>\n",
       "</div>"
      ],
      "text/plain": [
       "  docno                                          text\n",
       "0    d1  this is the first document of many documents\n",
       "1    d2                      this is another document\n",
       "2    d3         the topic of this document is unknown"
      ]
     },
     "metadata": {},
     "execution_count": 49
    }
   ],
   "metadata": {}
  }
 ],
 "metadata": {
  "orig_nbformat": 4,
  "language_info": {
   "name": "python",
   "version": "3.9.0",
   "mimetype": "text/x-python",
   "codemirror_mode": {
    "name": "ipython",
    "version": 3
   },
   "pygments_lexer": "ipython3",
   "nbconvert_exporter": "python",
   "file_extension": ".py"
  },
  "kernelspec": {
   "name": "python3",
   "display_name": "Python 3.9.0 64-bit ('.venv': poetry)"
  },
  "interpreter": {
   "hash": "cc05f330fd211886cdb8b68fa6c8b24b37de2aa55e4fb20d8f171d24fd3b0ad4"
  }
 },
 "nbformat": 4,
 "nbformat_minor": 2
}