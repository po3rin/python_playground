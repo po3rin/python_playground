{
 "metadata": {
  "language_info": {
   "codemirror_mode": {
    "name": "ipython",
    "version": 3
   },
   "file_extension": ".py",
   "mimetype": "text/x-python",
   "name": "python",
   "nbconvert_exporter": "python",
   "pygments_lexer": "ipython3",
   "version": "3.9.0-final"
  },
  "orig_nbformat": 2,
  "kernelspec": {
   "name": "python3",
   "display_name": "Python 3.9.0 64-bit ('3.9.0')",
   "metadata": {
    "interpreter": {
     "hash": "40b74fe4b278afccf8b2d6ce54a01944ba7d1e96e76649ff315d52430c807b2e"
    }
   }
  }
 },
 "nbformat": 4,
 "nbformat_minor": 2,
 "cells": [
  {
   "cell_type": "code",
   "execution_count": 40,
   "metadata": {},
   "outputs": [],
   "source": [
    "maxlen = 300\n",
    "num_words = 40000\n",
    "num_label = 2"
   ]
  },
  {
   "cell_type": "code",
   "execution_count": 41,
   "metadata": {},
   "outputs": [
    {
     "output_type": "error",
     "ename": "ModuleNotFoundError",
     "evalue": "No module named 'janome'",
     "traceback": [
      "\u001b[0;31m---------------------------------------------------------------------------\u001b[0m",
      "\u001b[0;31mModuleNotFoundError\u001b[0m                       Traceback (most recent call last)",
      "\u001b[0;32m<ipython-input-41-b180283bcd6d>\u001b[0m in \u001b[0;36m<module>\u001b[0;34m\u001b[0m\n\u001b[1;32m      6\u001b[0m \u001b[0;31m# import tensorflow as tf\u001b[0m\u001b[0;34m\u001b[0m\u001b[0;34m\u001b[0m\u001b[0;34m\u001b[0m\u001b[0m\n\u001b[1;32m      7\u001b[0m \u001b[0;32mfrom\u001b[0m \u001b[0mbs4\u001b[0m \u001b[0;32mimport\u001b[0m \u001b[0mBeautifulSoup\u001b[0m\u001b[0;34m\u001b[0m\u001b[0;34m\u001b[0m\u001b[0m\n\u001b[0;32m----> 8\u001b[0;31m \u001b[0;32mfrom\u001b[0m \u001b[0mjanome\u001b[0m\u001b[0;34m.\u001b[0m\u001b[0mtokenizer\u001b[0m \u001b[0;32mimport\u001b[0m \u001b[0mTokenizer\u001b[0m\u001b[0;34m\u001b[0m\u001b[0;34m\u001b[0m\u001b[0m\n\u001b[0m\u001b[1;32m      9\u001b[0m \u001b[0;31m# from sklearn.metrics import f1_score, precision_score, recall_score\u001b[0m\u001b[0;34m\u001b[0m\u001b[0;34m\u001b[0m\u001b[0;34m\u001b[0m\u001b[0m\n\u001b[1;32m     10\u001b[0m \u001b[0;31m# from sklearn.model_selection import train_test_split\u001b[0m\u001b[0;34m\u001b[0m\u001b[0;34m\u001b[0m\u001b[0;34m\u001b[0m\u001b[0m\n",
      "\u001b[0;31mModuleNotFoundError\u001b[0m: No module named 'janome'"
     ]
    }
   ],
   "source": [
    "import string\n",
    "\n",
    "import gensim\n",
    "import numpy as np\n",
    "import pandas as pd\n",
    "# import tensorflow as tf\n",
    "from bs4 import BeautifulSoup\n",
    "from janome.tokenizer import Tokenizer\n",
    "# from sklearn.metrics import f1_score, precision_score, recall_score\n",
    "# from sklearn.model_selection import train_test_split\n",
    "# from tensorflow.keras.callbacks import EarlyStopping, ModelCheckpoint\n",
    "# from tensorflow.keras.layers import Dense, Input, Embedding, SimpleRNN, LSTM, Conv1D, GlobalMaxPooling1D\n",
    "# from tensorflow.keras.models import load_model, Model\n",
    "# from tensorflow.keras.preprocessing.sequence import pad_sequences"
   ]
  },
  {
   "cell_type": "code",
   "execution_count": null,
   "metadata": {},
   "outputs": [],
   "source": [
    "def filter_by_ascii_rate(text, threshold=0.9):\n",
    "    ascii_letters = set(string.printable)\n",
    "    rate = sum(c in ascii_letters for c in text) / len(text)\n",
    "    return rate <= threshold\n",
    "\n",
    "\n",
    "def load_dataset(filename, n=5000):\n",
    "    df = pd.read_csv(filename, sep='\\t')\n",
    "\n",
    "    # Converts multi-class to binary-class.\n",
    "    mapping = {1: 0, 2: 0, 4: 1, 5: 1}\n",
    "    df = df[df.star_rating != 3]\n",
    "    df.star_rating = df.star_rating.map(mapping)\n",
    "\n",
    "    # extracts Japanese texts.\n",
    "    is_jp = df.review_body.apply(filter_by_ascii_rate)\n",
    "    df = df[is_jp]\n",
    "\n",
    "    # sampling.\n",
    "    df = df.sample(frac=1, random_state=7)  # shuffle\n",
    "    grouped = df.groupby('star_rating')\n",
    "    df = grouped.head(n=n)\n",
    "    return df.review_body.values, df.star_rating.values\n",
    "\n",
    "\n",
    "url = 'https://s3.amazonaws.com/amazon-reviews-pds/tsv/amazon_reviews_multilingual_JP_v1_00.tsv.gz'\n",
    "x, y = load_dataset(url)"
   ]
  },
  {
   "cell_type": "code",
   "execution_count": null,
   "metadata": {},
   "outputs": [],
   "source": [
    "def load_fasttext(filepath, binary=False):\n",
    "    \"\"\"Loads fastText vectors.\n",
    "\n",
    "    Args:\n",
    "        filepath (str): a path to a fastText file.\n",
    "\n",
    "    Return:\n",
    "        model: KeyedVectors\n",
    "    \"\"\"\n",
    "    model = gensim.models.KeyedVectors.load_word2vec_format(filepath, binary=binary)\n",
    "    return model\n",
    "\n",
    "\n",
    "wv = load_fasttext('data/cc.ja.300.vec.gz')"
   ]
  },
  {
   "cell_type": "code",
   "execution_count": null,
   "metadata": {},
   "outputs": [],
   "source": [
    "t = Tokenizer(wakati=True)\n",
    "\n",
    "\n",
    "def build_vocabulary(texts, num_words=None):\n",
    "    tokenizer = tf.keras.preprocessing.text.Tokenizer(\n",
    "        num_words=num_words, oov_token='<UNK>'\n",
    "    )\n",
    "    tokenizer.fit_on_texts(texts)\n",
    "    return tokenizer\n",
    "\n",
    "\n",
    "def clean_html(html, strip=False):\n",
    "    soup = BeautifulSoup(html, 'html.parser')\n",
    "    text = soup.get_text(strip=strip)\n",
    "    return text\n",
    "\n",
    "\n",
    "def tokenize(text):\n",
    "    return t.tokenize(text)\n",
    "\n",
    "\n",
    "def preprocess_dataset(texts):\n",
    "    texts = [clean_html(text) for text in texts]\n",
    "    texts = [' '.join(tokenize(text)) for text in texts]\n",
    "    return texts\n"
   ]
  }
 ]
}