{
 "cells": [
  {
   "cell_type": "code",
   "execution_count": 1,
   "source": [
    "import numpy as np\n",
    "import faiss"
   ],
   "outputs": [],
   "metadata": {}
  },
  {
   "cell_type": "code",
   "execution_count": 9,
   "source": [
    "d = 3                          # dimension\n",
    "nb = 4                      # database size\n",
    "nq = 2                     # nb of queries\n",
    "np.random.seed(1234)             # make reproducible\n",
    "xb = np.random.random((nb, d)).astype('float32')\n",
    "xb[:, 0] += np.arange(nb) / 1000.\n",
    "\n",
    "xq = np.random.random((nq, d)).astype('float32')\n",
    "xq[:, 0] += np.arange(nq) / 1000.\n",
    "\n",
    "ids = np.arange(nb) * 10\n",
    "print(ids)\n",
    "print(xb)\n",
    "print(xq)"
   ],
   "outputs": [
    {
     "output_type": "stream",
     "name": "stdout",
     "text": [
      "[ 0 10 20 30]\n",
      "[[0.19151945 0.62210876 0.43772775]\n",
      " [0.7863586  0.77997583 0.2725926 ]\n",
      " [0.27846426 0.8018722  0.95813936]\n",
      " [0.87893265 0.35781726 0.5009951 ]]\n",
      "[[0.6834629  0.71270204 0.37025076]\n",
      " [0.5621962  0.50308317 0.01376845]]\n"
     ]
    }
   ],
   "metadata": {}
  },
  {
   "cell_type": "code",
   "execution_count": 11,
   "source": [
    "# make faiss available\n",
    "index = faiss.IndexFlatL2(d)   # build the index\n",
    "index = faiss.IndexIDMap(index)\n",
    "index.add_with_ids(xb, ids)          # add vectors to the index"
   ],
   "outputs": [],
   "metadata": {}
  },
  {
   "cell_type": "code",
   "execution_count": 12,
   "source": [
    "k = 2                        # we want to see 4 nearest neighbors\n",
    "D, I = index.search(xb[:5], k) # sanity check\n",
    "print(I)\n",
    "print(D)\n",
    "D, I = index.search(xq, k)     # actual search\n",
    "print(I)    \n",
    "print(D)"
   ],
   "outputs": [
    {
     "output_type": "stream",
     "name": "stdout",
     "text": [
      "[[ 0 20]\n",
      " [10 30]\n",
      " [20  0]\n",
      " [30 10]]\n",
      "[[0.         0.31070253]\n",
      " [0.         0.23895551]\n",
      " [0.         0.31070253]\n",
      " [0.         0.23895551]]\n",
      "[[10 30]\n",
      " [10  0]]\n",
      "[[0.0246504  0.18124568]\n",
      " [0.19390827 0.33130985]]\n"
     ]
    }
   ],
   "metadata": {}
  }
 ],
 "metadata": {
  "orig_nbformat": 4,
  "language_info": {
   "name": "python",
   "version": "3.9.0",
   "mimetype": "text/x-python",
   "codemirror_mode": {
    "name": "ipython",
    "version": 3
   },
   "pygments_lexer": "ipython3",
   "nbconvert_exporter": "python",
   "file_extension": ".py"
  },
  "kernelspec": {
   "name": "python3",
   "display_name": "Python 3.9.0 64-bit ('3.9.0': pyenv)"
  },
  "interpreter": {
   "hash": "40b74fe4b278afccf8b2d6ce54a01944ba7d1e96e76649ff315d52430c807b2e"
  }
 },
 "nbformat": 4,
 "nbformat_minor": 2
}