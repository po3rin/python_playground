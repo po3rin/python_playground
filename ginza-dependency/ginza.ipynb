{
 "metadata": {
  "language_info": {
   "codemirror_mode": {
    "name": "ipython",
    "version": 3
   },
   "file_extension": ".py",
   "mimetype": "text/x-python",
   "name": "python",
   "nbconvert_exporter": "python",
   "pygments_lexer": "ipython3",
   "version": "3.9.0"
  },
  "orig_nbformat": 2,
  "kernelspec": {
   "name": "python390jvsc74a57bd040b74fe4b278afccf8b2d6ce54a01944ba7d1e96e76649ff315d52430c807b2e",
   "display_name": "Python 3.9.0 64-bit ('3.9.0')"
  }
 },
 "nbformat": 4,
 "nbformat_minor": 2,
 "cells": [
  {
   "cell_type": "code",
   "execution_count": 1,
   "metadata": {},
   "outputs": [],
   "source": [
    "import ginza\n",
    "import spacy\n",
    "from spacy import displacy\n",
    "\n",
    "\n",
    "\n"
   ]
  },
  {
   "cell_type": "code",
   "execution_count": 2,
   "metadata": {},
   "outputs": [],
   "source": [
    "class DependencyAnalysis:\n",
    "    def __init__(self):\n",
    "        self.nlp = spacy.load('ja_ginza')\n",
    "\n",
    "    def run(self, text):\n",
    "        \"\"\"係り受け解析\"\"\"\n",
    "        doc = self.nlp(text)\n",
    "        \n",
    "        ent_words = []\n",
    "        for ent in doc.ents:\n",
    "            print(ent.label_)\n",
    "            if ent.label_ == \"Animal_Part\":\n",
    "                ent_words.append(ent.text)\n",
    "\n",
    "        deps = []\n",
    "        for sent in doc.sents:\n",
    "            for token in sent:\n",
    "                if token.dep_ in [\"nsubj\", \"iobj\"]:\n",
    "                    if token.lemma_ in ent_words:\n",
    "                        deps.append({\"dep\":token.dep_ , \"s\": token.lemma_ , \"h\" :sent[token.head.i].lemma_})\n",
    "                        \n",
    "        print(deps)\n",
    "\n",
    "dependency = DependencyAnalysis()\n"
   ]
  },
  {
   "cell_type": "code",
   "execution_count": 3,
   "metadata": {},
   "outputs": [
    {
     "output_type": "stream",
     "name": "stdout",
     "text": [
      "Animal_Part\n[{'dep': 'nsubj', 's': '胸', 'h': '締め付ける'}]\nAnimal_Part\n[{'dep': 'nsubj', 's': '胸', 'h': 'ズキズキ'}]\nAnimal_Part\n[{'dep': 'nsubj', 's': '胸', 'h': 'キュッ'}]\n[]\n"
     ]
    }
   ],
   "source": [
    "dependency.run(\"胸が締め付けられる感じ\")\n",
    "dependency.run(\"胸がズキズキ\")\n",
    "dependency.run(\"胸がキュッと\")\n",
    "dependency.run(\"大腿骨内側頚部骨折\")"
   ]
  },
  {
   "cell_type": "code",
   "execution_count": null,
   "metadata": {},
   "outputs": [],
   "source": []
  }
 ]
}