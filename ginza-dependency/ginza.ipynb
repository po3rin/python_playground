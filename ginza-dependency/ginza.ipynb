{
 "metadata": {
  "language_info": {
   "codemirror_mode": {
    "name": "ipython",
    "version": 3
   },
   "file_extension": ".py",
   "mimetype": "text/x-python",
   "name": "python",
   "nbconvert_exporter": "python",
   "pygments_lexer": "ipython3",
   "version": "3.9.0-final"
  },
  "orig_nbformat": 2,
  "kernelspec": {
   "name": "python3",
   "display_name": "Python 3",
   "language": "python"
  }
 },
 "nbformat": 4,
 "nbformat_minor": 2,
 "cells": [
  {
   "cell_type": "code",
   "execution_count": 3,
   "metadata": {},
   "outputs": [],
   "source": [
    "import ginza\n",
    "import spacy\n",
    "from spacy import displacy\n",
    "\n",
    "\n",
    "\n"
   ]
  },
  {
   "cell_type": "code",
   "execution_count": 4,
   "metadata": {},
   "outputs": [],
   "source": [
    "class DependencyAnalysis:\n",
    "    def __init__(self):\n",
    "        self.nlp = spacy.load('ja_ginza')\n",
    "\n",
    "    def run(self, text):\n",
    "        \"\"\"係り受け解析\"\"\"\n",
    "        doc = self.nlp(text)\n",
    "\n",
    "        token_head_list = []\n",
    "\n",
    "        for sent in doc.sents:\n",
    "            for token in sent:\n",
    "                token_head_list.append(\n",
    "                    {\"i\": token.i, \"orth\": token.orth_, \"base\": token.lemma_, \"head\": token.head.i, \"dep\": token.dep_})\n",
    "\n",
    "        displacy.render(doc, style=\"dep\", jupyter=True, options={'distance': 90})\n",
    "        displacy.render(doc, style=\"ent\", jupyter=True,)\n",
    "\n",
    "        return token_head_list\n",
    "\n"
   ]
  },
  {
   "cell_type": "code",
   "execution_count": 5,
   "metadata": {},
   "outputs": [],
   "source": [
    "dependency = DependencyAnalysis()\n",
    "\n"
   ]
  },
  {
   "cell_type": "code",
   "execution_count": 8,
   "metadata": {},
   "outputs": [
    {
     "output_type": "display_data",
     "data": {
      "text/plain": "<IPython.core.display.HTML object>",
      "text/html": "<span class=\"tex2jax_ignore\"><svg xmlns=\"http://www.w3.org/2000/svg\" xmlns:xlink=\"http://www.w3.org/1999/xlink\" xml:lang=\"ja\" id=\"404715b3aaf14de6a91c9eb96c00e936-0\" class=\"displacy\" width=\"1400\" height=\"407.0\" direction=\"ltr\" style=\"max-width: none; height: 407.0px; color: #000000; background: #ffffff; font-family: Arial; direction: ltr\">\n<text class=\"displacy-token\" fill=\"currentColor\" text-anchor=\"middle\" y=\"317.0\">\n    <tspan class=\"displacy-word\" fill=\"currentColor\" x=\"50\">妊娠</tspan>\n    <tspan class=\"displacy-tag\" dy=\"2em\" fill=\"currentColor\" x=\"50\">NOUN</tspan>\n</text>\n\n<text class=\"displacy-token\" fill=\"currentColor\" text-anchor=\"middle\" y=\"317.0\">\n    <tspan class=\"displacy-word\" fill=\"currentColor\" x=\"140\">4</tspan>\n    <tspan class=\"displacy-tag\" dy=\"2em\" fill=\"currentColor\" x=\"140\">NUM</tspan>\n</text>\n\n<text class=\"displacy-token\" fill=\"currentColor\" text-anchor=\"middle\" y=\"317.0\">\n    <tspan class=\"displacy-word\" fill=\"currentColor\" x=\"230\">週</tspan>\n    <tspan class=\"displacy-tag\" dy=\"2em\" fill=\"currentColor\" x=\"230\">NOUN</tspan>\n</text>\n\n<text class=\"displacy-token\" fill=\"currentColor\" text-anchor=\"middle\" y=\"317.0\">\n    <tspan class=\"displacy-word\" fill=\"currentColor\" x=\"320\">目</tspan>\n    <tspan class=\"displacy-tag\" dy=\"2em\" fill=\"currentColor\" x=\"320\">NOUN</tspan>\n</text>\n\n<text class=\"displacy-token\" fill=\"currentColor\" text-anchor=\"middle\" y=\"317.0\">\n    <tspan class=\"displacy-word\" fill=\"currentColor\" x=\"410\">で</tspan>\n    <tspan class=\"displacy-tag\" dy=\"2em\" fill=\"currentColor\" x=\"410\">ADP</tspan>\n</text>\n\n<text class=\"displacy-token\" fill=\"currentColor\" text-anchor=\"middle\" y=\"317.0\">\n    <tspan class=\"displacy-word\" fill=\"currentColor\" x=\"500\">は</tspan>\n    <tspan class=\"displacy-tag\" dy=\"2em\" fill=\"currentColor\" x=\"500\">ADP</tspan>\n</text>\n\n<text class=\"displacy-token\" fill=\"currentColor\" text-anchor=\"middle\" y=\"317.0\">\n    <tspan class=\"displacy-word\" fill=\"currentColor\" x=\"590\">ホルモン</tspan>\n    <tspan class=\"displacy-tag\" dy=\"2em\" fill=\"currentColor\" x=\"590\">NOUN</tspan>\n</text>\n\n<text class=\"displacy-token\" fill=\"currentColor\" text-anchor=\"middle\" y=\"317.0\">\n    <tspan class=\"displacy-word\" fill=\"currentColor\" x=\"680\">値</tspan>\n    <tspan class=\"displacy-tag\" dy=\"2em\" fill=\"currentColor\" x=\"680\">NOUN</tspan>\n</text>\n\n<text class=\"displacy-token\" fill=\"currentColor\" text-anchor=\"middle\" y=\"317.0\">\n    <tspan class=\"displacy-word\" fill=\"currentColor\" x=\"770\">が</tspan>\n    <tspan class=\"displacy-tag\" dy=\"2em\" fill=\"currentColor\" x=\"770\">ADP</tspan>\n</text>\n\n<text class=\"displacy-token\" fill=\"currentColor\" text-anchor=\"middle\" y=\"317.0\">\n    <tspan class=\"displacy-word\" fill=\"currentColor\" x=\"860\">十分</tspan>\n    <tspan class=\"displacy-tag\" dy=\"2em\" fill=\"currentColor\" x=\"860\">ADJ</tspan>\n</text>\n\n<text class=\"displacy-token\" fill=\"currentColor\" text-anchor=\"middle\" y=\"317.0\">\n    <tspan class=\"displacy-word\" fill=\"currentColor\" x=\"950\">で</tspan>\n    <tspan class=\"displacy-tag\" dy=\"2em\" fill=\"currentColor\" x=\"950\">AUX</tspan>\n</text>\n\n<text class=\"displacy-token\" fill=\"currentColor\" text-anchor=\"middle\" y=\"317.0\">\n    <tspan class=\"displacy-word\" fill=\"currentColor\" x=\"1040\">は</tspan>\n    <tspan class=\"displacy-tag\" dy=\"2em\" fill=\"currentColor\" x=\"1040\">ADP</tspan>\n</text>\n\n<text class=\"displacy-token\" fill=\"currentColor\" text-anchor=\"middle\" y=\"317.0\">\n    <tspan class=\"displacy-word\" fill=\"currentColor\" x=\"1130\">あり</tspan>\n    <tspan class=\"displacy-tag\" dy=\"2em\" fill=\"currentColor\" x=\"1130\">VERB</tspan>\n</text>\n\n<text class=\"displacy-token\" fill=\"currentColor\" text-anchor=\"middle\" y=\"317.0\">\n    <tspan class=\"displacy-word\" fill=\"currentColor\" x=\"1220\">ませ</tspan>\n    <tspan class=\"displacy-tag\" dy=\"2em\" fill=\"currentColor\" x=\"1220\">AUX</tspan>\n</text>\n\n<text class=\"displacy-token\" fill=\"currentColor\" text-anchor=\"middle\" y=\"317.0\">\n    <tspan class=\"displacy-word\" fill=\"currentColor\" x=\"1310\">ん</tspan>\n    <tspan class=\"displacy-tag\" dy=\"2em\" fill=\"currentColor\" x=\"1310\">AUX</tspan>\n</text>\n\n<g class=\"displacy-arrow\">\n    <path class=\"displacy-arc\" id=\"arrow-404715b3aaf14de6a91c9eb96c00e936-0-0\" stroke-width=\"2px\" d=\"M70,272.0 C70,137.0 305.0,137.0 305.0,272.0\" fill=\"none\" stroke=\"currentColor\"/>\n    <text dy=\"1.25em\" style=\"font-size: 0.8em; letter-spacing: 1px\">\n        <textPath xlink:href=\"#arrow-404715b3aaf14de6a91c9eb96c00e936-0-0\" class=\"displacy-label\" startOffset=\"50%\" side=\"left\" fill=\"currentColor\" text-anchor=\"middle\">compound</textPath>\n    </text>\n    <path class=\"displacy-arrowhead\" d=\"M70,274.0 L62,262.0 78,262.0\" fill=\"currentColor\"/>\n</g>\n\n<g class=\"displacy-arrow\">\n    <path class=\"displacy-arc\" id=\"arrow-404715b3aaf14de6a91c9eb96c00e936-0-1\" stroke-width=\"2px\" d=\"M160,272.0 C160,182.0 300.0,182.0 300.0,272.0\" fill=\"none\" stroke=\"currentColor\"/>\n    <text dy=\"1.25em\" style=\"font-size: 0.8em; letter-spacing: 1px\">\n        <textPath xlink:href=\"#arrow-404715b3aaf14de6a91c9eb96c00e936-0-1\" class=\"displacy-label\" startOffset=\"50%\" side=\"left\" fill=\"currentColor\" text-anchor=\"middle\">nummod</textPath>\n    </text>\n    <path class=\"displacy-arrowhead\" d=\"M160,274.0 L152,262.0 168,262.0\" fill=\"currentColor\"/>\n</g>\n\n<g class=\"displacy-arrow\">\n    <path class=\"displacy-arc\" id=\"arrow-404715b3aaf14de6a91c9eb96c00e936-0-2\" stroke-width=\"2px\" d=\"M250,272.0 C250,227.0 295.0,227.0 295.0,272.0\" fill=\"none\" stroke=\"currentColor\"/>\n    <text dy=\"1.25em\" style=\"font-size: 0.8em; letter-spacing: 1px\">\n        <textPath xlink:href=\"#arrow-404715b3aaf14de6a91c9eb96c00e936-0-2\" class=\"displacy-label\" startOffset=\"50%\" side=\"left\" fill=\"currentColor\" text-anchor=\"middle\">compound</textPath>\n    </text>\n    <path class=\"displacy-arrowhead\" d=\"M250,274.0 L242,262.0 258,262.0\" fill=\"currentColor\"/>\n</g>\n\n<g class=\"displacy-arrow\">\n    <path class=\"displacy-arc\" id=\"arrow-404715b3aaf14de6a91c9eb96c00e936-0-3\" stroke-width=\"2px\" d=\"M340,272.0 C340,2.0 860.0,2.0 860.0,272.0\" fill=\"none\" stroke=\"currentColor\"/>\n    <text dy=\"1.25em\" style=\"font-size: 0.8em; letter-spacing: 1px\">\n        <textPath xlink:href=\"#arrow-404715b3aaf14de6a91c9eb96c00e936-0-3\" class=\"displacy-label\" startOffset=\"50%\" side=\"left\" fill=\"currentColor\" text-anchor=\"middle\">obl</textPath>\n    </text>\n    <path class=\"displacy-arrowhead\" d=\"M340,274.0 L332,262.0 348,262.0\" fill=\"currentColor\"/>\n</g>\n\n<g class=\"displacy-arrow\">\n    <path class=\"displacy-arc\" id=\"arrow-404715b3aaf14de6a91c9eb96c00e936-0-4\" stroke-width=\"2px\" d=\"M340,272.0 C340,227.0 385.0,227.0 385.0,272.0\" fill=\"none\" stroke=\"currentColor\"/>\n    <text dy=\"1.25em\" style=\"font-size: 0.8em; letter-spacing: 1px\">\n        <textPath xlink:href=\"#arrow-404715b3aaf14de6a91c9eb96c00e936-0-4\" class=\"displacy-label\" startOffset=\"50%\" side=\"left\" fill=\"currentColor\" text-anchor=\"middle\">case</textPath>\n    </text>\n    <path class=\"displacy-arrowhead\" d=\"M385.0,274.0 L393.0,262.0 377.0,262.0\" fill=\"currentColor\"/>\n</g>\n\n<g class=\"displacy-arrow\">\n    <path class=\"displacy-arc\" id=\"arrow-404715b3aaf14de6a91c9eb96c00e936-0-5\" stroke-width=\"2px\" d=\"M340,272.0 C340,182.0 480.0,182.0 480.0,272.0\" fill=\"none\" stroke=\"currentColor\"/>\n    <text dy=\"1.25em\" style=\"font-size: 0.8em; letter-spacing: 1px\">\n        <textPath xlink:href=\"#arrow-404715b3aaf14de6a91c9eb96c00e936-0-5\" class=\"displacy-label\" startOffset=\"50%\" side=\"left\" fill=\"currentColor\" text-anchor=\"middle\">case</textPath>\n    </text>\n    <path class=\"displacy-arrowhead\" d=\"M480.0,274.0 L488.0,262.0 472.0,262.0\" fill=\"currentColor\"/>\n</g>\n\n<g class=\"displacy-arrow\">\n    <path class=\"displacy-arc\" id=\"arrow-404715b3aaf14de6a91c9eb96c00e936-0-6\" stroke-width=\"2px\" d=\"M610,272.0 C610,227.0 655.0,227.0 655.0,272.0\" fill=\"none\" stroke=\"currentColor\"/>\n    <text dy=\"1.25em\" style=\"font-size: 0.8em; letter-spacing: 1px\">\n        <textPath xlink:href=\"#arrow-404715b3aaf14de6a91c9eb96c00e936-0-6\" class=\"displacy-label\" startOffset=\"50%\" side=\"left\" fill=\"currentColor\" text-anchor=\"middle\">compound</textPath>\n    </text>\n    <path class=\"displacy-arrowhead\" d=\"M610,274.0 L602,262.0 618,262.0\" fill=\"currentColor\"/>\n</g>\n\n<g class=\"displacy-arrow\">\n    <path class=\"displacy-arc\" id=\"arrow-404715b3aaf14de6a91c9eb96c00e936-0-7\" stroke-width=\"2px\" d=\"M700,272.0 C700,182.0 840.0,182.0 840.0,272.0\" fill=\"none\" stroke=\"currentColor\"/>\n    <text dy=\"1.25em\" style=\"font-size: 0.8em; letter-spacing: 1px\">\n        <textPath xlink:href=\"#arrow-404715b3aaf14de6a91c9eb96c00e936-0-7\" class=\"displacy-label\" startOffset=\"50%\" side=\"left\" fill=\"currentColor\" text-anchor=\"middle\">nsubj</textPath>\n    </text>\n    <path class=\"displacy-arrowhead\" d=\"M700,274.0 L692,262.0 708,262.0\" fill=\"currentColor\"/>\n</g>\n\n<g class=\"displacy-arrow\">\n    <path class=\"displacy-arc\" id=\"arrow-404715b3aaf14de6a91c9eb96c00e936-0-8\" stroke-width=\"2px\" d=\"M700,272.0 C700,227.0 745.0,227.0 745.0,272.0\" fill=\"none\" stroke=\"currentColor\"/>\n    <text dy=\"1.25em\" style=\"font-size: 0.8em; letter-spacing: 1px\">\n        <textPath xlink:href=\"#arrow-404715b3aaf14de6a91c9eb96c00e936-0-8\" class=\"displacy-label\" startOffset=\"50%\" side=\"left\" fill=\"currentColor\" text-anchor=\"middle\">case</textPath>\n    </text>\n    <path class=\"displacy-arrowhead\" d=\"M745.0,274.0 L753.0,262.0 737.0,262.0\" fill=\"currentColor\"/>\n</g>\n\n<g class=\"displacy-arrow\">\n    <path class=\"displacy-arc\" id=\"arrow-404715b3aaf14de6a91c9eb96c00e936-0-9\" stroke-width=\"2px\" d=\"M880,272.0 C880,227.0 925.0,227.0 925.0,272.0\" fill=\"none\" stroke=\"currentColor\"/>\n    <text dy=\"1.25em\" style=\"font-size: 0.8em; letter-spacing: 1px\">\n        <textPath xlink:href=\"#arrow-404715b3aaf14de6a91c9eb96c00e936-0-9\" class=\"displacy-label\" startOffset=\"50%\" side=\"left\" fill=\"currentColor\" text-anchor=\"middle\">aux</textPath>\n    </text>\n    <path class=\"displacy-arrowhead\" d=\"M925.0,274.0 L933.0,262.0 917.0,262.0\" fill=\"currentColor\"/>\n</g>\n\n<g class=\"displacy-arrow\">\n    <path class=\"displacy-arc\" id=\"arrow-404715b3aaf14de6a91c9eb96c00e936-0-10\" stroke-width=\"2px\" d=\"M880,272.0 C880,182.0 1020.0,182.0 1020.0,272.0\" fill=\"none\" stroke=\"currentColor\"/>\n    <text dy=\"1.25em\" style=\"font-size: 0.8em; letter-spacing: 1px\">\n        <textPath xlink:href=\"#arrow-404715b3aaf14de6a91c9eb96c00e936-0-10\" class=\"displacy-label\" startOffset=\"50%\" side=\"left\" fill=\"currentColor\" text-anchor=\"middle\">case</textPath>\n    </text>\n    <path class=\"displacy-arrowhead\" d=\"M1020.0,274.0 L1028.0,262.0 1012.0,262.0\" fill=\"currentColor\"/>\n</g>\n\n<g class=\"displacy-arrow\">\n    <path class=\"displacy-arc\" id=\"arrow-404715b3aaf14de6a91c9eb96c00e936-0-11\" stroke-width=\"2px\" d=\"M880,272.0 C880,137.0 1115.0,137.0 1115.0,272.0\" fill=\"none\" stroke=\"currentColor\"/>\n    <text dy=\"1.25em\" style=\"font-size: 0.8em; letter-spacing: 1px\">\n        <textPath xlink:href=\"#arrow-404715b3aaf14de6a91c9eb96c00e936-0-11\" class=\"displacy-label\" startOffset=\"50%\" side=\"left\" fill=\"currentColor\" text-anchor=\"middle\">aux</textPath>\n    </text>\n    <path class=\"displacy-arrowhead\" d=\"M1115.0,274.0 L1123.0,262.0 1107.0,262.0\" fill=\"currentColor\"/>\n</g>\n\n<g class=\"displacy-arrow\">\n    <path class=\"displacy-arc\" id=\"arrow-404715b3aaf14de6a91c9eb96c00e936-0-12\" stroke-width=\"2px\" d=\"M880,272.0 C880,92.0 1210.0,92.0 1210.0,272.0\" fill=\"none\" stroke=\"currentColor\"/>\n    <text dy=\"1.25em\" style=\"font-size: 0.8em; letter-spacing: 1px\">\n        <textPath xlink:href=\"#arrow-404715b3aaf14de6a91c9eb96c00e936-0-12\" class=\"displacy-label\" startOffset=\"50%\" side=\"left\" fill=\"currentColor\" text-anchor=\"middle\">aux</textPath>\n    </text>\n    <path class=\"displacy-arrowhead\" d=\"M1210.0,274.0 L1218.0,262.0 1202.0,262.0\" fill=\"currentColor\"/>\n</g>\n\n<g class=\"displacy-arrow\">\n    <path class=\"displacy-arc\" id=\"arrow-404715b3aaf14de6a91c9eb96c00e936-0-13\" stroke-width=\"2px\" d=\"M880,272.0 C880,47.0 1305.0,47.0 1305.0,272.0\" fill=\"none\" stroke=\"currentColor\"/>\n    <text dy=\"1.25em\" style=\"font-size: 0.8em; letter-spacing: 1px\">\n        <textPath xlink:href=\"#arrow-404715b3aaf14de6a91c9eb96c00e936-0-13\" class=\"displacy-label\" startOffset=\"50%\" side=\"left\" fill=\"currentColor\" text-anchor=\"middle\">aux</textPath>\n    </text>\n    <path class=\"displacy-arrowhead\" d=\"M1305.0,274.0 L1313.0,262.0 1297.0,262.0\" fill=\"currentColor\"/>\n</g>\n</svg></span>"
     },
     "metadata": {}
    },
    {
     "output_type": "display_data",
     "data": {
      "text/plain": "<IPython.core.display.HTML object>",
      "text/html": "<span class=\"tex2jax_ignore\"><div class=\"entities\" style=\"line-height: 2.5; direction: ltr\">\n<mark class=\"entity\" style=\"background: #ddd; padding: 0.45em 0.6em; margin: 0 0.25em; line-height: 1; border-radius: 0.35em;\">\n    妊娠4週目\n    <span style=\"font-size: 0.8em; font-weight: bold; line-height: 1; border-radius: 0.35em; text-transform: uppercase; vertical-align: middle; margin-left: 0.5rem\">Period_Week</span>\n</mark>\nではホルモン値が十分ではありません</div></span>"
     },
     "metadata": {}
    },
    {
     "output_type": "execute_result",
     "data": {
      "text/plain": [
       "[{'i': 0, 'orth': '妊娠', 'base': '妊娠', 'head': 3, 'dep': 'compound'},\n",
       " {'i': 1, 'orth': '4', 'base': '4', 'head': 3, 'dep': 'nummod'},\n",
       " {'i': 2, 'orth': '週', 'base': '週', 'head': 3, 'dep': 'compound'},\n",
       " {'i': 3, 'orth': '目', 'base': '目', 'head': 9, 'dep': 'obl'},\n",
       " {'i': 4, 'orth': 'で', 'base': 'で', 'head': 3, 'dep': 'case'},\n",
       " {'i': 5, 'orth': 'は', 'base': 'は', 'head': 3, 'dep': 'case'},\n",
       " {'i': 6, 'orth': 'ホルモン', 'base': 'ホルモン', 'head': 7, 'dep': 'compound'},\n",
       " {'i': 7, 'orth': '値', 'base': '値', 'head': 9, 'dep': 'nsubj'},\n",
       " {'i': 8, 'orth': 'が', 'base': 'が', 'head': 7, 'dep': 'case'},\n",
       " {'i': 9, 'orth': '十分', 'base': '十分', 'head': 9, 'dep': 'ROOT'},\n",
       " {'i': 10, 'orth': 'で', 'base': 'だ', 'head': 9, 'dep': 'aux'},\n",
       " {'i': 11, 'orth': 'は', 'base': 'は', 'head': 9, 'dep': 'case'},\n",
       " {'i': 12, 'orth': 'あり', 'base': 'ある', 'head': 9, 'dep': 'aux'},\n",
       " {'i': 13, 'orth': 'ませ', 'base': 'ます', 'head': 9, 'dep': 'aux'},\n",
       " {'i': 14, 'orth': 'ん', 'base': 'ぬ', 'head': 9, 'dep': 'aux'}]"
      ]
     },
     "metadata": {},
     "execution_count": 8
    }
   ],
   "source": [
    "dependency.run(\"妊娠4週目ではホルモン値が十分ではありません\")"
   ]
  },
  {
   "cell_type": "code",
   "execution_count": 10,
   "metadata": {},
   "outputs": [
    {
     "output_type": "display_data",
     "data": {
      "text/plain": "<IPython.core.display.HTML object>",
      "text/html": "<span class=\"tex2jax_ignore\"><svg xmlns=\"http://www.w3.org/2000/svg\" xmlns:xlink=\"http://www.w3.org/1999/xlink\" xml:lang=\"ja\" id=\"a5a9668f260f492eae138941186b6ada-0\" class=\"displacy\" width=\"590\" height=\"272.0\" direction=\"ltr\" style=\"max-width: none; height: 272.0px; color: #000000; background: #ffffff; font-family: Arial; direction: ltr\">\n<text class=\"displacy-token\" fill=\"currentColor\" text-anchor=\"middle\" y=\"182.0\">\n    <tspan class=\"displacy-word\" fill=\"currentColor\" x=\"50\">うつ病</tspan>\n    <tspan class=\"displacy-tag\" dy=\"2em\" fill=\"currentColor\" x=\"50\">NOUN</tspan>\n</text>\n\n<text class=\"displacy-token\" fill=\"currentColor\" text-anchor=\"middle\" y=\"182.0\">\n    <tspan class=\"displacy-word\" fill=\"currentColor\" x=\"140\">が</tspan>\n    <tspan class=\"displacy-tag\" dy=\"2em\" fill=\"currentColor\" x=\"140\">ADP</tspan>\n</text>\n\n<text class=\"displacy-token\" fill=\"currentColor\" text-anchor=\"middle\" y=\"182.0\">\n    <tspan class=\"displacy-word\" fill=\"currentColor\" x=\"230\">薬</tspan>\n    <tspan class=\"displacy-tag\" dy=\"2em\" fill=\"currentColor\" x=\"230\">NOUN</tspan>\n</text>\n\n<text class=\"displacy-token\" fill=\"currentColor\" text-anchor=\"middle\" y=\"182.0\">\n    <tspan class=\"displacy-word\" fill=\"currentColor\" x=\"320\">で</tspan>\n    <tspan class=\"displacy-tag\" dy=\"2em\" fill=\"currentColor\" x=\"320\">ADP</tspan>\n</text>\n\n<text class=\"displacy-token\" fill=\"currentColor\" text-anchor=\"middle\" y=\"182.0\">\n    <tspan class=\"displacy-word\" fill=\"currentColor\" x=\"410\">治ら</tspan>\n    <tspan class=\"displacy-tag\" dy=\"2em\" fill=\"currentColor\" x=\"410\">VERB</tspan>\n</text>\n\n<text class=\"displacy-token\" fill=\"currentColor\" text-anchor=\"middle\" y=\"182.0\">\n    <tspan class=\"displacy-word\" fill=\"currentColor\" x=\"500\">ない</tspan>\n    <tspan class=\"displacy-tag\" dy=\"2em\" fill=\"currentColor\" x=\"500\">AUX</tspan>\n</text>\n\n<g class=\"displacy-arrow\">\n    <path class=\"displacy-arc\" id=\"arrow-a5a9668f260f492eae138941186b6ada-0-0\" stroke-width=\"2px\" d=\"M70,137.0 C70,2.0 410.0,2.0 410.0,137.0\" fill=\"none\" stroke=\"currentColor\"/>\n    <text dy=\"1.25em\" style=\"font-size: 0.8em; letter-spacing: 1px\">\n        <textPath xlink:href=\"#arrow-a5a9668f260f492eae138941186b6ada-0-0\" class=\"displacy-label\" startOffset=\"50%\" side=\"left\" fill=\"currentColor\" text-anchor=\"middle\">nsubj</textPath>\n    </text>\n    <path class=\"displacy-arrowhead\" d=\"M70,139.0 L62,127.0 78,127.0\" fill=\"currentColor\"/>\n</g>\n\n<g class=\"displacy-arrow\">\n    <path class=\"displacy-arc\" id=\"arrow-a5a9668f260f492eae138941186b6ada-0-1\" stroke-width=\"2px\" d=\"M70,137.0 C70,92.0 130.0,92.0 130.0,137.0\" fill=\"none\" stroke=\"currentColor\"/>\n    <text dy=\"1.25em\" style=\"font-size: 0.8em; letter-spacing: 1px\">\n        <textPath xlink:href=\"#arrow-a5a9668f260f492eae138941186b6ada-0-1\" class=\"displacy-label\" startOffset=\"50%\" side=\"left\" fill=\"currentColor\" text-anchor=\"middle\">case</textPath>\n    </text>\n    <path class=\"displacy-arrowhead\" d=\"M130.0,139.0 L138.0,127.0 122.0,127.0\" fill=\"currentColor\"/>\n</g>\n\n<g class=\"displacy-arrow\">\n    <path class=\"displacy-arc\" id=\"arrow-a5a9668f260f492eae138941186b6ada-0-2\" stroke-width=\"2px\" d=\"M250,137.0 C250,47.0 405.0,47.0 405.0,137.0\" fill=\"none\" stroke=\"currentColor\"/>\n    <text dy=\"1.25em\" style=\"font-size: 0.8em; letter-spacing: 1px\">\n        <textPath xlink:href=\"#arrow-a5a9668f260f492eae138941186b6ada-0-2\" class=\"displacy-label\" startOffset=\"50%\" side=\"left\" fill=\"currentColor\" text-anchor=\"middle\">obl</textPath>\n    </text>\n    <path class=\"displacy-arrowhead\" d=\"M250,139.0 L242,127.0 258,127.0\" fill=\"currentColor\"/>\n</g>\n\n<g class=\"displacy-arrow\">\n    <path class=\"displacy-arc\" id=\"arrow-a5a9668f260f492eae138941186b6ada-0-3\" stroke-width=\"2px\" d=\"M250,137.0 C250,92.0 310.0,92.0 310.0,137.0\" fill=\"none\" stroke=\"currentColor\"/>\n    <text dy=\"1.25em\" style=\"font-size: 0.8em; letter-spacing: 1px\">\n        <textPath xlink:href=\"#arrow-a5a9668f260f492eae138941186b6ada-0-3\" class=\"displacy-label\" startOffset=\"50%\" side=\"left\" fill=\"currentColor\" text-anchor=\"middle\">case</textPath>\n    </text>\n    <path class=\"displacy-arrowhead\" d=\"M310.0,139.0 L318.0,127.0 302.0,127.0\" fill=\"currentColor\"/>\n</g>\n\n<g class=\"displacy-arrow\">\n    <path class=\"displacy-arc\" id=\"arrow-a5a9668f260f492eae138941186b6ada-0-4\" stroke-width=\"2px\" d=\"M430,137.0 C430,92.0 490.0,92.0 490.0,137.0\" fill=\"none\" stroke=\"currentColor\"/>\n    <text dy=\"1.25em\" style=\"font-size: 0.8em; letter-spacing: 1px\">\n        <textPath xlink:href=\"#arrow-a5a9668f260f492eae138941186b6ada-0-4\" class=\"displacy-label\" startOffset=\"50%\" side=\"left\" fill=\"currentColor\" text-anchor=\"middle\">aux</textPath>\n    </text>\n    <path class=\"displacy-arrowhead\" d=\"M490.0,139.0 L498.0,127.0 482.0,127.0\" fill=\"currentColor\"/>\n</g>\n</svg></span>"
     },
     "metadata": {}
    },
    {
     "output_type": "display_data",
     "data": {
      "text/plain": "<IPython.core.display.HTML object>",
      "text/html": "<span class=\"tex2jax_ignore\"><div class=\"entities\" style=\"line-height: 2.5; direction: ltr\">\n<mark class=\"entity\" style=\"background: #ddd; padding: 0.45em 0.6em; margin: 0 0.25em; line-height: 1; border-radius: 0.35em;\">\n    うつ病\n    <span style=\"font-size: 0.8em; font-weight: bold; line-height: 1; border-radius: 0.35em; text-transform: uppercase; vertical-align: middle; margin-left: 0.5rem\">Animal_Disease</span>\n</mark>\nが薬で治らない</div></span>"
     },
     "metadata": {}
    },
    {
     "output_type": "execute_result",
     "data": {
      "text/plain": [
       "[{'i': 0, 'orth': 'うつ病', 'base': 'うつ病', 'head': 4, 'dep': 'nsubj'},\n",
       " {'i': 1, 'orth': 'が', 'base': 'が', 'head': 0, 'dep': 'case'},\n",
       " {'i': 2, 'orth': '薬', 'base': '薬', 'head': 4, 'dep': 'obl'},\n",
       " {'i': 3, 'orth': 'で', 'base': 'で', 'head': 2, 'dep': 'case'},\n",
       " {'i': 4, 'orth': '治ら', 'base': '治る', 'head': 4, 'dep': 'ROOT'},\n",
       " {'i': 5, 'orth': 'ない', 'base': 'ない', 'head': 4, 'dep': 'aux'}]"
      ]
     },
     "metadata": {},
     "execution_count": 10
    }
   ],
   "source": [
    "dependency.run(\"うつ病が薬で治らない\")"
   ]
  },
  {
   "cell_type": "code",
   "execution_count": 11,
   "metadata": {},
   "outputs": [
    {
     "output_type": "display_data",
     "data": {
      "text/plain": "<IPython.core.display.HTML object>",
      "text/html": "<span class=\"tex2jax_ignore\"><svg xmlns=\"http://www.w3.org/2000/svg\" xmlns:xlink=\"http://www.w3.org/1999/xlink\" xml:lang=\"ja\" id=\"e6aaac6fb7f64908a32e7f9cee7cf88d-0\" class=\"displacy\" width=\"320\" height=\"227.0\" direction=\"ltr\" style=\"max-width: none; height: 227.0px; color: #000000; background: #ffffff; font-family: Arial; direction: ltr\">\n<text class=\"displacy-token\" fill=\"currentColor\" text-anchor=\"middle\" y=\"137.0\">\n    <tspan class=\"displacy-word\" fill=\"currentColor\" x=\"50\">肘</tspan>\n    <tspan class=\"displacy-tag\" dy=\"2em\" fill=\"currentColor\" x=\"50\">NOUN</tspan>\n</text>\n\n<text class=\"displacy-token\" fill=\"currentColor\" text-anchor=\"middle\" y=\"137.0\">\n    <tspan class=\"displacy-word\" fill=\"currentColor\" x=\"140\">が</tspan>\n    <tspan class=\"displacy-tag\" dy=\"2em\" fill=\"currentColor\" x=\"140\">ADP</tspan>\n</text>\n\n<text class=\"displacy-token\" fill=\"currentColor\" text-anchor=\"middle\" y=\"137.0\">\n    <tspan class=\"displacy-word\" fill=\"currentColor\" x=\"230\">痛い</tspan>\n    <tspan class=\"displacy-tag\" dy=\"2em\" fill=\"currentColor\" x=\"230\">ADJ</tspan>\n</text>\n\n<g class=\"displacy-arrow\">\n    <path class=\"displacy-arc\" id=\"arrow-e6aaac6fb7f64908a32e7f9cee7cf88d-0-0\" stroke-width=\"2px\" d=\"M70,92.0 C70,2.0 230.0,2.0 230.0,92.0\" fill=\"none\" stroke=\"currentColor\"/>\n    <text dy=\"1.25em\" style=\"font-size: 0.8em; letter-spacing: 1px\">\n        <textPath xlink:href=\"#arrow-e6aaac6fb7f64908a32e7f9cee7cf88d-0-0\" class=\"displacy-label\" startOffset=\"50%\" side=\"left\" fill=\"currentColor\" text-anchor=\"middle\">nsubj</textPath>\n    </text>\n    <path class=\"displacy-arrowhead\" d=\"M70,94.0 L62,82.0 78,82.0\" fill=\"currentColor\"/>\n</g>\n\n<g class=\"displacy-arrow\">\n    <path class=\"displacy-arc\" id=\"arrow-e6aaac6fb7f64908a32e7f9cee7cf88d-0-1\" stroke-width=\"2px\" d=\"M70,92.0 C70,47.0 135.0,47.0 135.0,92.0\" fill=\"none\" stroke=\"currentColor\"/>\n    <text dy=\"1.25em\" style=\"font-size: 0.8em; letter-spacing: 1px\">\n        <textPath xlink:href=\"#arrow-e6aaac6fb7f64908a32e7f9cee7cf88d-0-1\" class=\"displacy-label\" startOffset=\"50%\" side=\"left\" fill=\"currentColor\" text-anchor=\"middle\">case</textPath>\n    </text>\n    <path class=\"displacy-arrowhead\" d=\"M135.0,94.0 L143.0,82.0 127.0,82.0\" fill=\"currentColor\"/>\n</g>\n</svg></span>"
     },
     "metadata": {}
    },
    {
     "output_type": "display_data",
     "data": {
      "text/plain": "<IPython.core.display.HTML object>",
      "text/html": "<span class=\"tex2jax_ignore\"><div class=\"entities\" style=\"line-height: 2.5; direction: ltr\">\n<mark class=\"entity\" style=\"background: #ddd; padding: 0.45em 0.6em; margin: 0 0.25em; line-height: 1; border-radius: 0.35em;\">\n    肘\n    <span style=\"font-size: 0.8em; font-weight: bold; line-height: 1; border-radius: 0.35em; text-transform: uppercase; vertical-align: middle; margin-left: 0.5rem\">Animal_Part</span>\n</mark>\nが痛い</div></span>"
     },
     "metadata": {}
    },
    {
     "output_type": "execute_result",
     "data": {
      "text/plain": [
       "[{'i': 0, 'orth': '肘', 'base': '肘', 'head': 2, 'dep': 'nsubj'},\n",
       " {'i': 1, 'orth': 'が', 'base': 'が', 'head': 0, 'dep': 'case'},\n",
       " {'i': 2, 'orth': '痛い', 'base': '痛い', 'head': 2, 'dep': 'ROOT'}]"
      ]
     },
     "metadata": {},
     "execution_count": 11
    }
   ],
   "source": [
    "dependency.run(\"肘が痛い\")"
   ]
  },
  {
   "cell_type": "code",
   "execution_count": 13,
   "metadata": {},
   "outputs": [
    {
     "output_type": "display_data",
     "data": {
      "text/plain": "<IPython.core.display.HTML object>",
      "text/html": "<span class=\"tex2jax_ignore\"><svg xmlns=\"http://www.w3.org/2000/svg\" xmlns:xlink=\"http://www.w3.org/1999/xlink\" xml:lang=\"ja\" id=\"831f03fc02be406485548edb6bde1036-0\" class=\"displacy\" width=\"500\" height=\"227.0\" direction=\"ltr\" style=\"max-width: none; height: 227.0px; color: #000000; background: #ffffff; font-family: Arial; direction: ltr\">\n<text class=\"displacy-token\" fill=\"currentColor\" text-anchor=\"middle\" y=\"137.0\">\n    <tspan class=\"displacy-word\" fill=\"currentColor\" x=\"50\">酒</tspan>\n    <tspan class=\"displacy-tag\" dy=\"2em\" fill=\"currentColor\" x=\"50\">NOUN</tspan>\n</text>\n\n<text class=\"displacy-token\" fill=\"currentColor\" text-anchor=\"middle\" y=\"137.0\">\n    <tspan class=\"displacy-word\" fill=\"currentColor\" x=\"140\">さ</tspan>\n    <tspan class=\"displacy-tag\" dy=\"2em\" fill=\"currentColor\" x=\"140\">NOUN</tspan>\n</text>\n\n<text class=\"displacy-token\" fill=\"currentColor\" text-anchor=\"middle\" y=\"137.0\">\n    <tspan class=\"displacy-word\" fill=\"currentColor\" x=\"230\">が</tspan>\n    <tspan class=\"displacy-tag\" dy=\"2em\" fill=\"currentColor\" x=\"230\">ADP</tspan>\n</text>\n\n<text class=\"displacy-token\" fill=\"currentColor\" text-anchor=\"middle\" y=\"137.0\">\n    <tspan class=\"displacy-word\" fill=\"currentColor\" x=\"320\">治ら</tspan>\n    <tspan class=\"displacy-tag\" dy=\"2em\" fill=\"currentColor\" x=\"320\">VERB</tspan>\n</text>\n\n<text class=\"displacy-token\" fill=\"currentColor\" text-anchor=\"middle\" y=\"137.0\">\n    <tspan class=\"displacy-word\" fill=\"currentColor\" x=\"410\">ない</tspan>\n    <tspan class=\"displacy-tag\" dy=\"2em\" fill=\"currentColor\" x=\"410\">AUX</tspan>\n</text>\n\n<g class=\"displacy-arrow\">\n    <path class=\"displacy-arc\" id=\"arrow-831f03fc02be406485548edb6bde1036-0-0\" stroke-width=\"2px\" d=\"M70,92.0 C70,47.0 135.0,47.0 135.0,92.0\" fill=\"none\" stroke=\"currentColor\"/>\n    <text dy=\"1.25em\" style=\"font-size: 0.8em; letter-spacing: 1px\">\n        <textPath xlink:href=\"#arrow-831f03fc02be406485548edb6bde1036-0-0\" class=\"displacy-label\" startOffset=\"50%\" side=\"left\" fill=\"currentColor\" text-anchor=\"middle\">amod</textPath>\n    </text>\n    <path class=\"displacy-arrowhead\" d=\"M70,94.0 L62,82.0 78,82.0\" fill=\"currentColor\"/>\n</g>\n\n<g class=\"displacy-arrow\">\n    <path class=\"displacy-arc\" id=\"arrow-831f03fc02be406485548edb6bde1036-0-1\" stroke-width=\"2px\" d=\"M160,92.0 C160,2.0 320.0,2.0 320.0,92.0\" fill=\"none\" stroke=\"currentColor\"/>\n    <text dy=\"1.25em\" style=\"font-size: 0.8em; letter-spacing: 1px\">\n        <textPath xlink:href=\"#arrow-831f03fc02be406485548edb6bde1036-0-1\" class=\"displacy-label\" startOffset=\"50%\" side=\"left\" fill=\"currentColor\" text-anchor=\"middle\">nsubj</textPath>\n    </text>\n    <path class=\"displacy-arrowhead\" d=\"M160,94.0 L152,82.0 168,82.0\" fill=\"currentColor\"/>\n</g>\n\n<g class=\"displacy-arrow\">\n    <path class=\"displacy-arc\" id=\"arrow-831f03fc02be406485548edb6bde1036-0-2\" stroke-width=\"2px\" d=\"M160,92.0 C160,47.0 225.0,47.0 225.0,92.0\" fill=\"none\" stroke=\"currentColor\"/>\n    <text dy=\"1.25em\" style=\"font-size: 0.8em; letter-spacing: 1px\">\n        <textPath xlink:href=\"#arrow-831f03fc02be406485548edb6bde1036-0-2\" class=\"displacy-label\" startOffset=\"50%\" side=\"left\" fill=\"currentColor\" text-anchor=\"middle\">case</textPath>\n    </text>\n    <path class=\"displacy-arrowhead\" d=\"M225.0,94.0 L233.0,82.0 217.0,82.0\" fill=\"currentColor\"/>\n</g>\n\n<g class=\"displacy-arrow\">\n    <path class=\"displacy-arc\" id=\"arrow-831f03fc02be406485548edb6bde1036-0-3\" stroke-width=\"2px\" d=\"M340,92.0 C340,47.0 405.0,47.0 405.0,92.0\" fill=\"none\" stroke=\"currentColor\"/>\n    <text dy=\"1.25em\" style=\"font-size: 0.8em; letter-spacing: 1px\">\n        <textPath xlink:href=\"#arrow-831f03fc02be406485548edb6bde1036-0-3\" class=\"displacy-label\" startOffset=\"50%\" side=\"left\" fill=\"currentColor\" text-anchor=\"middle\">aux</textPath>\n    </text>\n    <path class=\"displacy-arrowhead\" d=\"M405.0,94.0 L413.0,82.0 397.0,82.0\" fill=\"currentColor\"/>\n</g>\n</svg></span>"
     },
     "metadata": {}
    },
    {
     "output_type": "display_data",
     "data": {
      "text/plain": "<IPython.core.display.HTML object>",
      "text/html": "<span class=\"tex2jax_ignore\"><div class=\"entities\" style=\"line-height: 2.5; direction: ltr\">酒さが治らない</div></span>"
     },
     "metadata": {}
    },
    {
     "output_type": "execute_result",
     "data": {
      "text/plain": [
       "[{'i': 0, 'orth': '酒', 'base': '酒', 'head': 1, 'dep': 'amod'},\n",
       " {'i': 1, 'orth': 'さ', 'base': 'さ', 'head': 3, 'dep': 'nsubj'},\n",
       " {'i': 2, 'orth': 'が', 'base': 'が', 'head': 1, 'dep': 'case'},\n",
       " {'i': 3, 'orth': '治ら', 'base': '治る', 'head': 3, 'dep': 'ROOT'},\n",
       " {'i': 4, 'orth': 'ない', 'base': 'ない', 'head': 3, 'dep': 'aux'}]"
      ]
     },
     "metadata": {},
     "execution_count": 13
    }
   ],
   "source": [
    "dependency.run(\"酒さが治らない\")"
   ]
  },
  {
   "cell_type": "code",
   "execution_count": 14,
   "metadata": {},
   "outputs": [
    {
     "output_type": "display_data",
     "data": {
      "text/plain": "<IPython.core.display.HTML object>",
      "text/html": "<span class=\"tex2jax_ignore\"><svg xmlns=\"http://www.w3.org/2000/svg\" xmlns:xlink=\"http://www.w3.org/1999/xlink\" xml:lang=\"ja\" id=\"851e6798f039496883ac986755871772-0\" class=\"displacy\" width=\"410\" height=\"182.0\" direction=\"ltr\" style=\"max-width: none; height: 182.0px; color: #000000; background: #ffffff; font-family: Arial; direction: ltr\">\n<text class=\"displacy-token\" fill=\"currentColor\" text-anchor=\"middle\" y=\"92.0\">\n    <tspan class=\"displacy-word\" fill=\"currentColor\" x=\"50\">うつ病</tspan>\n    <tspan class=\"displacy-tag\" dy=\"2em\" fill=\"currentColor\" x=\"50\">NOUN</tspan>\n</text>\n\n<text class=\"displacy-token\" fill=\"currentColor\" text-anchor=\"middle\" y=\"92.0\">\n    <tspan class=\"displacy-word\" fill=\"currentColor\" x=\"140\">薬</tspan>\n    <tspan class=\"displacy-tag\" dy=\"2em\" fill=\"currentColor\" x=\"140\">NOUN</tspan>\n</text>\n\n<text class=\"displacy-token\" fill=\"currentColor\" text-anchor=\"middle\" y=\"92.0\">\n    <tspan class=\"displacy-word\" fill=\"currentColor\" x=\"230\">治ら</tspan>\n    <tspan class=\"displacy-tag\" dy=\"2em\" fill=\"currentColor\" x=\"230\">VERB</tspan>\n</text>\n\n<text class=\"displacy-token\" fill=\"currentColor\" text-anchor=\"middle\" y=\"92.0\">\n    <tspan class=\"displacy-word\" fill=\"currentColor\" x=\"320\">ない</tspan>\n    <tspan class=\"displacy-tag\" dy=\"2em\" fill=\"currentColor\" x=\"320\">AUX</tspan>\n</text>\n\n<g class=\"displacy-arrow\">\n    <path class=\"displacy-arc\" id=\"arrow-851e6798f039496883ac986755871772-0-0\" stroke-width=\"2px\" d=\"M70,47.0 C70,2.0 140.0,2.0 140.0,47.0\" fill=\"none\" stroke=\"currentColor\"/>\n    <text dy=\"1.25em\" style=\"font-size: 0.8em; letter-spacing: 1px\">\n        <textPath xlink:href=\"#arrow-851e6798f039496883ac986755871772-0-0\" class=\"displacy-label\" startOffset=\"50%\" side=\"left\" fill=\"currentColor\" text-anchor=\"middle\">nmod</textPath>\n    </text>\n    <path class=\"displacy-arrowhead\" d=\"M70,49.0 L62,37.0 78,37.0\" fill=\"currentColor\"/>\n</g>\n\n<g class=\"displacy-arrow\">\n    <path class=\"displacy-arc\" id=\"arrow-851e6798f039496883ac986755871772-0-1\" stroke-width=\"2px\" d=\"M160,47.0 C160,2.0 230.0,2.0 230.0,47.0\" fill=\"none\" stroke=\"currentColor\"/>\n    <text dy=\"1.25em\" style=\"font-size: 0.8em; letter-spacing: 1px\">\n        <textPath xlink:href=\"#arrow-851e6798f039496883ac986755871772-0-1\" class=\"displacy-label\" startOffset=\"50%\" side=\"left\" fill=\"currentColor\" text-anchor=\"middle\">obl</textPath>\n    </text>\n    <path class=\"displacy-arrowhead\" d=\"M160,49.0 L152,37.0 168,37.0\" fill=\"currentColor\"/>\n</g>\n\n<g class=\"displacy-arrow\">\n    <path class=\"displacy-arc\" id=\"arrow-851e6798f039496883ac986755871772-0-2\" stroke-width=\"2px\" d=\"M250,47.0 C250,2.0 320.0,2.0 320.0,47.0\" fill=\"none\" stroke=\"currentColor\"/>\n    <text dy=\"1.25em\" style=\"font-size: 0.8em; letter-spacing: 1px\">\n        <textPath xlink:href=\"#arrow-851e6798f039496883ac986755871772-0-2\" class=\"displacy-label\" startOffset=\"50%\" side=\"left\" fill=\"currentColor\" text-anchor=\"middle\">aux</textPath>\n    </text>\n    <path class=\"displacy-arrowhead\" d=\"M320.0,49.0 L328.0,37.0 312.0,37.0\" fill=\"currentColor\"/>\n</g>\n</svg></span>"
     },
     "metadata": {}
    },
    {
     "output_type": "display_data",
     "data": {
      "text/plain": "<IPython.core.display.HTML object>",
      "text/html": "<span class=\"tex2jax_ignore\"><div class=\"entities\" style=\"line-height: 2.5; direction: ltr\">うつ病 薬 治らない</div></span>"
     },
     "metadata": {}
    },
    {
     "output_type": "execute_result",
     "data": {
      "text/plain": [
       "[{'i': 0, 'orth': 'うつ病', 'base': 'うつ病', 'head': 1, 'dep': 'nmod'},\n",
       " {'i': 1, 'orth': '薬', 'base': '薬', 'head': 2, 'dep': 'obl'},\n",
       " {'i': 2, 'orth': '治ら', 'base': '治る', 'head': 2, 'dep': 'ROOT'},\n",
       " {'i': 3, 'orth': 'ない', 'base': 'ない', 'head': 2, 'dep': 'aux'}]"
      ]
     },
     "metadata": {},
     "execution_count": 14
    }
   ],
   "source": [
    "dependency.run(\"うつ病 薬 治らない\")"
   ]
  },
  {
   "cell_type": "code",
   "execution_count": 8,
   "metadata": {},
   "outputs": [
    {
     "output_type": "display_data",
     "data": {
      "text/plain": "<IPython.core.display.HTML object>",
      "text/html": "<span class=\"tex2jax_ignore\"><svg xmlns=\"http://www.w3.org/2000/svg\" xmlns:xlink=\"http://www.w3.org/1999/xlink\" xml:lang=\"ja\" id=\"b7aeaba0e2704edf867b1b1d751af536-0\" class=\"displacy\" width=\"3110\" height=\"362.0\" direction=\"ltr\" style=\"max-width: none; height: 362.0px; color: #000000; background: #ffffff; font-family: Arial; direction: ltr\">\n<text class=\"displacy-token\" fill=\"currentColor\" text-anchor=\"middle\" y=\"272.0\">\n    <tspan class=\"displacy-word\" fill=\"currentColor\" x=\"50\">くも膜</tspan>\n    <tspan class=\"displacy-tag\" dy=\"2em\" fill=\"currentColor\" x=\"50\">NOUN</tspan>\n</text>\n\n<text class=\"displacy-token\" fill=\"currentColor\" text-anchor=\"middle\" y=\"272.0\">\n    <tspan class=\"displacy-word\" fill=\"currentColor\" x=\"140\">下</tspan>\n    <tspan class=\"displacy-tag\" dy=\"2em\" fill=\"currentColor\" x=\"140\">NOUN</tspan>\n</text>\n\n<text class=\"displacy-token\" fill=\"currentColor\" text-anchor=\"middle\" y=\"272.0\">\n    <tspan class=\"displacy-word\" fill=\"currentColor\" x=\"230\">出血</tspan>\n    <tspan class=\"displacy-tag\" dy=\"2em\" fill=\"currentColor\" x=\"230\">NOUN</tspan>\n</text>\n\n<text class=\"displacy-token\" fill=\"currentColor\" text-anchor=\"middle\" y=\"272.0\">\n    <tspan class=\"displacy-word\" fill=\"currentColor\" x=\"320\">術後</tspan>\n    <tspan class=\"displacy-tag\" dy=\"2em\" fill=\"currentColor\" x=\"320\">NOUN</tspan>\n</text>\n\n<text class=\"displacy-token\" fill=\"currentColor\" text-anchor=\"middle\" y=\"272.0\">\n    <tspan class=\"displacy-word\" fill=\"currentColor\" x=\"410\">に</tspan>\n    <tspan class=\"displacy-tag\" dy=\"2em\" fill=\"currentColor\" x=\"410\">ADP</tspan>\n</text>\n\n<text class=\"displacy-token\" fill=\"currentColor\" text-anchor=\"middle\" y=\"272.0\">\n    <tspan class=\"displacy-word\" fill=\"currentColor\" x=\"500\">みみ</tspan>\n    <tspan class=\"displacy-tag\" dy=\"2em\" fill=\"currentColor\" x=\"500\">NOUN</tspan>\n</text>\n\n<text class=\"displacy-token\" fill=\"currentColor\" text-anchor=\"middle\" y=\"272.0\">\n    <tspan class=\"displacy-word\" fill=\"currentColor\" x=\"590\">が</tspan>\n    <tspan class=\"displacy-tag\" dy=\"2em\" fill=\"currentColor\" x=\"590\">ADP</tspan>\n</text>\n\n<text class=\"displacy-token\" fill=\"currentColor\" text-anchor=\"middle\" y=\"272.0\">\n    <tspan class=\"displacy-word\" fill=\"currentColor\" x=\"680\">痛く</tspan>\n    <tspan class=\"displacy-tag\" dy=\"2em\" fill=\"currentColor\" x=\"680\">ADJ</tspan>\n</text>\n\n<text class=\"displacy-token\" fill=\"currentColor\" text-anchor=\"middle\" y=\"272.0\">\n    <tspan class=\"displacy-word\" fill=\"currentColor\" x=\"770\">て</tspan>\n    <tspan class=\"displacy-tag\" dy=\"2em\" fill=\"currentColor\" x=\"770\">SCONJ</tspan>\n</text>\n\n<text class=\"displacy-token\" fill=\"currentColor\" text-anchor=\"middle\" y=\"272.0\">\n    <tspan class=\"displacy-word\" fill=\"currentColor\" x=\"860\">うつ病</tspan>\n    <tspan class=\"displacy-tag\" dy=\"2em\" fill=\"currentColor\" x=\"860\">NOUN</tspan>\n</text>\n\n<text class=\"displacy-token\" fill=\"currentColor\" text-anchor=\"middle\" y=\"272.0\">\n    <tspan class=\"displacy-word\" fill=\"currentColor\" x=\"950\">も</tspan>\n    <tspan class=\"displacy-tag\" dy=\"2em\" fill=\"currentColor\" x=\"950\">ADP</tspan>\n</text>\n\n<text class=\"displacy-token\" fill=\"currentColor\" text-anchor=\"middle\" y=\"272.0\">\n    <tspan class=\"displacy-word\" fill=\"currentColor\" x=\"1040\">発症</tspan>\n    <tspan class=\"displacy-tag\" dy=\"2em\" fill=\"currentColor\" x=\"1040\">VERB</tspan>\n</text>\n\n<text class=\"displacy-token\" fill=\"currentColor\" text-anchor=\"middle\" y=\"272.0\">\n    <tspan class=\"displacy-word\" fill=\"currentColor\" x=\"1130\">し</tspan>\n    <tspan class=\"displacy-tag\" dy=\"2em\" fill=\"currentColor\" x=\"1130\">AUX</tspan>\n</text>\n\n<text class=\"displacy-token\" fill=\"currentColor\" text-anchor=\"middle\" y=\"272.0\">\n    <tspan class=\"displacy-word\" fill=\"currentColor\" x=\"1220\">て</tspan>\n    <tspan class=\"displacy-tag\" dy=\"2em\" fill=\"currentColor\" x=\"1220\">SCONJ</tspan>\n</text>\n\n<text class=\"displacy-token\" fill=\"currentColor\" text-anchor=\"middle\" y=\"272.0\">\n    <tspan class=\"displacy-word\" fill=\"currentColor\" x=\"1310\">子宮がん</tspan>\n    <tspan class=\"displacy-tag\" dy=\"2em\" fill=\"currentColor\" x=\"1310\">NOUN</tspan>\n</text>\n\n<text class=\"displacy-token\" fill=\"currentColor\" text-anchor=\"middle\" y=\"272.0\">\n    <tspan class=\"displacy-word\" fill=\"currentColor\" x=\"1400\">も</tspan>\n    <tspan class=\"displacy-tag\" dy=\"2em\" fill=\"currentColor\" x=\"1400\">ADP</tspan>\n</text>\n\n<text class=\"displacy-token\" fill=\"currentColor\" text-anchor=\"middle\" y=\"272.0\">\n    <tspan class=\"displacy-word\" fill=\"currentColor\" x=\"1490\">持っ</tspan>\n    <tspan class=\"displacy-tag\" dy=\"2em\" fill=\"currentColor\" x=\"1490\">VERB</tspan>\n</text>\n\n<text class=\"displacy-token\" fill=\"currentColor\" text-anchor=\"middle\" y=\"272.0\">\n    <tspan class=\"displacy-word\" fill=\"currentColor\" x=\"1580\">て</tspan>\n    <tspan class=\"displacy-tag\" dy=\"2em\" fill=\"currentColor\" x=\"1580\">AUX</tspan>\n</text>\n\n<text class=\"displacy-token\" fill=\"currentColor\" text-anchor=\"middle\" y=\"272.0\">\n    <tspan class=\"displacy-word\" fill=\"currentColor\" x=\"1670\">ます。</tspan>\n    <tspan class=\"displacy-tag\" dy=\"2em\" fill=\"currentColor\" x=\"1670\">AUX</tspan>\n</text>\n\n<text class=\"displacy-token\" fill=\"currentColor\" text-anchor=\"middle\" y=\"272.0\">\n    <tspan class=\"displacy-word\" fill=\"currentColor\" x=\"1760\">直腸がん</tspan>\n    <tspan class=\"displacy-tag\" dy=\"2em\" fill=\"currentColor\" x=\"1760\">NOUN</tspan>\n</text>\n\n<text class=\"displacy-token\" fill=\"currentColor\" text-anchor=\"middle\" y=\"272.0\">\n    <tspan class=\"displacy-word\" fill=\"currentColor\" x=\"1850\">も</tspan>\n    <tspan class=\"displacy-tag\" dy=\"2em\" fill=\"currentColor\" x=\"1850\">ADP</tspan>\n</text>\n\n<text class=\"displacy-token\" fill=\"currentColor\" text-anchor=\"middle\" y=\"272.0\">\n    <tspan class=\"displacy-word\" fill=\"currentColor\" x=\"1940\">発症</tspan>\n    <tspan class=\"displacy-tag\" dy=\"2em\" fill=\"currentColor\" x=\"1940\">VERB</tspan>\n</text>\n\n<text class=\"displacy-token\" fill=\"currentColor\" text-anchor=\"middle\" y=\"272.0\">\n    <tspan class=\"displacy-word\" fill=\"currentColor\" x=\"2030\">し</tspan>\n    <tspan class=\"displacy-tag\" dy=\"2em\" fill=\"currentColor\" x=\"2030\">AUX</tspan>\n</text>\n\n<text class=\"displacy-token\" fill=\"currentColor\" text-anchor=\"middle\" y=\"272.0\">\n    <tspan class=\"displacy-word\" fill=\"currentColor\" x=\"2120\">て</tspan>\n    <tspan class=\"displacy-tag\" dy=\"2em\" fill=\"currentColor\" x=\"2120\">AUX</tspan>\n</text>\n\n<text class=\"displacy-token\" fill=\"currentColor\" text-anchor=\"middle\" y=\"272.0\">\n    <tspan class=\"displacy-word\" fill=\"currentColor\" x=\"2210\">ます。</tspan>\n    <tspan class=\"displacy-tag\" dy=\"2em\" fill=\"currentColor\" x=\"2210\">AUX</tspan>\n</text>\n\n<text class=\"displacy-token\" fill=\"currentColor\" text-anchor=\"middle\" y=\"272.0\">\n    <tspan class=\"displacy-word\" fill=\"currentColor\" x=\"2300\">いぼ</tspan>\n    <tspan class=\"displacy-tag\" dy=\"2em\" fill=\"currentColor\" x=\"2300\">NOUN</tspan>\n</text>\n\n<text class=\"displacy-token\" fill=\"currentColor\" text-anchor=\"middle\" y=\"272.0\">\n    <tspan class=\"displacy-word\" fill=\"currentColor\" x=\"2390\">や</tspan>\n    <tspan class=\"displacy-tag\" dy=\"2em\" fill=\"currentColor\" x=\"2390\">ADP</tspan>\n</text>\n\n<text class=\"displacy-token\" fill=\"currentColor\" text-anchor=\"middle\" y=\"272.0\">\n    <tspan class=\"displacy-word\" fill=\"currentColor\" x=\"2480\">水いぼ</tspan>\n    <tspan class=\"displacy-tag\" dy=\"2em\" fill=\"currentColor\" x=\"2480\">NOUN</tspan>\n</text>\n\n<text class=\"displacy-token\" fill=\"currentColor\" text-anchor=\"middle\" y=\"272.0\">\n    <tspan class=\"displacy-word\" fill=\"currentColor\" x=\"2570\">も</tspan>\n    <tspan class=\"displacy-tag\" dy=\"2em\" fill=\"currentColor\" x=\"2570\">ADP</tspan>\n</text>\n\n<text class=\"displacy-token\" fill=\"currentColor\" text-anchor=\"middle\" y=\"272.0\">\n    <tspan class=\"displacy-word\" fill=\"currentColor\" x=\"2660\">持っ</tspan>\n    <tspan class=\"displacy-tag\" dy=\"2em\" fill=\"currentColor\" x=\"2660\">VERB</tspan>\n</text>\n\n<text class=\"displacy-token\" fill=\"currentColor\" text-anchor=\"middle\" y=\"272.0\">\n    <tspan class=\"displacy-word\" fill=\"currentColor\" x=\"2750\">て</tspan>\n    <tspan class=\"displacy-tag\" dy=\"2em\" fill=\"currentColor\" x=\"2750\">AUX</tspan>\n</text>\n\n<text class=\"displacy-token\" fill=\"currentColor\" text-anchor=\"middle\" y=\"272.0\">\n    <tspan class=\"displacy-word\" fill=\"currentColor\" x=\"2840\">ます。</tspan>\n    <tspan class=\"displacy-tag\" dy=\"2em\" fill=\"currentColor\" x=\"2840\">AUX</tspan>\n</text>\n\n<text class=\"displacy-token\" fill=\"currentColor\" text-anchor=\"middle\" y=\"272.0\">\n    <tspan class=\"displacy-word\" fill=\"currentColor\" x=\"2930\">陰部</tspan>\n    <tspan class=\"displacy-tag\" dy=\"2em\" fill=\"currentColor\" x=\"2930\">NOUN</tspan>\n</text>\n\n<text class=\"displacy-token\" fill=\"currentColor\" text-anchor=\"middle\" y=\"272.0\">\n    <tspan class=\"displacy-word\" fill=\"currentColor\" x=\"3020\">ひりひり</tspan>\n    <tspan class=\"displacy-tag\" dy=\"2em\" fill=\"currentColor\" x=\"3020\">ADV</tspan>\n</text>\n\n<g class=\"displacy-arrow\">\n    <path class=\"displacy-arc\" id=\"arrow-b7aeaba0e2704edf867b1b1d751af536-0-0\" stroke-width=\"2px\" d=\"M70,227.0 C70,92.0 310.0,92.0 310.0,227.0\" fill=\"none\" stroke=\"currentColor\"/>\n    <text dy=\"1.25em\" style=\"font-size: 0.8em; letter-spacing: 1px\">\n        <textPath xlink:href=\"#arrow-b7aeaba0e2704edf867b1b1d751af536-0-0\" class=\"displacy-label\" startOffset=\"50%\" side=\"left\" fill=\"currentColor\" text-anchor=\"middle\">compound</textPath>\n    </text>\n    <path class=\"displacy-arrowhead\" d=\"M70,229.0 L62,217.0 78,217.0\" fill=\"currentColor\"/>\n</g>\n\n<g class=\"displacy-arrow\">\n    <path class=\"displacy-arc\" id=\"arrow-b7aeaba0e2704edf867b1b1d751af536-0-1\" stroke-width=\"2px\" d=\"M160,227.0 C160,137.0 305.0,137.0 305.0,227.0\" fill=\"none\" stroke=\"currentColor\"/>\n    <text dy=\"1.25em\" style=\"font-size: 0.8em; letter-spacing: 1px\">\n        <textPath xlink:href=\"#arrow-b7aeaba0e2704edf867b1b1d751af536-0-1\" class=\"displacy-label\" startOffset=\"50%\" side=\"left\" fill=\"currentColor\" text-anchor=\"middle\">compound</textPath>\n    </text>\n    <path class=\"displacy-arrowhead\" d=\"M160,229.0 L152,217.0 168,217.0\" fill=\"currentColor\"/>\n</g>\n\n<g class=\"displacy-arrow\">\n    <path class=\"displacy-arc\" id=\"arrow-b7aeaba0e2704edf867b1b1d751af536-0-2\" stroke-width=\"2px\" d=\"M250,227.0 C250,182.0 300.0,182.0 300.0,227.0\" fill=\"none\" stroke=\"currentColor\"/>\n    <text dy=\"1.25em\" style=\"font-size: 0.8em; letter-spacing: 1px\">\n        <textPath xlink:href=\"#arrow-b7aeaba0e2704edf867b1b1d751af536-0-2\" class=\"displacy-label\" startOffset=\"50%\" side=\"left\" fill=\"currentColor\" text-anchor=\"middle\">compound</textPath>\n    </text>\n    <path class=\"displacy-arrowhead\" d=\"M250,229.0 L242,217.0 258,217.0\" fill=\"currentColor\"/>\n</g>\n\n<g class=\"displacy-arrow\">\n    <path class=\"displacy-arc\" id=\"arrow-b7aeaba0e2704edf867b1b1d751af536-0-3\" stroke-width=\"2px\" d=\"M340,227.0 C340,47.0 675.0,47.0 675.0,227.0\" fill=\"none\" stroke=\"currentColor\"/>\n    <text dy=\"1.25em\" style=\"font-size: 0.8em; letter-spacing: 1px\">\n        <textPath xlink:href=\"#arrow-b7aeaba0e2704edf867b1b1d751af536-0-3\" class=\"displacy-label\" startOffset=\"50%\" side=\"left\" fill=\"currentColor\" text-anchor=\"middle\">obl</textPath>\n    </text>\n    <path class=\"displacy-arrowhead\" d=\"M340,229.0 L332,217.0 348,217.0\" fill=\"currentColor\"/>\n</g>\n\n<g class=\"displacy-arrow\">\n    <path class=\"displacy-arc\" id=\"arrow-b7aeaba0e2704edf867b1b1d751af536-0-4\" stroke-width=\"2px\" d=\"M340,227.0 C340,182.0 390.0,182.0 390.0,227.0\" fill=\"none\" stroke=\"currentColor\"/>\n    <text dy=\"1.25em\" style=\"font-size: 0.8em; letter-spacing: 1px\">\n        <textPath xlink:href=\"#arrow-b7aeaba0e2704edf867b1b1d751af536-0-4\" class=\"displacy-label\" startOffset=\"50%\" side=\"left\" fill=\"currentColor\" text-anchor=\"middle\">case</textPath>\n    </text>\n    <path class=\"displacy-arrowhead\" d=\"M390.0,229.0 L398.0,217.0 382.0,217.0\" fill=\"currentColor\"/>\n</g>\n\n<g class=\"displacy-arrow\">\n    <path class=\"displacy-arc\" id=\"arrow-b7aeaba0e2704edf867b1b1d751af536-0-5\" stroke-width=\"2px\" d=\"M520,227.0 C520,137.0 665.0,137.0 665.0,227.0\" fill=\"none\" stroke=\"currentColor\"/>\n    <text dy=\"1.25em\" style=\"font-size: 0.8em; letter-spacing: 1px\">\n        <textPath xlink:href=\"#arrow-b7aeaba0e2704edf867b1b1d751af536-0-5\" class=\"displacy-label\" startOffset=\"50%\" side=\"left\" fill=\"currentColor\" text-anchor=\"middle\">nsubj</textPath>\n    </text>\n    <path class=\"displacy-arrowhead\" d=\"M520,229.0 L512,217.0 528,217.0\" fill=\"currentColor\"/>\n</g>\n\n<g class=\"displacy-arrow\">\n    <path class=\"displacy-arc\" id=\"arrow-b7aeaba0e2704edf867b1b1d751af536-0-6\" stroke-width=\"2px\" d=\"M520,227.0 C520,182.0 570.0,182.0 570.0,227.0\" fill=\"none\" stroke=\"currentColor\"/>\n    <text dy=\"1.25em\" style=\"font-size: 0.8em; letter-spacing: 1px\">\n        <textPath xlink:href=\"#arrow-b7aeaba0e2704edf867b1b1d751af536-0-6\" class=\"displacy-label\" startOffset=\"50%\" side=\"left\" fill=\"currentColor\" text-anchor=\"middle\">case</textPath>\n    </text>\n    <path class=\"displacy-arrowhead\" d=\"M570.0,229.0 L578.0,217.0 562.0,217.0\" fill=\"currentColor\"/>\n</g>\n\n<g class=\"displacy-arrow\">\n    <path class=\"displacy-arc\" id=\"arrow-b7aeaba0e2704edf867b1b1d751af536-0-7\" stroke-width=\"2px\" d=\"M700,227.0 C700,47.0 1035.0,47.0 1035.0,227.0\" fill=\"none\" stroke=\"currentColor\"/>\n    <text dy=\"1.25em\" style=\"font-size: 0.8em; letter-spacing: 1px\">\n        <textPath xlink:href=\"#arrow-b7aeaba0e2704edf867b1b1d751af536-0-7\" class=\"displacy-label\" startOffset=\"50%\" side=\"left\" fill=\"currentColor\" text-anchor=\"middle\">advcl</textPath>\n    </text>\n    <path class=\"displacy-arrowhead\" d=\"M700,229.0 L692,217.0 708,217.0\" fill=\"currentColor\"/>\n</g>\n\n<g class=\"displacy-arrow\">\n    <path class=\"displacy-arc\" id=\"arrow-b7aeaba0e2704edf867b1b1d751af536-0-8\" stroke-width=\"2px\" d=\"M700,227.0 C700,182.0 750.0,182.0 750.0,227.0\" fill=\"none\" stroke=\"currentColor\"/>\n    <text dy=\"1.25em\" style=\"font-size: 0.8em; letter-spacing: 1px\">\n        <textPath xlink:href=\"#arrow-b7aeaba0e2704edf867b1b1d751af536-0-8\" class=\"displacy-label\" startOffset=\"50%\" side=\"left\" fill=\"currentColor\" text-anchor=\"middle\">mark</textPath>\n    </text>\n    <path class=\"displacy-arrowhead\" d=\"M750.0,229.0 L758.0,217.0 742.0,217.0\" fill=\"currentColor\"/>\n</g>\n\n<g class=\"displacy-arrow\">\n    <path class=\"displacy-arc\" id=\"arrow-b7aeaba0e2704edf867b1b1d751af536-0-9\" stroke-width=\"2px\" d=\"M880,227.0 C880,137.0 1025.0,137.0 1025.0,227.0\" fill=\"none\" stroke=\"currentColor\"/>\n    <text dy=\"1.25em\" style=\"font-size: 0.8em; letter-spacing: 1px\">\n        <textPath xlink:href=\"#arrow-b7aeaba0e2704edf867b1b1d751af536-0-9\" class=\"displacy-label\" startOffset=\"50%\" side=\"left\" fill=\"currentColor\" text-anchor=\"middle\">obl</textPath>\n    </text>\n    <path class=\"displacy-arrowhead\" d=\"M880,229.0 L872,217.0 888,217.0\" fill=\"currentColor\"/>\n</g>\n\n<g class=\"displacy-arrow\">\n    <path class=\"displacy-arc\" id=\"arrow-b7aeaba0e2704edf867b1b1d751af536-0-10\" stroke-width=\"2px\" d=\"M880,227.0 C880,182.0 930.0,182.0 930.0,227.0\" fill=\"none\" stroke=\"currentColor\"/>\n    <text dy=\"1.25em\" style=\"font-size: 0.8em; letter-spacing: 1px\">\n        <textPath xlink:href=\"#arrow-b7aeaba0e2704edf867b1b1d751af536-0-10\" class=\"displacy-label\" startOffset=\"50%\" side=\"left\" fill=\"currentColor\" text-anchor=\"middle\">case</textPath>\n    </text>\n    <path class=\"displacy-arrowhead\" d=\"M930.0,229.0 L938.0,217.0 922.0,217.0\" fill=\"currentColor\"/>\n</g>\n\n<g class=\"displacy-arrow\">\n    <path class=\"displacy-arc\" id=\"arrow-b7aeaba0e2704edf867b1b1d751af536-0-11\" stroke-width=\"2px\" d=\"M1060,227.0 C1060,2.0 1490.0,2.0 1490.0,227.0\" fill=\"none\" stroke=\"currentColor\"/>\n    <text dy=\"1.25em\" style=\"font-size: 0.8em; letter-spacing: 1px\">\n        <textPath xlink:href=\"#arrow-b7aeaba0e2704edf867b1b1d751af536-0-11\" class=\"displacy-label\" startOffset=\"50%\" side=\"left\" fill=\"currentColor\" text-anchor=\"middle\">advcl</textPath>\n    </text>\n    <path class=\"displacy-arrowhead\" d=\"M1060,229.0 L1052,217.0 1068,217.0\" fill=\"currentColor\"/>\n</g>\n\n<g class=\"displacy-arrow\">\n    <path class=\"displacy-arc\" id=\"arrow-b7aeaba0e2704edf867b1b1d751af536-0-12\" stroke-width=\"2px\" d=\"M1060,227.0 C1060,182.0 1110.0,182.0 1110.0,227.0\" fill=\"none\" stroke=\"currentColor\"/>\n    <text dy=\"1.25em\" style=\"font-size: 0.8em; letter-spacing: 1px\">\n        <textPath xlink:href=\"#arrow-b7aeaba0e2704edf867b1b1d751af536-0-12\" class=\"displacy-label\" startOffset=\"50%\" side=\"left\" fill=\"currentColor\" text-anchor=\"middle\">advcl</textPath>\n    </text>\n    <path class=\"displacy-arrowhead\" d=\"M1110.0,229.0 L1118.0,217.0 1102.0,217.0\" fill=\"currentColor\"/>\n</g>\n\n<g class=\"displacy-arrow\">\n    <path class=\"displacy-arc\" id=\"arrow-b7aeaba0e2704edf867b1b1d751af536-0-13\" stroke-width=\"2px\" d=\"M1060,227.0 C1060,137.0 1205.0,137.0 1205.0,227.0\" fill=\"none\" stroke=\"currentColor\"/>\n    <text dy=\"1.25em\" style=\"font-size: 0.8em; letter-spacing: 1px\">\n        <textPath xlink:href=\"#arrow-b7aeaba0e2704edf867b1b1d751af536-0-13\" class=\"displacy-label\" startOffset=\"50%\" side=\"left\" fill=\"currentColor\" text-anchor=\"middle\">mark</textPath>\n    </text>\n    <path class=\"displacy-arrowhead\" d=\"M1205.0,229.0 L1213.0,217.0 1197.0,217.0\" fill=\"currentColor\"/>\n</g>\n\n<g class=\"displacy-arrow\">\n    <path class=\"displacy-arc\" id=\"arrow-b7aeaba0e2704edf867b1b1d751af536-0-14\" stroke-width=\"2px\" d=\"M1330,227.0 C1330,137.0 1475.0,137.0 1475.0,227.0\" fill=\"none\" stroke=\"currentColor\"/>\n    <text dy=\"1.25em\" style=\"font-size: 0.8em; letter-spacing: 1px\">\n        <textPath xlink:href=\"#arrow-b7aeaba0e2704edf867b1b1d751af536-0-14\" class=\"displacy-label\" startOffset=\"50%\" side=\"left\" fill=\"currentColor\" text-anchor=\"middle\">obl</textPath>\n    </text>\n    <path class=\"displacy-arrowhead\" d=\"M1330,229.0 L1322,217.0 1338,217.0\" fill=\"currentColor\"/>\n</g>\n\n<g class=\"displacy-arrow\">\n    <path class=\"displacy-arc\" id=\"arrow-b7aeaba0e2704edf867b1b1d751af536-0-15\" stroke-width=\"2px\" d=\"M1330,227.0 C1330,182.0 1380.0,182.0 1380.0,227.0\" fill=\"none\" stroke=\"currentColor\"/>\n    <text dy=\"1.25em\" style=\"font-size: 0.8em; letter-spacing: 1px\">\n        <textPath xlink:href=\"#arrow-b7aeaba0e2704edf867b1b1d751af536-0-15\" class=\"displacy-label\" startOffset=\"50%\" side=\"left\" fill=\"currentColor\" text-anchor=\"middle\">case</textPath>\n    </text>\n    <path class=\"displacy-arrowhead\" d=\"M1380.0,229.0 L1388.0,217.0 1372.0,217.0\" fill=\"currentColor\"/>\n</g>\n\n<g class=\"displacy-arrow\">\n    <path class=\"displacy-arc\" id=\"arrow-b7aeaba0e2704edf867b1b1d751af536-0-16\" stroke-width=\"2px\" d=\"M1510,227.0 C1510,182.0 1560.0,182.0 1560.0,227.0\" fill=\"none\" stroke=\"currentColor\"/>\n    <text dy=\"1.25em\" style=\"font-size: 0.8em; letter-spacing: 1px\">\n        <textPath xlink:href=\"#arrow-b7aeaba0e2704edf867b1b1d751af536-0-16\" class=\"displacy-label\" startOffset=\"50%\" side=\"left\" fill=\"currentColor\" text-anchor=\"middle\">aux</textPath>\n    </text>\n    <path class=\"displacy-arrowhead\" d=\"M1560.0,229.0 L1568.0,217.0 1552.0,217.0\" fill=\"currentColor\"/>\n</g>\n\n<g class=\"displacy-arrow\">\n    <path class=\"displacy-arc\" id=\"arrow-b7aeaba0e2704edf867b1b1d751af536-0-17\" stroke-width=\"2px\" d=\"M1510,227.0 C1510,137.0 1655.0,137.0 1655.0,227.0\" fill=\"none\" stroke=\"currentColor\"/>\n    <text dy=\"1.25em\" style=\"font-size: 0.8em; letter-spacing: 1px\">\n        <textPath xlink:href=\"#arrow-b7aeaba0e2704edf867b1b1d751af536-0-17\" class=\"displacy-label\" startOffset=\"50%\" side=\"left\" fill=\"currentColor\" text-anchor=\"middle\">aux</textPath>\n    </text>\n    <path class=\"displacy-arrowhead\" d=\"M1655.0,229.0 L1663.0,217.0 1647.0,217.0\" fill=\"currentColor\"/>\n</g>\n\n<g class=\"displacy-arrow\">\n    <path class=\"displacy-arc\" id=\"arrow-b7aeaba0e2704edf867b1b1d751af536-0-18\" stroke-width=\"2px\" d=\"M1780,227.0 C1780,137.0 1925.0,137.0 1925.0,227.0\" fill=\"none\" stroke=\"currentColor\"/>\n    <text dy=\"1.25em\" style=\"font-size: 0.8em; letter-spacing: 1px\">\n        <textPath xlink:href=\"#arrow-b7aeaba0e2704edf867b1b1d751af536-0-18\" class=\"displacy-label\" startOffset=\"50%\" side=\"left\" fill=\"currentColor\" text-anchor=\"middle\">obl</textPath>\n    </text>\n    <path class=\"displacy-arrowhead\" d=\"M1780,229.0 L1772,217.0 1788,217.0\" fill=\"currentColor\"/>\n</g>\n\n<g class=\"displacy-arrow\">\n    <path class=\"displacy-arc\" id=\"arrow-b7aeaba0e2704edf867b1b1d751af536-0-19\" stroke-width=\"2px\" d=\"M1780,227.0 C1780,182.0 1830.0,182.0 1830.0,227.0\" fill=\"none\" stroke=\"currentColor\"/>\n    <text dy=\"1.25em\" style=\"font-size: 0.8em; letter-spacing: 1px\">\n        <textPath xlink:href=\"#arrow-b7aeaba0e2704edf867b1b1d751af536-0-19\" class=\"displacy-label\" startOffset=\"50%\" side=\"left\" fill=\"currentColor\" text-anchor=\"middle\">case</textPath>\n    </text>\n    <path class=\"displacy-arrowhead\" d=\"M1830.0,229.0 L1838.0,217.0 1822.0,217.0\" fill=\"currentColor\"/>\n</g>\n\n<g class=\"displacy-arrow\">\n    <path class=\"displacy-arc\" id=\"arrow-b7aeaba0e2704edf867b1b1d751af536-0-20\" stroke-width=\"2px\" d=\"M1960,227.0 C1960,182.0 2010.0,182.0 2010.0,227.0\" fill=\"none\" stroke=\"currentColor\"/>\n    <text dy=\"1.25em\" style=\"font-size: 0.8em; letter-spacing: 1px\">\n        <textPath xlink:href=\"#arrow-b7aeaba0e2704edf867b1b1d751af536-0-20\" class=\"displacy-label\" startOffset=\"50%\" side=\"left\" fill=\"currentColor\" text-anchor=\"middle\">advcl</textPath>\n    </text>\n    <path class=\"displacy-arrowhead\" d=\"M2010.0,229.0 L2018.0,217.0 2002.0,217.0\" fill=\"currentColor\"/>\n</g>\n\n<g class=\"displacy-arrow\">\n    <path class=\"displacy-arc\" id=\"arrow-b7aeaba0e2704edf867b1b1d751af536-0-21\" stroke-width=\"2px\" d=\"M1960,227.0 C1960,137.0 2105.0,137.0 2105.0,227.0\" fill=\"none\" stroke=\"currentColor\"/>\n    <text dy=\"1.25em\" style=\"font-size: 0.8em; letter-spacing: 1px\">\n        <textPath xlink:href=\"#arrow-b7aeaba0e2704edf867b1b1d751af536-0-21\" class=\"displacy-label\" startOffset=\"50%\" side=\"left\" fill=\"currentColor\" text-anchor=\"middle\">aux</textPath>\n    </text>\n    <path class=\"displacy-arrowhead\" d=\"M2105.0,229.0 L2113.0,217.0 2097.0,217.0\" fill=\"currentColor\"/>\n</g>\n\n<g class=\"displacy-arrow\">\n    <path class=\"displacy-arc\" id=\"arrow-b7aeaba0e2704edf867b1b1d751af536-0-22\" stroke-width=\"2px\" d=\"M1960,227.0 C1960,92.0 2200.0,92.0 2200.0,227.0\" fill=\"none\" stroke=\"currentColor\"/>\n    <text dy=\"1.25em\" style=\"font-size: 0.8em; letter-spacing: 1px\">\n        <textPath xlink:href=\"#arrow-b7aeaba0e2704edf867b1b1d751af536-0-22\" class=\"displacy-label\" startOffset=\"50%\" side=\"left\" fill=\"currentColor\" text-anchor=\"middle\">aux</textPath>\n    </text>\n    <path class=\"displacy-arrowhead\" d=\"M2200.0,229.0 L2208.0,217.0 2192.0,217.0\" fill=\"currentColor\"/>\n</g>\n\n<g class=\"displacy-arrow\">\n    <path class=\"displacy-arc\" id=\"arrow-b7aeaba0e2704edf867b1b1d751af536-0-23\" stroke-width=\"2px\" d=\"M2320,227.0 C2320,137.0 2465.0,137.0 2465.0,227.0\" fill=\"none\" stroke=\"currentColor\"/>\n    <text dy=\"1.25em\" style=\"font-size: 0.8em; letter-spacing: 1px\">\n        <textPath xlink:href=\"#arrow-b7aeaba0e2704edf867b1b1d751af536-0-23\" class=\"displacy-label\" startOffset=\"50%\" side=\"left\" fill=\"currentColor\" text-anchor=\"middle\">nmod</textPath>\n    </text>\n    <path class=\"displacy-arrowhead\" d=\"M2320,229.0 L2312,217.0 2328,217.0\" fill=\"currentColor\"/>\n</g>\n\n<g class=\"displacy-arrow\">\n    <path class=\"displacy-arc\" id=\"arrow-b7aeaba0e2704edf867b1b1d751af536-0-24\" stroke-width=\"2px\" d=\"M2320,227.0 C2320,182.0 2370.0,182.0 2370.0,227.0\" fill=\"none\" stroke=\"currentColor\"/>\n    <text dy=\"1.25em\" style=\"font-size: 0.8em; letter-spacing: 1px\">\n        <textPath xlink:href=\"#arrow-b7aeaba0e2704edf867b1b1d751af536-0-24\" class=\"displacy-label\" startOffset=\"50%\" side=\"left\" fill=\"currentColor\" text-anchor=\"middle\">case</textPath>\n    </text>\n    <path class=\"displacy-arrowhead\" d=\"M2370.0,229.0 L2378.0,217.0 2362.0,217.0\" fill=\"currentColor\"/>\n</g>\n\n<g class=\"displacy-arrow\">\n    <path class=\"displacy-arc\" id=\"arrow-b7aeaba0e2704edf867b1b1d751af536-0-25\" stroke-width=\"2px\" d=\"M2500,227.0 C2500,137.0 2645.0,137.0 2645.0,227.0\" fill=\"none\" stroke=\"currentColor\"/>\n    <text dy=\"1.25em\" style=\"font-size: 0.8em; letter-spacing: 1px\">\n        <textPath xlink:href=\"#arrow-b7aeaba0e2704edf867b1b1d751af536-0-25\" class=\"displacy-label\" startOffset=\"50%\" side=\"left\" fill=\"currentColor\" text-anchor=\"middle\">obl</textPath>\n    </text>\n    <path class=\"displacy-arrowhead\" d=\"M2500,229.0 L2492,217.0 2508,217.0\" fill=\"currentColor\"/>\n</g>\n\n<g class=\"displacy-arrow\">\n    <path class=\"displacy-arc\" id=\"arrow-b7aeaba0e2704edf867b1b1d751af536-0-26\" stroke-width=\"2px\" d=\"M2500,227.0 C2500,182.0 2550.0,182.0 2550.0,227.0\" fill=\"none\" stroke=\"currentColor\"/>\n    <text dy=\"1.25em\" style=\"font-size: 0.8em; letter-spacing: 1px\">\n        <textPath xlink:href=\"#arrow-b7aeaba0e2704edf867b1b1d751af536-0-26\" class=\"displacy-label\" startOffset=\"50%\" side=\"left\" fill=\"currentColor\" text-anchor=\"middle\">case</textPath>\n    </text>\n    <path class=\"displacy-arrowhead\" d=\"M2550.0,229.0 L2558.0,217.0 2542.0,217.0\" fill=\"currentColor\"/>\n</g>\n\n<g class=\"displacy-arrow\">\n    <path class=\"displacy-arc\" id=\"arrow-b7aeaba0e2704edf867b1b1d751af536-0-27\" stroke-width=\"2px\" d=\"M2680,227.0 C2680,182.0 2730.0,182.0 2730.0,227.0\" fill=\"none\" stroke=\"currentColor\"/>\n    <text dy=\"1.25em\" style=\"font-size: 0.8em; letter-spacing: 1px\">\n        <textPath xlink:href=\"#arrow-b7aeaba0e2704edf867b1b1d751af536-0-27\" class=\"displacy-label\" startOffset=\"50%\" side=\"left\" fill=\"currentColor\" text-anchor=\"middle\">aux</textPath>\n    </text>\n    <path class=\"displacy-arrowhead\" d=\"M2730.0,229.0 L2738.0,217.0 2722.0,217.0\" fill=\"currentColor\"/>\n</g>\n\n<g class=\"displacy-arrow\">\n    <path class=\"displacy-arc\" id=\"arrow-b7aeaba0e2704edf867b1b1d751af536-0-28\" stroke-width=\"2px\" d=\"M2680,227.0 C2680,137.0 2825.0,137.0 2825.0,227.0\" fill=\"none\" stroke=\"currentColor\"/>\n    <text dy=\"1.25em\" style=\"font-size: 0.8em; letter-spacing: 1px\">\n        <textPath xlink:href=\"#arrow-b7aeaba0e2704edf867b1b1d751af536-0-28\" class=\"displacy-label\" startOffset=\"50%\" side=\"left\" fill=\"currentColor\" text-anchor=\"middle\">aux</textPath>\n    </text>\n    <path class=\"displacy-arrowhead\" d=\"M2825.0,229.0 L2833.0,217.0 2817.0,217.0\" fill=\"currentColor\"/>\n</g>\n\n<g class=\"displacy-arrow\">\n    <path class=\"displacy-arc\" id=\"arrow-b7aeaba0e2704edf867b1b1d751af536-0-29\" stroke-width=\"2px\" d=\"M2950,227.0 C2950,182.0 3000.0,182.0 3000.0,227.0\" fill=\"none\" stroke=\"currentColor\"/>\n    <text dy=\"1.25em\" style=\"font-size: 0.8em; letter-spacing: 1px\">\n        <textPath xlink:href=\"#arrow-b7aeaba0e2704edf867b1b1d751af536-0-29\" class=\"displacy-label\" startOffset=\"50%\" side=\"left\" fill=\"currentColor\" text-anchor=\"middle\">compound</textPath>\n    </text>\n    <path class=\"displacy-arrowhead\" d=\"M2950,229.0 L2942,217.0 2958,217.0\" fill=\"currentColor\"/>\n</g>\n</svg></span>"
     },
     "metadata": {}
    },
    {
     "output_type": "display_data",
     "data": {
      "text/plain": "<IPython.core.display.HTML object>",
      "text/html": "<span class=\"tex2jax_ignore\"><div class=\"entities\" style=\"line-height: 2.5; direction: ltr\">くも膜下出血術後にみみが痛くて\n<mark class=\"entity\" style=\"background: #ddd; padding: 0.45em 0.6em; margin: 0 0.25em; line-height: 1; border-radius: 0.35em;\">\n    うつ病\n    <span style=\"font-size: 0.8em; font-weight: bold; line-height: 1; border-radius: 0.35em; text-transform: uppercase; vertical-align: middle; margin-left: 0.5rem\">Animal_Disease</span>\n</mark>\nも発症して子宮がんも持ってます。\n<mark class=\"entity\" style=\"background: #ddd; padding: 0.45em 0.6em; margin: 0 0.25em; line-height: 1; border-radius: 0.35em;\">\n    直腸がん\n    <span style=\"font-size: 0.8em; font-weight: bold; line-height: 1; border-radius: 0.35em; text-transform: uppercase; vertical-align: middle; margin-left: 0.5rem\">Product_Other</span>\n</mark>\nも発症してます。\n<mark class=\"entity\" style=\"background: #ddd; padding: 0.45em 0.6em; margin: 0 0.25em; line-height: 1; border-radius: 0.35em;\">\n    いぼ\n    <span style=\"font-size: 0.8em; font-weight: bold; line-height: 1; border-radius: 0.35em; text-transform: uppercase; vertical-align: middle; margin-left: 0.5rem\">Animal_Disease</span>\n</mark>\nや水いぼも持ってます。\n<mark class=\"entity\" style=\"background: #ddd; padding: 0.45em 0.6em; margin: 0 0.25em; line-height: 1; border-radius: 0.35em;\">\n    陰部ひりひり\n    <span style=\"font-size: 0.8em; font-weight: bold; line-height: 1; border-radius: 0.35em; text-transform: uppercase; vertical-align: middle; margin-left: 0.5rem\">Animal_Disease</span>\n</mark>\n</div></span>"
     },
     "metadata": {}
    },
    {
     "output_type": "execute_result",
     "data": {
      "text/plain": [
       "[{'i': 0, 'orth': 'くも膜', 'base': 'くも膜', 'head': 3, 'dep': 'compound'},\n",
       " {'i': 1, 'orth': '下', 'base': '下', 'head': 3, 'dep': 'compound'},\n",
       " {'i': 2, 'orth': '出血', 'base': '出血', 'head': 3, 'dep': 'compound'},\n",
       " {'i': 3, 'orth': '術後', 'base': '術後', 'head': 7, 'dep': 'obl'},\n",
       " {'i': 4, 'orth': 'に', 'base': 'に', 'head': 3, 'dep': 'case'},\n",
       " {'i': 5, 'orth': 'みみ', 'base': 'みみ', 'head': 7, 'dep': 'nsubj'},\n",
       " {'i': 6, 'orth': 'が', 'base': 'が', 'head': 5, 'dep': 'case'},\n",
       " {'i': 7, 'orth': '痛く', 'base': '痛い', 'head': 11, 'dep': 'advcl'},\n",
       " {'i': 8, 'orth': 'て', 'base': 'て', 'head': 7, 'dep': 'mark'},\n",
       " {'i': 9, 'orth': 'うつ病', 'base': 'うつ病', 'head': 11, 'dep': 'obl'},\n",
       " {'i': 10, 'orth': 'も', 'base': 'も', 'head': 9, 'dep': 'case'},\n",
       " {'i': 11, 'orth': '発症', 'base': '発症', 'head': 16, 'dep': 'advcl'},\n",
       " {'i': 12, 'orth': 'し', 'base': 'する', 'head': 11, 'dep': 'advcl'},\n",
       " {'i': 13, 'orth': 'て', 'base': 'て', 'head': 11, 'dep': 'mark'},\n",
       " {'i': 14, 'orth': '子宮がん', 'base': '子宮がん', 'head': 16, 'dep': 'obl'},\n",
       " {'i': 15, 'orth': 'も', 'base': 'も', 'head': 14, 'dep': 'case'},\n",
       " {'i': 16, 'orth': '持っ', 'base': '持つ', 'head': 16, 'dep': 'ROOT'},\n",
       " {'i': 17, 'orth': 'て', 'base': 'てる', 'head': 16, 'dep': 'aux'},\n",
       " {'i': 18, 'orth': 'ます', 'base': 'ます', 'head': 16, 'dep': 'aux'},\n",
       " {'i': 19, 'orth': '。', 'base': '。', 'head': 16, 'dep': 'punct'},\n",
       " {'i': 20, 'orth': '直腸がん', 'base': '直腸がん', 'head': 22, 'dep': 'obl'},\n",
       " {'i': 21, 'orth': 'も', 'base': 'も', 'head': 20, 'dep': 'case'},\n",
       " {'i': 22, 'orth': '発症', 'base': '発症', 'head': 22, 'dep': 'ROOT'},\n",
       " {'i': 23, 'orth': 'し', 'base': 'する', 'head': 22, 'dep': 'advcl'},\n",
       " {'i': 24, 'orth': 'て', 'base': 'てる', 'head': 22, 'dep': 'aux'},\n",
       " {'i': 25, 'orth': 'ます', 'base': 'ます', 'head': 22, 'dep': 'aux'},\n",
       " {'i': 26, 'orth': '。', 'base': '。', 'head': 22, 'dep': 'punct'},\n",
       " {'i': 27, 'orth': 'いぼ', 'base': 'いぼ', 'head': 29, 'dep': 'nmod'},\n",
       " {'i': 28, 'orth': 'や', 'base': 'や', 'head': 27, 'dep': 'case'},\n",
       " {'i': 29, 'orth': '水いぼ', 'base': '水いぼ', 'head': 31, 'dep': 'obl'},\n",
       " {'i': 30, 'orth': 'も', 'base': 'も', 'head': 29, 'dep': 'case'},\n",
       " {'i': 31, 'orth': '持っ', 'base': '持つ', 'head': 31, 'dep': 'ROOT'},\n",
       " {'i': 32, 'orth': 'て', 'base': 'てる', 'head': 31, 'dep': 'aux'},\n",
       " {'i': 33, 'orth': 'ます', 'base': 'ます', 'head': 31, 'dep': 'aux'},\n",
       " {'i': 34, 'orth': '。', 'base': '。', 'head': 31, 'dep': 'punct'},\n",
       " {'i': 35, 'orth': '陰部', 'base': '陰部', 'head': 36, 'dep': 'compound'},\n",
       " {'i': 36, 'orth': 'ひりひり', 'base': 'ひりひり', 'head': 36, 'dep': 'ROOT'}]"
      ]
     },
     "metadata": {},
     "execution_count": 8
    }
   ],
   "source": [
    "dependency.run(\"くも膜下出血術後にみみが痛くてうつ病も発症して子宮がんも持ってます。直腸がんも発症してます。いぼや水いぼも持ってます。陰部ひりひり\")"
   ]
  },
  {
   "cell_type": "code",
   "execution_count": null,
   "metadata": {},
   "outputs": [],
   "source": []
  }
 ]
}