{
 "metadata": {
  "language_info": {
   "codemirror_mode": {
    "name": "ipython",
    "version": 3
   },
   "file_extension": ".py",
   "mimetype": "text/x-python",
   "name": "python",
   "nbconvert_exporter": "python",
   "pygments_lexer": "ipython3",
   "version": "3.9.0-final"
  },
  "orig_nbformat": 2,
  "kernelspec": {
   "name": "python3",
   "display_name": "Python 3.9.0 64-bit ('.venv': venv)",
   "metadata": {
    "interpreter": {
     "hash": "9e52e1ae59ec44218fe88536e60449b800cc49bb0e90f6b59fc7bb529bbbaf1d"
    }
   }
  }
 },
 "nbformat": 4,
 "nbformat_minor": 2,
 "cells": [
  {
   "cell_type": "code",
   "execution_count": 5,
   "metadata": {},
   "outputs": [],
   "source": [
    "import ginza\n",
    "import spacy\n",
    "from spacy import displacy\n",
    "\n",
    "\n",
    "\n"
   ]
  },
  {
   "cell_type": "code",
   "execution_count": 6,
   "metadata": {},
   "outputs": [],
   "source": [
    "class DependencyAnalysis:\n",
    "    def __init__(self):\n",
    "        self.nlp = spacy.load('ja_ginza')\n",
    "\n",
    "    def run(self, text):\n",
    "        \"\"\"係り受け解析\"\"\"\n",
    "        doc = self.nlp(text)\n",
    "\n",
    "        token_head_list = []\n",
    "\n",
    "        for sent in doc.sents:\n",
    "            for token in sent:\n",
    "                token_head_list.append(\n",
    "                    {\"i\": token.i, \"orth\": token.orth_, \"base\": token.lemma_, \"head\": token.head.i, \"dep\": token.dep_})\n",
    "\n",
    "        displacy.render(doc, style=\"dep\", jupyter=True, options={'distance': 90})\n",
    "        displacy.render(doc, style=\"ent\", jupyter=True,)\n",
    "\n",
    "        return token_head_list\n",
    "\n"
   ]
  },
  {
   "cell_type": "code",
   "execution_count": 7,
   "metadata": {},
   "outputs": [],
   "source": [
    "dependency = DependencyAnalysis()\n",
    "\n"
   ]
  },
  {
   "cell_type": "code",
   "execution_count": 8,
   "metadata": {},
   "outputs": [
    {
     "output_type": "display_data",
     "data": {
      "text/plain": "<IPython.core.display.HTML object>",
      "text/html": "<span class=\"tex2jax_ignore\"><svg xmlns=\"http://www.w3.org/2000/svg\" xmlns:xlink=\"http://www.w3.org/1999/xlink\" xml:lang=\"ja\" id=\"404715b3aaf14de6a91c9eb96c00e936-0\" class=\"displacy\" width=\"1400\" height=\"407.0\" direction=\"ltr\" style=\"max-width: none; height: 407.0px; color: #000000; background: #ffffff; font-family: Arial; direction: ltr\">\n<text class=\"displacy-token\" fill=\"currentColor\" text-anchor=\"middle\" y=\"317.0\">\n    <tspan class=\"displacy-word\" fill=\"currentColor\" x=\"50\">妊娠</tspan>\n    <tspan class=\"displacy-tag\" dy=\"2em\" fill=\"currentColor\" x=\"50\">NOUN</tspan>\n</text>\n\n<text class=\"displacy-token\" fill=\"currentColor\" text-anchor=\"middle\" y=\"317.0\">\n    <tspan class=\"displacy-word\" fill=\"currentColor\" x=\"140\">4</tspan>\n    <tspan class=\"displacy-tag\" dy=\"2em\" fill=\"currentColor\" x=\"140\">NUM</tspan>\n</text>\n\n<text class=\"displacy-token\" fill=\"currentColor\" text-anchor=\"middle\" y=\"317.0\">\n    <tspan class=\"displacy-word\" fill=\"currentColor\" x=\"230\">週</tspan>\n    <tspan class=\"displacy-tag\" dy=\"2em\" fill=\"currentColor\" x=\"230\">NOUN</tspan>\n</text>\n\n<text class=\"displacy-token\" fill=\"currentColor\" text-anchor=\"middle\" y=\"317.0\">\n    <tspan class=\"displacy-word\" fill=\"currentColor\" x=\"320\">目</tspan>\n    <tspan class=\"displacy-tag\" dy=\"2em\" fill=\"currentColor\" x=\"320\">NOUN</tspan>\n</text>\n\n<text class=\"displacy-token\" fill=\"currentColor\" text-anchor=\"middle\" y=\"317.0\">\n    <tspan class=\"displacy-word\" fill=\"currentColor\" x=\"410\">で</tspan>\n    <tspan class=\"displacy-tag\" dy=\"2em\" fill=\"currentColor\" x=\"410\">ADP</tspan>\n</text>\n\n<text class=\"displacy-token\" fill=\"currentColor\" text-anchor=\"middle\" y=\"317.0\">\n    <tspan class=\"displacy-word\" fill=\"currentColor\" x=\"500\">は</tspan>\n    <tspan class=\"displacy-tag\" dy=\"2em\" fill=\"currentColor\" x=\"500\">ADP</tspan>\n</text>\n\n<text class=\"displacy-token\" fill=\"currentColor\" text-anchor=\"middle\" y=\"317.0\">\n    <tspan class=\"displacy-word\" fill=\"currentColor\" x=\"590\">ホルモン</tspan>\n    <tspan class=\"displacy-tag\" dy=\"2em\" fill=\"currentColor\" x=\"590\">NOUN</tspan>\n</text>\n\n<text class=\"displacy-token\" fill=\"currentColor\" text-anchor=\"middle\" y=\"317.0\">\n    <tspan class=\"displacy-word\" fill=\"currentColor\" x=\"680\">値</tspan>\n    <tspan class=\"displacy-tag\" dy=\"2em\" fill=\"currentColor\" x=\"680\">NOUN</tspan>\n</text>\n\n<text class=\"displacy-token\" fill=\"currentColor\" text-anchor=\"middle\" y=\"317.0\">\n    <tspan class=\"displacy-word\" fill=\"currentColor\" x=\"770\">が</tspan>\n    <tspan class=\"displacy-tag\" dy=\"2em\" fill=\"currentColor\" x=\"770\">ADP</tspan>\n</text>\n\n<text class=\"displacy-token\" fill=\"currentColor\" text-anchor=\"middle\" y=\"317.0\">\n    <tspan class=\"displacy-word\" fill=\"currentColor\" x=\"860\">十分</tspan>\n    <tspan class=\"displacy-tag\" dy=\"2em\" fill=\"currentColor\" x=\"860\">ADJ</tspan>\n</text>\n\n<text class=\"displacy-token\" fill=\"currentColor\" text-anchor=\"middle\" y=\"317.0\">\n    <tspan class=\"displacy-word\" fill=\"currentColor\" x=\"950\">で</tspan>\n    <tspan class=\"displacy-tag\" dy=\"2em\" fill=\"currentColor\" x=\"950\">AUX</tspan>\n</text>\n\n<text class=\"displacy-token\" fill=\"currentColor\" text-anchor=\"middle\" y=\"317.0\">\n    <tspan class=\"displacy-word\" fill=\"currentColor\" x=\"1040\">は</tspan>\n    <tspan class=\"displacy-tag\" dy=\"2em\" fill=\"currentColor\" x=\"1040\">ADP</tspan>\n</text>\n\n<text class=\"displacy-token\" fill=\"currentColor\" text-anchor=\"middle\" y=\"317.0\">\n    <tspan class=\"displacy-word\" fill=\"currentColor\" x=\"1130\">あり</tspan>\n    <tspan class=\"displacy-tag\" dy=\"2em\" fill=\"currentColor\" x=\"1130\">VERB</tspan>\n</text>\n\n<text class=\"displacy-token\" fill=\"currentColor\" text-anchor=\"middle\" y=\"317.0\">\n    <tspan class=\"displacy-word\" fill=\"currentColor\" x=\"1220\">ませ</tspan>\n    <tspan class=\"displacy-tag\" dy=\"2em\" fill=\"currentColor\" x=\"1220\">AUX</tspan>\n</text>\n\n<text class=\"displacy-token\" fill=\"currentColor\" text-anchor=\"middle\" y=\"317.0\">\n    <tspan class=\"displacy-word\" fill=\"currentColor\" x=\"1310\">ん</tspan>\n    <tspan class=\"displacy-tag\" dy=\"2em\" fill=\"currentColor\" x=\"1310\">AUX</tspan>\n</text>\n\n<g class=\"displacy-arrow\">\n    <path class=\"displacy-arc\" id=\"arrow-404715b3aaf14de6a91c9eb96c00e936-0-0\" stroke-width=\"2px\" d=\"M70,272.0 C70,137.0 305.0,137.0 305.0,272.0\" fill=\"none\" stroke=\"currentColor\"/>\n    <text dy=\"1.25em\" style=\"font-size: 0.8em; letter-spacing: 1px\">\n        <textPath xlink:href=\"#arrow-404715b3aaf14de6a91c9eb96c00e936-0-0\" class=\"displacy-label\" startOffset=\"50%\" side=\"left\" fill=\"currentColor\" text-anchor=\"middle\">compound</textPath>\n    </text>\n    <path class=\"displacy-arrowhead\" d=\"M70,274.0 L62,262.0 78,262.0\" fill=\"currentColor\"/>\n</g>\n\n<g class=\"displacy-arrow\">\n    <path class=\"displacy-arc\" id=\"arrow-404715b3aaf14de6a91c9eb96c00e936-0-1\" stroke-width=\"2px\" d=\"M160,272.0 C160,182.0 300.0,182.0 300.0,272.0\" fill=\"none\" stroke=\"currentColor\"/>\n    <text dy=\"1.25em\" style=\"font-size: 0.8em; letter-spacing: 1px\">\n        <textPath xlink:href=\"#arrow-404715b3aaf14de6a91c9eb96c00e936-0-1\" class=\"displacy-label\" startOffset=\"50%\" side=\"left\" fill=\"currentColor\" text-anchor=\"middle\">nummod</textPath>\n    </text>\n    <path class=\"displacy-arrowhead\" d=\"M160,274.0 L152,262.0 168,262.0\" fill=\"currentColor\"/>\n</g>\n\n<g class=\"displacy-arrow\">\n    <path class=\"displacy-arc\" id=\"arrow-404715b3aaf14de6a91c9eb96c00e936-0-2\" stroke-width=\"2px\" d=\"M250,272.0 C250,227.0 295.0,227.0 295.0,272.0\" fill=\"none\" stroke=\"currentColor\"/>\n    <text dy=\"1.25em\" style=\"font-size: 0.8em; letter-spacing: 1px\">\n        <textPath xlink:href=\"#arrow-404715b3aaf14de6a91c9eb96c00e936-0-2\" class=\"displacy-label\" startOffset=\"50%\" side=\"left\" fill=\"currentColor\" text-anchor=\"middle\">compound</textPath>\n    </text>\n    <path class=\"displacy-arrowhead\" d=\"M250,274.0 L242,262.0 258,262.0\" fill=\"currentColor\"/>\n</g>\n\n<g class=\"displacy-arrow\">\n    <path class=\"displacy-arc\" id=\"arrow-404715b3aaf14de6a91c9eb96c00e936-0-3\" stroke-width=\"2px\" d=\"M340,272.0 C340,2.0 860.0,2.0 860.0,272.0\" fill=\"none\" stroke=\"currentColor\"/>\n    <text dy=\"1.25em\" style=\"font-size: 0.8em; letter-spacing: 1px\">\n        <textPath xlink:href=\"#arrow-404715b3aaf14de6a91c9eb96c00e936-0-3\" class=\"displacy-label\" startOffset=\"50%\" side=\"left\" fill=\"currentColor\" text-anchor=\"middle\">obl</textPath>\n    </text>\n    <path class=\"displacy-arrowhead\" d=\"M340,274.0 L332,262.0 348,262.0\" fill=\"currentColor\"/>\n</g>\n\n<g class=\"displacy-arrow\">\n    <path class=\"displacy-arc\" id=\"arrow-404715b3aaf14de6a91c9eb96c00e936-0-4\" stroke-width=\"2px\" d=\"M340,272.0 C340,227.0 385.0,227.0 385.0,272.0\" fill=\"none\" stroke=\"currentColor\"/>\n    <text dy=\"1.25em\" style=\"font-size: 0.8em; letter-spacing: 1px\">\n        <textPath xlink:href=\"#arrow-404715b3aaf14de6a91c9eb96c00e936-0-4\" class=\"displacy-label\" startOffset=\"50%\" side=\"left\" fill=\"currentColor\" text-anchor=\"middle\">case</textPath>\n    </text>\n    <path class=\"displacy-arrowhead\" d=\"M385.0,274.0 L393.0,262.0 377.0,262.0\" fill=\"currentColor\"/>\n</g>\n\n<g class=\"displacy-arrow\">\n    <path class=\"displacy-arc\" id=\"arrow-404715b3aaf14de6a91c9eb96c00e936-0-5\" stroke-width=\"2px\" d=\"M340,272.0 C340,182.0 480.0,182.0 480.0,272.0\" fill=\"none\" stroke=\"currentColor\"/>\n    <text dy=\"1.25em\" style=\"font-size: 0.8em; letter-spacing: 1px\">\n        <textPath xlink:href=\"#arrow-404715b3aaf14de6a91c9eb96c00e936-0-5\" class=\"displacy-label\" startOffset=\"50%\" side=\"left\" fill=\"currentColor\" text-anchor=\"middle\">case</textPath>\n    </text>\n    <path class=\"displacy-arrowhead\" d=\"M480.0,274.0 L488.0,262.0 472.0,262.0\" fill=\"currentColor\"/>\n</g>\n\n<g class=\"displacy-arrow\">\n    <path class=\"displacy-arc\" id=\"arrow-404715b3aaf14de6a91c9eb96c00e936-0-6\" stroke-width=\"2px\" d=\"M610,272.0 C610,227.0 655.0,227.0 655.0,272.0\" fill=\"none\" stroke=\"currentColor\"/>\n    <text dy=\"1.25em\" style=\"font-size: 0.8em; letter-spacing: 1px\">\n        <textPath xlink:href=\"#arrow-404715b3aaf14de6a91c9eb96c00e936-0-6\" class=\"displacy-label\" startOffset=\"50%\" side=\"left\" fill=\"currentColor\" text-anchor=\"middle\">compound</textPath>\n    </text>\n    <path class=\"displacy-arrowhead\" d=\"M610,274.0 L602,262.0 618,262.0\" fill=\"currentColor\"/>\n</g>\n\n<g class=\"displacy-arrow\">\n    <path class=\"displacy-arc\" id=\"arrow-404715b3aaf14de6a91c9eb96c00e936-0-7\" stroke-width=\"2px\" d=\"M700,272.0 C700,182.0 840.0,182.0 840.0,272.0\" fill=\"none\" stroke=\"currentColor\"/>\n    <text dy=\"1.25em\" style=\"font-size: 0.8em; letter-spacing: 1px\">\n        <textPath xlink:href=\"#arrow-404715b3aaf14de6a91c9eb96c00e936-0-7\" class=\"displacy-label\" startOffset=\"50%\" side=\"left\" fill=\"currentColor\" text-anchor=\"middle\">nsubj</textPath>\n    </text>\n    <path class=\"displacy-arrowhead\" d=\"M700,274.0 L692,262.0 708,262.0\" fill=\"currentColor\"/>\n</g>\n\n<g class=\"displacy-arrow\">\n    <path class=\"displacy-arc\" id=\"arrow-404715b3aaf14de6a91c9eb96c00e936-0-8\" stroke-width=\"2px\" d=\"M700,272.0 C700,227.0 745.0,227.0 745.0,272.0\" fill=\"none\" stroke=\"currentColor\"/>\n    <text dy=\"1.25em\" style=\"font-size: 0.8em; letter-spacing: 1px\">\n        <textPath xlink:href=\"#arrow-404715b3aaf14de6a91c9eb96c00e936-0-8\" class=\"displacy-label\" startOffset=\"50%\" side=\"left\" fill=\"currentColor\" text-anchor=\"middle\">case</textPath>\n    </text>\n    <path class=\"displacy-arrowhead\" d=\"M745.0,274.0 L753.0,262.0 737.0,262.0\" fill=\"currentColor\"/>\n</g>\n\n<g class=\"displacy-arrow\">\n    <path class=\"displacy-arc\" id=\"arrow-404715b3aaf14de6a91c9eb96c00e936-0-9\" stroke-width=\"2px\" d=\"M880,272.0 C880,227.0 925.0,227.0 925.0,272.0\" fill=\"none\" stroke=\"currentColor\"/>\n    <text dy=\"1.25em\" style=\"font-size: 0.8em; letter-spacing: 1px\">\n        <textPath xlink:href=\"#arrow-404715b3aaf14de6a91c9eb96c00e936-0-9\" class=\"displacy-label\" startOffset=\"50%\" side=\"left\" fill=\"currentColor\" text-anchor=\"middle\">aux</textPath>\n    </text>\n    <path class=\"displacy-arrowhead\" d=\"M925.0,274.0 L933.0,262.0 917.0,262.0\" fill=\"currentColor\"/>\n</g>\n\n<g class=\"displacy-arrow\">\n    <path class=\"displacy-arc\" id=\"arrow-404715b3aaf14de6a91c9eb96c00e936-0-10\" stroke-width=\"2px\" d=\"M880,272.0 C880,182.0 1020.0,182.0 1020.0,272.0\" fill=\"none\" stroke=\"currentColor\"/>\n    <text dy=\"1.25em\" style=\"font-size: 0.8em; letter-spacing: 1px\">\n        <textPath xlink:href=\"#arrow-404715b3aaf14de6a91c9eb96c00e936-0-10\" class=\"displacy-label\" startOffset=\"50%\" side=\"left\" fill=\"currentColor\" text-anchor=\"middle\">case</textPath>\n    </text>\n    <path class=\"displacy-arrowhead\" d=\"M1020.0,274.0 L1028.0,262.0 1012.0,262.0\" fill=\"currentColor\"/>\n</g>\n\n<g class=\"displacy-arrow\">\n    <path class=\"displacy-arc\" id=\"arrow-404715b3aaf14de6a91c9eb96c00e936-0-11\" stroke-width=\"2px\" d=\"M880,272.0 C880,137.0 1115.0,137.0 1115.0,272.0\" fill=\"none\" stroke=\"currentColor\"/>\n    <text dy=\"1.25em\" style=\"font-size: 0.8em; letter-spacing: 1px\">\n        <textPath xlink:href=\"#arrow-404715b3aaf14de6a91c9eb96c00e936-0-11\" class=\"displacy-label\" startOffset=\"50%\" side=\"left\" fill=\"currentColor\" text-anchor=\"middle\">aux</textPath>\n    </text>\n    <path class=\"displacy-arrowhead\" d=\"M1115.0,274.0 L1123.0,262.0 1107.0,262.0\" fill=\"currentColor\"/>\n</g>\n\n<g class=\"displacy-arrow\">\n    <path class=\"displacy-arc\" id=\"arrow-404715b3aaf14de6a91c9eb96c00e936-0-12\" stroke-width=\"2px\" d=\"M880,272.0 C880,92.0 1210.0,92.0 1210.0,272.0\" fill=\"none\" stroke=\"currentColor\"/>\n    <text dy=\"1.25em\" style=\"font-size: 0.8em; letter-spacing: 1px\">\n        <textPath xlink:href=\"#arrow-404715b3aaf14de6a91c9eb96c00e936-0-12\" class=\"displacy-label\" startOffset=\"50%\" side=\"left\" fill=\"currentColor\" text-anchor=\"middle\">aux</textPath>\n    </text>\n    <path class=\"displacy-arrowhead\" d=\"M1210.0,274.0 L1218.0,262.0 1202.0,262.0\" fill=\"currentColor\"/>\n</g>\n\n<g class=\"displacy-arrow\">\n    <path class=\"displacy-arc\" id=\"arrow-404715b3aaf14de6a91c9eb96c00e936-0-13\" stroke-width=\"2px\" d=\"M880,272.0 C880,47.0 1305.0,47.0 1305.0,272.0\" fill=\"none\" stroke=\"currentColor\"/>\n    <text dy=\"1.25em\" style=\"font-size: 0.8em; letter-spacing: 1px\">\n        <textPath xlink:href=\"#arrow-404715b3aaf14de6a91c9eb96c00e936-0-13\" class=\"displacy-label\" startOffset=\"50%\" side=\"left\" fill=\"currentColor\" text-anchor=\"middle\">aux</textPath>\n    </text>\n    <path class=\"displacy-arrowhead\" d=\"M1305.0,274.0 L1313.0,262.0 1297.0,262.0\" fill=\"currentColor\"/>\n</g>\n</svg></span>"
     },
     "metadata": {}
    },
    {
     "output_type": "display_data",
     "data": {
      "text/plain": "<IPython.core.display.HTML object>",
      "text/html": "<span class=\"tex2jax_ignore\"><div class=\"entities\" style=\"line-height: 2.5; direction: ltr\">\n<mark class=\"entity\" style=\"background: #ddd; padding: 0.45em 0.6em; margin: 0 0.25em; line-height: 1; border-radius: 0.35em;\">\n    妊娠4週目\n    <span style=\"font-size: 0.8em; font-weight: bold; line-height: 1; border-radius: 0.35em; text-transform: uppercase; vertical-align: middle; margin-left: 0.5rem\">Period_Week</span>\n</mark>\nではホルモン値が十分ではありません</div></span>"
     },
     "metadata": {}
    },
    {
     "output_type": "execute_result",
     "data": {
      "text/plain": [
       "[{'i': 0, 'orth': '妊娠', 'base': '妊娠', 'head': 3, 'dep': 'compound'},\n",
       " {'i': 1, 'orth': '4', 'base': '4', 'head': 3, 'dep': 'nummod'},\n",
       " {'i': 2, 'orth': '週', 'base': '週', 'head': 3, 'dep': 'compound'},\n",
       " {'i': 3, 'orth': '目', 'base': '目', 'head': 9, 'dep': 'obl'},\n",
       " {'i': 4, 'orth': 'で', 'base': 'で', 'head': 3, 'dep': 'case'},\n",
       " {'i': 5, 'orth': 'は', 'base': 'は', 'head': 3, 'dep': 'case'},\n",
       " {'i': 6, 'orth': 'ホルモン', 'base': 'ホルモン', 'head': 7, 'dep': 'compound'},\n",
       " {'i': 7, 'orth': '値', 'base': '値', 'head': 9, 'dep': 'nsubj'},\n",
       " {'i': 8, 'orth': 'が', 'base': 'が', 'head': 7, 'dep': 'case'},\n",
       " {'i': 9, 'orth': '十分', 'base': '十分', 'head': 9, 'dep': 'ROOT'},\n",
       " {'i': 10, 'orth': 'で', 'base': 'だ', 'head': 9, 'dep': 'aux'},\n",
       " {'i': 11, 'orth': 'は', 'base': 'は', 'head': 9, 'dep': 'case'},\n",
       " {'i': 12, 'orth': 'あり', 'base': 'ある', 'head': 9, 'dep': 'aux'},\n",
       " {'i': 13, 'orth': 'ませ', 'base': 'ます', 'head': 9, 'dep': 'aux'},\n",
       " {'i': 14, 'orth': 'ん', 'base': 'ぬ', 'head': 9, 'dep': 'aux'}]"
      ]
     },
     "metadata": {},
     "execution_count": 8
    }
   ],
   "source": [
    "dependency.run(\"妊娠4週目ではホルモン値が十分ではありません\")"
   ]
  },
  {
   "cell_type": "code",
   "execution_count": null,
   "metadata": {},
   "outputs": [],
   "source": [
    "dependency.run(\"妊娠4週目ではホルモン値が十分ではありません\")"
   ]
  }
 ]
}