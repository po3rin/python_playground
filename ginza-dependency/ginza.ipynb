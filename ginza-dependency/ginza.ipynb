{
 "metadata": {
  "language_info": {
   "codemirror_mode": {
    "name": "ipython",
    "version": 3
   },
   "file_extension": ".py",
   "mimetype": "text/x-python",
   "name": "python",
   "nbconvert_exporter": "python",
   "pygments_lexer": "ipython3",
   "version": 3
  },
  "orig_nbformat": 2
 },
 "nbformat": 4,
 "nbformat_minor": 2,
 "cells": [
  {
   "cell_type": "code",
   "execution_count": null,
   "metadata": {},
   "outputs": [],
   "source": [
    "import ginza\n",
    "import spacy\n",
    "from spacy import displacy\n",
    "\n",
    "\n",
    "class DependencyAnalysis:\n",
    "    def __init__(self):\n",
    "        self.nlp = spacy.load('ja_ginza')\n",
    "\n",
    "    def run(self, text):\n",
    "        \"\"\"係り受け解析\"\"\"\n",
    "        doc = self.nlp(text)\n",
    "\n",
    "        token_head_list = []\n",
    "\n",
    "        for sent in doc.sents:\n",
    "            for token in sent:\n",
    "                token_head_list.append(\n",
    "                    {\"i\": token.i, \"orth\": token.orth_, \"base\": token.lemma_, \"head\": token.head.i, \"dep\": token.dep_})\n",
    "\n",
    "        displacy.render(doc, style='dep', jupyter=True, options={'distance': 90})\n",
    "\n",
    "        return token_head_list\n",
    "\n",
    "\n",
    "dependency = DependencyAnalysis()\n",
    "dependency.run(\"妊娠4週目ではホルモン値が十分ではありません\")\n"
   ]
  }
 ]
}