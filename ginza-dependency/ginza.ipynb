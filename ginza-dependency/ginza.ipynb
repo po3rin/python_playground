{
 "metadata": {
  "language_info": {
   "codemirror_mode": {
    "name": "ipython",
    "version": 3
   },
   "file_extension": ".py",
   "mimetype": "text/x-python",
   "name": "python",
   "nbconvert_exporter": "python",
   "pygments_lexer": "ipython3",
   "version": "3.9.0-final"
  },
  "orig_nbformat": 2,
  "kernelspec": {
   "name": "python3",
   "display_name": "Python 3",
   "language": "python"
  }
 },
 "nbformat": 4,
 "nbformat_minor": 2,
 "cells": [
  {
   "cell_type": "code",
   "execution_count": 6,
   "metadata": {},
   "outputs": [],
   "source": [
    "import ginza\n",
    "import spacy\n",
    "from spacy import displacy\n",
    "\n",
    "\n",
    "\n"
   ]
  },
  {
   "cell_type": "code",
   "execution_count": 59,
   "metadata": {},
   "outputs": [],
   "source": [
    "class DependencyAnalysis:\n",
    "    def __init__(self):\n",
    "        self.nlp = spacy.load('ja_ginza')\n",
    "\n",
    "    def run(self, text):\n",
    "        \"\"\"係り受け解析\"\"\"\n",
    "        doc = self.nlp(text)\n",
    "        \n",
    "        ent_words = []\n",
    "        for ent in doc.ents:\n",
    "            if ent.label_ == \"Animal_Part\":\n",
    "                ent_words.append(ent.text)\n",
    "\n",
    "        deps = []\n",
    "        for sent in doc.sents:\n",
    "            for token in sent:\n",
    "                if token.dep_ in [\"nsubj\", \"iobj\"]:\n",
    "                    if token.lemma_ in ent_words:\n",
    "                        deps.append({\"dep\":token.dep_ , \"s\": token.lemma_ , \"h\" :sent[token.head.i].lemma_})\n",
    "                        \n",
    "        print(deps)\n",
    "\n",
    "dependency = DependencyAnalysis()\n"
   ]
  },
  {
   "cell_type": "code",
   "execution_count": 61,
   "metadata": {},
   "outputs": [
    {
     "output_type": "execute_result",
     "data": {
      "text/plain": [
       "[]"
      ]
     },
     "metadata": {},
     "execution_count": 61
    }
   ],
   "source": [
    "dependency.run(\"胸が締め付けられる感じ\")\n",
    "dependency.run(\"胸がズキズキ\")\n",
    "dependency.run(\"胸がキュッと\")\n",
    "dependency.run(\"明日は晴れる\")"
   ]
  },
  {
   "cell_type": "code",
   "execution_count": null,
   "metadata": {},
   "outputs": [],
   "source": []
  }
 ]
}