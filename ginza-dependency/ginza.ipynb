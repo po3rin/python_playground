{
 "metadata": {
  "language_info": {
   "codemirror_mode": {
    "name": "ipython",
    "version": 3
   },
   "file_extension": ".py",
   "mimetype": "text/x-python",
   "name": "python",
   "nbconvert_exporter": "python",
   "pygments_lexer": "ipython3",
   "version": "3.9.0"
  },
  "orig_nbformat": 2,
  "kernelspec": {
   "name": "python3",
   "display_name": "Python 3.9.0 64-bit ('.venv': poetry)"
  },
  "interpreter": {
   "hash": "cc05f330fd211886cdb8b68fa6c8b24b37de2aa55e4fb20d8f171d24fd3b0ad4"
  }
 },
 "nbformat": 4,
 "nbformat_minor": 2,
 "cells": [
  {
   "cell_type": "code",
   "execution_count": 36,
   "source": [
    "import spacy\n",
    "from collections import defaultdict\n",
    "from spacy.pipeline.spancat import DEFAULT_SPANCAT_MODEL"
   ],
   "outputs": [],
   "metadata": {}
  },
  {
   "cell_type": "code",
   "execution_count": 38,
   "source": [
    "\n",
    "# print(nlp.pipe_names)\n",
    "# nlp.remove_pipe('bunsetu_recognizer')\n",
    "# nlp.remove_pipe('morphologizer')\n",
    "# nlp.remove_pipe('compound_splitter')\n",
    "# print(nlp.pipe_names)\n",
    "# for p in nlp.pipeline:\n",
    "#     print(p)\n"
   ],
   "outputs": [],
   "metadata": {}
  },
  {
   "cell_type": "code",
   "execution_count": 42,
   "source": [
    "nlp = spacy.load('ja_ginza')\n",
    "doc: str = nlp('名古屋大学の小路直先生')\n",
    "for e in doc.ents:\n",
    "    print(e)\n",
    "    print(e.label_)\n",
    "\n",
    "# doc: str = nlp('名古屋大学の林先生')\n",
    "# for e in doc.ents:\n",
    "#     print(e)\n",
    "#     print(e.label_)\n",
    "\n",
    "# nlp_electra = spacy.load('ja_ginza_electra')\n",
    "\n",
    "# doc: str = nlp_electra('名古屋大学の小路直先生')\n",
    "# for e in doc.ents:\n",
    "#     print(e)\n",
    "#     print(e.label_)\n",
    "\n",
    "for token in doc:\n",
    "    print(token.text, # テキスト\n",
    "        token.lemma_, # レンマ\n",
    "        token.pos_, # 品詞\n",
    "        token.tag_, # 品詞詳細\n",
    "        token.dep_, # 構文従属関係\n",
    "        token.shape_, # 正書法の特徴(x:文字,d:数値)\n",
    "        token.is_alpha, # 文字かどうか\n",
    "        token.is_stop) # ストップリストの一部かどうか"
   ],
   "outputs": [
    {
     "output_type": "stream",
     "name": "stdout",
     "text": [
      "名古屋大学\n",
      "School\n",
      "先生\n",
      "Position_Vocation\n",
      "名古屋大学 名古屋大学 PROPN 名詞-固有名詞-一般 nmod xxxx True False\n",
      "の の ADP 助詞-格助詞 case x True True\n",
      "小路 小路 PROPN 名詞-固有名詞-人名-姓 compound xx True False\n",
      "直 直 PROPN 名詞-固有名詞-人名-名 compound x True False\n",
      "先生 先生 NOUN 名詞-普通名詞-一般 ROOT xx True False\n"
     ]
    }
   ],
   "metadata": {}
  }
 ]
}