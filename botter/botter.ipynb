{
 "cells": [
  {
   "cell_type": "code",
   "execution_count": null,
   "source": [
    "import math\n",
    "\n",
    "import ccxt\n",
    "from crypto_data_fetcher.gmo import GmoFetcher\n",
    "import joblib\n",
    "import lightgbm as lgb\n",
    "import matplotlib.pyplot as plt\n",
    "import numba\n",
    "import numpy as np\n",
    "import pandas as pd\n",
    "from scipy.stats import ttest_1samp\n",
    "import seaborn as sns\n",
    "import talib\n",
    "\n",
    "from sklearn.ensemble import BaggingRegressor\n",
    "from sklearn.linear_model import RidgeCV\n",
    "from sklearn.model_selection import cross_val_score, KFold, TimeSeriesSplit"
   ],
   "outputs": [],
   "metadata": {}
  },
  {
   "cell_type": "code",
   "execution_count": null,
   "source": [
    "memory = joblib.Memory('/tmp/gmo_fetcher_cache', verbose=0)\n",
    "fetcher = GmoFetcher(memory=memory)\n",
    "\n",
    "# GMOコインのBTC/JPYレバレッジ取引 ( https://api.coin.z.com/data/trades/BTC_JPY/ )を取得\n",
    "# 初回ダウンロードは時間がかかる\n",
    "df = fetcher.fetch_ohlcv(\n",
    "    market='BTC_JPY', # 市場のシンボルを指定\n",
    "    interval_sec=15 * 60, # 足の間隔を秒単位で指定。この場合は15分足\n",
    ")\n",
    "\n",
    "# 実験に使うデータ期間を限定する\n",
    "df = df[df.index < pd.to_datetime('2021-04-01 00:00:00Z')]\n",
    "\n",
    "df.to_pickle('df_ohlcv.pkl')\n",
    "df"
   ],
   "outputs": [],
   "metadata": {}
  }
 ],
 "metadata": {
  "orig_nbformat": 4,
  "language_info": {
   "name": "python"
  }
 },
 "nbformat": 4,
 "nbformat_minor": 2
}