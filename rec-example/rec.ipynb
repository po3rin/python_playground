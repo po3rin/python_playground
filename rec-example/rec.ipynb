{
 "cells": [
  {
   "cell_type": "code",
   "execution_count": 7,
   "source": [
    "from sklearn.utils.extmath import randomized_svd\n",
    "from matplotlib import pyplot as plt\n",
    "from irspack.dataset import MovieLens1MDataManager\n",
    "from irspack.utils import df_to_sparse\n",
    "import scipy.sparse as sps\n",
    "import pandas as pd\n",
    "import numpy as np"
   ],
   "outputs": [],
   "metadata": {}
  },
  {
   "cell_type": "code",
   "execution_count": 3,
   "source": [
    "R = sps.csr_matrix([[1, 0, 1], [0, 1, 1], [1, 1, 1]])\n",
    "\n",
    "# SVD 実行\n",
    "O, Sigma, QT = randomized_svd(R, n_components=2)\n",
    "P = O * Sigma\n",
    "Q = QT.transpose()\n",
    "\n",
    "print(P.dot(QT))"
   ],
   "outputs": [
    {
     "output_type": "stream",
     "name": "stdout",
     "text": [
      "[[1.10355339 0.10355339 0.85355339]\n",
      " [0.10355339 1.10355339 0.85355339]\n",
      " [0.85355339 0.85355339 1.20710678]]\n"
     ]
    }
   ],
   "metadata": {}
  },
  {
   "cell_type": "code",
   "execution_count": 4,
   "source": [
    "figure, ax = plt.subplots()\n",
    "ax.set_aspect(\"equal\")\n",
    "for user_index, user_vector in enumerate(P):\n",
    "    ax.annotate(\n",
    "        f\"User {user_index+1}\",\n",
    "        xy=(0, 0),\n",
    "        xytext=user_vector,\n",
    "        arrowprops=dict(arrowstyle=\"<-\", color=\"blue\"),\n",
    "    )\n",
    "\n",
    "for item_index, item_vector in enumerate(Q):\n",
    "    ax.annotate(\n",
    "        f\"Item {item_index + 1}\",\n",
    "        xy=(0, 0),\n",
    "        xytext=item_vector,\n",
    "        arrowprops=dict(arrowstyle=\"<-\", color=\"orange\"),\n",
    "    )"
   ],
   "outputs": [
    {
     "output_type": "display_data",
     "data": {
      "image/png": "[encoded data removed]",
      "text/plain": [
       "<Figure size 432x288 with 1 Axes>"
      ]
     },
     "metadata": {
      "needs_background": "light"
     }
    }
   ],
   "metadata": {}
  },
  {
   "cell_type": "code",
   "execution_count": 13,
   "source": [
    "\n",
    "# 初回は公式サイトからダウンロードの許可を求められます。\n",
    "# data_manager = MovieLens1MDataManager()\n",
    "\n",
    "rating_df = pd.read_csv('example.csv')\n",
    "# rating_df は以下のような userId, movieId, rating, 閲覧時刻を表す4つの列からなります。\n",
    "print(rating_df.head(3))\n",
    "#    userId  movieId  rating           timestamp\n",
    "# 0       1     1193       5 2000-12-31 22:12:40\n",
    "# 1       1      661       3 2000-12-31 22:35:09\n",
    "# 2       1      914       3 2000-12-31 22:32:48\n",
    "\n",
    "\n",
    "# np.uniqueを用いた連載第一回の方法も参照のこと。\n",
    "# R の　第 i 行は userIdが user_ids[i] のユーザーの行動履歴に相当し、\n",
    "# 第 j 行は movieIdが movie_ids[i] のアイテムの視聴履歴に相当します。\n",
    "R, user_ids, movie_ids = df_to_sparse(rating_df, \"userId\", \"movieId\")\n",
    "\n",
    "# R は ユーザー数 U=6040, アイテム数 I = 3706の疎行列になります。\n",
    "print(repr(R))\n",
    "# <6040x3706 sparse matrix of type '<class 'numpy.float64'>'\n",
    "# \twith 1000209 stored elements in Compressed Sparse Row format>"
   ],
   "outputs": [
    {
     "output_type": "stream",
     "name": "stdout",
     "text": [
      "   userId  movieId  rating timestamp\n",
      "0       1        1       4  22:12:40\n",
      "1       1        3       5  22:12:40\n",
      "2       1        2       5  22:12:40\n",
      "<10x6 sparse matrix of type '<class 'numpy.float64'>'\n",
      "\twith 26 stored elements in Compressed Sparse Row format>\n"
     ]
    }
   ],
   "metadata": {}
  },
  {
   "cell_type": "code",
   "execution_count": 14,
   "source": [
    "O, Sigma, QT = randomized_svd(R, n_components=60)\n",
    "\n",
    "P = O * Sigma\n",
    "Q = QT.T"
   ],
   "outputs": [],
   "metadata": {}
  },
  {
   "cell_type": "code",
   "execution_count": 15,
   "source": [
    "user_index = 5\n",
    "user_id = user_ids[user_index]\n",
    "score = P[user_index].dot(QT)\n",
    "\n",
    "# ユーザーが既に閲覧済みのものは推薦されないように -np.inf (-∞)を詰める\n",
    "already_watched_indices = R[user_index].nonzero()[1]\n",
    "score[already_watched_indices] = -np.inf\n",
    "\n",
    "# argsortは「値が小さい順にそのインデックスを返す」関数なので、\n",
    "# 一番後ろから10件をとってくる。\n",
    "recommendation_indices = score.argsort()[::-1][:10]\n",
    "recommendation_ids = movie_ids[recommendation_indices]\n",
    "print(recommendation_ids)"
   ],
   "outputs": [
    {
     "output_type": "stream",
     "name": "stdout",
     "text": [
      "Int64Index([1, 3, 5, 6, 4, 2], dtype='int64')\n"
     ]
    }
   ],
   "metadata": {}
  }
 ],
 "metadata": {
  "orig_nbformat": 4,
  "language_info": {
   "name": "python",
   "version": "3.9.0",
   "mimetype": "text/x-python",
   "codemirror_mode": {
    "name": "ipython",
    "version": 3
   },
   "pygments_lexer": "ipython3",
   "nbconvert_exporter": "python",
   "file_extension": ".py"
  },
  "kernelspec": {
   "name": "python3",
   "display_name": "Python 3.9.0 64-bit ('3.9.0': pyenv)"
  },
  "interpreter": {
   "hash": "40b74fe4b278afccf8b2d6ce54a01944ba7d1e96e76649ff315d52430c807b2e"
  }
 },
 "nbformat": 4,
 "nbformat_minor": 2
}