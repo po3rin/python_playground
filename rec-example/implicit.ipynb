{
 "cells": [
  {
   "cell_type": "markdown",
   "source": [
    "### try\n",
    "https://www.benfrederickson.com/matrix-factorization/"
   ],
   "metadata": {}
  },
  {
   "cell_type": "code",
   "execution_count": 10,
   "source": [
    "import pandas as pd\n",
    "from scipy.sparse import coo_matrix, linalg\n",
    "import numpy\n",
    "from implicit.nearest_neighbours import (\n",
    "    bm25_weight,\n",
    ")\n",
    "from implicit.datasets.lastfm import get_lastfm"
   ],
   "outputs": [],
   "metadata": {}
  },
  {
   "cell_type": "code",
   "execution_count": 11,
   "source": [
    "artists, users, plays = get_lastfm()\n",
    "plays = plays.tocsr()"
   ],
   "outputs": [
    {
     "output_type": "stream",
     "name": "stderr",
     "text": [
      "184MB [01:20, 2.29MB/s]                           \n"
     ]
    }
   ],
   "metadata": {}
  },
  {
   "cell_type": "code",
   "execution_count": 12,
   "source": [
    "artist_factors, _, user_factors = linalg.svds(bm25_weight(plays), 50)"
   ],
   "outputs": [],
   "metadata": {}
  },
  {
   "cell_type": "code",
   "execution_count": 13,
   "source": [
    "class TopRelated(object):\n",
    "    def __init__(self, artist_factors):\n",
    "        # fully normalize artist_factors, so can compare with only the dot product\n",
    "        norms = numpy.linalg.norm(artist_factors, axis=-1)\n",
    "        self.factors = artist_factors / norms[:, numpy.newaxis]\n",
    "\n",
    "    def get_related(self, artistid, N=10):\n",
    "        scores = self.factors.dot(self.factors[artistid])\n",
    "        best = numpy.argpartition(scores, -N)[-N:]\n",
    "        return sorted(zip(best, scores[best]), key=lambda x: -x[1])"
   ],
   "outputs": [],
   "metadata": {}
  },
  {
   "cell_type": "code",
   "execution_count": 14,
   "source": [
    "tr = TopRelated(artist_factors)\n",
    "tr.get_related(12, N=5)"
   ],
   "outputs": [
    {
     "output_type": "execute_result",
     "data": {
      "text/plain": [
       "[(12, 1.0000000000000002),\n",
       " (79547, 0.9991338615841725),\n",
       " (286724, 0.999131341780894),\n",
       " (287417, 0.9988966941116743),\n",
       " (27373, 0.9988018733856024)]"
      ]
     },
     "metadata": {},
     "execution_count": 14
    }
   ],
   "metadata": {}
  }
 ],
 "metadata": {
  "orig_nbformat": 4,
  "language_info": {
   "name": "python",
   "version": "3.9.0",
   "mimetype": "text/x-python",
   "codemirror_mode": {
    "name": "ipython",
    "version": 3
   },
   "pygments_lexer": "ipython3",
   "nbconvert_exporter": "python",
   "file_extension": ".py"
  },
  "kernelspec": {
   "name": "python3",
   "display_name": "Python 3.9.0 64-bit ('3.9.0': pyenv)"
  },
  "interpreter": {
   "hash": "40b74fe4b278afccf8b2d6ce54a01944ba7d1e96e76649ff315d52430c807b2e"
  }
 },
 "nbformat": 4,
 "nbformat_minor": 2
}