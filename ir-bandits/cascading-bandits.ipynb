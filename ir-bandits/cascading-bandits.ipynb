{
 "cells": [
  {
   "cell_type": "markdown",
   "source": [
    "# Cascading Bandits実装\n",
    "\n",
    "WIP..."
   ],
   "metadata": {}
  },
  {
   "cell_type": "code",
   "execution_count": 2,
   "source": [
    "import math\n",
    "import random\n",
    "import pandas as pd\n",
    "import numpy as np\n",
    "from matplotlib import pyplot as plt\n",
    "from scipy.stats import bernoulli"
   ],
   "outputs": [
    {
     "output_type": "stream",
     "name": "stderr",
     "text": [
      "/Users/hiromu.nakamura/.pyenv/versions/3.9.0/lib/python3.9/site-packages/pandas/compat/__init__.py:124: UserWarning: Could not import the lzma module. Your installed Python is incomplete. Attempting to use lzma compression will result in a RuntimeError.\n",
      "  warnings.warn(msg)\n"
     ]
    }
   ],
   "metadata": {}
  },
  {
   "cell_type": "code",
   "execution_count": 37,
   "source": [
    "np.random.seed(0)"
   ],
   "outputs": [],
   "metadata": {}
  },
  {
   "cell_type": "code",
   "execution_count": 38,
   "source": [
    "class CascadingModelEnv():\n",
    "\tdef __init__(self, E: list[float]):\n",
    "\t\tself.E = E\n",
    "\n",
    "\tdef click(self, A: list[int]) -> int:\n",
    "\t\tfor i, item in enumerate(A):\n",
    "\t\t\tif self.E[item] > np.random.random():\n",
    "\t\t\t\treturn i+1\n",
    "\t\treturn -1\n",
    "\t\n",
    "\tdef opt(self, k: int) -> list[int]:\n",
    "\t\treturn sorted(range(len(self.E)), key=lambda i: self.E[i], reverse=True)[:k]"
   ],
   "outputs": [],
   "metadata": {}
  },
  {
   "cell_type": "code",
   "execution_count": 39,
   "source": [
    "## test\n",
    "E = [0, 0.1, 0.2, 0.3]\n",
    "env = CascadingModelEnv(E)\n",
    "\n",
    "results = []\n",
    "for i in range(1000):\n",
    "\tresults.append(env.click([1,2,3]))\n",
    "\n",
    "print(env.opt(k=2))\n",
    "\n",
    "plt.xlabel(\"item_index\")\n",
    "plt.ylabel(\"click_freq\")\n",
    "plt.hist(results)"
   ],
   "outputs": [
    {
     "output_type": "stream",
     "name": "stdout",
     "text": [
      "[3, 2]\n"
     ]
    },
    {
     "output_type": "execute_result",
     "data": {
      "text/plain": [
       "(array([495.,   0.,   0.,   0.,   0., 104.,   0., 171.,   0., 230.]),\n",
       " array([-1. , -0.6, -0.2,  0.2,  0.6,  1. ,  1.4,  1.8,  2.2,  2.6,  3. ]),\n",
       " <BarContainer object of 10 artists>)"
      ]
     },
     "metadata": {},
     "execution_count": 39
    },
    {
     "output_type": "display_data",
     "data": {
      "image/png": "[encoded data removed]",
      "text/plain": [
       "<Figure size 432x288 with 1 Axes>"
      ]
     },
     "metadata": {
      "needs_background": "light"
     }
    }
   ],
   "metadata": {}
  },
  {
   "cell_type": "code",
   "execution_count": 40,
   "source": [
    "class CascadeUCBAgent(object):\n",
    "  def __init__(self, E: list[float], p: float):\n",
    "    self.t = 1\n",
    "    self.counts = [1 for _ in range(len(E))]\n",
    "    self.weights = [bernoulli.rvs(p=p) for _ in range(len(E))]\n",
    "\n",
    "  def ucb(self, e: int):\n",
    "    return self.weights[e] + math.sqrt(1.5*math.log(self.t - 1)/self.counts[e])\n",
    "\n",
    "  def get_list(self, k: int) -> list[int]:\n",
    "    self.t += 1\n",
    "    ucbs = [self.ucb(e) for e in range(len(E))]\n",
    "    return sorted(range(len(ucbs)), key=lambda i: ucbs[i], reverse=True)[:k]\n",
    "\n",
    "  def is_click(self, click: int, k: int) -> int:\n",
    "    return 1 if click == k else 0\n",
    "\n",
    "  def observe(self, a: list[int], click : int) -> None:\n",
    "    if click == -1:\n",
    "      click = len(a)\n",
    "\n",
    "    for i in range(min(len(a), click)):\n",
    "      e = a[i]\n",
    "      before_count = self.counts[e]\n",
    "      self.counts[e] += 1\n",
    "      self.weights[e] = ( (before_count * self.weights[e]) + self.is_click(click, i+1) ) / self.counts[e]"
   ],
   "outputs": [],
   "metadata": {}
  },
  {
   "cell_type": "code",
   "execution_count": 63,
   "source": [
    "## debug\n",
    "\n",
    "# E = [0.4, 0.2, 0.2, 0.1, 0.1, 0.3, 0.2, 0.1, 0.3, 0.1]\n",
    "# env = CascadingModelEnv(E=E)\n",
    "# optimal = env.opt(k=3)\n",
    "# print(f'optional list: {optimal}')\n",
    "\n",
    "# agent = CascadeUCBAgent(E=E, p=0.2)\n",
    "\n",
    "# for i in range(3):\n",
    "# \tprint(f'=======t={i}======')\n",
    "# \tprint(f'counts={agent.counts}')\n",
    "# \tprint(f'weights={agent.weights}')\n",
    "\n",
    "# \ta = agent.get_list(k=3)\n",
    "# \tprint(f'A={a}')\n",
    "# \tclick = env.click(a)\n",
    "# \tprint(f'C_{i}={click}')\n",
    "# \tagent.observe(a, click)\n",
    "\n",
    "# print('-------------')\n",
    "# print(agent.counts)\n",
    "# print(agent.weights)\n",
    "# agent.get_list(k=3)"
   ],
   "outputs": [],
   "metadata": {}
  },
  {
   "cell_type": "code",
   "execution_count": 62,
   "source": [
    "E = [0.4, 0.2, 0.2, 0.1, 0.1, 0.3, 0.2, 0.1, 0.3, 0.1]\n",
    "env = CascadingModelEnv(E=E)\n",
    "optimal = env.opt(k=3)\n",
    "print(f'optional list: {optimal}')\n",
    "\n",
    "agent = CascadeUCBAgent(E=E, p=0.2)\n",
    "\n",
    "for i in range(10000):\n",
    "\ta = agent.get_list(k=3)\n",
    "\tclick = env.click(a)\n",
    "\tagent.observe(a, click)\n",
    "\n",
    "print(f'counts: {agent.counts}')\n",
    "print(f'weights: {agent.weights}')\n",
    "print(f'A: {agent.get_list(k=3)}')"
   ],
   "outputs": [
    {
     "output_type": "stream",
     "name": "stdout",
     "text": [
      "optional list: [0, 5, 8]\n",
      "counts: [7266, 1224, 1020, 774, 848, 4419, 720, 603, 4601, 457]\n",
      "weights: [0.4832094687586017, 0.4199346405228758, 0.4098039215686273, 0.39276485788113663, 0.39858490566037724, 0.470694727313872, 0.3875000000000002, 0.3747927031509123, 0.4716366007389698, 0.3522975929978116]\n",
      "A: [0, 5, 8]\n"
     ]
    }
   ],
   "metadata": {}
  },
  {
   "cell_type": "code",
   "execution_count": 65,
   "source": [
    "class MultiClicksModelEnv():\n",
    "\tdef __init__(self, E: list[float]):\n",
    "\t\tself.E = E\n",
    "\n",
    "\tdef clicks(self, A: list[int]) -> list[int]:\n",
    "\t\tclicks = []\n",
    "\t\tfor i, item in enumerate(A):\n",
    "\t\t\tif self.E[item] > np.random.random():\n",
    "\t\t\t\tclicks.append(i+1)\n",
    "\t\treturn clicks\n",
    "\t\n",
    "\tdef opt(self, k: int) -> list[int]:\n",
    "\t\treturn sorted(range(len(self.E)), key=lambda i: self.E[i], reverse=True)[:k]"
   ],
   "outputs": [],
   "metadata": {}
  },
  {
   "cell_type": "code",
   "execution_count": 56,
   "source": [
    "class CombCascadeAgent(object):\n",
    "  def __init__(self, E: list[float], p: float):\n",
    "    self.t = 1\n",
    "    self.counts = [1 for _ in range(len(E))]\n",
    "    self.weights = [bernoulli.rvs(p=p) for _ in range(len(E))]\n",
    "\n",
    "  def ucb(self, e: int) -> float:\n",
    "    return min(self.weights[e] + math.sqrt(1.5*math.log(self.t - 1)/self.counts[e]), 1)\n",
    "\n",
    "  def get_list(self, k: int) -> list[int]:\n",
    "    self.t += 1\n",
    "    ucbs = [self.ucb(e) for e in range(len(E))]\n",
    "    return sorted(range(len(ucbs)), key=lambda i: ucbs[i], reverse=True)[:k]\n",
    "\n",
    "  def before_no_click(self, no_click: int, k: int) -> int:\n",
    "    return 1 if k < no_click else 0\n",
    "\n",
    "  def observe(self, a: list[int], no_click_feedback : int) -> None:\n",
    "    if no_click_feedback == -1:\n",
    "      no_click_feedback = len(a)\n",
    "\n",
    "    for i in range(min(len(a), no_click_feedback)):\n",
    "      e = a[i]\n",
    "      before_count = self.counts[e]\n",
    "      self.counts[e] += 1\n",
    "      self.weights[e] = ( (before_count * self.weights[e]) + self.before_no_click(no_click_feedback, i+1) ) / self.counts[e]"
   ],
   "outputs": [],
   "metadata": {}
  },
  {
   "cell_type": "code",
   "execution_count": 4,
   "source": [
    "def first_no_click(a: list[int], clicks: list[int]) -> int:\n",
    "\tif clicks == []:\n",
    "\t\treturn 1\n",
    "\n",
    "\tfor i in range(1, len(a)+1):\n",
    "\t\ttry:\n",
    "\t\t\tc = clicks[i-1]\n",
    "\t\texcept IndexError:\n",
    "\t\t\treturn i\n",
    "\t\tif c == i:\n",
    "\t\t\tcontinue\n",
    "\t\treturn i\n",
    "\treturn -1\n",
    "\n",
    "## debug\n",
    "# print(first_no_click([4,3,5], [1, 3]))\n",
    "# print(first_no_click([4,3,5], [1, 2]))\n",
    "# print(first_no_click([4,3,5], [2]))"
   ],
   "outputs": [],
   "metadata": {}
  },
  {
   "cell_type": "code",
   "execution_count": 73,
   "source": [
    "E = [0.4, 0.6, 0.7, 0.2, 0.4, 0.6, 0.1, 0.1, 0.3, 0.1]\n",
    "env = MultiClicksModelEnv(E=E)\n",
    "optimal = env.opt(k=3)\n",
    "print(f'optional list: {optimal}')\n",
    "\n",
    "agent = CombCascadeAgent(E=E, p=0.2)\n",
    "\n",
    "for i in range(10000):\n",
    "\ta = agent.get_list(k=3)\n",
    "\tclicks = env.clicks(a)\n",
    "\tno_click_feedback = first_no_click(a, clicks)\n",
    "\tagent.observe(a, no_click_feedback)\n",
    "\n",
    "print(f'counts: {agent.counts}')\n",
    "print(f'weights: {agent.weights}')\n",
    "print(f'A: {agent.get_list(k=3)}')"
   ],
   "outputs": [
    {
     "output_type": "stream",
     "name": "stdout",
     "text": [
      "optional list: [2, 1, 5]\n",
      "counts: [553, 6910, 9968, 496, 485, 701, 485, 520, 485, 485]\n",
      "weights: [0.010849909584086787, 0.5981186685962342, 0.6942215088282488, 0.002016129032258062, 0.0, 0.028530670470756053, 0.0, 0.0057692307692307635, 0.0, 0.0]\n",
      "A: [2, 1, 5]\n"
     ]
    }
   ],
   "metadata": {}
  },
  {
   "cell_type": "code",
   "execution_count": 57,
   "source": [
    "tags = {'Rust': 0.3, 'Python': 0.2, 'Go': 0.1, 'Ruby': 0.05}\n",
    "\n",
    "def gen_items(tags: dict[str, float])-> pd.DataFrame:\n",
    "  tag_ids = list(tags.keys())\n",
    "  weights = []\n",
    "  features = []\n",
    "  for i in range(10000):\n",
    "    n = random.randint(1, 2)\n",
    "    tag_samples = random.sample(tag_ids, n)\n",
    "    w = 0\n",
    "    for t in tag_samples:\n",
    "      w += tags[t]\n",
    "    weights.append(w)\n",
    "    features.append(tag_samples)\n",
    "\n",
    "  df = pd.DataFrame({'id': list(range(len(weights))),\n",
    "                      'weight' : weights,\n",
    "                      'tags' : features})\n",
    "\n",
    "  df = df.explode(\"tags\")\n",
    "  df = df.pivot_table(index=['id', 'weight'], columns=['tags'], aggfunc=[len], fill_value=0)\n",
    "  df = df.rename_axis([None, None], axis=1)\n",
    "  df.columns = df.columns.droplevel()\n",
    "  return  df.reset_index()\n",
    "\n",
    "gen_items(tags)"
   ],
   "outputs": [
    {
     "output_type": "execute_result",
     "data": {
      "text/html": [
       "<div>\n",
       "<style scoped>\n",
       "    .dataframe tbody tr th:only-of-type {\n",
       "        vertical-align: middle;\n",
       "    }\n",
       "\n",
       "    .dataframe tbody tr th {\n",
       "        vertical-align: top;\n",
       "    }\n",
       "\n",
       "    .dataframe thead th {\n",
       "        text-align: right;\n",
       "    }\n",
       "</style>\n",
       "<table border=\"1\" class=\"dataframe\">\n",
       "  <thead>\n",
       "    <tr style=\"text-align: right;\">\n",
       "      <th></th>\n",
       "      <th>id</th>\n",
       "      <th>weight</th>\n",
       "      <th>Go</th>\n",
       "      <th>Python</th>\n",
       "      <th>Ruby</th>\n",
       "      <th>Rust</th>\n",
       "    </tr>\n",
       "  </thead>\n",
       "  <tbody>\n",
       "    <tr>\n",
       "      <th>0</th>\n",
       "      <td>0</td>\n",
       "      <td>0.20</td>\n",
       "      <td>0</td>\n",
       "      <td>1</td>\n",
       "      <td>0</td>\n",
       "      <td>0</td>\n",
       "    </tr>\n",
       "    <tr>\n",
       "      <th>1</th>\n",
       "      <td>1</td>\n",
       "      <td>0.10</td>\n",
       "      <td>1</td>\n",
       "      <td>0</td>\n",
       "      <td>0</td>\n",
       "      <td>0</td>\n",
       "    </tr>\n",
       "    <tr>\n",
       "      <th>2</th>\n",
       "      <td>2</td>\n",
       "      <td>0.15</td>\n",
       "      <td>1</td>\n",
       "      <td>0</td>\n",
       "      <td>1</td>\n",
       "      <td>0</td>\n",
       "    </tr>\n",
       "    <tr>\n",
       "      <th>3</th>\n",
       "      <td>3</td>\n",
       "      <td>0.25</td>\n",
       "      <td>0</td>\n",
       "      <td>1</td>\n",
       "      <td>1</td>\n",
       "      <td>0</td>\n",
       "    </tr>\n",
       "    <tr>\n",
       "      <th>4</th>\n",
       "      <td>4</td>\n",
       "      <td>0.50</td>\n",
       "      <td>0</td>\n",
       "      <td>1</td>\n",
       "      <td>0</td>\n",
       "      <td>1</td>\n",
       "    </tr>\n",
       "    <tr>\n",
       "      <th>...</th>\n",
       "      <td>...</td>\n",
       "      <td>...</td>\n",
       "      <td>...</td>\n",
       "      <td>...</td>\n",
       "      <td>...</td>\n",
       "      <td>...</td>\n",
       "    </tr>\n",
       "    <tr>\n",
       "      <th>9995</th>\n",
       "      <td>9995</td>\n",
       "      <td>0.30</td>\n",
       "      <td>0</td>\n",
       "      <td>0</td>\n",
       "      <td>0</td>\n",
       "      <td>1</td>\n",
       "    </tr>\n",
       "    <tr>\n",
       "      <th>9996</th>\n",
       "      <td>9996</td>\n",
       "      <td>0.20</td>\n",
       "      <td>0</td>\n",
       "      <td>1</td>\n",
       "      <td>0</td>\n",
       "      <td>0</td>\n",
       "    </tr>\n",
       "    <tr>\n",
       "      <th>9997</th>\n",
       "      <td>9997</td>\n",
       "      <td>0.15</td>\n",
       "      <td>1</td>\n",
       "      <td>0</td>\n",
       "      <td>1</td>\n",
       "      <td>0</td>\n",
       "    </tr>\n",
       "    <tr>\n",
       "      <th>9998</th>\n",
       "      <td>9998</td>\n",
       "      <td>0.10</td>\n",
       "      <td>1</td>\n",
       "      <td>0</td>\n",
       "      <td>0</td>\n",
       "      <td>0</td>\n",
       "    </tr>\n",
       "    <tr>\n",
       "      <th>9999</th>\n",
       "      <td>9999</td>\n",
       "      <td>0.30</td>\n",
       "      <td>0</td>\n",
       "      <td>0</td>\n",
       "      <td>0</td>\n",
       "      <td>1</td>\n",
       "    </tr>\n",
       "  </tbody>\n",
       "</table>\n",
       "<p>10000 rows × 6 columns</p>\n",
       "</div>"
      ],
      "text/plain": [
       "        id  weight  Go  Python  Ruby  Rust\n",
       "0        0    0.20   0       1     0     0\n",
       "1        1    0.10   1       0     0     0\n",
       "2        2    0.15   1       0     1     0\n",
       "3        3    0.25   0       1     1     0\n",
       "4        4    0.50   0       1     0     1\n",
       "...    ...     ...  ..     ...   ...   ...\n",
       "9995  9995    0.30   0       0     0     1\n",
       "9996  9996    0.20   0       1     0     0\n",
       "9997  9997    0.15   1       0     1     0\n",
       "9998  9998    0.10   1       0     0     0\n",
       "9999  9999    0.30   0       0     0     1\n",
       "\n",
       "[10000 rows x 6 columns]"
      ]
     },
     "metadata": {},
     "execution_count": 57
    }
   ],
   "metadata": {}
  },
  {
   "cell_type": "code",
   "execution_count": null,
   "source": [
    "class CascadeLinTSAgent(object):\n",
    "  def __init__(self, d: int, sigma: float):\n",
    "    self.t = 1\n",
    "    self.sigma = sigma\n",
    "    self.M = np.eye(d)\n",
    "    self.M = np.zeros(d)\n",
    "\n",
    "  def sample_theta(theta, m) -> float:\n",
    "    return 0\n",
    "\n",
    "  def get_list(self, k: int) -> list[int]:\n",
    "    self.t += 1\n",
    "    m_t = self.M.T()\n",
    "    before_theta = (self.sigma**-2) * m_t * self.B\n",
    "    weiths = [self.sample_theta(before_theta, m_t) for e in range(len(E))]\n",
    "    return sorted(range(len(weiths)), key=lambda i: weiths[i], reverse=True)[:k]\n",
    "\n",
    "  def is_click(self, click: int, k: int) -> int:\n",
    "    return 1 if click == k else 0\n",
    "\n",
    "  def observe(self, a: list[int], click : int) -> None:\n",
    "    if click == -1:\n",
    "      click = len(a)\n",
    "\n",
    "    for i in range(min(len(a), click)):\n",
    "      e = a[i]\n",
    "      before_count = self.counts[e]\n",
    "      self.counts[e] += 1\n",
    "      self.weights[e] = ( (before_count * self.weights[e]) + self.is_click(click, i+1) ) / self.counts[e]"
   ],
   "outputs": [],
   "metadata": {}
  }
 ],
 "metadata": {
  "orig_nbformat": 4,
  "language_info": {
   "name": "python",
   "version": "3.9.0",
   "mimetype": "text/x-python",
   "codemirror_mode": {
    "name": "ipython",
    "version": 3
   },
   "pygments_lexer": "ipython3",
   "nbconvert_exporter": "python",
   "file_extension": ".py"
  },
  "kernelspec": {
   "name": "python3",
   "display_name": "Python 3.9.0 64-bit ('3.9.0': pyenv)"
  },
  "interpreter": {
   "hash": "40b74fe4b278afccf8b2d6ce54a01944ba7d1e96e76649ff315d52430c807b2e"
  }
 },
 "nbformat": 4,
 "nbformat_minor": 2
}