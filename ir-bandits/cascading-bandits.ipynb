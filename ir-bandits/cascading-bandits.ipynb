{
 "cells": [
  {
   "cell_type": "markdown",
   "source": [
    "# Cascade Click Model に適用する Bandit Algorithms 実装"
   ],
   "metadata": {}
  },
  {
   "cell_type": "code",
   "execution_count": 1,
   "source": [
    "import math\n",
    "import random\n",
    "from abc import ABC, abstractmethod\n",
    "import pandas as pd\n",
    "import numpy as np\n",
    "from matplotlib import pyplot as plt\n",
    "from scipy.stats import bernoulli\n",
    "from tqdm import tqdm"
   ],
   "outputs": [
    {
     "output_type": "stream",
     "name": "stderr",
     "text": [
      "/Users/hiromu.nakamura/.pyenv/versions/3.9.0/lib/python3.9/site-packages/pandas/compat/__init__.py:124: UserWarning: Could not import the lzma module. Your installed Python is incomplete. Attempting to use lzma compression will result in a RuntimeError.\n",
      "  warnings.warn(msg)\n"
     ]
    }
   ],
   "metadata": {}
  },
  {
   "cell_type": "code",
   "execution_count": 2,
   "source": [
    "np.random.seed(0)"
   ],
   "outputs": [],
   "metadata": {}
  },
  {
   "cell_type": "code",
   "execution_count": 3,
   "source": [
    "class Agent(ABC):\n",
    "\t@abstractmethod\n",
    "\tdef get_list(self, k: int) -> list[int]:\n",
    "\t\tpass\n",
    "\n",
    "\t@abstractmethod\n",
    "\tdef observe(self, a: list[int], click : int) -> None:\n",
    "\t\tpass\n",
    "\n",
    "class Env(ABC):\n",
    "\t@abstractmethod\n",
    "\tdef click(self, A: list[int]) -> int:\n",
    "\t\tpass\n",
    "\t\n",
    "\t@abstractmethod\n",
    "\tdef weights(self, A: list[int]) -> list[float]:\n",
    "\t\tpass\n",
    "\n",
    "\t@abstractmethod\n",
    "\tdef optimal_weights(self, k: int) -> list[float]:\n",
    "\t\tpass"
   ],
   "outputs": [],
   "metadata": {}
  },
  {
   "cell_type": "code",
   "execution_count": 4,
   "source": [
    "class CascadingModelEnv(Env):\n",
    "\tdef __init__(self, E: list[float]):\n",
    "\t\tself.E = E\n",
    "\n",
    "\tdef click(self, A: list[int]) -> int:\n",
    "\t\tfor i, item in enumerate(A):\n",
    "\t\t\tif self.E[item] > np.random.random():\n",
    "\t\t\t\treturn i+1\n",
    "\t\treturn -1\n",
    "\n",
    "\tdef weights(self, A: list[int]) -> list[float]:\n",
    "\t\treturn [self.E[i] for i in A]\n",
    "\n",
    "\tdef optimal_weights(self, k: int) -> list[float]:\n",
    "\t\treturn sorted(E, reverse=True)[:k]"
   ],
   "outputs": [],
   "metadata": {}
  },
  {
   "cell_type": "code",
   "execution_count": 5,
   "source": [
    "def f(weights: list[float]) -> float:\n",
    "\tv = 1\n",
    "\tfor w in weights:\n",
    "\t\tv *= (1-w)\n",
    "\treturn 1-v\n",
    "\n",
    "def regret(optimal_weights: list[float], weights: list[float]) -> float:\n",
    "\treturn f(optimal_weights) - f(weights)"
   ],
   "outputs": [],
   "metadata": {}
  },
  {
   "cell_type": "code",
   "execution_count": 6,
   "source": [
    "def simulate(agent: Agent, env: Env, k: int, steps: int) -> list[float]:\n",
    "\toptimal_weights = env.optimal_weights(k=k)\n",
    "\n",
    "\tcumulative_regret = 0\n",
    "\tregret_cumulative_history = []\n",
    "\tfor i in tqdm(range(steps)):\n",
    "\t\ta = agent.get_list(k=k)\n",
    "\t\tclick = env.click(a)\n",
    "\t\tagent.observe(a, click)\n",
    "\n",
    "\t\tsetting_weights = env.weights(a)\n",
    "\t\tcumulative_regret += regret(optimal_weights, setting_weights)\n",
    "\t\tregret_cumulative_history.append(cumulative_regret)\n",
    "\n",
    "\treturn regret_cumulative_history"
   ],
   "outputs": [],
   "metadata": {}
  },
  {
   "cell_type": "markdown",
   "source": [
    "## CascadeUCB1"
   ],
   "metadata": {}
  },
  {
   "cell_type": "code",
   "execution_count": 7,
   "source": [
    "class CascadeUCB1Agent(Agent):\n",
    "  def __init__(self, E: list[float], p: float):\n",
    "    self.t = 1\n",
    "    self.counts = [1 for _ in range(len(E))]\n",
    "    self.weights = [bernoulli.rvs(p=p) for _ in range(len(E))]\n",
    "\n",
    "  def ucb(self, e: int):\n",
    "    return self.weights[e] + math.sqrt(1.5*math.log(self.t - 1)/self.counts[e])\n",
    "\n",
    "  def get_list(self, k: int) -> list[int]:\n",
    "    self.t += 1\n",
    "    ucbs = [self.ucb(e) for e in range(len(E))]\n",
    "    return sorted(range(len(ucbs)), key=lambda i: ucbs[i], reverse=True)[:k]\n",
    "\n",
    "  def is_click(self, click: int, k: int) -> int:\n",
    "    return 1 if click == k else 0\n",
    "\n",
    "  def observe(self, a: list[int], click : int) -> None:\n",
    "    if click == -1:\n",
    "      click = len(a)\n",
    "\n",
    "    for i in range(min(len(a), click)):\n",
    "      e = a[i]\n",
    "      before_count = self.counts[e]\n",
    "      self.counts[e] += 1\n",
    "      self.weights[e] = ( (before_count * self.weights[e]) + self.is_click(click, i+1) ) / self.counts[e]"
   ],
   "outputs": [],
   "metadata": {}
  },
  {
   "cell_type": "code",
   "execution_count": 8,
   "source": [
    "# E = [0.3, 0.2, 0.25, 0.1, 0.1, 0.24, 0.2, 0.1, 0.21, 0.1]\n",
    "# env = CascadingModelEnv(E=E)\n",
    "# agent = CascadeUCB1Agent(E=E, p=0.2)\n",
    "\n",
    "# regret_cumulative_history = simulate(agent=agent, env=env, k=3, steps=100000)\n",
    "\n",
    "# plt.xlabel(\"step t\")\n",
    "# plt.ylabel(\"Regret\")\n",
    "# plt.plot(regret_cumulative_history)"
   ],
   "outputs": [],
   "metadata": {}
  },
  {
   "cell_type": "markdown",
   "source": [
    "## CascadeLinTS"
   ],
   "metadata": {}
  },
  {
   "cell_type": "code",
   "execution_count": 9,
   "source": [
    "class CascadeLinTSAgent(Agent):\n",
    "  def __init__(self, d: int, sigma: float, features: pd.DataFrame):\n",
    "    self.sigma = sigma\n",
    "    self.features = features\n",
    "    self.InvM = np.eye(d)\n",
    "    self.B = np.zeros(d)\n",
    "\n",
    "  def get_list(self, k: int) -> list[int]:\n",
    "    before_theta = (self.sigma**-2) * np.inner(self.InvM, self.B)\n",
    "    theta = np.random.multivariate_normal(before_theta, cov=self.InvM)\n",
    "    weights = self.features['feature'].apply(lambda x: np.inner(x.T, theta)).to_list()\n",
    "    return sorted(range(len(weights)), key=lambda i: weights[i], reverse=True)[:k]\n",
    "\n",
    "  def is_click(self, click: int, k: int) -> int:\n",
    "    return 1 if click == k else 0\n",
    "\n",
    "  def observe(self, a: list[int], click : int) -> None:\n",
    "    if click == -1:\n",
    "      click = len(a)\n",
    "\n",
    "    for i in range(min(len(a), click)):\n",
    "      e = a[i]\n",
    "      x = self.features[self.features['id']==e]['feature'].to_list()[0]\n",
    "      self.InvM = self.InvM - (self.InvM * x * x.T * self.InvM)/(x.T * self.InvM * x + self.sigma)\n",
    "      if self.is_click(click, i+1):\n",
    "        self.B = self.B + x"
   ],
   "outputs": [],
   "metadata": {}
  },
  {
   "cell_type": "markdown",
   "source": [
    "## EXPERIMENTS\n",
    "\n",
    "CascadeUCB1とCascadeLinTSの比較"
   ],
   "metadata": {}
  },
  {
   "cell_type": "code",
   "execution_count": 10,
   "source": [
    "def gen_items(tags: dict[str, float], L: int, sigma=0.01)-> pd.DataFrame:\n",
    "  tag_ids = list(tags.keys())\n",
    "  weights = []\n",
    "  features = []\n",
    "  for i in range(L):\n",
    "    n = random.randint(1, 3)\n",
    "    tag_samples = random.sample(tag_ids, n)\n",
    "\n",
    "    w = 0\n",
    "    one_hot = []\n",
    "    for t in tag_ids:\n",
    "      if t in tag_samples:\n",
    "        w += random.gauss(tags[t], sigma)\n",
    "        one_hot.append(1)\n",
    "      else:\n",
    "        one_hot.append(0)\n",
    "      \n",
    "    features.append(np.array(one_hot))\n",
    "    weights.append(w)\n",
    "\n",
    "  df = pd.DataFrame({'id': list(range(len(weights))),\n",
    "                      'weight' : weights,\n",
    "                      'feature' : features})\n",
    "  return  df"
   ],
   "outputs": [],
   "metadata": {}
  },
  {
   "cell_type": "code",
   "execution_count": 11,
   "source": [
    "k=4\n",
    "L=[16, 256, 3000]\n",
    "steps=10000"
   ],
   "outputs": [],
   "metadata": {}
  },
  {
   "cell_type": "code",
   "execution_count": 12,
   "source": [
    "tags_with_weight = {'AWS': 0.03, 'Docker': 0.2,'Elasticsearch': 0.15 ,'GCP': 0.08, 'Git': 0.05, 'NLP': 0.19, 'Rust': 0.23, 'Scala': 0.14, '機械学習': 0.15, '強化学習': 0.20}\n",
    "\n",
    "fig = plt.figure(figsize=(13,4))\n",
    "fig.suptitle('The n-steps regret of CascadeUCB1, CascadeLinTS')\n",
    "\n",
    "for i, l in enumerate(L):\n",
    "\tdf = gen_items(tags=tags_with_weight, L=l)\n",
    "\tE = df['weight'].to_list()\n",
    "\n",
    "\tenv = CascadingModelEnv(E=E)\n",
    "\n",
    "\tcascadelints_agent = CascadeLinTSAgent(d=len(tags_with_weight), sigma=1, features=df.drop('weight', axis=1))\n",
    "\tcascadeucb_agent = CascadeUCB1Agent(E=E, p=0.2)\n",
    "\n",
    "\tcascadeucb_regret_cumulative_history = simulate(agent=cascadeucb_agent, env=env, k=k, steps=steps)\n",
    "\tcascadelints_regret_cumulative_history = simulate(agent=cascadelints_agent, env=env, k=k, steps=steps)\n",
    "\n",
    "\tax = fig.add_subplot(1,3,i+1)\n",
    "\tax.set_title(f'L={l}, k=4')\n",
    "\tax.plot(cascadeucb_regret_cumulative_history, label='CascadeUCB')\n",
    "\tax.plot(cascadelints_regret_cumulative_history, label='CascadeLinTS')\n",
    "\n",
    "fig.legend(['CascadeUCB', 'CascadeLinTS'], loc='upper center', borderaxespad=0.1, title=\"Algorithm\", bbox_to_anchor=(0.5, -0.02), ncol=2)\n",
    "fig.tight_layout()\n",
    "plt.show()"
   ],
   "outputs": [
    {
     "output_type": "stream",
     "name": "stderr",
     "text": [
      "100%|██████████| 10000/10000 [00:00<00:00, 27054.60it/s]\n",
      "100%|██████████| 10000/10000 [00:13<00:00, 723.21it/s]\n",
      "100%|██████████| 10000/10000 [00:02<00:00, 4234.36it/s]\n",
      "100%|██████████| 10000/10000 [00:16<00:00, 607.42it/s]\n",
      "100%|██████████| 10000/10000 [00:27<00:00, 366.68it/s]\n",
      "100%|██████████| 10000/10000 [01:34<00:00, 106.21it/s]\n"
     ]
    },
    {
     "output_type": "display_data",
     "data": {
      "image/png": "[encoded data removed]",
      "text/plain": [
       "<Figure size 936x288 with 3 Axes>"
      ]
     },
     "metadata": {
      "needs_background": "light"
     }
    }
   ],
   "metadata": {}
  }
 ],
 "metadata": {
  "orig_nbformat": 4,
  "language_info": {
   "name": "python",
   "version": "3.9.0",
   "mimetype": "text/x-python",
   "codemirror_mode": {
    "name": "ipython",
    "version": 3
   },
   "pygments_lexer": "ipython3",
   "nbconvert_exporter": "python",
   "file_extension": ".py"
  },
  "kernelspec": {
   "name": "python3",
   "display_name": "Python 3.9.0 64-bit ('3.9.0': pyenv)"
  },
  "interpreter": {
   "hash": "40b74fe4b278afccf8b2d6ce54a01944ba7d1e96e76649ff315d52430c807b2e"
  }
 },
 "nbformat": 4,
 "nbformat_minor": 2
}