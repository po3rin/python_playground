{
 "cells": [
  {
   "cell_type": "code",
   "execution_count": 2,
   "source": [
    "import numpy as np\n",
    "# from matplotlib import pyplot as plt\n",
    "# import pymc3 as pm"
   ],
   "outputs": [],
   "metadata": {}
  },
  {
   "cell_type": "code",
   "execution_count": 3,
   "source": [
    "class CascadingModelEnv():\n",
    "\tdef __init__(self, E: list[float]):\n",
    "\t\tself.E = E\n",
    "\n",
    "\tdef click(self, A: list[int]) -> int:\n",
    "\t\tfor i in A:\n",
    "\t\t\tif self.E[i] > np.random.random():\n",
    "\t\t\t\treturn i\n",
    "\t\treturn -1"
   ],
   "outputs": [],
   "metadata": {}
  },
  {
   "cell_type": "code",
   "execution_count": 25,
   "source": [
    "## test\n",
    "E = [0.1, 0, 0, 0.2, 0.3, 0, 0.2, 0.3, 0, 0.1]\n",
    "cme = CascadingModelEnv(E)\n",
    "cme.click([0,3,4])"
   ],
   "outputs": [
    {
     "output_type": "execute_result",
     "data": {
      "text/plain": [
       "3"
      ]
     },
     "metadata": {},
     "execution_count": 25
    }
   ],
   "metadata": {}
  }
 ],
 "metadata": {
  "orig_nbformat": 4,
  "language_info": {
   "name": "python",
   "version": "3.9.0",
   "mimetype": "text/x-python",
   "codemirror_mode": {
    "name": "ipython",
    "version": 3
   },
   "pygments_lexer": "ipython3",
   "nbconvert_exporter": "python",
   "file_extension": ".py"
  },
  "kernelspec": {
   "name": "python3",
   "display_name": "Python 3.9.0 64-bit ('3.9.0': pyenv)"
  },
  "interpreter": {
   "hash": "40b74fe4b278afccf8b2d6ce54a01944ba7d1e96e76649ff315d52430c807b2e"
  }
 },
 "nbformat": 4,
 "nbformat_minor": 2
}