{
 "cells": [
  {
   "cell_type": "markdown",
   "source": [
    "# Cascade Click Model に適用する Bandit Algorithms 実装"
   ],
   "metadata": {}
  },
  {
   "cell_type": "code",
   "execution_count": 219,
   "source": [
    "import math\n",
    "import random\n",
    "import pandas as pd\n",
    "import numpy as np\n",
    "from matplotlib import pyplot as plt\n",
    "from scipy.stats import bernoulli\n",
    "from tqdm import tqdm"
   ],
   "outputs": [],
   "metadata": {}
  },
  {
   "cell_type": "code",
   "execution_count": 220,
   "source": [
    "np.random.seed(0)"
   ],
   "outputs": [],
   "metadata": {}
  },
  {
   "cell_type": "markdown",
   "source": [
    "## CascadeUCB"
   ],
   "metadata": {}
  },
  {
   "cell_type": "code",
   "execution_count": 221,
   "source": [
    "class CascadingModelEnv():\n",
    "\tdef __init__(self, E: list[float]):\n",
    "\t\tself.E = E\n",
    "\n",
    "\tdef click(self, A: list[int]) -> int:\n",
    "\t\tfor i, item in enumerate(A):\n",
    "\t\t\tif self.E[item] > np.random.random():\n",
    "\t\t\t\treturn i+1\n",
    "\t\treturn -1\n",
    "\t\n",
    "\tdef opt(self, k: int) -> list[int]:\n",
    "\t\treturn sorted(range(len(self.E)), key=lambda i: self.E[i], reverse=True)[:k]"
   ],
   "outputs": [],
   "metadata": {}
  },
  {
   "cell_type": "code",
   "execution_count": 222,
   "source": [
    "## test\n",
    "E = [0, 0.1, 0.2, 0.3]\n",
    "env = CascadingModelEnv(E)\n",
    "\n",
    "results = []\n",
    "for i in range(1000):\n",
    "\tresults.append(env.click([1,2,3]))\n",
    "\n",
    "print(env.opt(k=2))\n",
    "\n",
    "plt.xlabel(\"item_index\")\n",
    "plt.ylabel(\"click_freq\")\n",
    "plt.hist(results)"
   ],
   "outputs": [
    {
     "output_type": "stream",
     "name": "stdout",
     "text": [
      "[3, 2]\n"
     ]
    },
    {
     "output_type": "execute_result",
     "data": {
      "text/plain": [
       "(array([495.,   0.,   0.,   0.,   0., 104.,   0., 171.,   0., 230.]),\n",
       " array([-1. , -0.6, -0.2,  0.2,  0.6,  1. ,  1.4,  1.8,  2.2,  2.6,  3. ]),\n",
       " <BarContainer object of 10 artists>)"
      ]
     },
     "metadata": {},
     "execution_count": 222
    },
    {
     "output_type": "display_data",
     "data": {
      "image/png": "[encoded data removed]",
      "text/plain": [
       "<Figure size 432x288 with 1 Axes>"
      ]
     },
     "metadata": {
      "needs_background": "light"
     }
    }
   ],
   "metadata": {}
  },
  {
   "cell_type": "code",
   "execution_count": 223,
   "source": [
    "class CascadeUCBAgent(object):\n",
    "  def __init__(self, E: list[float], p: float):\n",
    "    self.t = 1\n",
    "    self.counts = [1 for _ in range(len(E))]\n",
    "    self.weights = [bernoulli.rvs(p=p) for _ in range(len(E))]\n",
    "\n",
    "  def ucb(self, e: int):\n",
    "    return self.weights[e] + math.sqrt(1.5*math.log(self.t - 1)/self.counts[e])\n",
    "\n",
    "  def get_list(self, k: int) -> list[int]:\n",
    "    self.t += 1\n",
    "    ucbs = [self.ucb(e) for e in range(len(E))]\n",
    "    return sorted(range(len(ucbs)), key=lambda i: ucbs[i], reverse=True)[:k]\n",
    "\n",
    "  def is_click(self, click: int, k: int) -> int:\n",
    "    return 1 if click == k else 0\n",
    "\n",
    "  def observe(self, a: list[int], click : int) -> None:\n",
    "    if click == -1:\n",
    "      click = len(a)\n",
    "\n",
    "    for i in range(min(len(a), click)):\n",
    "      e = a[i]\n",
    "      before_count = self.counts[e]\n",
    "      self.counts[e] += 1\n",
    "      self.weights[e] = ( (before_count * self.weights[e]) + self.is_click(click, i+1) ) / self.counts[e]"
   ],
   "outputs": [],
   "metadata": {}
  },
  {
   "cell_type": "code",
   "execution_count": 225,
   "source": [
    "E = [0.4, 0.2, 0.2, 0.1, 0.1, 0.3, 0.2, 0.1, 0.3, 0.1]\n",
    "env = CascadingModelEnv(E=E)\n",
    "optimal = env.opt(k=3)\n",
    "print(f'optional list: {optimal}')\n",
    "\n",
    "agent = CascadeUCBAgent(E=E, p=0.2)\n",
    "\n",
    "for i in range(10000):\n",
    "\ta = agent.get_list(k=3)\n",
    "\tclick = env.click(a)\n",
    "\tagent.observe(a, click)\n",
    "\n",
    "print(f'counts: {agent.counts}')\n",
    "print(f'weights: {agent.weights}')\n",
    "print(f'A: {agent.get_list(k=3)}')"
   ],
   "outputs": [
    {
     "output_type": "stream",
     "name": "stdout",
     "text": [
      "optional list: [0, 5, 8]\n",
      "counts: [6997, 1008, 919, 343, 398, 4852, 1096, 653, 4882, 430]\n",
      "weights: [0.4886379877090182, 0.41567460317460303, 0.410228509249184, 0.3323615160349855, 0.34673366834170855, 0.47980214344600164, 0.4206204379562044, 0.38744257274119476, 0.48013109381401065, 0.3534883720930233]\n",
      "A: [8, 5, 0]\n"
     ]
    }
   ],
   "metadata": {}
  },
  {
   "cell_type": "code",
   "execution_count": null,
   "source": [
    "# WIP\n",
    "\n",
    "def f() -> float:\n",
    "\treturn 0\n",
    "def regret(optimal_a: list[int], a:list[int], w_t: list[float]) -> float:\n",
    "\treturn f(optimal_a, w_t) - f(a, w_t)"
   ],
   "outputs": [],
   "metadata": {}
  },
  {
   "cell_type": "markdown",
   "source": [
    "## CombCascade"
   ],
   "metadata": {}
  },
  {
   "cell_type": "code",
   "execution_count": 226,
   "source": [
    "class MultiClicksModelEnv():\n",
    "\tdef __init__(self, E: list[float]):\n",
    "\t\tself.E = E\n",
    "\n",
    "\tdef clicks(self, A: list[int]) -> list[int]:\n",
    "\t\tclicks = []\n",
    "\t\tfor i, item in enumerate(A):\n",
    "\t\t\tif self.E[item] > np.random.random():\n",
    "\t\t\t\tclicks.append(i+1)\n",
    "\t\treturn clicks\n",
    "\t\n",
    "\tdef opt(self, k: int) -> list[int]:\n",
    "\t\treturn sorted(range(len(self.E)), key=lambda i: self.E[i], reverse=True)[:k]"
   ],
   "outputs": [],
   "metadata": {}
  },
  {
   "cell_type": "code",
   "execution_count": 227,
   "source": [
    "class CombCascadeAgent(object):\n",
    "  def __init__(self, E: list[float], p: float):\n",
    "    self.t = 1\n",
    "    self.counts = [1 for _ in range(len(E))]\n",
    "    self.weights = [bernoulli.rvs(p=p) for _ in range(len(E))]\n",
    "\n",
    "  def ucb(self, e: int) -> float:\n",
    "    return min(self.weights[e] + math.sqrt(1.5*math.log(self.t - 1)/self.counts[e]), 1)\n",
    "\n",
    "  def get_list(self, k: int) -> list[int]:\n",
    "    self.t += 1\n",
    "    ucbs = [self.ucb(e) for e in range(len(E))]\n",
    "    return sorted(range(len(ucbs)), key=lambda i: ucbs[i], reverse=True)[:k]\n",
    "\n",
    "  def before_no_click(self, no_click: int, k: int) -> int:\n",
    "    return 1 if k < no_click else 0\n",
    "\n",
    "  def observe(self, a: list[int], no_click_feedback : int) -> None:\n",
    "    if no_click_feedback == -1:\n",
    "      no_click_feedback = len(a)\n",
    "\n",
    "    for i in range(min(len(a), no_click_feedback)):\n",
    "      e = a[i]\n",
    "      before_count = self.counts[e]\n",
    "      self.counts[e] += 1\n",
    "      self.weights[e] = ( (before_count * self.weights[e]) + self.before_no_click(no_click_feedback, i+1) ) / self.counts[e]"
   ],
   "outputs": [],
   "metadata": {}
  },
  {
   "cell_type": "code",
   "execution_count": 228,
   "source": [
    "def first_no_click(a: list[int], clicks: list[int]) -> int:\n",
    "\tif clicks == []:\n",
    "\t\treturn 1\n",
    "\n",
    "\tfor i in range(1, len(a)+1):\n",
    "\t\ttry:\n",
    "\t\t\tc = clicks[i-1]\n",
    "\t\texcept IndexError:\n",
    "\t\t\treturn i\n",
    "\t\tif c == i:\n",
    "\t\t\tcontinue\n",
    "\t\treturn i\n",
    "\treturn -1\n",
    "\n",
    "## debug\n",
    "# print(first_no_click([4,3,5], [1, 3]))\n",
    "# print(first_no_click([4,3,5], [1, 2]))\n",
    "# print(first_no_click([4,3,5], [2]))"
   ],
   "outputs": [],
   "metadata": {}
  },
  {
   "cell_type": "code",
   "execution_count": 229,
   "source": [
    "E = [0.4, 0.6, 0.7, 0.2, 0.4, 0.6, 0.1, 0.1, 0.3, 0.1]\n",
    "env = MultiClicksModelEnv(E=E)\n",
    "optimal = env.opt(k=3)\n",
    "print(f'optional list: {optimal}')\n",
    "\n",
    "agent = CombCascadeAgent(E=E, p=0.2)\n",
    "\n",
    "for i in range(10000):\n",
    "\ta = agent.get_list(k=3)\n",
    "\tclicks = env.clicks(a)\n",
    "\tno_click_feedback = first_no_click(a, clicks)\n",
    "\tagent.observe(a, no_click_feedback)\n",
    "\n",
    "print(f'counts: {agent.counts}')\n",
    "print(f'weights: {agent.weights}')\n",
    "print(f'A: {agent.get_list(k=3)}')"
   ],
   "outputs": [
    {
     "output_type": "stream",
     "name": "stdout",
     "text": [
      "optional list: [2, 1, 5]\n",
      "counts: [511, 6933, 9951, 523, 523, 612, 511, 534, 557, 511]\n",
      "weights: [0.003913894324853224, 0.5991634213183312, 0.7005326097879615, 0.0057361376673040095, 0.0057361376673040095, 0.01797385620915036, 0.003913894324853224, 0.007490636704119842, 0.01077199281867144, 0.003913894324853224]\n",
      "A: [2, 1, 0]\n"
     ]
    }
   ],
   "metadata": {}
  },
  {
   "cell_type": "markdown",
   "source": [
    "## CascadeLinTS"
   ],
   "metadata": {}
  },
  {
   "cell_type": "code",
   "execution_count": 305,
   "source": [
    "def gen_items(tags: dict[str, float], L: int)-> pd.DataFrame:\n",
    "  tag_ids = list(tags.keys())\n",
    "  weights = []\n",
    "  features = []\n",
    "  for i in range(L):\n",
    "    n = random.randint(1, 3)\n",
    "    tag_samples = random.sample(tag_ids, n)\n",
    "\n",
    "    w = 0\n",
    "    one_hot = []\n",
    "    for t in tag_ids:\n",
    "      if t in tag_samples:\n",
    "        w += random.gauss(tags[t], 0.05)\n",
    "        one_hot.append(1)\n",
    "      else:\n",
    "        one_hot.append(0)\n",
    "      \n",
    "    features.append(np.array(one_hot))\n",
    "    weights.append(w)\n",
    "\n",
    "  df = pd.DataFrame({'id': list(range(len(weights))),\n",
    "                      'weight' : weights,\n",
    "                      'feature' : features})\n",
    "  return  df\n",
    "\n",
    "tags_with_weight = {'AWS': 0.1, 'Docker': 0.2,'Elasticsearch': 0.15 ,'GCP': 0.08, 'Git': 0.05, 'NLP': 0.23, 'Rust': 0.3, 'Scala': 0.18, '機械学習': 0.25, '強化学習': 0.2}\n",
    "df = gen_items(tags=tags_with_weight, L=256)\n",
    "df.head(5)"
   ],
   "outputs": [
    {
     "output_type": "execute_result",
     "data": {
      "text/html": [
       "<div>\n",
       "<style scoped>\n",
       "    .dataframe tbody tr th:only-of-type {\n",
       "        vertical-align: middle;\n",
       "    }\n",
       "\n",
       "    .dataframe tbody tr th {\n",
       "        vertical-align: top;\n",
       "    }\n",
       "\n",
       "    .dataframe thead th {\n",
       "        text-align: right;\n",
       "    }\n",
       "</style>\n",
       "<table border=\"1\" class=\"dataframe\">\n",
       "  <thead>\n",
       "    <tr style=\"text-align: right;\">\n",
       "      <th></th>\n",
       "      <th>id</th>\n",
       "      <th>weight</th>\n",
       "      <th>feature</th>\n",
       "    </tr>\n",
       "  </thead>\n",
       "  <tbody>\n",
       "    <tr>\n",
       "      <th>0</th>\n",
       "      <td>0</td>\n",
       "      <td>0.488203</td>\n",
       "      <td>[0, 0, 1, 0, 0, 0, 0, 1, 1, 0]</td>\n",
       "    </tr>\n",
       "    <tr>\n",
       "      <th>1</th>\n",
       "      <td>1</td>\n",
       "      <td>0.493457</td>\n",
       "      <td>[0, 0, 0, 1, 0, 0, 1, 1, 0, 0]</td>\n",
       "    </tr>\n",
       "    <tr>\n",
       "      <th>2</th>\n",
       "      <td>2</td>\n",
       "      <td>0.681771</td>\n",
       "      <td>[0, 0, 0, 1, 0, 1, 1, 0, 0, 0]</td>\n",
       "    </tr>\n",
       "    <tr>\n",
       "      <th>3</th>\n",
       "      <td>3</td>\n",
       "      <td>0.130302</td>\n",
       "      <td>[0, 1, 0, 0, 0, 0, 0, 0, 0, 0]</td>\n",
       "    </tr>\n",
       "    <tr>\n",
       "      <th>4</th>\n",
       "      <td>4</td>\n",
       "      <td>0.218935</td>\n",
       "      <td>[1, 0, 0, 0, 0, 0, 0, 1, 0, 0]</td>\n",
       "    </tr>\n",
       "  </tbody>\n",
       "</table>\n",
       "</div>"
      ],
      "text/plain": [
       "   id    weight                         feature\n",
       "0   0  0.488203  [0, 0, 1, 0, 0, 0, 0, 1, 1, 0]\n",
       "1   1  0.493457  [0, 0, 0, 1, 0, 0, 1, 1, 0, 0]\n",
       "2   2  0.681771  [0, 0, 0, 1, 0, 1, 1, 0, 0, 0]\n",
       "3   3  0.130302  [0, 1, 0, 0, 0, 0, 0, 0, 0, 0]\n",
       "4   4  0.218935  [1, 0, 0, 0, 0, 0, 0, 1, 0, 0]"
      ]
     },
     "metadata": {},
     "execution_count": 305
    }
   ],
   "metadata": {}
  },
  {
   "cell_type": "code",
   "execution_count": 302,
   "source": [
    "class CascadeLinTSAgent(object):\n",
    "  def __init__(self, d: int, sigma: float, features: pd.DataFrame):\n",
    "    self.sigma = sigma\n",
    "    self.features = features\n",
    "    self.M = np.eye(d)\n",
    "    self.B = np.zeros(d)\n",
    "\n",
    "  def get_list(self, k: int) -> list[int]:\n",
    "    m_t = self.M.T\n",
    "    before_theta = (self.sigma**-2) * np.inner(m_t, self.B)\n",
    "    theta = np.random.multivariate_normal(before_theta, cov=m_t)\n",
    "    weights = self.features['feature'].apply(lambda x: np.inner(x.T, theta)).to_list()\n",
    "    return sorted(range(len(weights)), key=lambda i: weights[i], reverse=True)[:k]\n",
    "\n",
    "  def is_click(self, click: int, k: int) -> int:\n",
    "    return 1 if click == k else 0\n",
    "\n",
    "  def observe(self, a: list[int], click : int) -> None:\n",
    "    if click == -1:\n",
    "      click = len(a)\n",
    "\n",
    "    for i in range(min(len(a), click)):\n",
    "      e = a[i]\n",
    "      x = self.features[self.features['id']==e]['feature'].to_list()[0]\n",
    "      self.M = self.M + (self.sigma**-2) * np.inner(x, x.T)\n",
    "      self.B = self.B + (x * self.is_click(click, i+1))"
   ],
   "outputs": [],
   "metadata": {}
  },
  {
   "cell_type": "code",
   "execution_count": 303,
   "source": [
    "E = df['weight'].to_list()\n",
    "env = CascadingModelEnv(E=E)\n",
    "optimal = env.opt(k=4)\n",
    "print(f'optional list: {optimal}')\n",
    "\n",
    "agent = CascadeLinTSAgent(d=len(tags_with_weight), sigma=1, features=df.drop('weight', axis=1))\n",
    "\n",
    "for i in tqdm(range(100000)):\n",
    "\ta = agent.get_list(k=4)\n",
    "\tclick = env.click(a)\n",
    "\tagent.observe(a, click)\n",
    "\n",
    "print(f'A: {agent.get_list(k=4)}') "
   ],
   "outputs": [
    {
     "output_type": "stream",
     "name": "stdout",
     "text": [
      "optional list: [23, 80, 11, 249]\n"
     ]
    },
    {
     "output_type": "stream",
     "name": "stderr",
     "text": [
      "100%|██████████| 100000/100000 [03:16<00:00, 509.17it/s]"
     ]
    },
    {
     "output_type": "stream",
     "name": "stdout",
     "text": [
      "A: [148, 2, 254, 138]\n"
     ]
    },
    {
     "output_type": "stream",
     "name": "stderr",
     "text": [
      "\n"
     ]
    }
   ],
   "metadata": {}
  },
  {
   "cell_type": "code",
   "execution_count": 304,
   "source": [
    "a = agent.get_list(k=4)\n",
    "\n",
    "df[df['id'].isin(a)]"
   ],
   "outputs": [
    {
     "output_type": "execute_result",
     "data": {
      "text/html": [
       "<div>\n",
       "<style scoped>\n",
       "    .dataframe tbody tr th:only-of-type {\n",
       "        vertical-align: middle;\n",
       "    }\n",
       "\n",
       "    .dataframe tbody tr th {\n",
       "        vertical-align: top;\n",
       "    }\n",
       "\n",
       "    .dataframe thead th {\n",
       "        text-align: right;\n",
       "    }\n",
       "</style>\n",
       "<table border=\"1\" class=\"dataframe\">\n",
       "  <thead>\n",
       "    <tr style=\"text-align: right;\">\n",
       "      <th></th>\n",
       "      <th>id</th>\n",
       "      <th>weight</th>\n",
       "      <th>feature</th>\n",
       "    </tr>\n",
       "  </thead>\n",
       "  <tbody>\n",
       "    <tr>\n",
       "      <th>2</th>\n",
       "      <td>2</td>\n",
       "      <td>0.416928</td>\n",
       "      <td>[1, 0, 1, 0, 0, 0, 0, 0, 1, 0]</td>\n",
       "    </tr>\n",
       "    <tr>\n",
       "      <th>138</th>\n",
       "      <td>138</td>\n",
       "      <td>0.388992</td>\n",
       "      <td>[1, 1, 1, 0, 0, 0, 0, 0, 0, 0]</td>\n",
       "    </tr>\n",
       "    <tr>\n",
       "      <th>148</th>\n",
       "      <td>148</td>\n",
       "      <td>0.539676</td>\n",
       "      <td>[1, 0, 1, 0, 0, 0, 0, 0, 0, 1]</td>\n",
       "    </tr>\n",
       "    <tr>\n",
       "      <th>254</th>\n",
       "      <td>254</td>\n",
       "      <td>0.449143</td>\n",
       "      <td>[1, 0, 1, 0, 0, 1, 0, 0, 0, 0]</td>\n",
       "    </tr>\n",
       "  </tbody>\n",
       "</table>\n",
       "</div>"
      ],
      "text/plain": [
       "      id    weight                         feature\n",
       "2      2  0.416928  [1, 0, 1, 0, 0, 0, 0, 0, 1, 0]\n",
       "138  138  0.388992  [1, 1, 1, 0, 0, 0, 0, 0, 0, 0]\n",
       "148  148  0.539676  [1, 0, 1, 0, 0, 0, 0, 0, 0, 1]\n",
       "254  254  0.449143  [1, 0, 1, 0, 0, 1, 0, 0, 0, 0]"
      ]
     },
     "metadata": {},
     "execution_count": 304
    }
   ],
   "metadata": {}
  }
 ],
 "metadata": {
  "orig_nbformat": 4,
  "language_info": {
   "name": "python",
   "version": "3.9.0",
   "mimetype": "text/x-python",
   "codemirror_mode": {
    "name": "ipython",
    "version": 3
   },
   "pygments_lexer": "ipython3",
   "nbconvert_exporter": "python",
   "file_extension": ".py"
  },
  "kernelspec": {
   "name": "python3",
   "display_name": "Python 3.9.0 64-bit ('3.9.0': pyenv)"
  },
  "interpreter": {
   "hash": "40b74fe4b278afccf8b2d6ce54a01944ba7d1e96e76649ff315d52430c807b2e"
  }
 },
 "nbformat": 4,
 "nbformat_minor": 2
}