{
 "cells": [
  {
   "cell_type": "markdown",
   "source": [
    "# Cascade Click Model に適用する Bandit Algorithms 実装"
   ],
   "metadata": {}
  },
  {
   "cell_type": "code",
   "execution_count": 17,
   "source": [
    "import math\n",
    "import random\n",
    "from abc import ABC, abstractmethod\n",
    "import pandas as pd\n",
    "import numpy as np\n",
    "from matplotlib import pyplot as plt\n",
    "from scipy.stats import bernoulli\n",
    "from tqdm import tqdm"
   ],
   "outputs": [],
   "metadata": {}
  },
  {
   "cell_type": "code",
   "execution_count": null,
   "source": [],
   "outputs": [],
   "metadata": {}
  },
  {
   "cell_type": "code",
   "execution_count": 18,
   "source": [
    "np.random.seed(0)"
   ],
   "outputs": [],
   "metadata": {}
  },
  {
   "cell_type": "code",
   "execution_count": 19,
   "source": [
    "class Agent(ABC):\n",
    "\t@abstractmethod\n",
    "\tdef get_list(self, k: int) -> list[int]:\n",
    "\t\tpass\n",
    "\n",
    "\t@abstractmethod\n",
    "\tdef observe(self, a: list[int], click : int) -> None:\n",
    "\t\tpass\n",
    "\n",
    "class Env(ABC):\n",
    "\t@abstractmethod\n",
    "\tdef click(self, A: list[int]) -> int:\n",
    "\t\tpass\n",
    "\t\n",
    "\t@abstractmethod\n",
    "\tdef weights(self, A: list[int]) -> list[float]:\n",
    "\t\tpass\n",
    "\n",
    "\t@abstractmethod\n",
    "\tdef optimal_weights(self, k: int) -> list[float]:\n",
    "\t\tpass"
   ],
   "outputs": [],
   "metadata": {}
  },
  {
   "cell_type": "code",
   "execution_count": 20,
   "source": [
    "class CascadingModelEnv(Env):\n",
    "\tdef __init__(self, E: list[float]):\n",
    "\t\tself.E = E\n",
    "\n",
    "\tdef click(self, A: list[int]) -> int:\n",
    "\t\tfor i, item in enumerate(A):\n",
    "\t\t\tif self.E[item] > np.random.random():\n",
    "\t\t\t\treturn i+1\n",
    "\t\treturn -1\n",
    "\n",
    "\tdef weights(self, A: list[int]) -> list[float]:\n",
    "\t\treturn [self.E[i] for i in A]\n",
    "\n",
    "\tdef optimal_weights(self, k: int) -> list[float]:\n",
    "\t\treturn sorted(E, reverse=True)[:k]"
   ],
   "outputs": [],
   "metadata": {}
  },
  {
   "cell_type": "code",
   "execution_count": 21,
   "source": [
    "def f(weights: list[float]) -> float:\n",
    "\tv = 1\n",
    "\tfor w in weights:\n",
    "\t\tv *= (1-w)\n",
    "\treturn 1-v\n",
    "\n",
    "def regret(optimal_weights: list[float], weights: list[float]) -> float:\n",
    "\treturn f(optimal_weights) - f(weights)"
   ],
   "outputs": [],
   "metadata": {}
  },
  {
   "cell_type": "code",
   "execution_count": 22,
   "source": [
    "def simulate(agent: Agent, env: Env, k: int, steps: int) -> list[float]:\n",
    "\toptimal_weights = env.optimal_weights(k=k)\n",
    "\n",
    "\tcumulative_regret = 0\n",
    "\tregret_cumulative_history = []\n",
    "\tfor i in tqdm(range(steps)):\n",
    "\t\ta = agent.get_list(k=k)\n",
    "\t\tclick = env.click(a)\n",
    "\t\tagent.observe(a, click)\n",
    "\n",
    "\t\tsetting_weights = env.weights(a)\n",
    "\t\tcumulative_regret += regret(optimal_weights, setting_weights)\n",
    "\t\tregret_cumulative_history.append(cumulative_regret)\n",
    "\n",
    "\treturn regret_cumulative_history"
   ],
   "outputs": [],
   "metadata": {}
  },
  {
   "cell_type": "markdown",
   "source": [
    "## CascadeUCB1"
   ],
   "metadata": {}
  },
  {
   "cell_type": "code",
   "execution_count": 23,
   "source": [
    "class CascadeUCB1Agent(Agent):\n",
    "  def __init__(self, E: list[float], p: float):\n",
    "    self.t = 1\n",
    "    self.counts = [1 for _ in range(len(E))]\n",
    "    self.weights = [bernoulli.rvs(p=p) for _ in range(len(E))]\n",
    "\n",
    "  def ucb(self, e: int):\n",
    "    return self.weights[e] + math.sqrt(1.5*math.log(self.t - 1)/self.counts[e])\n",
    "\n",
    "  def get_list(self, k: int) -> list[int]:\n",
    "    self.t += 1\n",
    "    ucbs = [self.ucb(e) for e in range(len(E))]\n",
    "    return sorted(range(len(ucbs)), key=lambda i: ucbs[i], reverse=True)[:k]\n",
    "\n",
    "  def is_click(self, click: int, k: int) -> int:\n",
    "    return 1 if click == k else 0\n",
    "\n",
    "  def observe(self, a: list[int], click : int) -> None:\n",
    "    if click == -1:\n",
    "      click = len(a)\n",
    "\n",
    "    for i in range(min(len(a), click)):\n",
    "      e = a[i]\n",
    "      before_count = self.counts[e]\n",
    "      self.counts[e] += 1\n",
    "      self.weights[e] = ( (before_count * self.weights[e]) + self.is_click(click, i+1) ) / self.counts[e]"
   ],
   "outputs": [],
   "metadata": {}
  },
  {
   "cell_type": "code",
   "execution_count": 24,
   "source": [
    "# E = [0.3, 0.2, 0.25, 0.1, 0.1, 0.24, 0.2, 0.1, 0.21, 0.1]\n",
    "# env = CascadingModelEnv(E=E)\n",
    "# agent = CascadeUCB1Agent(E=E, p=0.2)\n",
    "\n",
    "# regret_cumulative_history = simulate(agent=agent, env=env, k=3, steps=100000)\n",
    "\n",
    "# plt.xlabel(\"step t\")\n",
    "# plt.ylabel(\"Regret\")\n",
    "# plt.plot(regret_cumulative_history)"
   ],
   "outputs": [],
   "metadata": {}
  },
  {
   "cell_type": "markdown",
   "source": [
    "## CascadeLinTS"
   ],
   "metadata": {}
  },
  {
   "cell_type": "code",
   "execution_count": 25,
   "source": [
    "class CascadeLinTSAgent(Agent):\n",
    "  def __init__(self, d: int, sigma: float, features: pd.DataFrame):\n",
    "    self.sigma = sigma\n",
    "    self.features = features\n",
    "    self.InvM = np.eye(d)\n",
    "    self.B = np.zeros(d).reshape(d, 1)\n",
    "\n",
    "  def get_list(self, k: int) -> list[int]:\n",
    "    before_theta = (self.sigma**-2) * self.InvM.dot(self.B)\n",
    "    theta = np.random.multivariate_normal(mean=before_theta.ravel(), cov=self.InvM)\n",
    "    weights = self.features['feature'].apply(lambda x: x.T.dot(theta)).to_list()\n",
    "    return sorted(range(len(weights)), key=lambda i: weights[i], reverse=True)[:k]\n",
    "\n",
    "  def is_click(self, click: int, k: int) -> int:\n",
    "    return 1 if click == k else 0\n",
    "\n",
    "  def observe(self, a: list[int], click : int) -> None:\n",
    "    if click == -1:\n",
    "      click = len(a)\n",
    "\n",
    "    for i in range(min(len(a), click)):\n",
    "      e = a[i]\n",
    "      x = self.features[self.features['id']==e]['feature'].to_list()[0]\n",
    "\n",
    "      self.InvM = self.InvM - ( self.InvM.dot(x).dot(x.T).dot(self.InvM) )/( x.T.dot(self.InvM).dot(x) + self.sigma**2 )\n",
    "      if self.is_click(click, i+1):\n",
    "        self.B = self.B + x"
   ],
   "outputs": [],
   "metadata": {}
  },
  {
   "cell_type": "markdown",
   "source": [
    "## EXPERIMENTS\n",
    "\n",
    "CascadeUCB1とCascadeLinTSの比較"
   ],
   "metadata": {}
  },
  {
   "cell_type": "code",
   "execution_count": 26,
   "source": [
    "def gen_items(tags: dict[str, float], L: int, sigma=0.01)-> pd.DataFrame:\n",
    "  tag_ids = list(tags.keys())\n",
    "  weights = []\n",
    "  features = []\n",
    "  for i in range(L):\n",
    "    n = random.randint(1, 3)\n",
    "    tag_samples = random.sample(tag_ids, n)\n",
    "\n",
    "    w = 0\n",
    "    one_hot = []\n",
    "    for t in tag_ids:\n",
    "      if t in tag_samples:\n",
    "        w += random.gauss(tags[t], sigma)\n",
    "        one_hot.append(1)\n",
    "      else:\n",
    "        one_hot.append(0)\n",
    "      \n",
    "    vec = np.array(one_hot)\n",
    "    features.append(vec.reshape(len(vec),1))\n",
    "    weights.append(w)\n",
    "\n",
    "  df = pd.DataFrame({'id': list(range(len(weights))),\n",
    "                      'weight' : weights,\n",
    "                      'feature' : features})\n",
    "  return  df"
   ],
   "outputs": [],
   "metadata": {}
  },
  {
   "cell_type": "code",
   "execution_count": 27,
   "source": [
    "k=4\n",
    "L=[16, 256, 3000]\n",
    "steps=10000"
   ],
   "outputs": [],
   "metadata": {}
  },
  {
   "cell_type": "code",
   "execution_count": 28,
   "source": [
    "tags_with_weight = {'AWS': 0.03, 'Docker': 0.2,'Elasticsearch': 0.15 ,'GCP': 0.08, 'Git': 0.05, 'NLP': 0.19, 'Rust': 0.23, 'Scala': 0.14, '機械学習': 0.15, '強化学習': 0.20}\n",
    "df = gen_items(tags=tags_with_weight, L=10)\n",
    "df.head(5)"
   ],
   "outputs": [
    {
     "output_type": "execute_result",
     "data": {
      "text/html": [
       "<div>\n",
       "<style scoped>\n",
       "    .dataframe tbody tr th:only-of-type {\n",
       "        vertical-align: middle;\n",
       "    }\n",
       "\n",
       "    .dataframe tbody tr th {\n",
       "        vertical-align: top;\n",
       "    }\n",
       "\n",
       "    .dataframe thead th {\n",
       "        text-align: right;\n",
       "    }\n",
       "</style>\n",
       "<table border=\"1\" class=\"dataframe\">\n",
       "  <thead>\n",
       "    <tr style=\"text-align: right;\">\n",
       "      <th></th>\n",
       "      <th>id</th>\n",
       "      <th>weight</th>\n",
       "      <th>feature</th>\n",
       "    </tr>\n",
       "  </thead>\n",
       "  <tbody>\n",
       "    <tr>\n",
       "      <th>0</th>\n",
       "      <td>0</td>\n",
       "      <td>0.258744</td>\n",
       "      <td>[[0], [0], [0], [0], [1], [1], [0], [0], [0], ...</td>\n",
       "    </tr>\n",
       "    <tr>\n",
       "      <th>1</th>\n",
       "      <td>1</td>\n",
       "      <td>0.420270</td>\n",
       "      <td>[[0], [1], [0], [0], [0], [0], [1], [0], [0], ...</td>\n",
       "    </tr>\n",
       "    <tr>\n",
       "      <th>2</th>\n",
       "      <td>2</td>\n",
       "      <td>0.381427</td>\n",
       "      <td>[[1], [1], [0], [0], [0], [0], [0], [0], [1], ...</td>\n",
       "    </tr>\n",
       "    <tr>\n",
       "      <th>3</th>\n",
       "      <td>3</td>\n",
       "      <td>0.332823</td>\n",
       "      <td>[[0], [0], [0], [0], [0], [0], [0], [1], [0], ...</td>\n",
       "    </tr>\n",
       "    <tr>\n",
       "      <th>4</th>\n",
       "      <td>4</td>\n",
       "      <td>0.171398</td>\n",
       "      <td>[[0], [0], [0], [0], [0], [0], [0], [0], [0], ...</td>\n",
       "    </tr>\n",
       "  </tbody>\n",
       "</table>\n",
       "</div>"
      ],
      "text/plain": [
       "   id    weight                                            feature\n",
       "0   0  0.258744  [[0], [0], [0], [0], [1], [1], [0], [0], [0], ...\n",
       "1   1  0.420270  [[0], [1], [0], [0], [0], [0], [1], [0], [0], ...\n",
       "2   2  0.381427  [[1], [1], [0], [0], [0], [0], [0], [0], [1], ...\n",
       "3   3  0.332823  [[0], [0], [0], [0], [0], [0], [0], [1], [0], ...\n",
       "4   4  0.171398  [[0], [0], [0], [0], [0], [0], [0], [0], [0], ..."
      ]
     },
     "metadata": {},
     "execution_count": 28
    }
   ],
   "metadata": {}
  },
  {
   "cell_type": "code",
   "execution_count": 29,
   "source": [
    "tags_with_weight = {'AWS': 0.03, 'Docker': 0.2,'Elasticsearch': 0.15 ,'GCP': 0.08, 'Git': 0.05, 'NLP': 0.19, 'Rust': 0.23, 'Scala': 0.14, '機械学習': 0.15, '強化学習': 0.20}\n",
    "\n",
    "fig = plt.figure(figsize=(13,4))\n",
    "fig.suptitle('The n-steps regret of CascadeUCB1, CascadeLinTS')\n",
    "\n",
    "for i, l in enumerate(L):\n",
    "\tdf = gen_items(tags=tags_with_weight, L=l)\n",
    "\tprint(df)\n",
    "\tE = df['weight'].to_list()\n",
    "\n",
    "\tenv = CascadingModelEnv(E=E)\n",
    "\n",
    "\tcascadelints_agent = CascadeLinTSAgent(d=len(tags_with_weight), sigma=1, features=df.drop('weight', axis=1))\n",
    "\tcascadeucb_agent = CascadeUCB1Agent(E=E, p=0.2)\n",
    "\n",
    "\tcascadeucb_regret_cumulative_history = simulate(agent=cascadeucb_agent, env=env, k=k, steps=steps)\n",
    "\tcascadelints_regret_cumulative_history = simulate(agent=cascadelints_agent, env=env, k=k, steps=steps)\n",
    "\n",
    "\tax = fig.add_subplot(1,3, i+1)\n",
    "\tax.set_title(f'L={l}, k=4')\n",
    "\tax.plot(cascadeucb_regret_cumulative_history, label='CascadeUCB')\n",
    "\tax.plot(cascadelints_regret_cumulative_history, label='CascadeLinTS')\n",
    "\n",
    "fig.legend(['CascadeUCB', 'CascadeLinTS'], loc='upper center', borderaxespad=0.1, title=\"Algorithm\", bbox_to_anchor=(0.5, -0.02), ncol=2)\n",
    "fig.tight_layout()\n",
    "plt.show()"
   ],
   "outputs": [
    {
     "output_type": "stream",
     "name": "stdout",
     "text": [
      "    id    weight                                            feature\n",
      "0    0  0.379217  [[0], [0], [0], [0], [0], [1], [0], [0], [0], ...\n",
      "1    1  0.288758  [[0], [0], [1], [0], [0], [0], [0], [0], [1], ...\n",
      "2    2  0.141852  [[0], [0], [0], [0], [0], [0], [0], [1], [0], ...\n",
      "3    3  0.189462  [[1], [0], [0], [0], [0], [0], [0], [1], [0], ...\n",
      "4    4  0.345449  [[0], [0], [1], [0], [1], [0], [0], [0], [1], ...\n",
      "5    5  0.543541  [[0], [1], [0], [0], [0], [0], [0], [0], [1], ...\n",
      "6    6  0.303026  [[0], [0], [0], [1], [0], [0], [0], [0], [0], ...\n",
      "7    7  0.568606  [[0], [1], [0], [0], [0], [0], [1], [1], [0], ...\n",
      "8    8  0.184458  [[0], [0], [0], [0], [0], [1], [0], [0], [0], ...\n",
      "9    9  0.361684  [[0], [1], [0], [0], [0], [0], [0], [1], [0], ...\n",
      "10  10  0.326526  [[0], [0], [0], [0], [0], [0], [0], [1], [0], ...\n",
      "11  11  0.210824  [[0], [0], [0], [0], [0], [0], [1], [0], [0], ...\n",
      "12  12  0.035839  [[1], [0], [0], [0], [0], [0], [0], [0], [0], ...\n",
      "13  13  0.130538  [[0], [0], [0], [0], [0], [0], [0], [1], [0], ...\n",
      "14  14  0.434331  [[0], [0], [0], [0], [1], [0], [1], [1], [0], ...\n",
      "15  15  0.383623  [[0], [0], [0], [0], [0], [0], [0], [0], [1], ...\n"
     ]
    },
    {
     "output_type": "stream",
     "name": "stderr",
     "text": [
      "100%|██████████| 10000/10000 [00:00<00:00, 34023.58it/s]\n",
      "100%|██████████| 10000/10000 [00:14<00:00, 704.33it/s]\n"
     ]
    },
    {
     "output_type": "stream",
     "name": "stdout",
     "text": [
      "      id    weight                                            feature\n",
      "0      0  0.517883  [[0], [0], [1], [0], [0], [0], [0], [0], [1], ...\n",
      "1      1  0.410752  [[0], [0], [1], [1], [0], [1], [0], [0], [0], ...\n",
      "2      2  0.249985  [[1], [0], [0], [0], [0], [1], [0], [0], [0], ...\n",
      "3      3  0.153452  [[0], [0], [0], [0], [0], [0], [0], [1], [0], ...\n",
      "4      4  0.378751  [[0], [1], [0], [0], [1], [0], [0], [1], [0], ...\n",
      "..   ...       ...                                                ...\n",
      "251  251  0.581743  [[0], [1], [0], [0], [0], [0], [0], [0], [1], ...\n",
      "252  252  0.207911  [[0], [0], [0], [0], [0], [0], [0], [0], [0], ...\n",
      "253  253  0.438831  [[0], [1], [0], [0], [0], [0], [1], [0], [0], ...\n",
      "254  254  0.240907  [[1], [1], [0], [0], [0], [0], [0], [0], [0], ...\n",
      "255  255  0.216066  [[0], [0], [0], [0], [0], [0], [1], [0], [0], ...\n",
      "\n",
      "[256 rows x 3 columns]\n"
     ]
    },
    {
     "output_type": "stream",
     "name": "stderr",
     "text": [
      "100%|██████████| 10000/10000 [00:02<00:00, 3713.39it/s]\n",
      "100%|██████████| 10000/10000 [00:23<00:00, 420.25it/s]\n"
     ]
    },
    {
     "output_type": "stream",
     "name": "stdout",
     "text": [
      "        id    weight                                            feature\n",
      "0        0  0.345572  [[0], [0], [0], [1], [0], [0], [0], [1], [1], ...\n",
      "1        1  0.387178  [[0], [0], [0], [0], [0], [1], [0], [0], [0], ...\n",
      "2        2  0.215635  [[1], [0], [0], [0], [0], [1], [0], [0], [0], ...\n",
      "3        3  0.433592  [[0], [0], [0], [1], [0], [0], [0], [0], [1], ...\n",
      "4        4  0.258185  [[0], [0], [0], [0], [1], [0], [0], [0], [0], ...\n",
      "...    ...       ...                                                ...\n",
      "2995  2995  0.295419  [[1], [0], [0], [0], [1], [0], [0], [0], [0], ...\n",
      "2996  2996  0.206850  [[0], [1], [0], [0], [0], [0], [0], [0], [0], ...\n",
      "2997  2997  0.080679  [[0], [0], [0], [1], [0], [0], [0], [0], [0], ...\n",
      "2998  2998  0.150043  [[0], [0], [0], [0], [0], [0], [0], [1], [0], ...\n",
      "2999  2999  0.147383  [[0], [0], [1], [0], [0], [0], [0], [0], [0], ...\n",
      "\n",
      "[3000 rows x 3 columns]\n"
     ]
    },
    {
     "output_type": "stream",
     "name": "stderr",
     "text": [
      "100%|██████████| 10000/10000 [00:31<00:00, 322.19it/s]\n",
      "100%|██████████| 10000/10000 [04:53<00:00, 34.06it/s]\n"
     ]
    },
    {
     "output_type": "display_data",
     "data": {
      "image/png": "[encoded data removed]",
      "text/plain": [
       "<Figure size 936x288 with 3 Axes>"
      ]
     },
     "metadata": {
      "needs_background": "light"
     }
    }
   ],
   "metadata": {}
  }
 ],
 "metadata": {
  "orig_nbformat": 4,
  "language_info": {
   "name": "python",
   "version": "3.9.0",
   "mimetype": "text/x-python",
   "codemirror_mode": {
    "name": "ipython",
    "version": 3
   },
   "pygments_lexer": "ipython3",
   "nbconvert_exporter": "python",
   "file_extension": ".py"
  },
  "kernelspec": {
   "name": "python3",
   "display_name": "Python 3.9.0 64-bit ('3.9.0': pyenv)"
  },
  "interpreter": {
   "hash": "40b74fe4b278afccf8b2d6ce54a01944ba7d1e96e76649ff315d52430c807b2e"
  }
 },
 "nbformat": 4,
 "nbformat_minor": 2
}