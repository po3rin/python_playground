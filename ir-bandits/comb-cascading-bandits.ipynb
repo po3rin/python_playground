{
 "cells": [
  {
   "cell_type": "markdown",
   "source": [
    "### Combinatorial Cascading Bandits\n",
    "\n",
    "Combinatorial Cascading BanditsはCascading Banditsの自然な拡張であり、ユーザーがリスト内の1つのアイテムしかクリックしないという強い仮定を起きません。\n",
    "\n",
    "選択したすべてのアイテムの重み$w$が1である場合にのみ、エージェントは1の報酬を受け取ります。つまり報酬関数は以下のように定義できます。\n",
    "\n",
    "$$\n",
    "f(A,w) = \\prod_{e \\in A} w(e) \\\\\n",
    "w \\in [0, 1]^E\n",
    "$$\n",
    "\n",
    "この関数からCombinatorial Cascading Banditsでは全てのアイテムがクリックされる確率を最大化するように学習することがわかります。\n",
    "\n",
    "Combinatorial Cascading Banditsの具体的な実装としてKvetonらによって提案されている**CombCascade**[3]はUCBベースのアルゴリズムであり、UCBを以下のように計算します。\n",
    "\n",
    "$$\n",
    "U_t(e) = \\min{(\\hat{w}_{T_{t−1}(e)}(e) + c_{t−1,T_{t−1}(e)},1)}\n",
    "$$\n",
    "\n",
    "CombCascadeは、$A_t$の中で重みがゼロの最初のアイテムのインデックス$O_t$を観測して$k≤O_t$となるすべてのアイテム$a^{t}_k$について、重みの推定値を更新します。"
   ],
   "metadata": {}
  },
  {
   "cell_type": "code",
   "execution_count": 1,
   "source": [
    "import math\n",
    "import numpy as np\n",
    "from matplotlib import pyplot as plt\n",
    "from scipy.stats import bernoulli"
   ],
   "outputs": [],
   "metadata": {}
  },
  {
   "cell_type": "code",
   "execution_count": 2,
   "source": [
    "np.random.seed(0)"
   ],
   "outputs": [],
   "metadata": {}
  },
  {
   "cell_type": "code",
   "execution_count": 3,
   "source": [
    "class MultiClicksModelEnv():\n",
    "\tdef __init__(self, E: list[float]):\n",
    "\t\tself.E = E\n",
    "\n",
    "\tdef clicks(self, A: list[int]) -> list[int]:\n",
    "\t\tclicks = []\n",
    "\t\tfor i, item in enumerate(A):\n",
    "\t\t\tif self.E[item] > np.random.random():\n",
    "\t\t\t\tclicks.append(i+1)\n",
    "\t\treturn clicks\n",
    "\t\n",
    "\tdef opt(self, k: int) -> list[int]:\n",
    "\t\treturn sorted(range(len(self.E)), key=lambda i: self.E[i], reverse=True)[:k]"
   ],
   "outputs": [],
   "metadata": {}
  },
  {
   "cell_type": "code",
   "execution_count": 69,
   "source": [
    "def first_no_click(a: list[int], clicks: list[int]) -> int:\n",
    "\tif clicks == []:\n",
    "\t\treturn 1\n",
    "\n",
    "\tfor i in range(1, len(a)+1):\n",
    "\t\ttry:\n",
    "\t\t\tc = clicks[i-1]\n",
    "\t\texcept IndexError:\n",
    "\t\t\treturn i\n",
    "\t\tif c == i:\n",
    "\t\t\tcontinue\n",
    "\t\treturn i\n",
    "\treturn -1\n",
    "\n",
    "# debug\n",
    "print(first_no_click([4,3,5], [1, 3]))\n",
    "print(first_no_click([4,3,5], [1, 2]))\n",
    "print(first_no_click([4,3,5], [2]))\n",
    "print(first_no_click([4,3,5], [1, 2, 3]))\n",
    "print(first_no_click([4,3,5], []))"
   ],
   "outputs": [
    {
     "output_type": "stream",
     "name": "stdout",
     "text": [
      "2\n",
      "3\n",
      "1\n",
      "-1\n",
      "1\n"
     ]
    }
   ],
   "metadata": {}
  },
  {
   "cell_type": "code",
   "execution_count": 70,
   "source": [
    "def f_comb(weights: list[float]) -> float:\n",
    "\tv = 1\n",
    "\tfor w in weights:\n",
    "\t\tv *= w\n",
    "\treturn v\n",
    "\n",
    "def regret_comb(optimal_weights: list[float], weights: list[float]) -> float:\n",
    "\treturn f_comb(optimal_weights) - f_comb(weights)\n",
    "\n",
    "print(regret_comb([0.2, 0.2, 0.2], [0.1, 0.1, 0.1]))\n",
    "print(regret_comb([0.5, 0.4, 0.3], [0.5, 0.4, 0.3]))"
   ],
   "outputs": [
    {
     "output_type": "stream",
     "name": "stdout",
     "text": [
      "0.007000000000000002\n",
      "0.0\n"
     ]
    }
   ],
   "metadata": {}
  },
  {
   "cell_type": "code",
   "execution_count": 92,
   "source": [
    "class CombCascadeAgent():\n",
    "  def __init__(self, E: list[float], p: float):\n",
    "    self.t = 1\n",
    "    self.counts = [1 for _ in range(len(E))]\n",
    "    self.weights = [bernoulli.rvs(p=p) for _ in range(len(E))]\n",
    "\n",
    "  def ucb(self, e: int) -> float:\n",
    "    return min(self.weights[e] + math.sqrt(1.5*math.log(self.t - 1)/self.counts[e]), 1)\n",
    "\n",
    "  def get_list(self, k: int) -> list[int]:\n",
    "    self.t += 1\n",
    "    ucbs = [self.ucb(e) for e in range(len(E))]\n",
    "    return sorted(range(len(ucbs)), key=lambda i: ucbs[i], reverse=True)[:k]\n",
    "\n",
    "  def before_no_click(self, no_click: int, k: int) -> int:\n",
    "    return 1 if k < no_click else 0\n",
    "\n",
    "  def observe(self, a: list[int], no_click_feedback : int) -> None:\n",
    "    if no_click_feedback == -1:\n",
    "      no_click_feedback = len(a)+1\n",
    "\n",
    "    for i in range(0, min(no_click_feedback, len(a))):\n",
    "      e = a[i]\n",
    "      before_count = self.counts[e]\n",
    "      self.counts[e] += 1\n",
    "      self.weights[e] = ( (before_count * self.weights[e]) + self.before_no_click(no_click_feedback, i+1) ) / self.counts[e]"
   ],
   "outputs": [],
   "metadata": {}
  },
  {
   "cell_type": "code",
   "execution_count": 97,
   "source": [
    "k=3\n",
    "E = [0.4, 0.4, 0.3, 0.2, 0.2, 0.2, 0.1, 0.1, 0.1, 0.1]\n",
    "env = MultiClicksModelEnv(E=E)\n",
    "\n",
    "optimal = env.opt(k=k)\n",
    "optimal_weights = sorted(E, reverse=True)[:k]\n",
    "\n",
    "print(f'optional list: {optimal}')\n",
    "print(f'optional weights: {optimal_weights}')\n",
    "\n",
    "agent = CombCascadeAgent(E=E, p=0.2)\n",
    "\n",
    "cumulative_regret = 0\n",
    "regret_cumulative_history = []\n",
    "for i in range(100000):\n",
    "\ta = agent.get_list(k=k)\n",
    "\tclicks = env.clicks(a)\n",
    "\tno_click_feedback = first_no_click(a, clicks)\n",
    "\tagent.observe(a=a, no_click_feedback=no_click_feedback)\n",
    "\n",
    "\tsetting_weights = [E[i] for i in a]\n",
    "\treg = regret_comb(optimal_weights, setting_weights)\n",
    "\tcumulative_regret += reg\n",
    "\tregret_cumulative_history.append(cumulative_regret)\n",
    "\n",
    "print(agent.get_list(k=k))\n",
    "plt.xlabel(\"step t\")\n",
    "plt.ylabel(\"Regret\")\n",
    "plt.plot(regret_cumulative_history)"
   ],
   "outputs": [
    {
     "output_type": "stream",
     "name": "stdout",
     "text": [
      "optional list: [0, 1, 2]\n",
      "optional weights: [0.4, 0.4, 0.3]\n",
      "[1, 0, 2]\n"
     ]
    },
    {
     "output_type": "execute_result",
     "data": {
      "text/plain": [
       "[<matplotlib.lines.Line2D at 0x11e0c5070>]"
      ]
     },
     "metadata": {},
     "execution_count": 97
    },
    {
     "output_type": "display_data",
     "data": {
      "image/png": "[encoded data removed]",
      "text/plain": [
       "<Figure size 432x288 with 1 Axes>"
      ]
     },
     "metadata": {
      "needs_background": "light"
     }
    }
   ],
   "metadata": {}
  }
 ],
 "metadata": {
  "orig_nbformat": 4,
  "language_info": {
   "name": "python",
   "version": "3.9.0",
   "mimetype": "text/x-python",
   "codemirror_mode": {
    "name": "ipython",
    "version": 3
   },
   "pygments_lexer": "ipython3",
   "nbconvert_exporter": "python",
   "file_extension": ".py"
  },
  "kernelspec": {
   "name": "python3",
   "display_name": "Python 3.9.0 64-bit ('3.9.0': pyenv)"
  },
  "interpreter": {
   "hash": "40b74fe4b278afccf8b2d6ce54a01944ba7d1e96e76649ff315d52430c807b2e"
  }
 },
 "nbformat": 4,
 "nbformat_minor": 2
}