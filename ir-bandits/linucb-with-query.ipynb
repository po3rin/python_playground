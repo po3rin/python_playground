{
 "cells": [
  {
   "cell_type": "markdown",
   "source": [
    "# 検索クエリをContextとみなしたLinUBCで検索結果にキャンペーン記事を挟む\n",
    "\n",
    "問題設定: 事前定義したキーワードに検索クエリが部分一致したら、キャンペーン用記事10個の中からCTRが高いと推定される記事を挟む。"
   ],
   "metadata": {}
  },
  {
   "cell_type": "code",
   "execution_count": 7,
   "source": [
    "import numpy as np\n",
    "from matplotlib import pyplot as plt"
   ],
   "outputs": [],
   "metadata": {}
  },
  {
   "cell_type": "code",
   "execution_count": 8,
   "source": [
    "plt.style.use('grayscale')\n",
    "plt.style.use('seaborn-whitegrid')\n",
    "np.random.seed(0)"
   ],
   "outputs": [],
   "metadata": {}
  },
  {
   "cell_type": "code",
   "execution_count": 15,
   "source": [
    "# キーワード\n",
    "keywords = ['コロナ', 'ワクチン', '新型コロナ', 'covid', 'デルタ株']\n",
    "\n",
    "# クエリに混ぜるキーワード\n",
    "supports = ['効果', '副作用', '対策', '熱', '違い', '意味', '効く', '続く']\n",
    "\n",
    "# 記事\n",
    "## 設定: クエリと一致しているタームの数だけクリック率が上がる\n",
    "articles = [\n",
    "\t{'title': 'コロナワクチンの副作用', 'feature': []},\n",
    "\t{'title': 'コロナ対策の効果', 'feature': []},\n",
    "\t{'title': 'コロナになったかもしれない','feature': []},\n",
    "\t{'title': 'コロナ対策の意味','feature': []},\n",
    "\t{'title': 'コロナワクチンの効果','feature': []},\n",
    "\t{'title': 'コロナワクチンで熱が続く','feature': []},\n",
    "\t{'title': 'デルタ株との違い','feature': []},\n",
    "\t{'title': 'デルタ株にワクチンは効く?','feature': []},\n",
    "]\n",
    "\n",
    "# arms = [[0, 0], [0, 1], [1, 0], [1, 1]]\n",
    "arms = [a['feature'] for a in articles]"
   ],
   "outputs": [],
   "metadata": {}
  },
  {
   "cell_type": "code",
   "execution_count": 11,
   "source": [
    "class Env(object):\n",
    "  def p(arm):\n",
    "    x = arm[0] * 0.2 + arm[1] * 0.8 - 4\n",
    "    p = 1 / (1 + np.exp(-x))\n",
    "    return p\n",
    "\n",
    "  def react(arm):\n",
    "    return 1 if np.random.random() < Env.p(arm) else 0\n",
    "\n",
    "  def opt():\n",
    "    return np.argmax([Env.p(arm) for arm in arms])"
   ],
   "outputs": [],
   "metadata": {}
  },
  {
   "cell_type": "code",
   "execution_count": 12,
   "source": [
    "class LinUCBAgent(object):\n",
    "  def __init__(self):\n",
    "    self.phis = np.array([[arm[0], arm[1], 1] for arm in arms]).T\n",
    "    self.alpha = 1\n",
    "    self.sigma = 1\n",
    "    self.inv_A = np.identity(self.phis.shape[0])\n",
    "    self.b = np.zeros((self.phis.shape[0], 1))\n",
    "\n",
    "  def get_arm(self):\n",
    "    post_mean = self.inv_A.dot(self.b)\n",
    "    post_var = self.inv_A\n",
    "    pred_mean = self.phis.T.dot(post_mean)\n",
    "    pred_var = self.phis.T.dot(post_var).dot(self.phis)\n",
    "    ucb = pred_mean.T + self.alpha * np.sqrt(np.diag(pred_var))\n",
    "    return np.argmax(ucb)\n",
    "\n",
    "  def sample(self, arm_index, reward):\n",
    "    phi = self.phis[:, [arm_index]]\n",
    "    iAppTiA = self.inv_A.dot(phi).dot(phi.T).dot(self.inv_A)\n",
    "    s2_pTiAp = self.sigma ** 2 + phi.T.dot(self.inv_A).dot(phi)\n",
    "    self.inv_A = self.inv_A - iAppTiA / s2_pTiAp\n",
    "    self.b = self.b + (self.sigma ** 2) * reward * phi"
   ],
   "outputs": [],
   "metadata": {}
  },
  {
   "cell_type": "code",
   "execution_count": 13,
   "source": [
    "agent_classes = [LinUCBAgent]\n",
    "n_arms = len(arms)\n",
    "n_iter = 500\n",
    "n_step = 5000\n",
    "selected_arms = np.zeros(\n",
    "    (n_iter, len(agent_classes), n_step), dtype=int)\n",
    "earned_rewards = np.zeros(\n",
    "    (n_iter, len(agent_classes), n_step), dtype=int)\n",
    "for it in range(n_iter):\n",
    "  for i, agent_class in enumerate(agent_classes):\n",
    "    agent = agent_class()\n",
    "    for step in range(n_step):\n",
    "      arm_index = agent.get_arm()\n",
    "      arm = arms[arm_index]\n",
    "      reward = Env.react(arm)\n",
    "      agent.sample(arm_index, reward)\n",
    "      selected_arms[it, i, step] = arm_index\n",
    "      earned_rewards[it, i, step] = reward\n",
    "\n",
    "acc = np.mean(selected_arms==Env.opt(), axis=0)\n",
    "plt.plot(acc[0], label='LinUCB')\n",
    "plt.xlabel(r'$t$')\n",
    "plt.ylabel(r'$\\mathbb{E}[x(t) = x^*]$')\n",
    "plt.legend()\n",
    "plt.show()"
   ],
   "outputs": [
    {
     "output_type": "display_data",
     "data": {
      "image/png": "[encoded data removed]",
      "text/plain": [
       "<Figure size 432x288 with 1 Axes>"
      ]
     },
     "metadata": {}
    }
   ],
   "metadata": {}
  },
  {
   "cell_type": "code",
   "execution_count": 14,
   "source": [
    "plt.plot(np.mean(np.cumsum(earned_rewards, axis=2), axis=0)[0],\n",
    "          label='LinUCB')\n",
    "# plt.plot(np.mean(np.cumsum(earned_rewards, axis=2), axis=0)[1],\n",
    "#           label='UCB')\n",
    "plt.xlabel(r'$t$')\n",
    "plt.ylabel('Cumulative reward')\n",
    "plt.legend()\n",
    "plt.show()"
   ],
   "outputs": [
    {
     "output_type": "display_data",
     "data": {
      "image/png": "[encoded data removed]",
      "text/plain": [
       "<Figure size 432x288 with 1 Axes>"
      ]
     },
     "metadata": {}
    }
   ],
   "metadata": {}
  }
 ],
 "metadata": {
  "orig_nbformat": 4,
  "language_info": {
   "name": "python",
   "version": "3.9.0",
   "mimetype": "text/x-python",
   "codemirror_mode": {
    "name": "ipython",
    "version": 3
   },
   "pygments_lexer": "ipython3",
   "nbconvert_exporter": "python",
   "file_extension": ".py"
  },
  "kernelspec": {
   "name": "python3",
   "display_name": "Python 3.9.0 64-bit ('.venv': poetry)"
  },
  "interpreter": {
   "hash": "cc05f330fd211886cdb8b68fa6c8b24b37de2aa55e4fb20d8f171d24fd3b0ad4"
  }
 },
 "nbformat": 4,
 "nbformat_minor": 2
}